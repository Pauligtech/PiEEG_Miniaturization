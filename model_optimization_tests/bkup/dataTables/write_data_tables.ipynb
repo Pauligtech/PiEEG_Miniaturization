{
 "cells": [
  {
   "cell_type": "code",
   "execution_count": 1,
   "metadata": {},
   "outputs": [],
   "source": [
    "import os, sys\n",
    "from pathlib import Path\n",
    "import pandas as pd\n",
    "\n",
    "from fatigueSpecific import fatigue_data_functions as fdf\n",
    "from optimizationSpecific import optimization_data_functions as odf"
   ]
  },
  {
   "cell_type": "code",
   "execution_count": 2,
   "metadata": {},
   "outputs": [
    {
     "data": {
      "text/html": [
       "<div>\n",
       "<style scoped>\n",
       "    .dataframe tbody tr th:only-of-type {\n",
       "        vertical-align: middle;\n",
       "    }\n",
       "\n",
       "    .dataframe tbody tr th {\n",
       "        vertical-align: top;\n",
       "    }\n",
       "\n",
       "    .dataframe thead th {\n",
       "        text-align: right;\n",
       "    }\n",
       "</style>\n",
       "<table border=\"1\" class=\"dataframe\">\n",
       "  <thead>\n",
       "    <tr style=\"text-align: right;\">\n",
       "      <th></th>\n",
       "      <th>ParticipantLabel</th>\n",
       "      <th>ParticipantNumberSessionNumber</th>\n",
       "      <th>Task</th>\n",
       "      <th>Filename</th>\n",
       "    </tr>\n",
       "  </thead>\n",
       "  <tbody>\n",
       "    <tr>\n",
       "      <th>0</th>\n",
       "      <td>sub-P01</td>\n",
       "      <td>1</td>\n",
       "      <td>MI-S</td>\n",
       "      <td>..\\data\\fatigueData\\participants\\sub-P01_mi\\se...</td>\n",
       "    </tr>\n",
       "    <tr>\n",
       "      <th>1</th>\n",
       "      <td>sub-P01</td>\n",
       "      <td>1</td>\n",
       "      <td>P300-S</td>\n",
       "      <td>..\\data\\fatigueData\\participants\\sub-P01_p300\\...</td>\n",
       "    </tr>\n",
       "    <tr>\n",
       "      <th>2</th>\n",
       "      <td>sub-P02</td>\n",
       "      <td>1</td>\n",
       "      <td>MI-S</td>\n",
       "      <td>..\\data\\fatigueData\\participants\\sub-P02_mi\\se...</td>\n",
       "    </tr>\n",
       "    <tr>\n",
       "      <th>3</th>\n",
       "      <td>sub-P03</td>\n",
       "      <td>1</td>\n",
       "      <td>MI-S</td>\n",
       "      <td>..\\data\\fatigueData\\participants\\sub-P03_mi\\se...</td>\n",
       "    </tr>\n",
       "    <tr>\n",
       "      <th>4</th>\n",
       "      <td>sub-P03</td>\n",
       "      <td>1</td>\n",
       "      <td>P300-S</td>\n",
       "      <td>..\\data\\fatigueData\\participants\\sub-P03_p300\\...</td>\n",
       "    </tr>\n",
       "  </tbody>\n",
       "</table>\n",
       "</div>"
      ],
      "text/plain": [
       "  ParticipantLabel ParticipantNumberSessionNumber    Task  \\\n",
       "0          sub-P01                              1    MI-S   \n",
       "1          sub-P01                              1  P300-S   \n",
       "2          sub-P02                              1    MI-S   \n",
       "3          sub-P03                              1    MI-S   \n",
       "4          sub-P03                              1  P300-S   \n",
       "\n",
       "                                            Filename  \n",
       "0  ..\\data\\fatigueData\\participants\\sub-P01_mi\\se...  \n",
       "1  ..\\data\\fatigueData\\participants\\sub-P01_p300\\...  \n",
       "2  ..\\data\\fatigueData\\participants\\sub-P02_mi\\se...  \n",
       "3  ..\\data\\fatigueData\\participants\\sub-P03_mi\\se...  \n",
       "4  ..\\data\\fatigueData\\participants\\sub-P03_p300\\...  "
      ]
     },
     "execution_count": 2,
     "metadata": {},
     "output_type": "execute_result"
    }
   ],
   "source": [
    "# Get Fatigue Data Table\n",
    "fatigue_data_path = Path(\"../data/fatigueData/participants\")\n",
    "fdt = fdf.GenerateDataTable(fatigue_data_path)\n",
    "fdt.head()\n",
    "\n",
    "# # Table of all Fatigue MI\n",
    "# mi_fdt = fdt[fdt[\"Task\"] == \"MI-S\"]\n",
    "# mi_fdt.reset_index(inplace=True, drop=True)\n",
    "# mi_fdt.head()\n",
    "\n",
    "# # Table of all Fatigue\n",
    "# p300_fdt = fdt[fdt[\"Task\"] == \"P300-S\"]\n",
    "# p300_fdt.reset_index(inplace=True, drop=True)\n",
    "# p300_fdt.head()"
   ]
  },
  {
   "cell_type": "code",
   "execution_count": 6,
   "metadata": {},
   "outputs": [
    {
     "name": "stdout",
     "output_type": "stream",
     "text": [
      "\n",
      "\n",
      "\n",
      "\n",
      "\n",
      "\n",
      "\n",
      "\n",
      "\n"
     ]
    },
    {
     "data": {
      "text/html": [
       "<div>\n",
       "<style scoped>\n",
       "    .dataframe tbody tr th:only-of-type {\n",
       "        vertical-align: middle;\n",
       "    }\n",
       "\n",
       "    .dataframe tbody tr th {\n",
       "        vertical-align: top;\n",
       "    }\n",
       "\n",
       "    .dataframe thead th {\n",
       "        text-align: right;\n",
       "    }\n",
       "</style>\n",
       "<table border=\"1\" class=\"dataframe\">\n",
       "  <thead>\n",
       "    <tr style=\"text-align: right;\">\n",
       "      <th></th>\n",
       "      <th>ParticipantLabel</th>\n",
       "      <th>SessionNumber</th>\n",
       "      <th>Task</th>\n",
       "      <th>Filename</th>\n",
       "    </tr>\n",
       "  </thead>\n",
       "  <tbody>\n",
       "    <tr>\n",
       "      <th>0</th>\n",
       "      <td>BRINK001</td>\n",
       "      <td>1</td>\n",
       "      <td>P300-S</td>\n",
       "      <td>..\\data\\optimizationData\\participants\\BRINK001...</td>\n",
       "    </tr>\n",
       "    <tr>\n",
       "      <th>1</th>\n",
       "      <td>BRINK001</td>\n",
       "      <td>1</td>\n",
       "      <td>MI-G</td>\n",
       "      <td>..\\data\\optimizationData\\participants\\BRINK001...</td>\n",
       "    </tr>\n",
       "    <tr>\n",
       "      <th>2</th>\n",
       "      <td>BRINK001</td>\n",
       "      <td>2</td>\n",
       "      <td>P300-G</td>\n",
       "      <td>..\\data\\optimizationData\\participants\\BRINK001...</td>\n",
       "    </tr>\n",
       "    <tr>\n",
       "      <th>3</th>\n",
       "      <td>BRINK001</td>\n",
       "      <td>2</td>\n",
       "      <td>MI-S</td>\n",
       "      <td>..\\data\\optimizationData\\participants\\BRINK001...</td>\n",
       "    </tr>\n",
       "    <tr>\n",
       "      <th>4</th>\n",
       "      <td>BRINK002</td>\n",
       "      <td>1</td>\n",
       "      <td>P300-G</td>\n",
       "      <td>..\\data\\optimizationData\\participants\\BRINK002...</td>\n",
       "    </tr>\n",
       "  </tbody>\n",
       "</table>\n",
       "</div>"
      ],
      "text/plain": [
       "  ParticipantLabel SessionNumber    Task  \\\n",
       "0         BRINK001             1  P300-S   \n",
       "1         BRINK001             1    MI-G   \n",
       "2         BRINK001             2  P300-G   \n",
       "3         BRINK001             2    MI-S   \n",
       "4         BRINK002             1  P300-G   \n",
       "\n",
       "                                            Filename  \n",
       "0  ..\\data\\optimizationData\\participants\\BRINK001...  \n",
       "1  ..\\data\\optimizationData\\participants\\BRINK001...  \n",
       "2  ..\\data\\optimizationData\\participants\\BRINK001...  \n",
       "3  ..\\data\\optimizationData\\participants\\BRINK001...  \n",
       "4  ..\\data\\optimizationData\\participants\\BRINK002...  "
      ]
     },
     "execution_count": 6,
     "metadata": {},
     "output_type": "execute_result"
    }
   ],
   "source": [
    "# Get Optimization Data Table\n",
    "optimization_data_path = Path(\"../data/optimizationData/participants\")\n",
    "odt = odf.GenerateDataTable(optimization_data_path)\n",
    "odt.head()\n",
    "\n",
    "# mi_odt = odt[odt[\"Task\"] == \"MI-S\"]\n",
    "# mi_odt.reset_index(inplace=True, drop=True)\n",
    "# mi_odt.head()\n",
    "\n",
    "# p300_odt = odt[odt[\"Task\"] == \"P300-S\"]\n",
    "# p300_odt.reset_index(inplace=True, drop=True)\n",
    "# p300_odt.head()"
   ]
  },
  {
   "cell_type": "code",
   "execution_count": 7,
   "metadata": {},
   "outputs": [],
   "source": [
    "# Write data tables\n",
    "# fdt.to_csv(\"fatigue_data_table.csv\", index=False)\n",
    "odt.to_csv(\"optimization_data_table.csv\", index=False)"
   ]
  }
 ],
 "metadata": {
  "kernelspec": {
   "display_name": "Python 3.8.15 ('bci-ess')",
   "language": "python",
   "name": "python3"
  },
  "language_info": {
   "codemirror_mode": {
    "name": "ipython",
    "version": 3
   },
   "file_extension": ".py",
   "mimetype": "text/x-python",
   "name": "python",
   "nbconvert_exporter": "python",
   "pygments_lexer": "ipython3",
   "version": "3.10.13"
  },
  "orig_nbformat": 4,
  "vscode": {
   "interpreter": {
    "hash": "cc049335bd7f8f2ba60d464a25e3a2be7cc5fc8321fde3981e18dc38fde53fa4"
   }
  }
 },
 "nbformat": 4,
 "nbformat_minor": 2
}
