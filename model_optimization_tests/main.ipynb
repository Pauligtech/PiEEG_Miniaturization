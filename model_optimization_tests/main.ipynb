{
 "cells": [
  {
   "cell_type": "code",
   "execution_count": 208,
   "metadata": {},
   "outputs": [
    {
     "name": "stdout",
     "output_type": "stream",
     "text": [
      "The autoreload extension is already loaded. To reload it, use:\n",
      "  %reload_ext autoreload\n"
     ]
    }
   ],
   "source": [
    "# region General Imports\n",
    "import os\n",
    "import uuid\n",
    "import shutil\n",
    "import time\n",
    "import random\n",
    "import datetime\n",
    "import glob\n",
    "import pickle\n",
    "import tqdm\n",
    "import copy\n",
    "import optuna\n",
    "import numpy as np\n",
    "import pandas as pd\n",
    "import scipy as sp\n",
    "import matplotlib.pyplot as plt\n",
    "import seaborn as sns\n",
    "import mne\n",
    "from rich import print as rprint\n",
    "from rich.pretty import pprint as rpprint\n",
    "from tqdm import tqdm\n",
    "from itertools import chain\n",
    "from functools import partial\n",
    "# endregion General Imports\n",
    "\n",
    "from model_optim.model_optimizer import ModelOptimizer\n",
    "\n",
    "# Dataset\n",
    "from custom_datasets.fatigue_mi import FatigueMI\n",
    "\n",
    "%load_ext autoreload\n",
    "%autoreload 3"
   ]
  },
  {
   "cell_type": "code",
   "execution_count": 213,
   "metadata": {},
   "outputs": [],
   "source": [
    "model_optimizer = ModelOptimizer(\n",
    "    dataset=FatigueMI(),\n",
    "    model_name=\"shallow_conv_net\"\n",
    ")"
   ]
  },
  {
   "cell_type": "code",
   "execution_count": 214,
   "metadata": {},
   "outputs": [
    {
     "data": {
      "application/vnd.jupyter.widget-view+json": {
       "model_id": "c09e721914c74c3384c669380a3bfe81",
       "version_major": 2,
       "version_minor": 0
      },
      "text/plain": [
       "  0%|          | 0/50 [00:00<?, ?it/s]"
      ]
     },
     "metadata": {},
     "output_type": "display_data"
    },
    {
     "name": "stdout",
     "output_type": "stream",
     "text": [
      "Sampling frequency of the instance is already 300.0, returning unmodified.\n",
      "Adding metadata with 3 columns\n",
      "Epoch 1/5\n"
     ]
    },
    {
     "name": "stderr",
     "output_type": "stream",
     "text": [
      "/home/arazzz/anaconda3/envs/moabb_model_optimization/lib/python3.11/site-packages/keras/src/layers/convolutional/base_conv.py:99: UserWarning: Do not pass an `input_shape`/`input_dim` argument to a layer. When using Sequential models, prefer using an `Input(shape)` object as the first layer in the model instead.\n",
      "  super().__init__(\n"
     ]
    },
    {
     "name": "stdout",
     "output_type": "stream",
     "text": [
      "\u001b[1m3/3\u001b[0m \u001b[32m━━━━━━━━━━━━━━━━━━━━\u001b[0m\u001b[37m\u001b[0m \u001b[1m5s\u001b[0m 1s/step - accuracy: 0.4354 - loss: 99.5273 - val_accuracy: 0.5000 - val_loss: 73.6332 - learning_rate: 0.0010\n",
      "Epoch 2/5\n",
      "\u001b[1m3/3\u001b[0m \u001b[32m━━━━━━━━━━━━━━━━━━━━\u001b[0m\u001b[37m\u001b[0m \u001b[1m0s\u001b[0m 18ms/step - accuracy: 0.5602 - loss: 69.8405 - val_accuracy: 0.3889 - val_loss: 57.4031 - learning_rate: 0.0010\n",
      "Epoch 3/5\n",
      "\u001b[1m3/3\u001b[0m \u001b[32m━━━━━━━━━━━━━━━━━━━━\u001b[0m\u001b[37m\u001b[0m \u001b[1m0s\u001b[0m 16ms/step - accuracy: 0.6326 - loss: 54.9217 - val_accuracy: 0.6667 - val_loss: 46.3352 - learning_rate: 0.0010\n",
      "Epoch 4/5\n",
      "\u001b[1m3/3\u001b[0m \u001b[32m━━━━━━━━━━━━━━━━━━━━\u001b[0m\u001b[37m\u001b[0m \u001b[1m0s\u001b[0m 18ms/step - accuracy: 0.5901 - loss: 44.4146 - val_accuracy: 0.3889 - val_loss: 37.9287 - learning_rate: 0.0010\n",
      "Epoch 5/5\n",
      "\u001b[1m3/3\u001b[0m \u001b[32m━━━━━━━━━━━━━━━━━━━━\u001b[0m\u001b[37m\u001b[0m \u001b[1m0s\u001b[0m 17ms/step - accuracy: 0.6659 - loss: 36.3195 - val_accuracy: 0.4444 - val_loss: 31.0214 - learning_rate: 0.0010\n",
      "\n",
      "\n",
      "\u001b[1m1/1\u001b[0m \u001b[32m━━━━━━━━━━━━━━━━━━━━\u001b[0m\u001b[37m\u001b[0m \u001b[1m1s\u001b[0m 666ms/step - accuracy: 0.4545 - loss: 31.0747\n",
      "\n",
      "\n",
      "Adding metadata with 3 columns\n",
      "Epoch 1/5\n"
     ]
    },
    {
     "name": "stderr",
     "output_type": "stream",
     "text": [
      "/home/arazzz/anaconda3/envs/moabb_model_optimization/lib/python3.11/site-packages/keras/src/layers/convolutional/base_conv.py:99: UserWarning: Do not pass an `input_shape`/`input_dim` argument to a layer. When using Sequential models, prefer using an `Input(shape)` object as the first layer in the model instead.\n",
      "  super().__init__(\n"
     ]
    },
    {
     "name": "stdout",
     "output_type": "stream",
     "text": [
      "\u001b[1m3/3\u001b[0m \u001b[32m━━━━━━━━━━━━━━━━━━━━\u001b[0m\u001b[37m\u001b[0m \u001b[1m3s\u001b[0m 924ms/step - accuracy: 0.5005 - loss: 12.7628 - val_accuracy: 0.4444 - val_loss: 10.0698 - learning_rate: 0.0010\n",
      "Epoch 2/5\n",
      "\u001b[1m3/3\u001b[0m \u001b[32m━━━━━━━━━━━━━━━━━━━━\u001b[0m\u001b[37m\u001b[0m \u001b[1m0s\u001b[0m 14ms/step - accuracy: 0.6859 - loss: 9.5203 - val_accuracy: 0.5000 - val_loss: 8.4118 - learning_rate: 0.0010\n",
      "Epoch 3/5\n",
      "\u001b[1m3/3\u001b[0m \u001b[32m━━━━━━━━━━━━━━━━━━━━\u001b[0m\u001b[37m\u001b[0m \u001b[1m0s\u001b[0m 14ms/step - accuracy: 0.8254 - loss: 7.8248 - val_accuracy: 0.5000 - val_loss: 7.1044 - learning_rate: 0.0010\n",
      "Epoch 4/5\n",
      "\u001b[1m3/3\u001b[0m \u001b[32m━━━━━━━━━━━━━━━━━━━━\u001b[0m\u001b[37m\u001b[0m \u001b[1m0s\u001b[0m 15ms/step - accuracy: 0.9697 - loss: 6.5533 - val_accuracy: 0.5000 - val_loss: 6.2209 - learning_rate: 0.0010\n",
      "Epoch 5/5\n",
      "\u001b[1m3/3\u001b[0m \u001b[32m━━━━━━━━━━━━━━━━━━━━\u001b[0m\u001b[37m\u001b[0m \u001b[1m0s\u001b[0m 13ms/step - accuracy: 0.8865 - loss: 5.5792 - val_accuracy: 0.5556 - val_loss: 5.2762 - learning_rate: 0.0010\n",
      "\n",
      "\n",
      "\u001b[1m1/1\u001b[0m \u001b[32m━━━━━━━━━━━━━━━━━━━━\u001b[0m\u001b[37m\u001b[0m \u001b[1m0s\u001b[0m 445ms/step - accuracy: 0.6364 - loss: 5.2883\n",
      "\n",
      "\n",
      "Adding metadata with 3 columns\n",
      "Epoch 1/5\n"
     ]
    },
    {
     "name": "stderr",
     "output_type": "stream",
     "text": [
      "/home/arazzz/anaconda3/envs/moabb_model_optimization/lib/python3.11/site-packages/keras/src/layers/convolutional/base_conv.py:99: UserWarning: Do not pass an `input_shape`/`input_dim` argument to a layer. When using Sequential models, prefer using an `Input(shape)` object as the first layer in the model instead.\n",
      "  super().__init__(\n"
     ]
    },
    {
     "name": "stdout",
     "output_type": "stream",
     "text": [
      "\u001b[1m1/1\u001b[0m \u001b[32m━━━━━━━━━━━━━━━━━━━━\u001b[0m\u001b[37m\u001b[0m \u001b[1m3s\u001b[0m 3s/step - accuracy: 0.5441 - loss: 114.4058 - val_accuracy: 0.3333 - val_loss: 92.9059 - learning_rate: 0.0010\n",
      "Epoch 2/5\n",
      "\u001b[1m1/1\u001b[0m \u001b[32m━━━━━━━━━━━━━━━━━━━━\u001b[0m\u001b[37m\u001b[0m \u001b[1m0s\u001b[0m 44ms/step - accuracy: 0.6912 - loss: 92.7387 - val_accuracy: 0.5000 - val_loss: 81.9421 - learning_rate: 0.0010\n",
      "Epoch 3/5\n",
      "\u001b[1m1/1\u001b[0m \u001b[32m━━━━━━━━━━━━━━━━━━━━\u001b[0m\u001b[37m\u001b[0m \u001b[1m0s\u001b[0m 40ms/step - accuracy: 0.8676 - loss: 81.6715 - val_accuracy: 0.6111 - val_loss: 73.8113 - learning_rate: 0.0010\n",
      "Epoch 4/5\n",
      "\u001b[1m1/1\u001b[0m \u001b[32m━━━━━━━━━━━━━━━━━━━━\u001b[0m\u001b[37m\u001b[0m \u001b[1m0s\u001b[0m 38ms/step - accuracy: 0.9412 - loss: 73.4523 - val_accuracy: 0.6667 - val_loss: 67.1323 - learning_rate: 0.0010\n",
      "Epoch 5/5\n",
      "\u001b[1m1/1\u001b[0m \u001b[32m━━━━━━━━━━━━━━━━━━━━\u001b[0m\u001b[37m\u001b[0m \u001b[1m0s\u001b[0m 41ms/step - accuracy: 0.8971 - loss: 66.8298 - val_accuracy: 0.6667 - val_loss: 61.5163 - learning_rate: 0.0010\n",
      "\n",
      "\n",
      "\u001b[1m1/1\u001b[0m \u001b[32m━━━━━━━━━━━━━━━━━━━━\u001b[0m\u001b[37m\u001b[0m \u001b[1m1s\u001b[0m 552ms/step - accuracy: 0.5000 - loss: 61.5542\n",
      "\n",
      "\n",
      "Sampling frequency of the instance is already 300.0, returning unmodified.\n",
      "Adding metadata with 3 columns\n",
      "Epoch 1/5\n"
     ]
    },
    {
     "name": "stderr",
     "output_type": "stream",
     "text": [
      "/home/arazzz/anaconda3/envs/moabb_model_optimization/lib/python3.11/site-packages/keras/src/layers/convolutional/base_conv.py:99: UserWarning: Do not pass an `input_shape`/`input_dim` argument to a layer. When using Sequential models, prefer using an `Input(shape)` object as the first layer in the model instead.\n",
      "  super().__init__(\n"
     ]
    },
    {
     "name": "stdout",
     "output_type": "stream",
     "text": [
      "\u001b[1m1/1\u001b[0m \u001b[32m━━━━━━━━━━━━━━━━━━━━\u001b[0m\u001b[37m\u001b[0m \u001b[1m4s\u001b[0m 4s/step - accuracy: 0.6618 - loss: 51.0682 - val_accuracy: 0.5556 - val_loss: 42.2650 - learning_rate: 0.0010\n",
      "Epoch 2/5\n",
      "\u001b[1m1/1\u001b[0m \u001b[32m━━━━━━━━━━━━━━━━━━━━\u001b[0m\u001b[37m\u001b[0m \u001b[1m0s\u001b[0m 60ms/step - accuracy: 0.7353 - loss: 41.9471 - val_accuracy: 0.5000 - val_loss: 38.3911 - learning_rate: 0.0010\n",
      "Epoch 3/5\n",
      "\u001b[1m1/1\u001b[0m \u001b[32m━━━━━━━━━━━━━━━━━━━━\u001b[0m\u001b[37m\u001b[0m \u001b[1m0s\u001b[0m 53ms/step - accuracy: 0.6471 - loss: 35.7966 - val_accuracy: 0.5000 - val_loss: 34.9437 - learning_rate: 0.0010\n",
      "Epoch 4/5\n",
      "\u001b[1m1/1\u001b[0m \u001b[32m━━━━━━━━━━━━━━━━━━━━\u001b[0m\u001b[37m\u001b[0m \u001b[1m0s\u001b[0m 55ms/step - accuracy: 0.6912 - loss: 31.4850 - val_accuracy: 0.5556 - val_loss: 29.8372 - learning_rate: 0.0010\n",
      "Epoch 5/5\n",
      "\u001b[1m1/1\u001b[0m \u001b[32m━━━━━━━━━━━━━━━━━━━━\u001b[0m\u001b[37m\u001b[0m \u001b[1m0s\u001b[0m 54ms/step - accuracy: 0.8529 - loss: 27.6057 - val_accuracy: 0.5556 - val_loss: 25.7249 - learning_rate: 0.0010\n",
      "\n",
      "\n",
      "\u001b[1m1/1\u001b[0m \u001b[32m━━━━━━━━━━━━━━━━━━━━\u001b[0m\u001b[37m\u001b[0m \u001b[1m1s\u001b[0m 671ms/step - accuracy: 0.5000 - loss: 25.7165\n",
      "\n",
      "\n",
      "Adding metadata with 3 columns\n",
      "Epoch 1/5\n"
     ]
    },
    {
     "name": "stderr",
     "output_type": "stream",
     "text": [
      "/home/arazzz/anaconda3/envs/moabb_model_optimization/lib/python3.11/site-packages/keras/src/layers/convolutional/base_conv.py:99: UserWarning: Do not pass an `input_shape`/`input_dim` argument to a layer. When using Sequential models, prefer using an `Input(shape)` object as the first layer in the model instead.\n",
      "  super().__init__(\n"
     ]
    },
    {
     "name": "stdout",
     "output_type": "stream",
     "text": [
      "\u001b[1m1/1\u001b[0m \u001b[32m━━━━━━━━━━━━━━━━━━━━\u001b[0m\u001b[37m\u001b[0m \u001b[1m3s\u001b[0m 3s/step - accuracy: 0.5294 - loss: 253.6958 - val_accuracy: 0.5000 - val_loss: 204.9782 - learning_rate: 0.0010\n",
      "Epoch 2/5\n",
      "\u001b[1m1/1\u001b[0m \u001b[32m━━━━━━━━━━━━━━━━━━━━\u001b[0m\u001b[37m\u001b[0m \u001b[1m0s\u001b[0m 38ms/step - accuracy: 0.8382 - loss: 204.1862 - val_accuracy: 0.5000 - val_loss: 176.2617 - learning_rate: 0.0010\n",
      "Epoch 3/5\n",
      "\u001b[1m1/1\u001b[0m \u001b[32m━━━━━━━━━━━━━━━━━━━━\u001b[0m\u001b[37m\u001b[0m \u001b[1m0s\u001b[0m 33ms/step - accuracy: 0.8529 - loss: 174.4619 - val_accuracy: 0.5000 - val_loss: 155.4114 - learning_rate: 0.0010\n",
      "Epoch 4/5\n",
      "\u001b[1m1/1\u001b[0m \u001b[32m━━━━━━━━━━━━━━━━━━━━\u001b[0m\u001b[37m\u001b[0m \u001b[1m0s\u001b[0m 32ms/step - accuracy: 0.8382 - loss: 152.8073 - val_accuracy: 0.5000 - val_loss: 136.4519 - learning_rate: 0.0010\n",
      "Epoch 5/5\n",
      "\u001b[1m1/1\u001b[0m \u001b[32m━━━━━━━━━━━━━━━━━━━━\u001b[0m\u001b[37m\u001b[0m \u001b[1m0s\u001b[0m 39ms/step - accuracy: 1.0000 - loss: 135.5548 - val_accuracy: 0.5556 - val_loss: 122.4801 - learning_rate: 0.0010\n",
      "\n",
      "\n",
      "\u001b[1m1/1\u001b[0m \u001b[32m━━━━━━━━━━━━━━━━━━━━\u001b[0m\u001b[37m\u001b[0m \u001b[1m1s\u001b[0m 544ms/step - accuracy: 0.5000 - loss: 122.5417\n",
      "\n",
      "\n",
      "Adding metadata with 3 columns\n",
      "Epoch 1/5\n"
     ]
    },
    {
     "name": "stderr",
     "output_type": "stream",
     "text": [
      "/home/arazzz/anaconda3/envs/moabb_model_optimization/lib/python3.11/site-packages/keras/src/layers/convolutional/base_conv.py:99: UserWarning: Do not pass an `input_shape`/`input_dim` argument to a layer. When using Sequential models, prefer using an `Input(shape)` object as the first layer in the model instead.\n",
      "  super().__init__(\n"
     ]
    },
    {
     "name": "stdout",
     "output_type": "stream",
     "text": [
      "\u001b[1m1/1\u001b[0m \u001b[32m━━━━━━━━━━━━━━━━━━━━\u001b[0m\u001b[37m\u001b[0m \u001b[1m4s\u001b[0m 4s/step - accuracy: 0.4706 - loss: 195.7874 - val_accuracy: 0.4444 - val_loss: 159.7722 - learning_rate: 0.0010\n",
      "Epoch 2/5\n",
      "\u001b[1m1/1\u001b[0m \u001b[32m━━━━━━━━━━━━━━━━━━━━\u001b[0m\u001b[37m\u001b[0m \u001b[1m0s\u001b[0m 64ms/step - accuracy: 0.9118 - loss: 159.6324 - val_accuracy: 0.4444 - val_loss: 139.0028 - learning_rate: 0.0010\n",
      "Epoch 3/5\n",
      "\u001b[1m1/1\u001b[0m \u001b[32m━━━━━━━━━━━━━━━━━━━━\u001b[0m\u001b[37m\u001b[0m \u001b[1m0s\u001b[0m 55ms/step - accuracy: 0.9412 - loss: 138.7693 - val_accuracy: 0.4444 - val_loss: 123.5938 - learning_rate: 0.0010\n",
      "Epoch 4/5\n",
      "\u001b[1m1/1\u001b[0m \u001b[32m━━━━━━━━━━━━━━━━━━━━\u001b[0m\u001b[37m\u001b[0m \u001b[1m0s\u001b[0m 57ms/step - accuracy: 0.9559 - loss: 123.2878 - val_accuracy: 0.5000 - val_loss: 111.1438 - learning_rate: 0.0010\n",
      "Epoch 5/5\n",
      "\u001b[1m1/1\u001b[0m \u001b[32m━━━━━━━━━━━━━━━━━━━━\u001b[0m\u001b[37m\u001b[0m \u001b[1m0s\u001b[0m 57ms/step - accuracy: 1.0000 - loss: 110.8199 - val_accuracy: 0.4444 - val_loss: 100.8650 - learning_rate: 0.0010\n",
      "\n",
      "\n",
      "\u001b[1m1/1\u001b[0m \u001b[32m━━━━━━━━━━━━━━━━━━━━\u001b[0m\u001b[37m\u001b[0m \u001b[1m1s\u001b[0m 616ms/step - accuracy: 0.5000 - loss: 100.8597\n",
      "\n",
      "\n",
      "Adding metadata with 3 columns\n",
      "Epoch 1/5\n"
     ]
    },
    {
     "name": "stderr",
     "output_type": "stream",
     "text": [
      "/home/arazzz/anaconda3/envs/moabb_model_optimization/lib/python3.11/site-packages/keras/src/layers/convolutional/base_conv.py:99: UserWarning: Do not pass an `input_shape`/`input_dim` argument to a layer. When using Sequential models, prefer using an `Input(shape)` object as the first layer in the model instead.\n",
      "  super().__init__(\n"
     ]
    },
    {
     "name": "stdout",
     "output_type": "stream",
     "text": [
      "\u001b[1m1/1\u001b[0m \u001b[32m━━━━━━━━━━━━━━━━━━━━\u001b[0m\u001b[37m\u001b[0m \u001b[1m4s\u001b[0m 4s/step - accuracy: 0.4118 - loss: 88.6414 - val_accuracy: 0.4444 - val_loss: 73.7860 - learning_rate: 0.0010\n",
      "Epoch 2/5\n",
      "\u001b[1m1/1\u001b[0m \u001b[32m━━━━━━━━━━━━━━━━━━━━\u001b[0m\u001b[37m\u001b[0m \u001b[1m0s\u001b[0m 54ms/step - accuracy: 0.7500 - loss: 73.3746 - val_accuracy: 0.4444 - val_loss: 64.2442 - learning_rate: 0.0010\n",
      "Epoch 3/5\n",
      "\u001b[1m1/1\u001b[0m \u001b[32m━━━━━━━━━━━━━━━━━━━━\u001b[0m\u001b[37m\u001b[0m \u001b[1m0s\u001b[0m 47ms/step - accuracy: 0.6912 - loss: 63.8801 - val_accuracy: 0.5000 - val_loss: 57.5746 - learning_rate: 0.0010\n",
      "Epoch 4/5\n",
      "\u001b[1m1/1\u001b[0m \u001b[32m━━━━━━━━━━━━━━━━━━━━\u001b[0m\u001b[37m\u001b[0m \u001b[1m0s\u001b[0m 47ms/step - accuracy: 0.8676 - loss: 56.8986 - val_accuracy: 0.5000 - val_loss: 52.0946 - learning_rate: 0.0010\n",
      "Epoch 5/5\n",
      "\u001b[1m1/1\u001b[0m \u001b[32m━━━━━━━━━━━━━━━━━━━━\u001b[0m\u001b[37m\u001b[0m \u001b[1m0s\u001b[0m 47ms/step - accuracy: 0.8824 - loss: 51.3109 - val_accuracy: 0.4444 - val_loss: 47.0241 - learning_rate: 0.0010\n",
      "\n",
      "\n",
      "\u001b[1m1/1\u001b[0m \u001b[32m━━━━━━━━━━━━━━━━━━━━\u001b[0m\u001b[37m\u001b[0m \u001b[1m1s\u001b[0m 627ms/step - accuracy: 0.5000 - loss: 46.9908\n",
      "\n",
      "\n",
      "Adding metadata with 3 columns\n",
      "Epoch 1/5\n"
     ]
    },
    {
     "name": "stderr",
     "output_type": "stream",
     "text": [
      "/home/arazzz/anaconda3/envs/moabb_model_optimization/lib/python3.11/site-packages/keras/src/layers/convolutional/base_conv.py:99: UserWarning: Do not pass an `input_shape`/`input_dim` argument to a layer. When using Sequential models, prefer using an `Input(shape)` object as the first layer in the model instead.\n",
      "  super().__init__(\n"
     ]
    },
    {
     "name": "stdout",
     "output_type": "stream",
     "text": [
      "\u001b[1m1/1\u001b[0m \u001b[32m━━━━━━━━━━━━━━━━━━━━\u001b[0m\u001b[37m\u001b[0m \u001b[1m4s\u001b[0m 4s/step - accuracy: 0.5000 - loss: 176.6215 - val_accuracy: 0.5556 - val_loss: 142.3968 - learning_rate: 0.0010\n",
      "Epoch 2/5\n",
      "\u001b[1m1/1\u001b[0m \u001b[32m━━━━━━━━━━━━━━━━━━━━\u001b[0m\u001b[37m\u001b[0m \u001b[1m0s\u001b[0m 54ms/step - accuracy: 0.6912 - loss: 142.2508 - val_accuracy: 0.5000 - val_loss: 122.7859 - learning_rate: 0.0010\n",
      "Epoch 3/5\n",
      "\u001b[1m1/1\u001b[0m \u001b[32m━━━━━━━━━━━━━━━━━━━━\u001b[0m\u001b[37m\u001b[0m \u001b[1m0s\u001b[0m 47ms/step - accuracy: 0.8088 - loss: 121.7495 - val_accuracy: 0.5000 - val_loss: 107.9632 - learning_rate: 0.0010\n",
      "Epoch 4/5\n",
      "\u001b[1m1/1\u001b[0m \u001b[32m━━━━━━━━━━━━━━━━━━━━\u001b[0m\u001b[37m\u001b[0m \u001b[1m0s\u001b[0m 50ms/step - accuracy: 0.7353 - loss: 107.0095 - val_accuracy: 0.5000 - val_loss: 96.8964 - learning_rate: 0.0010\n",
      "Epoch 5/5\n",
      "\u001b[1m1/1\u001b[0m \u001b[32m━━━━━━━━━━━━━━━━━━━━\u001b[0m\u001b[37m\u001b[0m \u001b[1m0s\u001b[0m 49ms/step - accuracy: 0.8529 - loss: 95.1096 - val_accuracy: 0.5000 - val_loss: 85.9906 - learning_rate: 0.0010\n",
      "\n",
      "\n",
      "\u001b[1m1/1\u001b[0m \u001b[32m━━━━━━━━━━━━━━━━━━━━\u001b[0m\u001b[37m\u001b[0m \u001b[1m1s\u001b[0m 606ms/step - accuracy: 0.5000 - loss: 86.0820\n",
      "\n",
      "\n",
      "Adding metadata with 3 columns\n",
      "Epoch 1/5\n"
     ]
    },
    {
     "name": "stderr",
     "output_type": "stream",
     "text": [
      "/home/arazzz/anaconda3/envs/moabb_model_optimization/lib/python3.11/site-packages/keras/src/layers/convolutional/base_conv.py:99: UserWarning: Do not pass an `input_shape`/`input_dim` argument to a layer. When using Sequential models, prefer using an `Input(shape)` object as the first layer in the model instead.\n",
      "  super().__init__(\n"
     ]
    },
    {
     "name": "stdout",
     "output_type": "stream",
     "text": [
      "\u001b[1m3/3\u001b[0m \u001b[32m━━━━━━━━━━━━━━━━━━━━\u001b[0m\u001b[37m\u001b[0m \u001b[1m5s\u001b[0m 1s/step - accuracy: 0.4354 - loss: 79.6752 - val_accuracy: 0.4444 - val_loss: 57.4965 - learning_rate: 0.0010\n",
      "Epoch 2/5\n",
      "\u001b[1m3/3\u001b[0m \u001b[32m━━━━━━━━━━━━━━━━━━━━\u001b[0m\u001b[37m\u001b[0m \u001b[1m0s\u001b[0m 13ms/step - accuracy: 0.6252 - loss: 54.0805 - val_accuracy: 0.4444 - val_loss: 43.5452 - learning_rate: 0.0010\n",
      "Epoch 3/5\n",
      "\u001b[1m3/3\u001b[0m \u001b[32m━━━━━━━━━━━━━━━━━━━━\u001b[0m\u001b[37m\u001b[0m \u001b[1m0s\u001b[0m 13ms/step - accuracy: 0.6629 - loss: 41.2137 - val_accuracy: 0.4444 - val_loss: 34.2014 - learning_rate: 0.0010\n",
      "Epoch 4/5\n",
      "\u001b[1m3/3\u001b[0m \u001b[32m━━━━━━━━━━━━━━━━━━━━\u001b[0m\u001b[37m\u001b[0m \u001b[1m0s\u001b[0m 15ms/step - accuracy: 0.7114 - loss: 32.3039 - val_accuracy: 0.5000 - val_loss: 27.3102 - learning_rate: 0.0010\n",
      "Epoch 5/5\n",
      "\u001b[1m3/3\u001b[0m \u001b[32m━━━━━━━━━━━━━━━━━━━━\u001b[0m\u001b[37m\u001b[0m \u001b[1m0s\u001b[0m 14ms/step - accuracy: 0.8263 - loss: 25.5484 - val_accuracy: 0.5556 - val_loss: 21.7454 - learning_rate: 0.0010\n",
      "\n",
      "\n",
      "\u001b[1m1/1\u001b[0m \u001b[32m━━━━━━━━━━━━━━━━━━━━\u001b[0m\u001b[37m\u001b[0m \u001b[1m1s\u001b[0m 780ms/step - accuracy: 0.5000 - loss: 21.7275\n",
      "\n",
      "\n",
      "Adding metadata with 3 columns\n"
     ]
    },
    {
     "name": "stderr",
     "output_type": "stream",
     "text": [
      "/home/arazzz/anaconda3/envs/moabb_model_optimization/lib/python3.11/site-packages/keras/src/layers/convolutional/base_conv.py:99: UserWarning: Do not pass an `input_shape`/`input_dim` argument to a layer. When using Sequential models, prefer using an `Input(shape)` object as the first layer in the model instead.\n",
      "  super().__init__(\n"
     ]
    },
    {
     "name": "stdout",
     "output_type": "stream",
     "text": [
      "Epoch 1/5\n",
      "\u001b[1m2/2\u001b[0m \u001b[32m━━━━━━━━━━━━━━━━━━━━\u001b[0m\u001b[37m\u001b[0m \u001b[1m4s\u001b[0m 2s/step - accuracy: 0.5751 - loss: 43.2017 - val_accuracy: 0.5000 - val_loss: 32.0220 - learning_rate: 0.0010\n",
      "Epoch 2/5\n",
      "\u001b[1m2/2\u001b[0m \u001b[32m━━━━━━━━━━━━━━━━━━━━\u001b[0m\u001b[37m\u001b[0m \u001b[1m0s\u001b[0m 18ms/step - accuracy: 0.5600 - loss: 29.3743 - val_accuracy: 0.5000 - val_loss: 25.9831 - learning_rate: 0.0010\n",
      "Epoch 3/5\n",
      "\u001b[1m2/2\u001b[0m \u001b[32m━━━━━━━━━━━━━━━━━━━━\u001b[0m\u001b[37m\u001b[0m \u001b[1m0s\u001b[0m 18ms/step - accuracy: 0.6900 - loss: 23.8265 - val_accuracy: 0.5000 - val_loss: 21.2529 - learning_rate: 0.0010\n",
      "Epoch 4/5\n",
      "\u001b[1m2/2\u001b[0m \u001b[32m━━━━━━━━━━━━━━━━━━━━\u001b[0m\u001b[37m\u001b[0m \u001b[1m0s\u001b[0m 18ms/step - accuracy: 0.8100 - loss: 19.9562 - val_accuracy: 0.5000 - val_loss: 18.3935 - learning_rate: 0.0010\n",
      "Epoch 5/5\n",
      "\u001b[1m2/2\u001b[0m \u001b[32m━━━━━━━━━━━━━━━━━━━━\u001b[0m\u001b[37m\u001b[0m \u001b[1m0s\u001b[0m 18ms/step - accuracy: 0.7148 - loss: 16.9390 - val_accuracy: 0.5000 - val_loss: 16.1912 - learning_rate: 0.0010\n",
      "\n",
      "\n",
      "\u001b[1m1/1\u001b[0m \u001b[32m━━━━━━━━━━━━━━━━━━━━\u001b[0m\u001b[37m\u001b[0m \u001b[1m0s\u001b[0m 463ms/step - accuracy: 0.5455 - loss: 16.3585\n",
      "\n",
      "\n",
      "Adding metadata with 3 columns\n",
      "Epoch 1/5\n"
     ]
    },
    {
     "name": "stderr",
     "output_type": "stream",
     "text": [
      "/home/arazzz/anaconda3/envs/moabb_model_optimization/lib/python3.11/site-packages/keras/src/layers/convolutional/base_conv.py:99: UserWarning: Do not pass an `input_shape`/`input_dim` argument to a layer. When using Sequential models, prefer using an `Input(shape)` object as the first layer in the model instead.\n",
      "  super().__init__(\n"
     ]
    },
    {
     "name": "stdout",
     "output_type": "stream",
     "text": [
      "\u001b[1m1/1\u001b[0m \u001b[32m━━━━━━━━━━━━━━━━━━━━\u001b[0m\u001b[37m\u001b[0m \u001b[1m3s\u001b[0m 3s/step - accuracy: 0.5588 - loss: 18.5661 - val_accuracy: 0.3889 - val_loss: 12.4396 - learning_rate: 0.0010\n",
      "Epoch 2/5\n",
      "\u001b[1m1/1\u001b[0m \u001b[32m━━━━━━━━━━━━━━━━━━━━\u001b[0m\u001b[37m\u001b[0m \u001b[1m0s\u001b[0m 34ms/step - accuracy: 0.6765 - loss: 12.3367 - val_accuracy: 0.5556 - val_loss: 12.0748 - learning_rate: 0.0010\n",
      "Epoch 3/5\n",
      "\u001b[1m1/1\u001b[0m \u001b[32m━━━━━━━━━━━━━━━━━━━━\u001b[0m\u001b[37m\u001b[0m \u001b[1m0s\u001b[0m 26ms/step - accuracy: 0.7941 - loss: 11.7318 - val_accuracy: 0.5000 - val_loss: 13.8485 - learning_rate: 0.0010\n",
      "Epoch 4/5\n",
      "\u001b[1m1/1\u001b[0m \u001b[32m━━━━━━━━━━━━━━━━━━━━\u001b[0m\u001b[37m\u001b[0m \u001b[1m0s\u001b[0m 29ms/step - accuracy: 0.5147 - loss: 13.1230 - val_accuracy: 0.5000 - val_loss: 12.2484 - learning_rate: 0.0010\n",
      "Epoch 5/5\n",
      "\u001b[1m1/1\u001b[0m \u001b[32m━━━━━━━━━━━━━━━━━━━━\u001b[0m\u001b[37m\u001b[0m \u001b[1m0s\u001b[0m 27ms/step - accuracy: 0.5882 - loss: 11.9251 - val_accuracy: 0.5000 - val_loss: 12.4945 - learning_rate: 0.0010\n",
      "\n",
      "\n",
      "\u001b[1m1/1\u001b[0m \u001b[32m━━━━━━━━━━━━━━━━━━━━\u001b[0m\u001b[37m\u001b[0m \u001b[1m0s\u001b[0m 484ms/step - accuracy: 0.4545 - loss: 12.0814\n",
      "\n",
      "\n",
      "Sampling frequency of the instance is already 300.0, returning unmodified.\n",
      "Adding metadata with 3 columns\n",
      "Epoch 1/5\n"
     ]
    },
    {
     "name": "stderr",
     "output_type": "stream",
     "text": [
      "/home/arazzz/anaconda3/envs/moabb_model_optimization/lib/python3.11/site-packages/keras/src/layers/convolutional/base_conv.py:99: UserWarning: Do not pass an `input_shape`/`input_dim` argument to a layer. When using Sequential models, prefer using an `Input(shape)` object as the first layer in the model instead.\n",
      "  super().__init__(\n"
     ]
    },
    {
     "name": "stdout",
     "output_type": "stream",
     "text": [
      "\u001b[1m1/1\u001b[0m \u001b[32m━━━━━━━━━━━━━━━━━━━━\u001b[0m\u001b[37m\u001b[0m \u001b[1m3s\u001b[0m 3s/step - accuracy: 0.5735 - loss: 39.1881 - val_accuracy: 0.6667 - val_loss: 30.8551 - learning_rate: 0.0010\n",
      "Epoch 2/5\n",
      "\u001b[1m1/1\u001b[0m \u001b[32m━━━━━━━━━━━━━━━━━━━━\u001b[0m\u001b[37m\u001b[0m \u001b[1m0s\u001b[0m 41ms/step - accuracy: 0.5000 - loss: 31.0980 - val_accuracy: 0.5556 - val_loss: 28.1250 - learning_rate: 0.0010\n",
      "Epoch 3/5\n",
      "\u001b[1m1/1\u001b[0m \u001b[32m━━━━━━━━━━━━━━━━━━━━\u001b[0m\u001b[37m\u001b[0m \u001b[1m0s\u001b[0m 35ms/step - accuracy: 0.5588 - loss: 28.2058 - val_accuracy: 0.6667 - val_loss: 26.0620 - learning_rate: 0.0010\n",
      "Epoch 4/5\n",
      "\u001b[1m1/1\u001b[0m \u001b[32m━━━━━━━━━━━━━━━━━━━━\u001b[0m\u001b[37m\u001b[0m \u001b[1m0s\u001b[0m 34ms/step - accuracy: 0.5735 - loss: 26.1878 - val_accuracy: 0.6111 - val_loss: 24.3597 - learning_rate: 0.0010\n",
      "Epoch 5/5\n",
      "\u001b[1m1/1\u001b[0m \u001b[32m━━━━━━━━━━━━━━━━━━━━\u001b[0m\u001b[37m\u001b[0m \u001b[1m0s\u001b[0m 36ms/step - accuracy: 0.5441 - loss: 24.3946 - val_accuracy: 0.6667 - val_loss: 22.8612 - learning_rate: 0.0010\n",
      "\n",
      "\n",
      "\u001b[1m1/1\u001b[0m \u001b[32m━━━━━━━━━━━━━━━━━━━━\u001b[0m\u001b[37m\u001b[0m \u001b[1m1s\u001b[0m 570ms/step - accuracy: 0.3636 - loss: 22.9376\n",
      "\n",
      "\n",
      "Sampling frequency of the instance is already 300.0, returning unmodified.\n",
      "Adding metadata with 3 columns\n",
      "Epoch 1/5\n"
     ]
    },
    {
     "name": "stderr",
     "output_type": "stream",
     "text": [
      "/home/arazzz/anaconda3/envs/moabb_model_optimization/lib/python3.11/site-packages/keras/src/layers/convolutional/base_conv.py:99: UserWarning: Do not pass an `input_shape`/`input_dim` argument to a layer. When using Sequential models, prefer using an `Input(shape)` object as the first layer in the model instead.\n",
      "  super().__init__(\n"
     ]
    },
    {
     "name": "stdout",
     "output_type": "stream",
     "text": [
      "\u001b[1m1/1\u001b[0m \u001b[32m━━━━━━━━━━━━━━━━━━━━\u001b[0m\u001b[37m\u001b[0m \u001b[1m3s\u001b[0m 3s/step - accuracy: 0.5000 - loss: 126.9329 - val_accuracy: 0.6111 - val_loss: 106.2271 - learning_rate: 0.0010\n",
      "Epoch 2/5\n",
      "\u001b[1m1/1\u001b[0m \u001b[32m━━━━━━━━━━━━━━━━━━━━\u001b[0m\u001b[37m\u001b[0m \u001b[1m0s\u001b[0m 43ms/step - accuracy: 0.5882 - loss: 106.3223 - val_accuracy: 0.5556 - val_loss: 95.5880 - learning_rate: 0.0010\n",
      "Epoch 3/5\n",
      "\u001b[1m1/1\u001b[0m \u001b[32m━━━━━━━━━━━━━━━━━━━━\u001b[0m\u001b[37m\u001b[0m \u001b[1m0s\u001b[0m 38ms/step - accuracy: 0.6324 - loss: 95.5690 - val_accuracy: 0.4444 - val_loss: 87.5129 - learning_rate: 0.0010\n",
      "Epoch 4/5\n",
      "\u001b[1m1/1\u001b[0m \u001b[32m━━━━━━━━━━━━━━━━━━━━\u001b[0m\u001b[37m\u001b[0m \u001b[1m0s\u001b[0m 39ms/step - accuracy: 0.5000 - loss: 87.5468 - val_accuracy: 0.4444 - val_loss: 80.9038 - learning_rate: 0.0010\n",
      "Epoch 5/5\n",
      "\u001b[1m1/1\u001b[0m \u001b[32m━━━━━━━━━━━━━━━━━━━━\u001b[0m\u001b[37m\u001b[0m \u001b[1m0s\u001b[0m 39ms/step - accuracy: 0.6912 - loss: 80.7664 - val_accuracy: 0.4444 - val_loss: 75.2304 - learning_rate: 0.0010\n",
      "\n",
      "\n",
      "\u001b[1m1/1\u001b[0m \u001b[32m━━━━━━━━━━━━━━━━━━━━\u001b[0m\u001b[37m\u001b[0m \u001b[1m1s\u001b[0m 535ms/step - accuracy: 0.5000 - loss: 75.2371\n",
      "\n",
      "\n",
      "Sampling frequency of the instance is already 300.0, returning unmodified.\n",
      "Adding metadata with 3 columns\n"
     ]
    },
    {
     "name": "stderr",
     "output_type": "stream",
     "text": [
      "/home/arazzz/anaconda3/envs/moabb_model_optimization/lib/python3.11/site-packages/keras/src/layers/convolutional/base_conv.py:99: UserWarning: Do not pass an `input_shape`/`input_dim` argument to a layer. When using Sequential models, prefer using an `Input(shape)` object as the first layer in the model instead.\n",
      "  super().__init__(\n"
     ]
    },
    {
     "name": "stdout",
     "output_type": "stream",
     "text": [
      "Epoch 1/5\n",
      "\u001b[1m1/1\u001b[0m \u001b[32m━━━━━━━━━━━━━━━━━━━━\u001b[0m\u001b[37m\u001b[0m \u001b[1m5s\u001b[0m 5s/step - accuracy: 0.5588 - loss: 132.9517 - val_accuracy: 0.5556 - val_loss: 103.8293 - learning_rate: 0.0010\n",
      "Epoch 2/5\n",
      "\u001b[1m1/1\u001b[0m \u001b[32m━━━━━━━━━━━━━━━━━━━━\u001b[0m\u001b[37m\u001b[0m \u001b[1m0s\u001b[0m 75ms/step - accuracy: 0.7941 - loss: 103.5889 - val_accuracy: 0.5000 - val_loss: 96.1549 - learning_rate: 0.0010\n",
      "Epoch 3/5\n",
      "\u001b[1m1/1\u001b[0m \u001b[32m━━━━━━━━━━━━━━━━━━━━\u001b[0m\u001b[37m\u001b[0m \u001b[1m0s\u001b[0m 65ms/step - accuracy: 0.6324 - loss: 91.1513 - val_accuracy: 0.5000 - val_loss: 85.8275 - learning_rate: 0.0010\n",
      "Epoch 4/5\n",
      "\u001b[1m1/1\u001b[0m \u001b[32m━━━━━━━━━━━━━━━━━━━━\u001b[0m\u001b[37m\u001b[0m \u001b[1m0s\u001b[0m 61ms/step - accuracy: 0.5294 - loss: 80.8508 - val_accuracy: 0.5000 - val_loss: 77.7228 - learning_rate: 0.0010\n",
      "Epoch 5/5\n",
      "\u001b[1m1/1\u001b[0m \u001b[32m━━━━━━━━━━━━━━━━━━━━\u001b[0m\u001b[37m\u001b[0m \u001b[1m0s\u001b[0m 74ms/step - accuracy: 0.7941 - loss: 70.8683 - val_accuracy: 0.5000 - val_loss: 64.7064 - learning_rate: 0.0010\n",
      "\n",
      "\n",
      "\u001b[1m1/1\u001b[0m \u001b[32m━━━━━━━━━━━━━━━━━━━━\u001b[0m\u001b[37m\u001b[0m \u001b[1m1s\u001b[0m 802ms/step - accuracy: 0.5000 - loss: 65.6498\n",
      "\n",
      "\n",
      "Sampling frequency of the instance is already 300.0, returning unmodified.\n",
      "Adding metadata with 3 columns\n",
      "Epoch 1/5\n"
     ]
    },
    {
     "name": "stderr",
     "output_type": "stream",
     "text": [
      "/home/arazzz/anaconda3/envs/moabb_model_optimization/lib/python3.11/site-packages/keras/src/layers/convolutional/base_conv.py:99: UserWarning: Do not pass an `input_shape`/`input_dim` argument to a layer. When using Sequential models, prefer using an `Input(shape)` object as the first layer in the model instead.\n",
      "  super().__init__(\n"
     ]
    },
    {
     "name": "stdout",
     "output_type": "stream",
     "text": [
      "\u001b[1m1/1\u001b[0m \u001b[32m━━━━━━━━━━━━━━━━━━━━\u001b[0m\u001b[37m\u001b[0m \u001b[1m3s\u001b[0m 3s/step - accuracy: 0.5735 - loss: 23.4509 - val_accuracy: 0.5000 - val_loss: 18.0536 - learning_rate: 0.0010\n",
      "Epoch 2/5\n",
      "\u001b[1m1/1\u001b[0m \u001b[32m━━━━━━━━━━━━━━━━━━━━\u001b[0m\u001b[37m\u001b[0m \u001b[1m0s\u001b[0m 44ms/step - accuracy: 0.5294 - loss: 17.9679 - val_accuracy: 0.3333 - val_loss: 16.0935 - learning_rate: 0.0010\n",
      "Epoch 3/5\n",
      "\u001b[1m1/1\u001b[0m \u001b[32m━━━━━━━━━━━━━━━━━━━━\u001b[0m\u001b[37m\u001b[0m \u001b[1m0s\u001b[0m 38ms/step - accuracy: 0.5294 - loss: 15.9769 - val_accuracy: 0.4444 - val_loss: 14.6682 - learning_rate: 0.0010\n",
      "Epoch 4/5\n",
      "\u001b[1m1/1\u001b[0m \u001b[32m━━━━━━━━━━━━━━━━━━━━\u001b[0m\u001b[37m\u001b[0m \u001b[1m0s\u001b[0m 37ms/step - accuracy: 0.6176 - loss: 14.5615 - val_accuracy: 0.3889 - val_loss: 13.4943 - learning_rate: 0.0010\n",
      "Epoch 5/5\n",
      "\u001b[1m1/1\u001b[0m \u001b[32m━━━━━━━━━━━━━━━━━━━━\u001b[0m\u001b[37m\u001b[0m \u001b[1m0s\u001b[0m 36ms/step - accuracy: 0.6471 - loss: 13.3889 - val_accuracy: 0.3889 - val_loss: 12.5576 - learning_rate: 0.0010\n",
      "\n",
      "\n",
      "\u001b[1m1/1\u001b[0m \u001b[32m━━━━━━━━━━━━━━━━━━━━\u001b[0m\u001b[37m\u001b[0m \u001b[1m1s\u001b[0m 629ms/step - accuracy: 0.4545 - loss: 12.5062\n",
      "\n",
      "\n",
      "Adding metadata with 3 columns\n",
      "Epoch 1/5\n"
     ]
    },
    {
     "name": "stderr",
     "output_type": "stream",
     "text": [
      "/home/arazzz/anaconda3/envs/moabb_model_optimization/lib/python3.11/site-packages/keras/src/layers/convolutional/base_conv.py:99: UserWarning: Do not pass an `input_shape`/`input_dim` argument to a layer. When using Sequential models, prefer using an `Input(shape)` object as the first layer in the model instead.\n",
      "  super().__init__(\n"
     ]
    },
    {
     "name": "stdout",
     "output_type": "stream",
     "text": [
      "\u001b[1m1/1\u001b[0m \u001b[32m━━━━━━━━━━━━━━━━━━━━\u001b[0m\u001b[37m\u001b[0m \u001b[1m3s\u001b[0m 3s/step - accuracy: 0.4559 - loss: 140.5976 - val_accuracy: 0.5556 - val_loss: 112.9377 - learning_rate: 0.0010\n",
      "Epoch 2/5\n",
      "\u001b[1m1/1\u001b[0m \u001b[32m━━━━━━━━━━━━━━━━━━━━\u001b[0m\u001b[37m\u001b[0m \u001b[1m0s\u001b[0m 44ms/step - accuracy: 0.8088 - loss: 112.6631 - val_accuracy: 0.5000 - val_loss: 98.2940 - learning_rate: 0.0010\n",
      "Epoch 3/5\n",
      "\u001b[1m1/1\u001b[0m \u001b[32m━━━━━━━━━━━━━━━━━━━━\u001b[0m\u001b[37m\u001b[0m \u001b[1m0s\u001b[0m 36ms/step - accuracy: 0.9412 - loss: 97.9344 - val_accuracy: 0.4444 - val_loss: 87.5422 - learning_rate: 0.0010\n",
      "Epoch 4/5\n",
      "\u001b[1m1/1\u001b[0m \u001b[32m━━━━━━━━━━━━━━━━━━━━\u001b[0m\u001b[37m\u001b[0m \u001b[1m0s\u001b[0m 37ms/step - accuracy: 1.0000 - loss: 87.0728 - val_accuracy: 0.5000 - val_loss: 78.8753 - learning_rate: 0.0010\n",
      "Epoch 5/5\n",
      "\u001b[1m1/1\u001b[0m \u001b[32m━━━━━━━━━━━━━━━━━━━━\u001b[0m\u001b[37m\u001b[0m \u001b[1m0s\u001b[0m 40ms/step - accuracy: 0.9706 - loss: 78.3840 - val_accuracy: 0.5000 - val_loss: 71.6170 - learning_rate: 0.0010\n",
      "\n",
      "\n",
      "\u001b[1m1/1\u001b[0m \u001b[32m━━━━━━━━━━━━━━━━━━━━\u001b[0m\u001b[37m\u001b[0m \u001b[1m1s\u001b[0m 535ms/step - accuracy: 0.5000 - loss: 71.6982\n",
      "\n",
      "\n",
      "Sampling frequency of the instance is already 300.0, returning unmodified.\n",
      "Adding metadata with 3 columns\n",
      "Epoch 1/5\n"
     ]
    },
    {
     "name": "stderr",
     "output_type": "stream",
     "text": [
      "/home/arazzz/anaconda3/envs/moabb_model_optimization/lib/python3.11/site-packages/keras/src/layers/convolutional/base_conv.py:99: UserWarning: Do not pass an `input_shape`/`input_dim` argument to a layer. When using Sequential models, prefer using an `Input(shape)` object as the first layer in the model instead.\n",
      "  super().__init__(\n"
     ]
    },
    {
     "name": "stdout",
     "output_type": "stream",
     "text": [
      "\u001b[1m1/1\u001b[0m \u001b[32m━━━━━━━━━━━━━━━━━━━━\u001b[0m\u001b[37m\u001b[0m \u001b[1m4s\u001b[0m 4s/step - accuracy: 0.5294 - loss: 19.7816 - val_accuracy: 0.2778 - val_loss: 15.5577 - learning_rate: 0.0010\n",
      "Epoch 2/5\n",
      "\u001b[1m1/1\u001b[0m \u001b[32m━━━━━━━━━━━━━━━━━━━━\u001b[0m\u001b[37m\u001b[0m \u001b[1m0s\u001b[0m 54ms/step - accuracy: 0.7500 - loss: 15.2443 - val_accuracy: 0.4444 - val_loss: 14.0302 - learning_rate: 0.0010\n",
      "Epoch 3/5\n",
      "\u001b[1m1/1\u001b[0m \u001b[32m━━━━━━━━━━━━━━━━━━━━\u001b[0m\u001b[37m\u001b[0m \u001b[1m0s\u001b[0m 48ms/step - accuracy: 0.8676 - loss: 13.6412 - val_accuracy: 0.4444 - val_loss: 12.8930 - learning_rate: 0.0010\n",
      "Epoch 4/5\n",
      "\u001b[1m1/1\u001b[0m \u001b[32m━━━━━━━━━━━━━━━━━━━━\u001b[0m\u001b[37m\u001b[0m \u001b[1m0s\u001b[0m 47ms/step - accuracy: 0.9412 - loss: 12.4326 - val_accuracy: 0.4444 - val_loss: 11.9141 - learning_rate: 0.0010\n",
      "Epoch 5/5\n",
      "\u001b[1m1/1\u001b[0m \u001b[32m━━━━━━━━━━━━━━━━━━━━\u001b[0m\u001b[37m\u001b[0m \u001b[1m0s\u001b[0m 48ms/step - accuracy: 0.9706 - loss: 11.4222 - val_accuracy: 0.4444 - val_loss: 11.1609 - learning_rate: 0.0010\n",
      "\n",
      "\n",
      "\u001b[1m1/1\u001b[0m \u001b[32m━━━━━━━━━━━━━━━━━━━━\u001b[0m\u001b[37m\u001b[0m \u001b[1m1s\u001b[0m 694ms/step - accuracy: 0.5000 - loss: 11.1624\n",
      "\n",
      "\n",
      "Adding metadata with 3 columns\n",
      "Epoch 1/5\n"
     ]
    },
    {
     "name": "stderr",
     "output_type": "stream",
     "text": [
      "/home/arazzz/anaconda3/envs/moabb_model_optimization/lib/python3.11/site-packages/keras/src/layers/convolutional/base_conv.py:99: UserWarning: Do not pass an `input_shape`/`input_dim` argument to a layer. When using Sequential models, prefer using an `Input(shape)` object as the first layer in the model instead.\n",
      "  super().__init__(\n"
     ]
    },
    {
     "name": "stdout",
     "output_type": "stream",
     "text": [
      "\u001b[1m1/1\u001b[0m \u001b[32m━━━━━━━━━━━━━━━━━━━━\u001b[0m\u001b[37m\u001b[0m \u001b[1m3s\u001b[0m 3s/step - accuracy: 0.5147 - loss: 76.8716 - val_accuracy: 0.3889 - val_loss: 61.5612 - learning_rate: 0.0010\n",
      "Epoch 2/5\n",
      "\u001b[1m1/1\u001b[0m \u001b[32m━━━━━━━━━━━━━━━━━━━━\u001b[0m\u001b[37m\u001b[0m \u001b[1m0s\u001b[0m 42ms/step - accuracy: 0.7647 - loss: 61.3600 - val_accuracy: 0.6111 - val_loss: 55.1477 - learning_rate: 0.0010\n",
      "Epoch 3/5\n",
      "\u001b[1m1/1\u001b[0m \u001b[32m━━━━━━━━━━━━━━━━━━━━\u001b[0m\u001b[37m\u001b[0m \u001b[1m0s\u001b[0m 35ms/step - accuracy: 0.7353 - loss: 55.0068 - val_accuracy: 0.5000 - val_loss: 50.3101 - learning_rate: 0.0010\n",
      "Epoch 4/5\n",
      "\u001b[1m1/1\u001b[0m \u001b[32m━━━━━━━━━━━━━━━━━━━━\u001b[0m\u001b[37m\u001b[0m \u001b[1m0s\u001b[0m 37ms/step - accuracy: 0.7353 - loss: 50.1118 - val_accuracy: 0.4444 - val_loss: 46.3293 - learning_rate: 0.0010\n",
      "Epoch 5/5\n",
      "\u001b[1m1/1\u001b[0m \u001b[32m━━━━━━━━━━━━━━━━━━━━\u001b[0m\u001b[37m\u001b[0m \u001b[1m0s\u001b[0m 38ms/step - accuracy: 0.9412 - loss: 46.0963 - val_accuracy: 0.4444 - val_loss: 42.9255 - learning_rate: 0.0010\n",
      "\n",
      "\n",
      "\u001b[1m1/1\u001b[0m \u001b[32m━━━━━━━━━━━━━━━━━━━━\u001b[0m\u001b[37m\u001b[0m \u001b[1m1s\u001b[0m 532ms/step - accuracy: 0.5455 - loss: 42.8692\n",
      "\n",
      "\n",
      "Sampling frequency of the instance is already 300.0, returning unmodified.\n",
      "Adding metadata with 3 columns\n",
      "Epoch 1/5\n"
     ]
    },
    {
     "name": "stderr",
     "output_type": "stream",
     "text": [
      "/home/arazzz/anaconda3/envs/moabb_model_optimization/lib/python3.11/site-packages/keras/src/layers/convolutional/base_conv.py:99: UserWarning: Do not pass an `input_shape`/`input_dim` argument to a layer. When using Sequential models, prefer using an `Input(shape)` object as the first layer in the model instead.\n",
      "  super().__init__(\n"
     ]
    },
    {
     "name": "stdout",
     "output_type": "stream",
     "text": [
      "\u001b[1m2/2\u001b[0m \u001b[32m━━━━━━━━━━━━━━━━━━━━\u001b[0m\u001b[37m\u001b[0m \u001b[1m4s\u001b[0m 2s/step - accuracy: 0.4053 - loss: 62.2112 - val_accuracy: 0.5000 - val_loss: 50.1566 - learning_rate: 0.0010\n",
      "Epoch 2/5\n",
      "\u001b[1m2/2\u001b[0m \u001b[32m━━━━━━━━━━━━━━━━━━━━\u001b[0m\u001b[37m\u001b[0m \u001b[1m0s\u001b[0m 18ms/step - accuracy: 0.5849 - loss: 48.8852 - val_accuracy: 0.6111 - val_loss: 43.5182 - learning_rate: 0.0010\n",
      "Epoch 3/5\n",
      "\u001b[1m2/2\u001b[0m \u001b[32m━━━━━━━━━━━━━━━━━━━━\u001b[0m\u001b[37m\u001b[0m \u001b[1m0s\u001b[0m 22ms/step - accuracy: 0.6547 - loss: 42.4940 - val_accuracy: 0.5556 - val_loss: 38.6898 - learning_rate: 0.0010\n",
      "Epoch 4/5\n",
      "\u001b[1m2/2\u001b[0m \u001b[32m━━━━━━━━━━━━━━━━━━━━\u001b[0m\u001b[37m\u001b[0m \u001b[1m0s\u001b[0m 24ms/step - accuracy: 0.7304 - loss: 38.1454 - val_accuracy: 0.3889 - val_loss: 34.9766 - learning_rate: 0.0010\n",
      "Epoch 5/5\n",
      "\u001b[1m2/2\u001b[0m \u001b[32m━━━━━━━━━━━━━━━━━━━━\u001b[0m\u001b[37m\u001b[0m \u001b[1m0s\u001b[0m 20ms/step - accuracy: 0.7454 - loss: 34.2378 - val_accuracy: 0.5000 - val_loss: 32.0031 - learning_rate: 0.0010\n",
      "\n",
      "\n",
      "\u001b[1m1/1\u001b[0m \u001b[32m━━━━━━━━━━━━━━━━━━━━\u001b[0m\u001b[37m\u001b[0m \u001b[1m1s\u001b[0m 503ms/step - accuracy: 0.5455 - loss: 31.8024\n",
      "\n",
      "\n",
      "Adding metadata with 3 columns\n",
      "Epoch 1/5\n"
     ]
    },
    {
     "name": "stderr",
     "output_type": "stream",
     "text": [
      "/home/arazzz/anaconda3/envs/moabb_model_optimization/lib/python3.11/site-packages/keras/src/layers/convolutional/base_conv.py:99: UserWarning: Do not pass an `input_shape`/`input_dim` argument to a layer. When using Sequential models, prefer using an `Input(shape)` object as the first layer in the model instead.\n",
      "  super().__init__(\n"
     ]
    },
    {
     "name": "stdout",
     "output_type": "stream",
     "text": [
      "\u001b[1m1/1\u001b[0m \u001b[32m━━━━━━━━━━━━━━━━━━━━\u001b[0m\u001b[37m\u001b[0m \u001b[1m3s\u001b[0m 3s/step - accuracy: 0.5588 - loss: 294.7874 - val_accuracy: 0.5556 - val_loss: 228.8098 - learning_rate: 0.0010\n",
      "Epoch 2/5\n",
      "\u001b[1m1/1\u001b[0m \u001b[32m━━━━━━━━━━━━━━━━━━━━\u001b[0m\u001b[37m\u001b[0m \u001b[1m0s\u001b[0m 51ms/step - accuracy: 0.5882 - loss: 228.7665 - val_accuracy: 0.5556 - val_loss: 191.5887 - learning_rate: 0.0010\n",
      "Epoch 3/5\n",
      "\u001b[1m1/1\u001b[0m \u001b[32m━━━━━━━━━━━━━━━━━━━━\u001b[0m\u001b[37m\u001b[0m \u001b[1m0s\u001b[0m 45ms/step - accuracy: 0.7059 - loss: 191.4097 - val_accuracy: 0.5556 - val_loss: 165.2377 - learning_rate: 0.0010\n",
      "Epoch 4/5\n",
      "\u001b[1m1/1\u001b[0m \u001b[32m━━━━━━━━━━━━━━━━━━━━\u001b[0m\u001b[37m\u001b[0m \u001b[1m0s\u001b[0m 46ms/step - accuracy: 0.7353 - loss: 164.6119 - val_accuracy: 0.5556 - val_loss: 144.3265 - learning_rate: 0.0010\n",
      "Epoch 5/5\n",
      "\u001b[1m1/1\u001b[0m \u001b[32m━━━━━━━━━━━━━━━━━━━━\u001b[0m\u001b[37m\u001b[0m \u001b[1m0s\u001b[0m 45ms/step - accuracy: 0.7941 - loss: 143.5828 - val_accuracy: 0.5556 - val_loss: 127.3329 - learning_rate: 0.0010\n",
      "\n",
      "\n",
      "\u001b[1m1/1\u001b[0m \u001b[32m━━━━━━━━━━━━━━━━━━━━\u001b[0m\u001b[37m\u001b[0m \u001b[1m1s\u001b[0m 572ms/step - accuracy: 0.5000 - loss: 127.5258\n",
      "\n",
      "\n",
      "Sampling frequency of the instance is already 300.0, returning unmodified.\n",
      "Adding metadata with 3 columns\n",
      "Epoch 1/5\n"
     ]
    },
    {
     "name": "stderr",
     "output_type": "stream",
     "text": [
      "/home/arazzz/anaconda3/envs/moabb_model_optimization/lib/python3.11/site-packages/keras/src/layers/convolutional/base_conv.py:99: UserWarning: Do not pass an `input_shape`/`input_dim` argument to a layer. When using Sequential models, prefer using an `Input(shape)` object as the first layer in the model instead.\n",
      "  super().__init__(\n"
     ]
    },
    {
     "name": "stdout",
     "output_type": "stream",
     "text": [
      "\u001b[1m1/1\u001b[0m \u001b[32m━━━━━━━━━━━━━━━━━━━━\u001b[0m\u001b[37m\u001b[0m \u001b[1m3s\u001b[0m 3s/step - accuracy: 0.4853 - loss: 23.5032 - val_accuracy: 0.4444 - val_loss: 19.3872 - learning_rate: 0.0010\n",
      "Epoch 2/5\n",
      "\u001b[1m1/1\u001b[0m \u001b[32m━━━━━━━━━━━━━━━━━━━━\u001b[0m\u001b[37m\u001b[0m \u001b[1m0s\u001b[0m 39ms/step - accuracy: 0.7500 - loss: 19.2708 - val_accuracy: 0.6111 - val_loss: 17.7186 - learning_rate: 0.0010\n",
      "Epoch 3/5\n",
      "\u001b[1m1/1\u001b[0m \u001b[32m━━━━━━━━━━━━━━━━━━━━\u001b[0m\u001b[37m\u001b[0m \u001b[1m0s\u001b[0m 33ms/step - accuracy: 0.7794 - loss: 17.5546 - val_accuracy: 0.5000 - val_loss: 16.5092 - learning_rate: 0.0010\n",
      "Epoch 4/5\n",
      "\u001b[1m1/1\u001b[0m \u001b[32m━━━━━━━━━━━━━━━━━━━━\u001b[0m\u001b[37m\u001b[0m \u001b[1m0s\u001b[0m 33ms/step - accuracy: 0.9265 - loss: 16.2090 - val_accuracy: 0.5556 - val_loss: 15.4572 - learning_rate: 0.0010\n",
      "Epoch 5/5\n",
      "\u001b[1m1/1\u001b[0m \u001b[32m━━━━━━━━━━━━━━━━━━━━\u001b[0m\u001b[37m\u001b[0m \u001b[1m0s\u001b[0m 32ms/step - accuracy: 0.9265 - loss: 15.1034 - val_accuracy: 0.4444 - val_loss: 14.5581 - learning_rate: 0.0010\n",
      "\n",
      "\n",
      "\u001b[1m1/1\u001b[0m \u001b[32m━━━━━━━━━━━━━━━━━━━━\u001b[0m\u001b[37m\u001b[0m \u001b[1m0s\u001b[0m 465ms/step - accuracy: 0.5909 - loss: 14.6396\n",
      "\n",
      "\n",
      "Sampling frequency of the instance is already 300.0, returning unmodified.\n",
      "Adding metadata with 3 columns\n",
      "Epoch 1/5\n"
     ]
    },
    {
     "name": "stderr",
     "output_type": "stream",
     "text": [
      "/home/arazzz/anaconda3/envs/moabb_model_optimization/lib/python3.11/site-packages/keras/src/layers/convolutional/base_conv.py:99: UserWarning: Do not pass an `input_shape`/`input_dim` argument to a layer. When using Sequential models, prefer using an `Input(shape)` object as the first layer in the model instead.\n",
      "  super().__init__(\n"
     ]
    },
    {
     "name": "stdout",
     "output_type": "stream",
     "text": [
      "\u001b[1m2/2\u001b[0m \u001b[32m━━━━━━━━━━━━━━━━━━━━\u001b[0m\u001b[37m\u001b[0m \u001b[1m5s\u001b[0m 2s/step - accuracy: 0.5000 - loss: 38.2414 - val_accuracy: 0.4444 - val_loss: 29.6699 - learning_rate: 0.0010\n",
      "Epoch 2/5\n",
      "\u001b[1m2/2\u001b[0m \u001b[32m━━━━━━━━━━━━━━━━━━━━\u001b[0m\u001b[37m\u001b[0m \u001b[1m0s\u001b[0m 21ms/step - accuracy: 0.5653 - loss: 28.9656 - val_accuracy: 0.4444 - val_loss: 25.7130 - learning_rate: 0.0010\n",
      "Epoch 3/5\n",
      "\u001b[1m2/2\u001b[0m \u001b[32m━━━━━━━━━━━━━━━━━━━━\u001b[0m\u001b[37m\u001b[0m \u001b[1m0s\u001b[0m 20ms/step - accuracy: 0.5548 - loss: 25.1974 - val_accuracy: 0.4444 - val_loss: 22.8466 - learning_rate: 0.0010\n",
      "Epoch 4/5\n",
      "\u001b[1m2/2\u001b[0m \u001b[32m━━━━━━━━━━━━━━━━━━━━\u001b[0m\u001b[37m\u001b[0m \u001b[1m0s\u001b[0m 20ms/step - accuracy: 0.5751 - loss: 22.4319 - val_accuracy: 0.3333 - val_loss: 20.5555 - learning_rate: 0.0010\n",
      "Epoch 5/5\n",
      "\u001b[1m2/2\u001b[0m \u001b[32m━━━━━━━━━━━━━━━━━━━━\u001b[0m\u001b[37m\u001b[0m \u001b[1m0s\u001b[0m 17ms/step - accuracy: 0.6299 - loss: 20.0681 - val_accuracy: 0.3333 - val_loss: 18.5729 - learning_rate: 0.0010\n",
      "\n",
      "\n",
      "\u001b[1m1/1\u001b[0m \u001b[32m━━━━━━━━━━━━━━━━━━━━\u001b[0m\u001b[37m\u001b[0m \u001b[1m1s\u001b[0m 602ms/step - accuracy: 0.3182 - loss: 18.5800\n",
      "\n",
      "\n",
      "Sampling frequency of the instance is already 300.0, returning unmodified.\n",
      "Adding metadata with 3 columns\n",
      "Epoch 1/5\n"
     ]
    },
    {
     "name": "stderr",
     "output_type": "stream",
     "text": [
      "/home/arazzz/anaconda3/envs/moabb_model_optimization/lib/python3.11/site-packages/keras/src/layers/convolutional/base_conv.py:99: UserWarning: Do not pass an `input_shape`/`input_dim` argument to a layer. When using Sequential models, prefer using an `Input(shape)` object as the first layer in the model instead.\n",
      "  super().__init__(\n"
     ]
    },
    {
     "name": "stdout",
     "output_type": "stream",
     "text": [
      "\u001b[1m1/1\u001b[0m \u001b[32m━━━━━━━━━━━━━━━━━━━━\u001b[0m\u001b[37m\u001b[0m \u001b[1m3s\u001b[0m 3s/step - accuracy: 0.4559 - loss: 121.7492 - val_accuracy: 0.5556 - val_loss: 99.5307 - learning_rate: 0.0010\n",
      "Epoch 2/5\n",
      "\u001b[1m1/1\u001b[0m \u001b[32m━━━━━━━━━━━━━━━━━━━━\u001b[0m\u001b[37m\u001b[0m \u001b[1m0s\u001b[0m 47ms/step - accuracy: 0.5000 - loss: 99.6623 - val_accuracy: 0.6111 - val_loss: 88.1388 - learning_rate: 0.0010\n",
      "Epoch 3/5\n",
      "\u001b[1m1/1\u001b[0m \u001b[32m━━━━━━━━━━━━━━━━━━━━\u001b[0m\u001b[37m\u001b[0m \u001b[1m0s\u001b[0m 40ms/step - accuracy: 0.5588 - loss: 88.1479 - val_accuracy: 0.6111 - val_loss: 79.6318 - learning_rate: 0.0010\n",
      "Epoch 4/5\n",
      "\u001b[1m1/1\u001b[0m \u001b[32m━━━━━━━━━━━━━━━━━━━━\u001b[0m\u001b[37m\u001b[0m \u001b[1m0s\u001b[0m 41ms/step - accuracy: 0.6324 - loss: 79.6160 - val_accuracy: 0.5556 - val_loss: 72.7187 - learning_rate: 0.0010\n",
      "Epoch 5/5\n",
      "\u001b[1m1/1\u001b[0m \u001b[32m━━━━━━━━━━━━━━━━━━━━\u001b[0m\u001b[37m\u001b[0m \u001b[1m0s\u001b[0m 40ms/step - accuracy: 0.6324 - loss: 72.6885 - val_accuracy: 0.5556 - val_loss: 66.8358 - learning_rate: 0.0010\n",
      "\n",
      "\n",
      "\u001b[1m1/1\u001b[0m \u001b[32m━━━━━━━━━━━━━━━━━━━━\u001b[0m\u001b[37m\u001b[0m \u001b[1m1s\u001b[0m 537ms/step - accuracy: 0.5000 - loss: 66.8774\n",
      "\n",
      "\n",
      "Sampling frequency of the instance is already 300.0, returning unmodified.\n",
      "Adding metadata with 3 columns\n",
      "Epoch 1/5\n"
     ]
    },
    {
     "name": "stderr",
     "output_type": "stream",
     "text": [
      "/home/arazzz/anaconda3/envs/moabb_model_optimization/lib/python3.11/site-packages/keras/src/layers/convolutional/base_conv.py:99: UserWarning: Do not pass an `input_shape`/`input_dim` argument to a layer. When using Sequential models, prefer using an `Input(shape)` object as the first layer in the model instead.\n",
      "  super().__init__(\n"
     ]
    },
    {
     "name": "stdout",
     "output_type": "stream",
     "text": [
      "\u001b[1m3/3\u001b[0m \u001b[32m━━━━━━━━━━━━━━━━━━━━\u001b[0m\u001b[37m\u001b[0m \u001b[1m4s\u001b[0m 1s/step - accuracy: 0.5113 - loss: 78.9179 - val_accuracy: 0.5000 - val_loss: 57.0315 - learning_rate: 0.0010\n",
      "Epoch 2/5\n",
      "\u001b[1m3/3\u001b[0m \u001b[32m━━━━━━━━━━━━━━━━━━━━\u001b[0m\u001b[37m\u001b[0m \u001b[1m0s\u001b[0m 17ms/step - accuracy: 0.5485 - loss: 53.8245 - val_accuracy: 0.5000 - val_loss: 43.7249 - learning_rate: 0.0010\n",
      "Epoch 3/5\n",
      "\u001b[1m3/3\u001b[0m \u001b[32m━━━━━━━━━━━━━━━━━━━━\u001b[0m\u001b[37m\u001b[0m \u001b[1m0s\u001b[0m 17ms/step - accuracy: 0.5793 - loss: 41.6549 - val_accuracy: 0.5000 - val_loss: 34.8456 - learning_rate: 0.0010\n",
      "Epoch 4/5\n",
      "\u001b[1m3/3\u001b[0m \u001b[32m━━━━━━━━━━━━━━━━━━━━\u001b[0m\u001b[37m\u001b[0m \u001b[1m0s\u001b[0m 17ms/step - accuracy: 0.5793 - loss: 33.1966 - val_accuracy: 0.5000 - val_loss: 28.1148 - learning_rate: 0.0010\n",
      "Epoch 5/5\n",
      "\u001b[1m3/3\u001b[0m \u001b[32m━━━━━━━━━━━━━━━━━━━━\u001b[0m\u001b[37m\u001b[0m \u001b[1m0s\u001b[0m 20ms/step - accuracy: 0.7084 - loss: 26.7055 - val_accuracy: 0.5000 - val_loss: 22.7830 - learning_rate: 0.0010\n",
      "\n",
      "\n",
      "\u001b[1m1/1\u001b[0m \u001b[32m━━━━━━━━━━━━━━━━━━━━\u001b[0m\u001b[37m\u001b[0m \u001b[1m1s\u001b[0m 631ms/step - accuracy: 0.4545 - loss: 22.8203\n",
      "\n",
      "\n",
      "Sampling frequency of the instance is already 300.0, returning unmodified.\n",
      "Adding metadata with 3 columns\n"
     ]
    },
    {
     "name": "stderr",
     "output_type": "stream",
     "text": [
      "/home/arazzz/anaconda3/envs/moabb_model_optimization/lib/python3.11/site-packages/keras/src/layers/convolutional/base_conv.py:99: UserWarning: Do not pass an `input_shape`/`input_dim` argument to a layer. When using Sequential models, prefer using an `Input(shape)` object as the first layer in the model instead.\n",
      "  super().__init__(\n"
     ]
    },
    {
     "name": "stdout",
     "output_type": "stream",
     "text": [
      "Epoch 1/5\n",
      "\u001b[1m2/2\u001b[0m \u001b[32m━━━━━━━━━━━━━━━━━━━━\u001b[0m\u001b[37m\u001b[0m \u001b[1m4s\u001b[0m 2s/step - accuracy: 0.4700 - loss: 109.6822 - val_accuracy: 0.5556 - val_loss: 84.6304 - learning_rate: 0.0010\n",
      "Epoch 2/5\n",
      "\u001b[1m2/2\u001b[0m \u001b[32m━━━━━━━━━━━━━━━━━━━━\u001b[0m\u001b[37m\u001b[0m \u001b[1m0s\u001b[0m 18ms/step - accuracy: 0.5600 - loss: 81.7901 - val_accuracy: 0.5556 - val_loss: 69.7143 - learning_rate: 0.0010\n",
      "Epoch 3/5\n",
      "\u001b[1m2/2\u001b[0m \u001b[32m━━━━━━━━━━━━━━━━━━━━\u001b[0m\u001b[37m\u001b[0m \u001b[1m0s\u001b[0m 19ms/step - accuracy: 0.7800 - loss: 67.4313 - val_accuracy: 0.4444 - val_loss: 58.8931 - learning_rate: 0.0010\n",
      "Epoch 4/5\n",
      "\u001b[1m2/2\u001b[0m \u001b[32m━━━━━━━━━━━━━━━━━━━━\u001b[0m\u001b[37m\u001b[0m \u001b[1m0s\u001b[0m 17ms/step - accuracy: 0.6149 - loss: 57.1934 - val_accuracy: 0.5000 - val_loss: 50.5117 - learning_rate: 0.0010\n",
      "Epoch 5/5\n",
      "\u001b[1m2/2\u001b[0m \u001b[32m━━━━━━━━━━━━━━━━━━━━\u001b[0m\u001b[37m\u001b[0m \u001b[1m0s\u001b[0m 19ms/step - accuracy: 0.7252 - loss: 49.1062 - val_accuracy: 0.5556 - val_loss: 43.7531 - learning_rate: 0.0010\n",
      "\n",
      "\n",
      "\u001b[1m1/1\u001b[0m \u001b[32m━━━━━━━━━━━━━━━━━━━━\u001b[0m\u001b[37m\u001b[0m \u001b[1m1s\u001b[0m 580ms/step - accuracy: 0.4545 - loss: 43.7597\n",
      "\n",
      "\n",
      "Adding metadata with 3 columns\n"
     ]
    },
    {
     "name": "stderr",
     "output_type": "stream",
     "text": [
      "/home/arazzz/anaconda3/envs/moabb_model_optimization/lib/python3.11/site-packages/keras/src/layers/convolutional/base_conv.py:99: UserWarning: Do not pass an `input_shape`/`input_dim` argument to a layer. When using Sequential models, prefer using an `Input(shape)` object as the first layer in the model instead.\n",
      "  super().__init__(\n"
     ]
    },
    {
     "name": "stdout",
     "output_type": "stream",
     "text": [
      "Epoch 1/5\n",
      "\u001b[1m1/1\u001b[0m \u001b[32m━━━━━━━━━━━━━━━━━━━━\u001b[0m\u001b[37m\u001b[0m \u001b[1m3s\u001b[0m 3s/step - accuracy: 0.5882 - loss: 46.6902 - val_accuracy: 0.5000 - val_loss: 37.7074 - learning_rate: 0.0010\n",
      "Epoch 2/5\n",
      "\u001b[1m1/1\u001b[0m \u001b[32m━━━━━━━━━━━━━━━━━━━━\u001b[0m\u001b[37m\u001b[0m \u001b[1m0s\u001b[0m 46ms/step - accuracy: 0.6029 - loss: 37.6584 - val_accuracy: 0.7778 - val_loss: 33.5807 - learning_rate: 0.0010\n",
      "Epoch 3/5\n",
      "\u001b[1m1/1\u001b[0m \u001b[32m━━━━━━━━━━━━━━━━━━━━\u001b[0m\u001b[37m\u001b[0m \u001b[1m0s\u001b[0m 39ms/step - accuracy: 0.6029 - loss: 33.5369 - val_accuracy: 0.7222 - val_loss: 30.4772 - learning_rate: 0.0010\n",
      "Epoch 4/5\n",
      "\u001b[1m1/1\u001b[0m \u001b[32m━━━━━━━━━━━━━━━━━━━━\u001b[0m\u001b[37m\u001b[0m \u001b[1m0s\u001b[0m 39ms/step - accuracy: 0.6029 - loss: 30.4362 - val_accuracy: 0.7222 - val_loss: 27.9505 - learning_rate: 0.0010\n",
      "Epoch 5/5\n",
      "\u001b[1m1/1\u001b[0m \u001b[32m━━━━━━━━━━━━━━━━━━━━\u001b[0m\u001b[37m\u001b[0m \u001b[1m0s\u001b[0m 50ms/step - accuracy: 0.7647 - loss: 27.8145 - val_accuracy: 0.6667 - val_loss: 25.8048 - learning_rate: 0.0010\n",
      "\n",
      "\n",
      "\u001b[1m1/1\u001b[0m \u001b[32m━━━━━━━━━━━━━━━━━━━━\u001b[0m\u001b[37m\u001b[0m \u001b[1m1s\u001b[0m 553ms/step - accuracy: 0.2727 - loss: 25.8895\n",
      "\n",
      "\n",
      "Adding metadata with 3 columns\n",
      "Epoch 1/5\n"
     ]
    },
    {
     "name": "stderr",
     "output_type": "stream",
     "text": [
      "/home/arazzz/anaconda3/envs/moabb_model_optimization/lib/python3.11/site-packages/keras/src/layers/convolutional/base_conv.py:99: UserWarning: Do not pass an `input_shape`/`input_dim` argument to a layer. When using Sequential models, prefer using an `Input(shape)` object as the first layer in the model instead.\n",
      "  super().__init__(\n"
     ]
    },
    {
     "name": "stdout",
     "output_type": "stream",
     "text": [
      "\u001b[1m1/1\u001b[0m \u001b[32m━━━━━━━━━━━━━━━━━━━━\u001b[0m\u001b[37m\u001b[0m \u001b[1m3s\u001b[0m 3s/step - accuracy: 0.5588 - loss: 56.1506 - val_accuracy: 0.3889 - val_loss: 46.3520 - learning_rate: 0.0010\n",
      "Epoch 2/5\n",
      "\u001b[1m1/1\u001b[0m \u001b[32m━━━━━━━━━━━━━━━━━━━━\u001b[0m\u001b[37m\u001b[0m \u001b[1m0s\u001b[0m 45ms/step - accuracy: 0.6176 - loss: 46.2982 - val_accuracy: 0.4444 - val_loss: 41.2929 - learning_rate: 0.0010\n",
      "Epoch 3/5\n",
      "\u001b[1m1/1\u001b[0m \u001b[32m━━━━━━━━━━━━━━━━━━━━\u001b[0m\u001b[37m\u001b[0m \u001b[1m0s\u001b[0m 42ms/step - accuracy: 0.6471 - loss: 41.1462 - val_accuracy: 0.3889 - val_loss: 37.5112 - learning_rate: 0.0010\n",
      "Epoch 4/5\n",
      "\u001b[1m1/1\u001b[0m \u001b[32m━━━━━━━━━━━━━━━━━━━━\u001b[0m\u001b[37m\u001b[0m \u001b[1m0s\u001b[0m 40ms/step - accuracy: 0.7500 - loss: 37.2479 - val_accuracy: 0.3333 - val_loss: 34.4199 - learning_rate: 0.0010\n",
      "Epoch 5/5\n",
      "\u001b[1m1/1\u001b[0m \u001b[32m━━━━━━━━━━━━━━━━━━━━\u001b[0m\u001b[37m\u001b[0m \u001b[1m0s\u001b[0m 40ms/step - accuracy: 0.7794 - loss: 34.1141 - val_accuracy: 0.2778 - val_loss: 31.7580 - learning_rate: 0.0010\n",
      "\n",
      "\n",
      "\u001b[1m1/1\u001b[0m \u001b[32m━━━━━━━━━━━━━━━━━━━━\u001b[0m\u001b[37m\u001b[0m \u001b[1m1s\u001b[0m 561ms/step - accuracy: 0.5000 - loss: 31.6425\n",
      "\n",
      "\n",
      "Adding metadata with 3 columns\n"
     ]
    },
    {
     "name": "stderr",
     "output_type": "stream",
     "text": [
      "/home/arazzz/anaconda3/envs/moabb_model_optimization/lib/python3.11/site-packages/keras/src/layers/convolutional/base_conv.py:99: UserWarning: Do not pass an `input_shape`/`input_dim` argument to a layer. When using Sequential models, prefer using an `Input(shape)` object as the first layer in the model instead.\n",
      "  super().__init__(\n"
     ]
    },
    {
     "name": "stdout",
     "output_type": "stream",
     "text": [
      "Epoch 1/5\n",
      "\u001b[1m1/1\u001b[0m \u001b[32m━━━━━━━━━━━━━━━━━━━━\u001b[0m\u001b[37m\u001b[0m \u001b[1m4s\u001b[0m 4s/step - accuracy: 0.4706 - loss: 106.9578 - val_accuracy: 0.4444 - val_loss: 86.2884 - learning_rate: 0.0010\n",
      "Epoch 2/5\n",
      "\u001b[1m1/1\u001b[0m \u001b[32m━━━━━━━━━━━━━━━━━━━━\u001b[0m\u001b[37m\u001b[0m \u001b[1m0s\u001b[0m 50ms/step - accuracy: 0.6618 - loss: 86.0826 - val_accuracy: 0.4444 - val_loss: 75.0107 - learning_rate: 0.0010\n",
      "Epoch 3/5\n",
      "\u001b[1m1/1\u001b[0m \u001b[32m━━━━━━━━━━━━━━━━━━━━\u001b[0m\u001b[37m\u001b[0m \u001b[1m0s\u001b[0m 44ms/step - accuracy: 0.7941 - loss: 74.7181 - val_accuracy: 0.4444 - val_loss: 66.7035 - learning_rate: 0.0010\n",
      "Epoch 4/5\n",
      "\u001b[1m1/1\u001b[0m \u001b[32m━━━━━━━━━━━━━━━━━━━━\u001b[0m\u001b[37m\u001b[0m \u001b[1m0s\u001b[0m 45ms/step - accuracy: 0.8676 - loss: 66.3795 - val_accuracy: 0.3889 - val_loss: 60.0611 - learning_rate: 0.0010\n",
      "Epoch 5/5\n",
      "\u001b[1m1/1\u001b[0m \u001b[32m━━━━━━━━━━━━━━━━━━━━\u001b[0m\u001b[37m\u001b[0m \u001b[1m0s\u001b[0m 45ms/step - accuracy: 0.9118 - loss: 59.6304 - val_accuracy: 0.5000 - val_loss: 54.4063 - learning_rate: 0.0010\n",
      "\n",
      "\n",
      "\u001b[1m1/1\u001b[0m \u001b[32m━━━━━━━━━━━━━━━━━━━━\u001b[0m\u001b[37m\u001b[0m \u001b[1m1s\u001b[0m 622ms/step - accuracy: 0.5000 - loss: 54.3286\n",
      "\n",
      "\n",
      "Adding metadata with 3 columns\n"
     ]
    },
    {
     "name": "stderr",
     "output_type": "stream",
     "text": [
      "/home/arazzz/anaconda3/envs/moabb_model_optimization/lib/python3.11/site-packages/keras/src/layers/convolutional/base_conv.py:99: UserWarning: Do not pass an `input_shape`/`input_dim` argument to a layer. When using Sequential models, prefer using an `Input(shape)` object as the first layer in the model instead.\n",
      "  super().__init__(\n"
     ]
    },
    {
     "name": "stdout",
     "output_type": "stream",
     "text": [
      "Epoch 1/5\n",
      "\u001b[1m1/1\u001b[0m \u001b[32m━━━━━━━━━━━━━━━━━━━━\u001b[0m\u001b[37m\u001b[0m \u001b[1m3s\u001b[0m 3s/step - accuracy: 0.4706 - loss: 58.5218 - val_accuracy: 0.5556 - val_loss: 46.6017 - learning_rate: 0.0010\n",
      "Epoch 2/5\n",
      "\u001b[1m1/1\u001b[0m \u001b[32m━━━━━━━━━━━━━━━━━━━━\u001b[0m\u001b[37m\u001b[0m \u001b[1m0s\u001b[0m 41ms/step - accuracy: 0.6765 - loss: 46.5241 - val_accuracy: 0.5000 - val_loss: 41.9585 - learning_rate: 0.0010\n",
      "Epoch 3/5\n",
      "\u001b[1m1/1\u001b[0m \u001b[32m━━━━━━━━━━━━━━━━━━━━\u001b[0m\u001b[37m\u001b[0m \u001b[1m0s\u001b[0m 37ms/step - accuracy: 0.7059 - loss: 41.8190 - val_accuracy: 0.5556 - val_loss: 38.4226 - learning_rate: 0.0010\n",
      "Epoch 4/5\n",
      "\u001b[1m1/1\u001b[0m \u001b[32m━━━━━━━━━━━━━━━━━━━━\u001b[0m\u001b[37m\u001b[0m \u001b[1m0s\u001b[0m 36ms/step - accuracy: 0.8235 - loss: 38.1310 - val_accuracy: 0.5000 - val_loss: 35.5272 - learning_rate: 0.0010\n",
      "Epoch 5/5\n",
      "\u001b[1m1/1\u001b[0m \u001b[32m━━━━━━━━━━━━━━━━━━━━\u001b[0m\u001b[37m\u001b[0m \u001b[1m0s\u001b[0m 36ms/step - accuracy: 0.7647 - loss: 35.2344 - val_accuracy: 0.4444 - val_loss: 32.9984 - learning_rate: 0.0010\n",
      "\n",
      "\n",
      "\u001b[1m1/1\u001b[0m \u001b[32m━━━━━━━━━━━━━━━━━━━━\u001b[0m\u001b[37m\u001b[0m \u001b[1m1s\u001b[0m 551ms/step - accuracy: 0.5455 - loss: 33.0059\n",
      "\n",
      "\n",
      "Adding metadata with 3 columns\n",
      "Epoch 1/5\n"
     ]
    },
    {
     "name": "stderr",
     "output_type": "stream",
     "text": [
      "/home/arazzz/anaconda3/envs/moabb_model_optimization/lib/python3.11/site-packages/keras/src/layers/convolutional/base_conv.py:99: UserWarning: Do not pass an `input_shape`/`input_dim` argument to a layer. When using Sequential models, prefer using an `Input(shape)` object as the first layer in the model instead.\n",
      "  super().__init__(\n"
     ]
    },
    {
     "name": "stdout",
     "output_type": "stream",
     "text": [
      "\u001b[1m3/3\u001b[0m \u001b[32m━━━━━━━━━━━━━━━━━━━━\u001b[0m\u001b[37m\u001b[0m \u001b[1m4s\u001b[0m 962ms/step - accuracy: 0.5680 - loss: 76.9686 - val_accuracy: 0.6111 - val_loss: 52.8109 - learning_rate: 0.0010\n",
      "Epoch 2/5\n",
      "\u001b[1m3/3\u001b[0m \u001b[32m━━━━━━━━━━━━━━━━━━━━\u001b[0m\u001b[37m\u001b[0m \u001b[1m0s\u001b[0m 18ms/step - accuracy: 0.7695 - loss: 49.2984 - val_accuracy: 0.6667 - val_loss: 38.9373 - learning_rate: 0.0010\n",
      "Epoch 3/5\n",
      "\u001b[1m3/3\u001b[0m \u001b[32m━━━━━━━━━━━━━━━━━━━━\u001b[0m\u001b[37m\u001b[0m \u001b[1m0s\u001b[0m 18ms/step - accuracy: 0.8601 - loss: 36.4740 - val_accuracy: 0.5556 - val_loss: 29.7753 - learning_rate: 0.0010\n",
      "Epoch 4/5\n",
      "\u001b[1m3/3\u001b[0m \u001b[32m━━━━━━━━━━━━━━━━━━━━\u001b[0m\u001b[37m\u001b[0m \u001b[1m0s\u001b[0m 17ms/step - accuracy: 0.9207 - loss: 27.7720 - val_accuracy: 0.6111 - val_loss: 22.9458 - learning_rate: 0.0010\n",
      "Epoch 5/5\n",
      "\u001b[1m3/3\u001b[0m \u001b[32m━━━━━━━━━━━━━━━━━━━━\u001b[0m\u001b[37m\u001b[0m \u001b[1m0s\u001b[0m 18ms/step - accuracy: 0.9775 - loss: 21.3843 - val_accuracy: 0.5556 - val_loss: 17.9782 - learning_rate: 0.0010\n",
      "\n",
      "\n",
      "\u001b[1m1/1\u001b[0m \u001b[32m━━━━━━━━━━━━━━━━━━━━\u001b[0m\u001b[37m\u001b[0m \u001b[1m1s\u001b[0m 610ms/step - accuracy: 0.5455 - loss: 18.0900\n",
      "\n",
      "\n",
      "Adding metadata with 3 columns\n"
     ]
    },
    {
     "name": "stderr",
     "output_type": "stream",
     "text": [
      "/home/arazzz/anaconda3/envs/moabb_model_optimization/lib/python3.11/site-packages/keras/src/layers/convolutional/base_conv.py:99: UserWarning: Do not pass an `input_shape`/`input_dim` argument to a layer. When using Sequential models, prefer using an `Input(shape)` object as the first layer in the model instead.\n",
      "  super().__init__(\n"
     ]
    },
    {
     "name": "stdout",
     "output_type": "stream",
     "text": [
      "Epoch 1/5\n",
      "\u001b[1m1/1\u001b[0m \u001b[32m━━━━━━━━━━━━━━━━━━━━\u001b[0m\u001b[37m\u001b[0m \u001b[1m2s\u001b[0m 2s/step - accuracy: 0.4412 - loss: 21.8103 - val_accuracy: 0.5556 - val_loss: 17.9772 - learning_rate: 0.0010\n",
      "Epoch 2/5\n",
      "\u001b[1m1/1\u001b[0m \u001b[32m━━━━━━━━━━━━━━━━━━━━\u001b[0m\u001b[37m\u001b[0m \u001b[1m0s\u001b[0m 34ms/step - accuracy: 0.5441 - loss: 17.9282 - val_accuracy: 0.5556 - val_loss: 16.6150 - learning_rate: 0.0010\n",
      "Epoch 3/5\n",
      "\u001b[1m1/1\u001b[0m \u001b[32m━━━━━━━━━━━━━━━━━━━━\u001b[0m\u001b[37m\u001b[0m \u001b[1m0s\u001b[0m 31ms/step - accuracy: 0.6029 - loss: 16.6362 - val_accuracy: 0.5556 - val_loss: 15.5741 - learning_rate: 0.0010\n",
      "Epoch 4/5\n",
      "\u001b[1m1/1\u001b[0m \u001b[32m━━━━━━━━━━━━━━━━━━━━\u001b[0m\u001b[37m\u001b[0m \u001b[1m0s\u001b[0m 29ms/step - accuracy: 0.5882 - loss: 15.6271 - val_accuracy: 0.6111 - val_loss: 14.7099 - learning_rate: 0.0010\n",
      "Epoch 5/5\n",
      "\u001b[1m1/1\u001b[0m \u001b[32m━━━━━━━━━━━━━━━━━━━━\u001b[0m\u001b[37m\u001b[0m \u001b[1m0s\u001b[0m 27ms/step - accuracy: 0.5294 - loss: 14.7902 - val_accuracy: 0.6111 - val_loss: 13.9690 - learning_rate: 0.0010\n",
      "\n",
      "\n",
      "\u001b[1m1/1\u001b[0m \u001b[32m━━━━━━━━━━━━━━━━━━━━\u001b[0m\u001b[37m\u001b[0m \u001b[1m0s\u001b[0m 485ms/step - accuracy: 0.5455 - loss: 14.0251\n",
      "\n",
      "\n",
      "Sampling frequency of the instance is already 300.0, returning unmodified.\n",
      "Adding metadata with 3 columns\n",
      "Epoch 1/5\n"
     ]
    },
    {
     "name": "stderr",
     "output_type": "stream",
     "text": [
      "/home/arazzz/anaconda3/envs/moabb_model_optimization/lib/python3.11/site-packages/keras/src/layers/convolutional/base_conv.py:99: UserWarning: Do not pass an `input_shape`/`input_dim` argument to a layer. When using Sequential models, prefer using an `Input(shape)` object as the first layer in the model instead.\n",
      "  super().__init__(\n"
     ]
    },
    {
     "name": "stdout",
     "output_type": "stream",
     "text": [
      "\u001b[1m1/1\u001b[0m \u001b[32m━━━━━━━━━━━━━━━━━━━━\u001b[0m\u001b[37m\u001b[0m \u001b[1m3s\u001b[0m 3s/step - accuracy: 0.5000 - loss: 35.2675 - val_accuracy: 0.5000 - val_loss: 27.6924 - learning_rate: 0.0010\n",
      "Epoch 2/5\n",
      "\u001b[1m1/1\u001b[0m \u001b[32m━━━━━━━━━━━━━━━━━━━━\u001b[0m\u001b[37m\u001b[0m \u001b[1m0s\u001b[0m 43ms/step - accuracy: 0.5294 - loss: 27.7555 - val_accuracy: 0.4444 - val_loss: 25.1182 - learning_rate: 0.0010\n",
      "Epoch 3/5\n",
      "\u001b[1m1/1\u001b[0m \u001b[32m━━━━━━━━━━━━━━━━━━━━\u001b[0m\u001b[37m\u001b[0m \u001b[1m0s\u001b[0m 37ms/step - accuracy: 0.5294 - loss: 25.2771 - val_accuracy: 0.3889 - val_loss: 23.1926 - learning_rate: 0.0010\n",
      "Epoch 4/5\n",
      "\u001b[1m1/1\u001b[0m \u001b[32m━━━━━━━━━━━━━━━━━━━━\u001b[0m\u001b[37m\u001b[0m \u001b[1m0s\u001b[0m 39ms/step - accuracy: 0.6618 - loss: 23.1870 - val_accuracy: 0.5556 - val_loss: 21.6007 - learning_rate: 0.0010\n",
      "Epoch 5/5\n",
      "\u001b[1m1/1\u001b[0m \u001b[32m━━━━━━━━━━━━━━━━━━━━\u001b[0m\u001b[37m\u001b[0m \u001b[1m0s\u001b[0m 35ms/step - accuracy: 0.5735 - loss: 21.7127 - val_accuracy: 0.6111 - val_loss: 20.2223 - learning_rate: 0.0010\n",
      "\n",
      "\n",
      "\u001b[1m1/1\u001b[0m \u001b[32m━━━━━━━━━━━━━━━━━━━━\u001b[0m\u001b[37m\u001b[0m \u001b[1m1s\u001b[0m 598ms/step - accuracy: 0.4091 - loss: 20.3412\n",
      "\n",
      "\n",
      "Adding metadata with 3 columns\n",
      "Epoch 1/5\n"
     ]
    },
    {
     "name": "stderr",
     "output_type": "stream",
     "text": [
      "/home/arazzz/anaconda3/envs/moabb_model_optimization/lib/python3.11/site-packages/keras/src/layers/convolutional/base_conv.py:99: UserWarning: Do not pass an `input_shape`/`input_dim` argument to a layer. When using Sequential models, prefer using an `Input(shape)` object as the first layer in the model instead.\n",
      "  super().__init__(\n"
     ]
    },
    {
     "name": "stdout",
     "output_type": "stream",
     "text": [
      "\u001b[1m1/1\u001b[0m \u001b[32m━━━━━━━━━━━━━━━━━━━━\u001b[0m\u001b[37m\u001b[0m \u001b[1m3s\u001b[0m 3s/step - accuracy: 0.4853 - loss: 111.6842 - val_accuracy: 0.2222 - val_loss: 91.5935 - learning_rate: 0.0010\n",
      "Epoch 2/5\n",
      "\u001b[1m1/1\u001b[0m \u001b[32m━━━━━━━━━━━━━━━━━━━━\u001b[0m\u001b[37m\u001b[0m \u001b[1m0s\u001b[0m 50ms/step - accuracy: 0.5735 - loss: 91.5723 - val_accuracy: 0.3333 - val_loss: 81.4647 - learning_rate: 0.0010\n",
      "Epoch 3/5\n",
      "\u001b[1m1/1\u001b[0m \u001b[32m━━━━━━━━━━━━━━━━━━━━\u001b[0m\u001b[37m\u001b[0m \u001b[1m0s\u001b[0m 37ms/step - accuracy: 0.6029 - loss: 81.4919 - val_accuracy: 0.3889 - val_loss: 73.8794 - learning_rate: 0.0010\n",
      "Epoch 4/5\n",
      "\u001b[1m1/1\u001b[0m \u001b[32m━━━━━━━━━━━━━━━━━━━━\u001b[0m\u001b[37m\u001b[0m \u001b[1m0s\u001b[0m 37ms/step - accuracy: 0.5588 - loss: 73.7952 - val_accuracy: 0.3889 - val_loss: 67.6804 - learning_rate: 0.0010\n",
      "Epoch 5/5\n",
      "\u001b[1m1/1\u001b[0m \u001b[32m━━━━━━━━━━━━━━━━━━━━\u001b[0m\u001b[37m\u001b[0m \u001b[1m0s\u001b[0m 36ms/step - accuracy: 0.6029 - loss: 67.6139 - val_accuracy: 0.3889 - val_loss: 62.3825 - learning_rate: 0.0010\n",
      "\n",
      "\n",
      "\u001b[1m1/1\u001b[0m \u001b[32m━━━━━━━━━━━━━━━━━━━━\u001b[0m\u001b[37m\u001b[0m \u001b[1m1s\u001b[0m 534ms/step - accuracy: 0.2273 - loss: 62.4458\n",
      "\n",
      "\n",
      "Adding metadata with 3 columns\n",
      "Epoch 1/5\n"
     ]
    },
    {
     "name": "stderr",
     "output_type": "stream",
     "text": [
      "/home/arazzz/anaconda3/envs/moabb_model_optimization/lib/python3.11/site-packages/keras/src/layers/convolutional/base_conv.py:99: UserWarning: Do not pass an `input_shape`/`input_dim` argument to a layer. When using Sequential models, prefer using an `Input(shape)` object as the first layer in the model instead.\n",
      "  super().__init__(\n"
     ]
    },
    {
     "name": "stdout",
     "output_type": "stream",
     "text": [
      "\u001b[1m1/1\u001b[0m \u001b[32m━━━━━━━━━━━━━━━━━━━━\u001b[0m\u001b[37m\u001b[0m \u001b[1m3s\u001b[0m 3s/step - accuracy: 0.5441 - loss: 50.9000 - val_accuracy: 0.4444 - val_loss: 40.2143 - learning_rate: 0.0010\n",
      "Epoch 2/5\n",
      "\u001b[1m1/1\u001b[0m \u001b[32m━━━━━━━━━━━━━━━━━━━━\u001b[0m\u001b[37m\u001b[0m \u001b[1m0s\u001b[0m 33ms/step - accuracy: 0.5882 - loss: 40.1069 - val_accuracy: 0.3333 - val_loss: 35.7501 - learning_rate: 0.0010\n",
      "Epoch 3/5\n",
      "\u001b[1m1/1\u001b[0m \u001b[32m━━━━━━━━━━━━━━━━━━━━\u001b[0m\u001b[37m\u001b[0m \u001b[1m0s\u001b[0m 31ms/step - accuracy: 0.6029 - loss: 35.6665 - val_accuracy: 0.3889 - val_loss: 32.4150 - learning_rate: 0.0010\n",
      "Epoch 4/5\n",
      "\u001b[1m1/1\u001b[0m \u001b[32m━━━━━━━━━━━━━━━━━━━━\u001b[0m\u001b[37m\u001b[0m \u001b[1m0s\u001b[0m 28ms/step - accuracy: 0.7059 - loss: 32.2179 - val_accuracy: 0.4444 - val_loss: 29.7012 - learning_rate: 0.0010\n",
      "Epoch 5/5\n",
      "\u001b[1m1/1\u001b[0m \u001b[32m━━━━━━━━━━━━━━━━━━━━\u001b[0m\u001b[37m\u001b[0m \u001b[1m0s\u001b[0m 27ms/step - accuracy: 0.7059 - loss: 29.5503 - val_accuracy: 0.3889 - val_loss: 27.3941 - learning_rate: 0.0010\n",
      "\n",
      "\n",
      "\u001b[1m1/1\u001b[0m \u001b[32m━━━━━━━━━━━━━━━━━━━━\u001b[0m\u001b[37m\u001b[0m \u001b[1m1s\u001b[0m 588ms/step - accuracy: 0.5000 - loss: 27.3684\n",
      "\n",
      "\n",
      "Sampling frequency of the instance is already 300.0, returning unmodified.\n",
      "Adding metadata with 3 columns\n",
      "Epoch 1/5\n"
     ]
    },
    {
     "name": "stderr",
     "output_type": "stream",
     "text": [
      "/home/arazzz/anaconda3/envs/moabb_model_optimization/lib/python3.11/site-packages/keras/src/layers/convolutional/base_conv.py:99: UserWarning: Do not pass an `input_shape`/`input_dim` argument to a layer. When using Sequential models, prefer using an `Input(shape)` object as the first layer in the model instead.\n",
      "  super().__init__(\n"
     ]
    },
    {
     "name": "stdout",
     "output_type": "stream",
     "text": [
      "\u001b[1m1/1\u001b[0m \u001b[32m━━━━━━━━━━━━━━━━━━━━\u001b[0m\u001b[37m\u001b[0m \u001b[1m3s\u001b[0m 3s/step - accuracy: 0.5441 - loss: 128.2938 - val_accuracy: 0.2778 - val_loss: 104.6237 - learning_rate: 0.0010\n",
      "Epoch 2/5\n",
      "\u001b[1m1/1\u001b[0m \u001b[32m━━━━━━━━━━━━━━━━━━━━\u001b[0m\u001b[37m\u001b[0m \u001b[1m0s\u001b[0m 55ms/step - accuracy: 0.5294 - loss: 104.6175 - val_accuracy: 0.4444 - val_loss: 91.1344 - learning_rate: 0.0010\n",
      "Epoch 3/5\n",
      "\u001b[1m1/1\u001b[0m \u001b[32m━━━━━━━━━━━━━━━━━━━━\u001b[0m\u001b[37m\u001b[0m \u001b[1m0s\u001b[0m 49ms/step - accuracy: 0.6324 - loss: 91.0178 - val_accuracy: 0.5000 - val_loss: 81.1433 - learning_rate: 0.0010\n",
      "Epoch 4/5\n",
      "\u001b[1m1/1\u001b[0m \u001b[32m━━━━━━━━━━━━━━━━━━━━\u001b[0m\u001b[37m\u001b[0m \u001b[1m0s\u001b[0m 50ms/step - accuracy: 0.7206 - loss: 80.9266 - val_accuracy: 0.5556 - val_loss: 73.1473 - learning_rate: 0.0010\n",
      "Epoch 5/5\n",
      "\u001b[1m1/1\u001b[0m \u001b[32m━━━━━━━━━━━━━━━━━━━━\u001b[0m\u001b[37m\u001b[0m \u001b[1m0s\u001b[0m 49ms/step - accuracy: 0.6471 - loss: 72.9866 - val_accuracy: 0.5556 - val_loss: 66.3965 - learning_rate: 0.0010\n",
      "\n",
      "\n",
      "\u001b[1m1/1\u001b[0m \u001b[32m━━━━━━━━━━━━━━━━━━━━\u001b[0m\u001b[37m\u001b[0m \u001b[1m1s\u001b[0m 573ms/step - accuracy: 0.6364 - loss: 66.3750\n",
      "\n",
      "\n",
      "Adding metadata with 3 columns\n",
      "Epoch 1/5\n"
     ]
    },
    {
     "name": "stderr",
     "output_type": "stream",
     "text": [
      "/home/arazzz/anaconda3/envs/moabb_model_optimization/lib/python3.11/site-packages/keras/src/layers/convolutional/base_conv.py:99: UserWarning: Do not pass an `input_shape`/`input_dim` argument to a layer. When using Sequential models, prefer using an `Input(shape)` object as the first layer in the model instead.\n",
      "  super().__init__(\n"
     ]
    },
    {
     "name": "stdout",
     "output_type": "stream",
     "text": [
      "\u001b[1m2/2\u001b[0m \u001b[32m━━━━━━━━━━━━━━━━━━━━\u001b[0m\u001b[37m\u001b[0m \u001b[1m5s\u001b[0m 2s/step - accuracy: 0.4452 - loss: 42.5815 - val_accuracy: 0.4444 - val_loss: 31.2262 - learning_rate: 0.0010\n",
      "Epoch 2/5\n",
      "\u001b[1m2/2\u001b[0m \u001b[32m━━━━━━━━━━━━━━━━━━━━\u001b[0m\u001b[37m\u001b[0m \u001b[1m0s\u001b[0m 18ms/step - accuracy: 0.6749 - loss: 30.0953 - val_accuracy: 0.6111 - val_loss: 25.8068 - learning_rate: 0.0010\n",
      "Epoch 3/5\n",
      "\u001b[1m2/2\u001b[0m \u001b[32m━━━━━━━━━━━━━━━━━━━━\u001b[0m\u001b[37m\u001b[0m \u001b[1m0s\u001b[0m 18ms/step - accuracy: 0.7102 - loss: 25.0135 - val_accuracy: 0.4444 - val_loss: 22.0052 - learning_rate: 0.0010\n",
      "Epoch 4/5\n",
      "\u001b[1m2/2\u001b[0m \u001b[32m━━━━━━━━━━━━━━━━━━━━\u001b[0m\u001b[37m\u001b[0m \u001b[1m0s\u001b[0m 19ms/step - accuracy: 0.7748 - loss: 21.2726 - val_accuracy: 0.3333 - val_loss: 18.9856 - learning_rate: 0.0010\n",
      "Epoch 5/5\n",
      "\u001b[1m2/2\u001b[0m \u001b[32m━━━━━━━━━━━━━━━━━━━━\u001b[0m\u001b[37m\u001b[0m \u001b[1m0s\u001b[0m 19ms/step - accuracy: 0.7448 - loss: 18.3690 - val_accuracy: 0.5000 - val_loss: 16.5664 - learning_rate: 0.0010\n",
      "\n",
      "\n",
      "\u001b[1m1/1\u001b[0m \u001b[32m━━━━━━━━━━━━━━━━━━━━\u001b[0m\u001b[37m\u001b[0m \u001b[1m1s\u001b[0m 605ms/step - accuracy: 0.5000 - loss: 16.5660\n",
      "\n",
      "\n",
      "Adding metadata with 3 columns\n"
     ]
    },
    {
     "name": "stderr",
     "output_type": "stream",
     "text": [
      "/home/arazzz/anaconda3/envs/moabb_model_optimization/lib/python3.11/site-packages/keras/src/layers/convolutional/base_conv.py:99: UserWarning: Do not pass an `input_shape`/`input_dim` argument to a layer. When using Sequential models, prefer using an `Input(shape)` object as the first layer in the model instead.\n",
      "  super().__init__(\n"
     ]
    },
    {
     "name": "stdout",
     "output_type": "stream",
     "text": [
      "Epoch 1/5\n",
      "\u001b[1m1/1\u001b[0m \u001b[32m━━━━━━━━━━━━━━━━━━━━\u001b[0m\u001b[37m\u001b[0m \u001b[1m3s\u001b[0m 3s/step - accuracy: 0.5588 - loss: 118.9276 - val_accuracy: 0.3333 - val_loss: 97.3807 - learning_rate: 0.0010\n",
      "Epoch 2/5\n",
      "\u001b[1m1/1\u001b[0m \u001b[32m━━━━━━━━━━━━━━━━━━━━\u001b[0m\u001b[37m\u001b[0m \u001b[1m0s\u001b[0m 47ms/step - accuracy: 0.6618 - loss: 97.1194 - val_accuracy: 0.3333 - val_loss: 85.3556 - learning_rate: 0.0010\n",
      "Epoch 3/5\n",
      "\u001b[1m1/1\u001b[0m \u001b[32m━━━━━━━━━━━━━━━━━━━━\u001b[0m\u001b[37m\u001b[0m \u001b[1m0s\u001b[0m 40ms/step - accuracy: 0.8971 - loss: 84.8364 - val_accuracy: 0.3333 - val_loss: 76.3292 - learning_rate: 0.0010\n",
      "Epoch 4/5\n",
      "\u001b[1m1/1\u001b[0m \u001b[32m━━━━━━━━━━━━━━━━━━━━\u001b[0m\u001b[37m\u001b[0m \u001b[1m0s\u001b[0m 39ms/step - accuracy: 0.9265 - loss: 75.8333 - val_accuracy: 0.5556 - val_loss: 69.1333 - learning_rate: 0.0010\n",
      "Epoch 5/5\n",
      "\u001b[1m1/1\u001b[0m \u001b[32m━━━━━━━━━━━━━━━━━━━━\u001b[0m\u001b[37m\u001b[0m \u001b[1m0s\u001b[0m 39ms/step - accuracy: 0.9118 - loss: 68.5632 - val_accuracy: 0.4444 - val_loss: 63.0099 - learning_rate: 0.0010\n",
      "\n",
      "\n",
      "\u001b[1m1/1\u001b[0m \u001b[32m━━━━━━━━━━━━━━━━━━━━\u001b[0m\u001b[37m\u001b[0m \u001b[1m1s\u001b[0m 643ms/step - accuracy: 0.4545 - loss: 62.9196\n",
      "\n",
      "\n",
      "Sampling frequency of the instance is already 300.0, returning unmodified.\n",
      "Adding metadata with 3 columns\n"
     ]
    },
    {
     "name": "stderr",
     "output_type": "stream",
     "text": [
      "/home/arazzz/anaconda3/envs/moabb_model_optimization/lib/python3.11/site-packages/keras/src/layers/convolutional/base_conv.py:99: UserWarning: Do not pass an `input_shape`/`input_dim` argument to a layer. When using Sequential models, prefer using an `Input(shape)` object as the first layer in the model instead.\n",
      "  super().__init__(\n"
     ]
    },
    {
     "name": "stdout",
     "output_type": "stream",
     "text": [
      "Epoch 1/5\n",
      "\u001b[1m1/1\u001b[0m \u001b[32m━━━━━━━━━━━━━━━━━━━━\u001b[0m\u001b[37m\u001b[0m \u001b[1m3s\u001b[0m 3s/step - accuracy: 0.5441 - loss: 172.0230 - val_accuracy: 0.5000 - val_loss: 142.0068 - learning_rate: 0.0010\n",
      "Epoch 2/5\n",
      "\u001b[1m1/1\u001b[0m \u001b[32m━━━━━━━━━━━━━━━━━━━━\u001b[0m\u001b[37m\u001b[0m \u001b[1m0s\u001b[0m 48ms/step - accuracy: 0.8529 - loss: 141.6357 - val_accuracy: 0.5000 - val_loss: 124.5925 - learning_rate: 0.0010\n",
      "Epoch 3/5\n",
      "\u001b[1m1/1\u001b[0m \u001b[32m━━━━━━━━━━━━━━━━━━━━\u001b[0m\u001b[37m\u001b[0m \u001b[1m0s\u001b[0m 44ms/step - accuracy: 0.7941 - loss: 124.0948 - val_accuracy: 0.5000 - val_loss: 112.4257 - learning_rate: 0.0010\n",
      "Epoch 4/5\n",
      "\u001b[1m1/1\u001b[0m \u001b[32m━━━━━━━━━━━━━━━━━━━━\u001b[0m\u001b[37m\u001b[0m \u001b[1m0s\u001b[0m 43ms/step - accuracy: 0.7206 - loss: 111.0970 - val_accuracy: 0.5000 - val_loss: 101.3699 - learning_rate: 0.0010\n",
      "Epoch 5/5\n",
      "\u001b[1m1/1\u001b[0m \u001b[32m━━━━━━━━━━━━━━━━━━━━\u001b[0m\u001b[37m\u001b[0m \u001b[1m0s\u001b[0m 42ms/step - accuracy: 0.8824 - loss: 100.4501 - val_accuracy: 0.5000 - val_loss: 92.3156 - learning_rate: 0.0010\n",
      "\n",
      "\n",
      "\u001b[1m1/1\u001b[0m \u001b[32m━━━━━━━━━━━━━━━━━━━━\u001b[0m\u001b[37m\u001b[0m \u001b[1m1s\u001b[0m 609ms/step - accuracy: 0.5000 - loss: 92.2831\n",
      "\n",
      "\n",
      "Adding metadata with 3 columns\n",
      "Epoch 1/5\n"
     ]
    },
    {
     "name": "stderr",
     "output_type": "stream",
     "text": [
      "/home/arazzz/anaconda3/envs/moabb_model_optimization/lib/python3.11/site-packages/keras/src/layers/convolutional/base_conv.py:99: UserWarning: Do not pass an `input_shape`/`input_dim` argument to a layer. When using Sequential models, prefer using an `Input(shape)` object as the first layer in the model instead.\n",
      "  super().__init__(\n"
     ]
    },
    {
     "name": "stdout",
     "output_type": "stream",
     "text": [
      "\u001b[1m3/3\u001b[0m \u001b[32m━━━━━━━━━━━━━━━━━━━━\u001b[0m\u001b[37m\u001b[0m \u001b[1m4s\u001b[0m 961ms/step - accuracy: 0.5122 - loss: 82.2589 - val_accuracy: 0.5556 - val_loss: 59.9477 - learning_rate: 0.0010\n",
      "Epoch 2/5\n",
      "\u001b[1m3/3\u001b[0m \u001b[32m━━━━━━━━━━━━━━━━━━━━\u001b[0m\u001b[37m\u001b[0m \u001b[1m0s\u001b[0m 12ms/step - accuracy: 0.6330 - loss: 56.8239 - val_accuracy: 0.5000 - val_loss: 46.7585 - learning_rate: 0.0010\n",
      "Epoch 3/5\n",
      "\u001b[1m3/3\u001b[0m \u001b[32m━━━━━━━━━━━━━━━━━━━━\u001b[0m\u001b[37m\u001b[0m \u001b[1m0s\u001b[0m 12ms/step - accuracy: 0.7803 - loss: 44.5943 - val_accuracy: 0.6111 - val_loss: 37.6193 - learning_rate: 0.0010\n",
      "Epoch 4/5\n",
      "\u001b[1m3/3\u001b[0m \u001b[32m━━━━━━━━━━━━━━━━━━━━\u001b[0m\u001b[37m\u001b[0m \u001b[1m0s\u001b[0m 13ms/step - accuracy: 0.7275 - loss: 36.0013 - val_accuracy: 0.5000 - val_loss: 30.8212 - learning_rate: 0.0010\n",
      "Epoch 5/5\n",
      "\u001b[1m3/3\u001b[0m \u001b[32m━━━━━━━━━━━━━━━━━━━━\u001b[0m\u001b[37m\u001b[0m \u001b[1m0s\u001b[0m 11ms/step - accuracy: 0.7725 - loss: 29.3160 - val_accuracy: 0.5000 - val_loss: 25.2328 - learning_rate: 0.0010\n",
      "\n",
      "\n",
      "\u001b[1m1/1\u001b[0m \u001b[32m━━━━━━━━━━━━━━━━━━━━\u001b[0m\u001b[37m\u001b[0m \u001b[1m1s\u001b[0m 678ms/step - accuracy: 0.5000 - loss: 25.2715\n",
      "\n",
      "\n",
      "Adding metadata with 3 columns\n",
      "Epoch 1/5\n"
     ]
    },
    {
     "name": "stderr",
     "output_type": "stream",
     "text": [
      "/home/arazzz/anaconda3/envs/moabb_model_optimization/lib/python3.11/site-packages/keras/src/layers/convolutional/base_conv.py:99: UserWarning: Do not pass an `input_shape`/`input_dim` argument to a layer. When using Sequential models, prefer using an `Input(shape)` object as the first layer in the model instead.\n",
      "  super().__init__(\n"
     ]
    },
    {
     "name": "stdout",
     "output_type": "stream",
     "text": [
      "\u001b[1m1/1\u001b[0m \u001b[32m━━━━━━━━━━━━━━━━━━━━\u001b[0m\u001b[37m\u001b[0m \u001b[1m4s\u001b[0m 4s/step - accuracy: 0.5000 - loss: 155.2278 - val_accuracy: 0.6667 - val_loss: 124.2117 - learning_rate: 0.0010\n",
      "Epoch 2/5\n",
      "\u001b[1m1/1\u001b[0m \u001b[32m━━━━━━━━━━━━━━━━━━━━\u001b[0m\u001b[37m\u001b[0m \u001b[1m0s\u001b[0m 58ms/step - accuracy: 0.6176 - loss: 124.2192 - val_accuracy: 0.7222 - val_loss: 105.8365 - learning_rate: 0.0010\n",
      "Epoch 3/5\n",
      "\u001b[1m1/1\u001b[0m \u001b[32m━━━━━━━━━━━━━━━━━━━━\u001b[0m\u001b[37m\u001b[0m \u001b[1m0s\u001b[0m 57ms/step - accuracy: 0.7059 - loss: 105.7631 - val_accuracy: 0.6111 - val_loss: 92.5383 - learning_rate: 0.0010\n",
      "Epoch 4/5\n",
      "\u001b[1m1/1\u001b[0m \u001b[32m━━━━━━━━━━━━━━━━━━━━\u001b[0m\u001b[37m\u001b[0m \u001b[1m0s\u001b[0m 54ms/step - accuracy: 0.8382 - loss: 92.3914 - val_accuracy: 0.6667 - val_loss: 81.9986 - learning_rate: 0.0010\n",
      "Epoch 5/5\n",
      "\u001b[1m1/1\u001b[0m \u001b[32m━━━━━━━━━━━━━━━━━━━━\u001b[0m\u001b[37m\u001b[0m \u001b[1m0s\u001b[0m 55ms/step - accuracy: 0.8529 - loss: 81.8288 - val_accuracy: 0.6111 - val_loss: 73.2831 - learning_rate: 0.0010\n",
      "\n",
      "\n",
      "\u001b[1m1/1\u001b[0m \u001b[32m━━━━━━━━━━━━━━━━━━━━\u001b[0m\u001b[37m\u001b[0m \u001b[1m1s\u001b[0m 694ms/step - accuracy: 0.6364 - loss: 73.3401\n",
      "\n",
      "\n",
      "Adding metadata with 3 columns\n",
      "Epoch 1/5\n"
     ]
    },
    {
     "name": "stderr",
     "output_type": "stream",
     "text": [
      "/home/arazzz/anaconda3/envs/moabb_model_optimization/lib/python3.11/site-packages/keras/src/layers/convolutional/base_conv.py:99: UserWarning: Do not pass an `input_shape`/`input_dim` argument to a layer. When using Sequential models, prefer using an `Input(shape)` object as the first layer in the model instead.\n",
      "  super().__init__(\n"
     ]
    },
    {
     "name": "stdout",
     "output_type": "stream",
     "text": [
      "\u001b[1m1/1\u001b[0m \u001b[32m━━━━━━━━━━━━━━━━━━━━\u001b[0m\u001b[37m\u001b[0m \u001b[1m4s\u001b[0m 4s/step - accuracy: 0.5882 - loss: 160.9697 - val_accuracy: 0.5000 - val_loss: 130.6112 - learning_rate: 0.0010\n",
      "Epoch 2/5\n",
      "\u001b[1m1/1\u001b[0m \u001b[32m━━━━━━━━━━━━━━━━━━━━\u001b[0m\u001b[37m\u001b[0m \u001b[1m0s\u001b[0m 55ms/step - accuracy: 0.6765 - loss: 130.5240 - val_accuracy: 0.5000 - val_loss: 112.5143 - learning_rate: 0.0010\n",
      "Epoch 3/5\n",
      "\u001b[1m1/1\u001b[0m \u001b[32m━━━━━━━━━━━━━━━━━━━━\u001b[0m\u001b[37m\u001b[0m \u001b[1m0s\u001b[0m 50ms/step - accuracy: 0.8235 - loss: 112.3129 - val_accuracy: 0.5000 - val_loss: 99.2211 - learning_rate: 0.0010\n",
      "Epoch 4/5\n",
      "\u001b[1m1/1\u001b[0m \u001b[32m━━━━━━━━━━━━━━━━━━━━\u001b[0m\u001b[37m\u001b[0m \u001b[1m0s\u001b[0m 50ms/step - accuracy: 0.7941 - loss: 99.0453 - val_accuracy: 0.5556 - val_loss: 88.6000 - learning_rate: 0.0010\n",
      "Epoch 5/5\n",
      "\u001b[1m1/1\u001b[0m \u001b[32m━━━━━━━━━━━━━━━━━━━━\u001b[0m\u001b[37m\u001b[0m \u001b[1m0s\u001b[0m 51ms/step - accuracy: 0.8529 - loss: 88.4144 - val_accuracy: 0.6111 - val_loss: 79.7620 - learning_rate: 0.0010\n",
      "\n",
      "\n",
      "\u001b[1m1/1\u001b[0m \u001b[32m━━━━━━━━━━━━━━━━━━━━\u001b[0m\u001b[37m\u001b[0m \u001b[1m1s\u001b[0m 632ms/step - accuracy: 0.5455 - loss: 79.7955\n",
      "\n",
      "\n",
      "Adding metadata with 3 columns\n",
      "Epoch 1/5\n"
     ]
    },
    {
     "name": "stderr",
     "output_type": "stream",
     "text": [
      "/home/arazzz/anaconda3/envs/moabb_model_optimization/lib/python3.11/site-packages/keras/src/layers/convolutional/base_conv.py:99: UserWarning: Do not pass an `input_shape`/`input_dim` argument to a layer. When using Sequential models, prefer using an `Input(shape)` object as the first layer in the model instead.\n",
      "  super().__init__(\n"
     ]
    },
    {
     "name": "stdout",
     "output_type": "stream",
     "text": [
      "\u001b[1m1/1\u001b[0m \u001b[32m━━━━━━━━━━━━━━━━━━━━\u001b[0m\u001b[37m\u001b[0m \u001b[1m4s\u001b[0m 4s/step - accuracy: 0.4118 - loss: 152.3179 - val_accuracy: 0.7222 - val_loss: 122.8438 - learning_rate: 0.0010\n",
      "Epoch 2/5\n",
      "\u001b[1m1/1\u001b[0m \u001b[32m━━━━━━━━━━━━━━━━━━━━\u001b[0m\u001b[37m\u001b[0m \u001b[1m0s\u001b[0m 57ms/step - accuracy: 0.5588 - loss: 122.8685 - val_accuracy: 0.5556 - val_loss: 104.6816 - learning_rate: 0.0010\n",
      "Epoch 3/5\n",
      "\u001b[1m1/1\u001b[0m \u001b[32m━━━━━━━━━━━━━━━━━━━━\u001b[0m\u001b[37m\u001b[0m \u001b[1m0s\u001b[0m 51ms/step - accuracy: 0.7206 - loss: 104.6033 - val_accuracy: 0.7222 - val_loss: 91.5785 - learning_rate: 0.0010\n",
      "Epoch 4/5\n",
      "\u001b[1m1/1\u001b[0m \u001b[32m━━━━━━━━━━━━━━━━━━━━\u001b[0m\u001b[37m\u001b[0m \u001b[1m0s\u001b[0m 51ms/step - accuracy: 0.7647 - loss: 91.4635 - val_accuracy: 0.8333 - val_loss: 81.1851 - learning_rate: 0.0010\n",
      "Epoch 5/5\n",
      "\u001b[1m1/1\u001b[0m \u001b[32m━━━━━━━━━━━━━━━━━━━━\u001b[0m\u001b[37m\u001b[0m \u001b[1m0s\u001b[0m 52ms/step - accuracy: 0.8088 - loss: 81.0627 - val_accuracy: 0.6667 - val_loss: 72.5990 - learning_rate: 0.0010\n",
      "\n",
      "\n",
      "\u001b[1m1/1\u001b[0m \u001b[32m━━━━━━━━━━━━━━━━━━━━\u001b[0m\u001b[37m\u001b[0m \u001b[1m1s\u001b[0m 647ms/step - accuracy: 0.5909 - loss: 72.7073\n",
      "\n",
      "\n",
      "Adding metadata with 3 columns\n",
      "Epoch 1/5\n"
     ]
    },
    {
     "name": "stderr",
     "output_type": "stream",
     "text": [
      "/home/arazzz/anaconda3/envs/moabb_model_optimization/lib/python3.11/site-packages/keras/src/layers/convolutional/base_conv.py:99: UserWarning: Do not pass an `input_shape`/`input_dim` argument to a layer. When using Sequential models, prefer using an `Input(shape)` object as the first layer in the model instead.\n",
      "  super().__init__(\n"
     ]
    },
    {
     "name": "stdout",
     "output_type": "stream",
     "text": [
      "\u001b[1m1/1\u001b[0m \u001b[32m━━━━━━━━━━━━━━━━━━━━\u001b[0m\u001b[37m\u001b[0m \u001b[1m4s\u001b[0m 4s/step - accuracy: 0.5294 - loss: 166.6422 - val_accuracy: 0.5556 - val_loss: 133.2121 - learning_rate: 0.0010\n",
      "Epoch 2/5\n",
      "\u001b[1m1/1\u001b[0m \u001b[32m━━━━━━━━━━━━━━━━━━━━\u001b[0m\u001b[37m\u001b[0m \u001b[1m0s\u001b[0m 61ms/step - accuracy: 0.6765 - loss: 133.1297 - val_accuracy: 0.5556 - val_loss: 112.7706 - learning_rate: 0.0010\n",
      "Epoch 3/5\n",
      "\u001b[1m1/1\u001b[0m \u001b[32m━━━━━━━━━━━━━━━━━━━━\u001b[0m\u001b[37m\u001b[0m \u001b[1m0s\u001b[0m 56ms/step - accuracy: 0.7941 - loss: 112.5788 - val_accuracy: 0.5000 - val_loss: 98.0516 - learning_rate: 0.0010\n",
      "Epoch 4/5\n",
      "\u001b[1m1/1\u001b[0m \u001b[32m━━━━━━━━━━━━━━━━━━━━\u001b[0m\u001b[37m\u001b[0m \u001b[1m0s\u001b[0m 55ms/step - accuracy: 0.7353 - loss: 97.8982 - val_accuracy: 0.6667 - val_loss: 86.4351 - learning_rate: 0.0010\n",
      "Epoch 5/5\n",
      "\u001b[1m1/1\u001b[0m \u001b[32m━━━━━━━━━━━━━━━━━━━━\u001b[0m\u001b[37m\u001b[0m \u001b[1m0s\u001b[0m 55ms/step - accuracy: 0.8382 - loss: 86.2188 - val_accuracy: 0.7222 - val_loss: 76.8279 - learning_rate: 0.0010\n",
      "\n",
      "\n",
      "\u001b[1m1/1\u001b[0m \u001b[32m━━━━━━━━━━━━━━━━━━━━\u001b[0m\u001b[37m\u001b[0m \u001b[1m1s\u001b[0m 652ms/step - accuracy: 0.5909 - loss: 76.9270\n",
      "\n",
      "\n",
      "Adding metadata with 3 columns\n",
      "Epoch 1/5\n"
     ]
    },
    {
     "name": "stderr",
     "output_type": "stream",
     "text": [
      "/home/arazzz/anaconda3/envs/moabb_model_optimization/lib/python3.11/site-packages/keras/src/layers/convolutional/base_conv.py:99: UserWarning: Do not pass an `input_shape`/`input_dim` argument to a layer. When using Sequential models, prefer using an `Input(shape)` object as the first layer in the model instead.\n",
      "  super().__init__(\n"
     ]
    },
    {
     "name": "stdout",
     "output_type": "stream",
     "text": [
      "\u001b[1m1/1\u001b[0m \u001b[32m━━━━━━━━━━━━━━━━━━━━\u001b[0m\u001b[37m\u001b[0m \u001b[1m4s\u001b[0m 4s/step - accuracy: 0.4265 - loss: 136.6852 - val_accuracy: 0.5000 - val_loss: 109.0475 - learning_rate: 0.0010\n",
      "Epoch 2/5\n",
      "\u001b[1m1/1\u001b[0m \u001b[32m━━━━━━━━━━━━━━━━━━━━\u001b[0m\u001b[37m\u001b[0m \u001b[1m0s\u001b[0m 66ms/step - accuracy: 0.7794 - loss: 108.8682 - val_accuracy: 0.5556 - val_loss: 92.0032 - learning_rate: 0.0010\n",
      "Epoch 3/5\n",
      "\u001b[1m1/1\u001b[0m \u001b[32m━━━━━━━━━━━━━━━━━━━━\u001b[0m\u001b[37m\u001b[0m \u001b[1m0s\u001b[0m 62ms/step - accuracy: 0.6912 - loss: 91.8228 - val_accuracy: 0.5556 - val_loss: 79.7725 - learning_rate: 0.0010\n",
      "Epoch 4/5\n",
      "\u001b[1m1/1\u001b[0m \u001b[32m━━━━━━━━━━━━━━━━━━━━\u001b[0m\u001b[37m\u001b[0m \u001b[1m0s\u001b[0m 61ms/step - accuracy: 0.8088 - loss: 79.5400 - val_accuracy: 0.5556 - val_loss: 70.1396 - learning_rate: 0.0010\n",
      "Epoch 5/5\n",
      "\u001b[1m1/1\u001b[0m \u001b[32m━━━━━━━━━━━━━━━━━━━━\u001b[0m\u001b[37m\u001b[0m \u001b[1m0s\u001b[0m 60ms/step - accuracy: 0.7794 - loss: 69.8952 - val_accuracy: 0.5556 - val_loss: 62.3608 - learning_rate: 0.0010\n",
      "\n",
      "\n",
      "\u001b[1m1/1\u001b[0m \u001b[32m━━━━━━━━━━━━━━━━━━━━\u001b[0m\u001b[37m\u001b[0m \u001b[1m1s\u001b[0m 660ms/step - accuracy: 0.5000 - loss: 62.4182\n",
      "\n",
      "\n",
      "Adding metadata with 3 columns\n",
      "Epoch 1/5\n"
     ]
    },
    {
     "name": "stderr",
     "output_type": "stream",
     "text": [
      "/home/arazzz/anaconda3/envs/moabb_model_optimization/lib/python3.11/site-packages/keras/src/layers/convolutional/base_conv.py:99: UserWarning: Do not pass an `input_shape`/`input_dim` argument to a layer. When using Sequential models, prefer using an `Input(shape)` object as the first layer in the model instead.\n",
      "  super().__init__(\n"
     ]
    },
    {
     "name": "stdout",
     "output_type": "stream",
     "text": [
      "\u001b[1m1/1\u001b[0m \u001b[32m━━━━━━━━━━━━━━━━━━━━\u001b[0m\u001b[37m\u001b[0m \u001b[1m5s\u001b[0m 5s/step - accuracy: 0.6176 - loss: 204.8661 - val_accuracy: 0.5556 - val_loss: 158.9947 - learning_rate: 0.0010\n",
      "Epoch 2/5\n",
      "\u001b[1m1/1\u001b[0m \u001b[32m━━━━━━━━━━━━━━━━━━━━\u001b[0m\u001b[37m\u001b[0m \u001b[1m0s\u001b[0m 80ms/step - accuracy: 0.6765 - loss: 158.8376 - val_accuracy: 0.5556 - val_loss: 132.4649 - learning_rate: 0.0010\n",
      "Epoch 3/5\n",
      "\u001b[1m1/1\u001b[0m \u001b[32m━━━━━━━━━━━━━━━━━━━━\u001b[0m\u001b[37m\u001b[0m \u001b[1m0s\u001b[0m 72ms/step - accuracy: 0.7941 - loss: 131.7254 - val_accuracy: 0.6111 - val_loss: 112.7315 - learning_rate: 0.0010\n",
      "Epoch 4/5\n",
      "\u001b[1m1/1\u001b[0m \u001b[32m━━━━━━━━━━━━━━━━━━━━\u001b[0m\u001b[37m\u001b[0m \u001b[1m0s\u001b[0m 73ms/step - accuracy: 0.8824 - loss: 112.4704 - val_accuracy: 0.5556 - val_loss: 97.9920 - learning_rate: 0.0010\n",
      "Epoch 5/5\n",
      "\u001b[1m1/1\u001b[0m \u001b[32m━━━━━━━━━━━━━━━━━━━━\u001b[0m\u001b[37m\u001b[0m \u001b[1m0s\u001b[0m 74ms/step - accuracy: 0.9706 - loss: 97.4171 - val_accuracy: 0.5556 - val_loss: 85.7723 - learning_rate: 0.0010\n",
      "\n",
      "\n",
      "\u001b[1m1/1\u001b[0m \u001b[32m━━━━━━━━━━━━━━━━━━━━\u001b[0m\u001b[37m\u001b[0m \u001b[1m1s\u001b[0m 779ms/step - accuracy: 0.5455 - loss: 85.7066\n",
      "\n",
      "\n",
      "Adding metadata with 3 columns\n",
      "Epoch 1/5\n"
     ]
    },
    {
     "name": "stderr",
     "output_type": "stream",
     "text": [
      "/home/arazzz/anaconda3/envs/moabb_model_optimization/lib/python3.11/site-packages/keras/src/layers/convolutional/base_conv.py:99: UserWarning: Do not pass an `input_shape`/`input_dim` argument to a layer. When using Sequential models, prefer using an `Input(shape)` object as the first layer in the model instead.\n",
      "  super().__init__(\n"
     ]
    },
    {
     "name": "stdout",
     "output_type": "stream",
     "text": [
      "\u001b[1m1/1\u001b[0m \u001b[32m━━━━━━━━━━━━━━━━━━━━\u001b[0m\u001b[37m\u001b[0m \u001b[1m1s\u001b[0m 1s/step - accuracy: 0.5147 - loss: 139.8661 - val_accuracy: 0.7222 - val_loss: 112.7094 - learning_rate: 0.0010\n",
      "Epoch 2/5\n",
      "\u001b[1m1/1\u001b[0m \u001b[32m━━━━━━━━━━━━━━━━━━━━\u001b[0m\u001b[37m\u001b[0m \u001b[1m0s\u001b[0m 60ms/step - accuracy: 0.7647 - loss: 112.6321 - val_accuracy: 0.7778 - val_loss: 96.0950 - learning_rate: 0.0010\n",
      "Epoch 3/5\n",
      "\u001b[1m1/1\u001b[0m \u001b[32m━━━━━━━━━━━━━━━━━━━━\u001b[0m\u001b[37m\u001b[0m \u001b[1m0s\u001b[0m 52ms/step - accuracy: 0.8382 - loss: 95.9421 - val_accuracy: 0.5000 - val_loss: 84.0916 - learning_rate: 0.0010\n",
      "Epoch 4/5\n",
      "\u001b[1m1/1\u001b[0m \u001b[32m━━━━━━━━━━━━━━━━━━━━\u001b[0m\u001b[37m\u001b[0m \u001b[1m0s\u001b[0m 57ms/step - accuracy: 0.9118 - loss: 83.8215 - val_accuracy: 0.5000 - val_loss: 74.5113 - learning_rate: 0.0010\n",
      "Epoch 5/5\n",
      "\u001b[1m1/1\u001b[0m \u001b[32m━━━━━━━━━━━━━━━━━━━━\u001b[0m\u001b[37m\u001b[0m \u001b[1m0s\u001b[0m 57ms/step - accuracy: 0.9118 - loss: 74.2420 - val_accuracy: 0.6111 - val_loss: 66.5731 - learning_rate: 0.0010\n",
      "\n",
      "\n",
      "\u001b[1m1/1\u001b[0m \u001b[32m━━━━━━━━━━━━━━━━━━━━\u001b[0m\u001b[37m\u001b[0m \u001b[1m0s\u001b[0m 295ms/step - accuracy: 0.5909 - loss: 66.6533\n",
      "\n",
      "\n",
      "Adding metadata with 3 columns\n",
      "Epoch 1/5\n"
     ]
    },
    {
     "name": "stderr",
     "output_type": "stream",
     "text": [
      "/home/arazzz/anaconda3/envs/moabb_model_optimization/lib/python3.11/site-packages/keras/src/layers/convolutional/base_conv.py:99: UserWarning: Do not pass an `input_shape`/`input_dim` argument to a layer. When using Sequential models, prefer using an `Input(shape)` object as the first layer in the model instead.\n",
      "  super().__init__(\n"
     ]
    },
    {
     "name": "stdout",
     "output_type": "stream",
     "text": [
      "\u001b[1m1/1\u001b[0m \u001b[32m━━━━━━━━━━━━━━━━━━━━\u001b[0m\u001b[37m\u001b[0m \u001b[1m4s\u001b[0m 4s/step - accuracy: 0.3676 - loss: 155.3394 - val_accuracy: 0.5556 - val_loss: 124.1942 - learning_rate: 0.0010\n",
      "Epoch 2/5\n",
      "\u001b[1m1/1\u001b[0m \u001b[32m━━━━━━━━━━━━━━━━━━━━\u001b[0m\u001b[37m\u001b[0m \u001b[1m0s\u001b[0m 63ms/step - accuracy: 0.7206 - loss: 124.0766 - val_accuracy: 0.5556 - val_loss: 105.0589 - learning_rate: 0.0010\n",
      "Epoch 3/5\n",
      "\u001b[1m1/1\u001b[0m \u001b[32m━━━━━━━━━━━━━━━━━━━━\u001b[0m\u001b[37m\u001b[0m \u001b[1m0s\u001b[0m 55ms/step - accuracy: 0.7647 - loss: 104.8913 - val_accuracy: 0.5000 - val_loss: 91.4387 - learning_rate: 0.0010\n",
      "Epoch 4/5\n",
      "\u001b[1m1/1\u001b[0m \u001b[32m━━━━━━━━━━━━━━━━━━━━\u001b[0m\u001b[37m\u001b[0m \u001b[1m0s\u001b[0m 57ms/step - accuracy: 0.7941 - loss: 91.1455 - val_accuracy: 0.5556 - val_loss: 80.7228 - learning_rate: 0.0010\n",
      "Epoch 5/5\n",
      "\u001b[1m1/1\u001b[0m \u001b[32m━━━━━━━━━━━━━━━━━━━━\u001b[0m\u001b[37m\u001b[0m \u001b[1m0s\u001b[0m 57ms/step - accuracy: 0.8088 - loss: 80.2565 - val_accuracy: 0.5556 - val_loss: 71.7205 - learning_rate: 0.0010\n",
      "\n",
      "\n",
      "\u001b[1m1/1\u001b[0m \u001b[32m━━━━━━━━━━━━━━━━━━━━\u001b[0m\u001b[37m\u001b[0m \u001b[1m1s\u001b[0m 696ms/step - accuracy: 0.5000 - loss: 71.6913\n",
      "\n",
      "\n",
      "Adding metadata with 3 columns\n",
      "Epoch 1/5\n"
     ]
    },
    {
     "name": "stderr",
     "output_type": "stream",
     "text": [
      "/home/arazzz/anaconda3/envs/moabb_model_optimization/lib/python3.11/site-packages/keras/src/layers/convolutional/base_conv.py:99: UserWarning: Do not pass an `input_shape`/`input_dim` argument to a layer. When using Sequential models, prefer using an `Input(shape)` object as the first layer in the model instead.\n",
      "  super().__init__(\n"
     ]
    },
    {
     "name": "stdout",
     "output_type": "stream",
     "text": [
      "\u001b[1m1/1\u001b[0m \u001b[32m━━━━━━━━━━━━━━━━━━━━\u001b[0m\u001b[37m\u001b[0m \u001b[1m4s\u001b[0m 4s/step - accuracy: 0.5000 - loss: 144.1823 - val_accuracy: 0.5556 - val_loss: 115.2957 - learning_rate: 0.0010\n",
      "Epoch 2/5\n",
      "\u001b[1m1/1\u001b[0m \u001b[32m━━━━━━━━━━━━━━━━━━━━\u001b[0m\u001b[37m\u001b[0m \u001b[1m0s\u001b[0m 61ms/step - accuracy: 0.7500 - loss: 115.1503 - val_accuracy: 0.5556 - val_loss: 98.3325 - learning_rate: 0.0010\n",
      "Epoch 3/5\n",
      "\u001b[1m1/1\u001b[0m \u001b[32m━━━━━━━━━━━━━━━━━━━━\u001b[0m\u001b[37m\u001b[0m \u001b[1m0s\u001b[0m 74ms/step - accuracy: 0.8382 - loss: 98.0597 - val_accuracy: 0.6111 - val_loss: 85.8846 - learning_rate: 0.0010\n",
      "Epoch 4/5\n",
      "\u001b[1m1/1\u001b[0m \u001b[32m━━━━━━━━━━━━━━━━━━━━\u001b[0m\u001b[37m\u001b[0m \u001b[1m0s\u001b[0m 63ms/step - accuracy: 0.8971 - loss: 85.6764 - val_accuracy: 0.6111 - val_loss: 76.1273 - learning_rate: 0.0010\n",
      "Epoch 5/5\n",
      "\u001b[1m1/1\u001b[0m \u001b[32m━━━━━━━━━━━━━━━━━━━━\u001b[0m\u001b[37m\u001b[0m \u001b[1m0s\u001b[0m 56ms/step - accuracy: 0.9706 - loss: 75.8021 - val_accuracy: 0.6667 - val_loss: 67.9432 - learning_rate: 0.0010\n",
      "\n",
      "\n",
      "\u001b[1m1/1\u001b[0m \u001b[32m━━━━━━━━━━━━━━━━━━━━\u001b[0m\u001b[37m\u001b[0m \u001b[1m1s\u001b[0m 673ms/step - accuracy: 0.4091 - loss: 68.0563\n",
      "\n",
      "\n",
      "Adding metadata with 3 columns\n"
     ]
    },
    {
     "name": "stderr",
     "output_type": "stream",
     "text": [
      "/home/arazzz/anaconda3/envs/moabb_model_optimization/lib/python3.11/site-packages/keras/src/layers/convolutional/base_conv.py:99: UserWarning: Do not pass an `input_shape`/`input_dim` argument to a layer. When using Sequential models, prefer using an `Input(shape)` object as the first layer in the model instead.\n",
      "  super().__init__(\n"
     ]
    },
    {
     "name": "stdout",
     "output_type": "stream",
     "text": [
      "Epoch 1/5\n",
      "\u001b[1m1/1\u001b[0m \u001b[32m━━━━━━━━━━━━━━━━━━━━\u001b[0m\u001b[37m\u001b[0m \u001b[1m4s\u001b[0m 4s/step - accuracy: 0.3382 - loss: 147.4602 - val_accuracy: 0.3889 - val_loss: 120.0751 - learning_rate: 0.0010\n",
      "Epoch 2/5\n",
      "\u001b[1m1/1\u001b[0m \u001b[32m━━━━━━━━━━━━━━━━━━━━\u001b[0m\u001b[37m\u001b[0m \u001b[1m0s\u001b[0m 54ms/step - accuracy: 0.7500 - loss: 119.8688 - val_accuracy: 0.5556 - val_loss: 103.3427 - learning_rate: 0.0010\n",
      "Epoch 3/5\n",
      "\u001b[1m1/1\u001b[0m \u001b[32m━━━━━━━━━━━━━━━━━━━━\u001b[0m\u001b[37m\u001b[0m \u001b[1m0s\u001b[0m 51ms/step - accuracy: 0.8824 - loss: 103.0932 - val_accuracy: 0.4444 - val_loss: 91.2861 - learning_rate: 0.0010\n",
      "Epoch 4/5\n",
      "\u001b[1m1/1\u001b[0m \u001b[32m━━━━━━━━━━━━━━━━━━━━\u001b[0m\u001b[37m\u001b[0m \u001b[1m0s\u001b[0m 49ms/step - accuracy: 0.9412 - loss: 90.7711 - val_accuracy: 0.5000 - val_loss: 81.7075 - learning_rate: 0.0010\n",
      "Epoch 5/5\n",
      "\u001b[1m1/1\u001b[0m \u001b[32m━━━━━━━━━━━━━━━━━━━━\u001b[0m\u001b[37m\u001b[0m \u001b[1m0s\u001b[0m 50ms/step - accuracy: 0.9559 - loss: 80.9942 - val_accuracy: 0.5000 - val_loss: 74.1207 - learning_rate: 0.0010\n",
      "\n",
      "\n",
      "\u001b[1m1/1\u001b[0m \u001b[32m━━━━━━━━━━━━━━━━━━━━\u001b[0m\u001b[37m\u001b[0m \u001b[1m1s\u001b[0m 698ms/step - accuracy: 0.5000 - loss: 74.0352\n",
      "\n",
      "\n",
      "Adding metadata with 3 columns\n",
      "Epoch 1/5\n"
     ]
    },
    {
     "name": "stderr",
     "output_type": "stream",
     "text": [
      "/home/arazzz/anaconda3/envs/moabb_model_optimization/lib/python3.11/site-packages/keras/src/layers/convolutional/base_conv.py:99: UserWarning: Do not pass an `input_shape`/`input_dim` argument to a layer. When using Sequential models, prefer using an `Input(shape)` object as the first layer in the model instead.\n",
      "  super().__init__(\n"
     ]
    },
    {
     "name": "stdout",
     "output_type": "stream",
     "text": [
      "\u001b[1m1/1\u001b[0m \u001b[32m━━━━━━━━━━━━━━━━━━━━\u001b[0m\u001b[37m\u001b[0m \u001b[1m5s\u001b[0m 5s/step - accuracy: 0.5147 - loss: 216.8327 - val_accuracy: 0.4444 - val_loss: 169.9391 - learning_rate: 0.0010\n",
      "Epoch 2/5\n",
      "\u001b[1m1/1\u001b[0m \u001b[32m━━━━━━━━━━━━━━━━━━━━\u001b[0m\u001b[37m\u001b[0m \u001b[1m0s\u001b[0m 70ms/step - accuracy: 0.6912 - loss: 169.8374 - val_accuracy: 0.5000 - val_loss: 142.2037 - learning_rate: 0.0010\n",
      "Epoch 3/5\n",
      "\u001b[1m1/1\u001b[0m \u001b[32m━━━━━━━━━━━━━━━━━━━━\u001b[0m\u001b[37m\u001b[0m \u001b[1m0s\u001b[0m 66ms/step - accuracy: 0.6618 - loss: 141.9864 - val_accuracy: 0.4444 - val_loss: 122.3098 - learning_rate: 0.0010\n",
      "Epoch 4/5\n",
      "\u001b[1m1/1\u001b[0m \u001b[32m━━━━━━━━━━━━━━━━━━━━\u001b[0m\u001b[37m\u001b[0m \u001b[1m0s\u001b[0m 67ms/step - accuracy: 0.6912 - loss: 122.1379 - val_accuracy: 0.3889 - val_loss: 106.8416 - learning_rate: 0.0010\n",
      "Epoch 5/5\n",
      "\u001b[1m1/1\u001b[0m \u001b[32m━━━━━━━━━━━━━━━━━━━━\u001b[0m\u001b[37m\u001b[0m \u001b[1m0s\u001b[0m 65ms/step - accuracy: 0.7353 - loss: 106.6416 - val_accuracy: 0.5556 - val_loss: 94.4642 - learning_rate: 0.0010\n",
      "\n",
      "\n",
      "\u001b[1m1/1\u001b[0m \u001b[32m━━━━━━━━━━━━━━━━━━━━\u001b[0m\u001b[37m\u001b[0m \u001b[1m1s\u001b[0m 692ms/step - accuracy: 0.5000 - loss: 94.4608\n",
      "\n",
      "\n"
     ]
    }
   ],
   "source": [
    "study = model_optimizer.search_best_model(\n",
    "    subjects=[2],\n",
    "    # channels=[],\n",
    "    max_iter = 50,\n",
    "    max_epochs=5,\n",
    "    max_stag_count=25,\n",
    "    rounds=1,\n",
    "    replace_previous_study_for_subjects=True\n",
    ")"
   ]
  },
  {
   "cell_type": "code",
   "execution_count": 215,
   "metadata": {},
   "outputs": [
    {
     "data": {
      "text/html": [
       "<div>\n",
       "<style scoped>\n",
       "    .dataframe tbody tr th:only-of-type {\n",
       "        vertical-align: middle;\n",
       "    }\n",
       "\n",
       "    .dataframe tbody tr th {\n",
       "        vertical-align: top;\n",
       "    }\n",
       "\n",
       "    .dataframe thead th {\n",
       "        text-align: right;\n",
       "    }\n",
       "</style>\n",
       "<table border=\"1\" class=\"dataframe\">\n",
       "  <thead>\n",
       "    <tr style=\"text-align: right;\">\n",
       "      <th></th>\n",
       "      <th>train_acc</th>\n",
       "      <th>test_acc</th>\n",
       "      <th>val_acc</th>\n",
       "      <th>train_val_diff</th>\n",
       "      <th>scores</th>\n",
       "      <th>channels_selected</th>\n",
       "    </tr>\n",
       "  </thead>\n",
       "  <tbody>\n",
       "    <tr>\n",
       "      <th>41</th>\n",
       "      <td>0.808824</td>\n",
       "      <td>0.590909</td>\n",
       "      <td>0.833333</td>\n",
       "      <td>0.024510</td>\n",
       "      <td>0.167317</td>\n",
       "      <td>[P3, C3, Fz, F4, P4, Pz, Fp1, Fp2, T5, O1, O2,...</td>\n",
       "    </tr>\n",
       "    <tr>\n",
       "      <th>45</th>\n",
       "      <td>0.911765</td>\n",
       "      <td>0.590909</td>\n",
       "      <td>0.777778</td>\n",
       "      <td>0.133987</td>\n",
       "      <td>0.222872</td>\n",
       "      <td>[P3, C3, Fz, F4, P4, Pz, Fp1, Fp2, T5, O1, O2,...</td>\n",
       "    </tr>\n",
       "    <tr>\n",
       "      <th>25</th>\n",
       "      <td>0.764706</td>\n",
       "      <td>0.272727</td>\n",
       "      <td>0.777778</td>\n",
       "      <td>0.013072</td>\n",
       "      <td>0.222872</td>\n",
       "      <td>[P3, C3, F3, C4, Cz, Pz, Fp2, T3, T5, O2, F7, ...</td>\n",
       "    </tr>\n",
       "    <tr>\n",
       "      <th>39</th>\n",
       "      <td>0.852941</td>\n",
       "      <td>0.636364</td>\n",
       "      <td>0.722222</td>\n",
       "      <td>0.130719</td>\n",
       "      <td>0.278428</td>\n",
       "      <td>[P3, C3, Fz, F4, P4, Pz, Fp1, Fp2, T5, O1, O2,...</td>\n",
       "    </tr>\n",
       "    <tr>\n",
       "      <th>42</th>\n",
       "      <td>0.838235</td>\n",
       "      <td>0.590909</td>\n",
       "      <td>0.722222</td>\n",
       "      <td>0.116013</td>\n",
       "      <td>0.278428</td>\n",
       "      <td>[P3, C3, Fz, F4, P4, Pz, Fp1, Fp2, T5, O1, O2,...</td>\n",
       "    </tr>\n",
       "    <tr>\n",
       "      <th>2</th>\n",
       "      <td>0.941176</td>\n",
       "      <td>0.500000</td>\n",
       "      <td>0.666667</td>\n",
       "      <td>0.274510</td>\n",
       "      <td>0.333783</td>\n",
       "      <td>[P3, C3, F3, C4, Pz, Fp2, T5, O2, T6]</td>\n",
       "    </tr>\n",
       "    <tr>\n",
       "      <th>47</th>\n",
       "      <td>0.970588</td>\n",
       "      <td>0.409091</td>\n",
       "      <td>0.666667</td>\n",
       "      <td>0.303922</td>\n",
       "      <td>0.333933</td>\n",
       "      <td>[C3, Fz, F4, P4, Pz, Fp1, Fp2, T5, O1, O2, F7,...</td>\n",
       "    </tr>\n",
       "    <tr>\n",
       "      <th>29</th>\n",
       "      <td>0.970588</td>\n",
       "      <td>0.545455</td>\n",
       "      <td>0.666667</td>\n",
       "      <td>0.303922</td>\n",
       "      <td>0.333983</td>\n",
       "      <td>[P3, C3, Fz, C4, P4, Cz, Pz, Fp1, Fp2, T5, O1,...</td>\n",
       "    </tr>\n",
       "    <tr>\n",
       "      <th>11</th>\n",
       "      <td>0.573529</td>\n",
       "      <td>0.363636</td>\n",
       "      <td>0.666667</td>\n",
       "      <td>0.093137</td>\n",
       "      <td>0.333983</td>\n",
       "      <td>[P3, C3, F3, C4, Cz, Pz, Fp2, T3, T5, O2, F7, ...</td>\n",
       "    </tr>\n",
       "    <tr>\n",
       "      <th>0</th>\n",
       "      <td>0.691176</td>\n",
       "      <td>0.454545</td>\n",
       "      <td>0.666667</td>\n",
       "      <td>0.024510</td>\n",
       "      <td>0.333983</td>\n",
       "      <td>[P3, C3, Fz, Cz, Pz, Fp2, T3, T5, O1, O2, F7, ...</td>\n",
       "    </tr>\n",
       "    <tr>\n",
       "      <th>18</th>\n",
       "      <td>0.735294</td>\n",
       "      <td>0.545455</td>\n",
       "      <td>0.611111</td>\n",
       "      <td>0.124183</td>\n",
       "      <td>0.389339</td>\n",
       "      <td>[F3, F4, Cz, Fp1, T3, O1, F8, T6, T4]</td>\n",
       "    </tr>\n",
       "    <tr>\n",
       "      <th>12</th>\n",
       "      <td>0.691176</td>\n",
       "      <td>0.500000</td>\n",
       "      <td>0.611111</td>\n",
       "      <td>0.080065</td>\n",
       "      <td>0.389339</td>\n",
       "      <td>[P3, C3, Pz, Fp2, T5, O2, F7, T6, T4]</td>\n",
       "    </tr>\n",
       "    <tr>\n",
       "      <th>20</th>\n",
       "      <td>0.926471</td>\n",
       "      <td>0.590909</td>\n",
       "      <td>0.611111</td>\n",
       "      <td>0.315359</td>\n",
       "      <td>0.389339</td>\n",
       "      <td>[P3, C3, Cz, Pz, Fp2, T5, O2, F7, T6]</td>\n",
       "    </tr>\n",
       "    <tr>\n",
       "      <th>17</th>\n",
       "      <td>0.941176</td>\n",
       "      <td>0.545455</td>\n",
       "      <td>0.611111</td>\n",
       "      <td>0.330065</td>\n",
       "      <td>0.389389</td>\n",
       "      <td>[P3, C3, Cz, Pz, Fp2, T5, O1, O2, F7, T6]</td>\n",
       "    </tr>\n",
       "    <tr>\n",
       "      <th>38</th>\n",
       "      <td>0.779412</td>\n",
       "      <td>0.500000</td>\n",
       "      <td>0.611111</td>\n",
       "      <td>0.168301</td>\n",
       "      <td>0.389439</td>\n",
       "      <td>[P3, C3, F3, Fz, C4, Cz, Fp2, T3, F8, A2, T4]</td>\n",
       "    </tr>\n",
       "    <tr>\n",
       "      <th>40</th>\n",
       "      <td>0.852941</td>\n",
       "      <td>0.545455</td>\n",
       "      <td>0.611111</td>\n",
       "      <td>0.241830</td>\n",
       "      <td>0.389439</td>\n",
       "      <td>[P3, Fz, F4, P4, Pz, Fp1, T5, O1, O2, F8, A2]</td>\n",
       "    </tr>\n",
       "    <tr>\n",
       "      <th>30</th>\n",
       "      <td>0.602941</td>\n",
       "      <td>0.545455</td>\n",
       "      <td>0.611111</td>\n",
       "      <td>0.008170</td>\n",
       "      <td>0.389539</td>\n",
       "      <td>[P3, C3, F3, C4, Cz, Pz, Fp2, T3, T5, O2, F7, ...</td>\n",
       "    </tr>\n",
       "    <tr>\n",
       "      <th>44</th>\n",
       "      <td>0.970588</td>\n",
       "      <td>0.545455</td>\n",
       "      <td>0.611111</td>\n",
       "      <td>0.359477</td>\n",
       "      <td>0.389539</td>\n",
       "      <td>[P3, C3, Fz, F4, P4, Pz, Fp1, Fp2, T5, O1, O2,...</td>\n",
       "    </tr>\n",
       "    <tr>\n",
       "      <th>22</th>\n",
       "      <td>0.632353</td>\n",
       "      <td>0.500000</td>\n",
       "      <td>0.611111</td>\n",
       "      <td>0.021242</td>\n",
       "      <td>0.389539</td>\n",
       "      <td>[P3, C3, F3, C4, Cz, Pz, Fp2, T3, T5, O2, F7, ...</td>\n",
       "    </tr>\n",
       "    <tr>\n",
       "      <th>35</th>\n",
       "      <td>0.779412</td>\n",
       "      <td>0.500000</td>\n",
       "      <td>0.611111</td>\n",
       "      <td>0.168301</td>\n",
       "      <td>0.389539</td>\n",
       "      <td>[P3, F3, Fz, C4, P4, Cz, Fp2, T3, O2, F7, F8, ...</td>\n",
       "    </tr>\n",
       "    <tr>\n",
       "      <th>31</th>\n",
       "      <td>0.661765</td>\n",
       "      <td>0.409091</td>\n",
       "      <td>0.611111</td>\n",
       "      <td>0.050654</td>\n",
       "      <td>0.389539</td>\n",
       "      <td>[P3, C3, F3, C4, Cz, Pz, Fp2, T3, T5, O2, F7, ...</td>\n",
       "    </tr>\n",
       "    <tr>\n",
       "      <th>10</th>\n",
       "      <td>0.794118</td>\n",
       "      <td>0.454545</td>\n",
       "      <td>0.555556</td>\n",
       "      <td>0.238562</td>\n",
       "      <td>0.444794</td>\n",
       "      <td>[F3, F4, C4, Fp1, T5, O2, T6]</td>\n",
       "    </tr>\n",
       "    <tr>\n",
       "      <th>4</th>\n",
       "      <td>1.000000</td>\n",
       "      <td>0.500000</td>\n",
       "      <td>0.555556</td>\n",
       "      <td>0.444444</td>\n",
       "      <td>0.444844</td>\n",
       "      <td>[P3, Fz, P4, Fp2, O1, F8, A2, T4]</td>\n",
       "    </tr>\n",
       "    <tr>\n",
       "      <th>28</th>\n",
       "      <td>0.823529</td>\n",
       "      <td>0.545455</td>\n",
       "      <td>0.555556</td>\n",
       "      <td>0.267974</td>\n",
       "      <td>0.444894</td>\n",
       "      <td>[P3, C3, Fz, Pz, Fp2, T5, O1, O2, T6]</td>\n",
       "    </tr>\n",
       "    <tr>\n",
       "      <th>36</th>\n",
       "      <td>0.926471</td>\n",
       "      <td>0.454545</td>\n",
       "      <td>0.555556</td>\n",
       "      <td>0.370915</td>\n",
       "      <td>0.444944</td>\n",
       "      <td>[P3, C3, Fz, F4, Cz, Pz, Fp1, Fp2, T3, A2]</td>\n",
       "    </tr>\n",
       "    <tr>\n",
       "      <th>7</th>\n",
       "      <td>0.852941</td>\n",
       "      <td>0.500000</td>\n",
       "      <td>0.555556</td>\n",
       "      <td>0.297386</td>\n",
       "      <td>0.444944</td>\n",
       "      <td>[P3, C3, Fz, P4, Fp1, O1, O2, F8, A2, T4]</td>\n",
       "    </tr>\n",
       "    <tr>\n",
       "      <th>19</th>\n",
       "      <td>0.794118</td>\n",
       "      <td>0.500000</td>\n",
       "      <td>0.555556</td>\n",
       "      <td>0.238562</td>\n",
       "      <td>0.444944</td>\n",
       "      <td>[P3, C3, Fz, C4, Pz, Fp2, T5, O2, F7, T6]</td>\n",
       "    </tr>\n",
       "    <tr>\n",
       "      <th>49</th>\n",
       "      <td>0.735294</td>\n",
       "      <td>0.500000</td>\n",
       "      <td>0.555556</td>\n",
       "      <td>0.179739</td>\n",
       "      <td>0.445044</td>\n",
       "      <td>[P3, C3, Fz, F4, P4, Pz, Fp1, Fp2, T5, O1, F7,...</td>\n",
       "    </tr>\n",
       "    <tr>\n",
       "      <th>48</th>\n",
       "      <td>0.955882</td>\n",
       "      <td>0.500000</td>\n",
       "      <td>0.555556</td>\n",
       "      <td>0.400327</td>\n",
       "      <td>0.445044</td>\n",
       "      <td>[P3, C3, Fz, F4, P4, Fp1, Fp2, T5, O1, O2, F7,...</td>\n",
       "    </tr>\n",
       "    <tr>\n",
       "      <th>1</th>\n",
       "      <td>0.970588</td>\n",
       "      <td>0.636364</td>\n",
       "      <td>0.555556</td>\n",
       "      <td>0.415033</td>\n",
       "      <td>0.445044</td>\n",
       "      <td>[P3, C3, Fz, C4, P4, Cz, Pz, Fp1, Fp2, T5, O1,...</td>\n",
       "    </tr>\n",
       "    <tr>\n",
       "      <th>8</th>\n",
       "      <td>0.808824</td>\n",
       "      <td>0.500000</td>\n",
       "      <td>0.555556</td>\n",
       "      <td>0.253268</td>\n",
       "      <td>0.445044</td>\n",
       "      <td>[C3, F3, Fz, F4, P4, Cz, Pz, Fp2, T3, T5, F7, A2]</td>\n",
       "    </tr>\n",
       "    <tr>\n",
       "      <th>15</th>\n",
       "      <td>1.000000</td>\n",
       "      <td>0.500000</td>\n",
       "      <td>0.555556</td>\n",
       "      <td>0.444444</td>\n",
       "      <td>0.445044</td>\n",
       "      <td>[P3, C3, F3, C4, Cz, Pz, Fp2, T5, O2, F7, T6, T4]</td>\n",
       "    </tr>\n",
       "    <tr>\n",
       "      <th>24</th>\n",
       "      <td>0.779412</td>\n",
       "      <td>0.454545</td>\n",
       "      <td>0.555556</td>\n",
       "      <td>0.223856</td>\n",
       "      <td>0.445094</td>\n",
       "      <td>[P3, C3, F3, C4, Cz, Pz, Fp2, T3, T5, O2, F7, ...</td>\n",
       "    </tr>\n",
       "    <tr>\n",
       "      <th>46</th>\n",
       "      <td>0.808824</td>\n",
       "      <td>0.500000</td>\n",
       "      <td>0.555556</td>\n",
       "      <td>0.253268</td>\n",
       "      <td>0.445094</td>\n",
       "      <td>[P3, C3, Fz, F4, P4, Pz, Fp1, Fp2, T5, O1, O2,...</td>\n",
       "    </tr>\n",
       "    <tr>\n",
       "      <th>43</th>\n",
       "      <td>0.808824</td>\n",
       "      <td>0.500000</td>\n",
       "      <td>0.555556</td>\n",
       "      <td>0.253268</td>\n",
       "      <td>0.445094</td>\n",
       "      <td>[P3, C3, Fz, F4, P4, Pz, Fp1, Fp2, T5, O1, O2,...</td>\n",
       "    </tr>\n",
       "    <tr>\n",
       "      <th>34</th>\n",
       "      <td>0.720588</td>\n",
       "      <td>0.636364</td>\n",
       "      <td>0.555556</td>\n",
       "      <td>0.165033</td>\n",
       "      <td>0.445094</td>\n",
       "      <td>[P3, C3, F3, C4, Cz, Pz, Fp2, T3, T5, O2, F7, ...</td>\n",
       "    </tr>\n",
       "    <tr>\n",
       "      <th>3</th>\n",
       "      <td>0.852941</td>\n",
       "      <td>0.500000</td>\n",
       "      <td>0.555556</td>\n",
       "      <td>0.297386</td>\n",
       "      <td>0.445144</td>\n",
       "      <td>[P3, C3, F3, Fz, F4, C4, Cz, Pz, Fp1, Fp2, T3,...</td>\n",
       "    </tr>\n",
       "    <tr>\n",
       "      <th>13</th>\n",
       "      <td>0.794118</td>\n",
       "      <td>0.500000</td>\n",
       "      <td>0.555556</td>\n",
       "      <td>0.238562</td>\n",
       "      <td>0.445144</td>\n",
       "      <td>[P3, C3, F3, C4, Cz, Pz, Fp2, T3, T5, O1, O2, ...</td>\n",
       "    </tr>\n",
       "    <tr>\n",
       "      <th>14</th>\n",
       "      <td>0.647059</td>\n",
       "      <td>0.454545</td>\n",
       "      <td>0.500000</td>\n",
       "      <td>0.147059</td>\n",
       "      <td>0.500350</td>\n",
       "      <td>[C3, Pz, T3, T5, O1, O2, T6]</td>\n",
       "    </tr>\n",
       "    <tr>\n",
       "      <th>6</th>\n",
       "      <td>0.882353</td>\n",
       "      <td>0.500000</td>\n",
       "      <td>0.500000</td>\n",
       "      <td>0.382353</td>\n",
       "      <td>0.500400</td>\n",
       "      <td>[F3, Fz, Pz, Fp2, T5, O1, T6, T4]</td>\n",
       "    </tr>\n",
       "    <tr>\n",
       "      <th>5</th>\n",
       "      <td>1.000000</td>\n",
       "      <td>0.500000</td>\n",
       "      <td>0.500000</td>\n",
       "      <td>0.500000</td>\n",
       "      <td>0.500400</td>\n",
       "      <td>[P3, Fz, P4, Cz, T3, O2, F8, A2]</td>\n",
       "    </tr>\n",
       "    <tr>\n",
       "      <th>37</th>\n",
       "      <td>0.882353</td>\n",
       "      <td>0.500000</td>\n",
       "      <td>0.500000</td>\n",
       "      <td>0.382353</td>\n",
       "      <td>0.500450</td>\n",
       "      <td>[F3, P4, Pz, T5, O1, O2, F7, T6, T4]</td>\n",
       "    </tr>\n",
       "    <tr>\n",
       "      <th>23</th>\n",
       "      <td>0.705882</td>\n",
       "      <td>0.454545</td>\n",
       "      <td>0.500000</td>\n",
       "      <td>0.205882</td>\n",
       "      <td>0.500650</td>\n",
       "      <td>[P3, C3, F3, C4, Cz, Pz, Fp2, T3, T5, O2, F7, ...</td>\n",
       "    </tr>\n",
       "    <tr>\n",
       "      <th>27</th>\n",
       "      <td>0.911765</td>\n",
       "      <td>0.500000</td>\n",
       "      <td>0.500000</td>\n",
       "      <td>0.411765</td>\n",
       "      <td>0.500650</td>\n",
       "      <td>[P3, C3, F3, C4, Cz, Pz, Fp2, T3, T5, O2, F7, ...</td>\n",
       "    </tr>\n",
       "    <tr>\n",
       "      <th>9</th>\n",
       "      <td>0.808824</td>\n",
       "      <td>0.545455</td>\n",
       "      <td>0.500000</td>\n",
       "      <td>0.308824</td>\n",
       "      <td>0.500700</td>\n",
       "      <td>[P3, C3, Fz, F4, C4, P4, Pz, Fp2, T3, T5, O1, ...</td>\n",
       "    </tr>\n",
       "    <tr>\n",
       "      <th>26</th>\n",
       "      <td>0.779412</td>\n",
       "      <td>0.500000</td>\n",
       "      <td>0.444444</td>\n",
       "      <td>0.334967</td>\n",
       "      <td>0.556056</td>\n",
       "      <td>[F3, Fz, F4, C4, Fp1, T3, O1, F8, T6, T4]</td>\n",
       "    </tr>\n",
       "    <tr>\n",
       "      <th>16</th>\n",
       "      <td>0.970588</td>\n",
       "      <td>0.500000</td>\n",
       "      <td>0.444444</td>\n",
       "      <td>0.526144</td>\n",
       "      <td>0.556106</td>\n",
       "      <td>[P3, C3, F3, C4, Pz, Fp2, T3, T5, O2, T6, T4]</td>\n",
       "    </tr>\n",
       "    <tr>\n",
       "      <th>33</th>\n",
       "      <td>0.705882</td>\n",
       "      <td>0.500000</td>\n",
       "      <td>0.444444</td>\n",
       "      <td>0.261438</td>\n",
       "      <td>0.556206</td>\n",
       "      <td>[P3, C3, F3, C4, Cz, Pz, Fp2, T3, T5, O2, F7, ...</td>\n",
       "    </tr>\n",
       "    <tr>\n",
       "      <th>21</th>\n",
       "      <td>0.632353</td>\n",
       "      <td>0.318182</td>\n",
       "      <td>0.444444</td>\n",
       "      <td>0.187909</td>\n",
       "      <td>0.556206</td>\n",
       "      <td>[P3, C3, F3, C4, Cz, Pz, Fp2, T3, T5, O2, F7, ...</td>\n",
       "    </tr>\n",
       "    <tr>\n",
       "      <th>32</th>\n",
       "      <td>0.602941</td>\n",
       "      <td>0.227273</td>\n",
       "      <td>0.388889</td>\n",
       "      <td>0.214052</td>\n",
       "      <td>0.611761</td>\n",
       "      <td>[P3, C3, F3, C4, Cz, Pz, Fp2, T3, T5, O2, F7, ...</td>\n",
       "    </tr>\n",
       "  </tbody>\n",
       "</table>\n",
       "</div>"
      ],
      "text/plain": [
       "    train_acc  test_acc   val_acc  train_val_diff    scores  \\\n",
       "41   0.808824  0.590909  0.833333        0.024510  0.167317   \n",
       "45   0.911765  0.590909  0.777778        0.133987  0.222872   \n",
       "25   0.764706  0.272727  0.777778        0.013072  0.222872   \n",
       "39   0.852941  0.636364  0.722222        0.130719  0.278428   \n",
       "42   0.838235  0.590909  0.722222        0.116013  0.278428   \n",
       "2    0.941176  0.500000  0.666667        0.274510  0.333783   \n",
       "47   0.970588  0.409091  0.666667        0.303922  0.333933   \n",
       "29   0.970588  0.545455  0.666667        0.303922  0.333983   \n",
       "11   0.573529  0.363636  0.666667        0.093137  0.333983   \n",
       "0    0.691176  0.454545  0.666667        0.024510  0.333983   \n",
       "18   0.735294  0.545455  0.611111        0.124183  0.389339   \n",
       "12   0.691176  0.500000  0.611111        0.080065  0.389339   \n",
       "20   0.926471  0.590909  0.611111        0.315359  0.389339   \n",
       "17   0.941176  0.545455  0.611111        0.330065  0.389389   \n",
       "38   0.779412  0.500000  0.611111        0.168301  0.389439   \n",
       "40   0.852941  0.545455  0.611111        0.241830  0.389439   \n",
       "30   0.602941  0.545455  0.611111        0.008170  0.389539   \n",
       "44   0.970588  0.545455  0.611111        0.359477  0.389539   \n",
       "22   0.632353  0.500000  0.611111        0.021242  0.389539   \n",
       "35   0.779412  0.500000  0.611111        0.168301  0.389539   \n",
       "31   0.661765  0.409091  0.611111        0.050654  0.389539   \n",
       "10   0.794118  0.454545  0.555556        0.238562  0.444794   \n",
       "4    1.000000  0.500000  0.555556        0.444444  0.444844   \n",
       "28   0.823529  0.545455  0.555556        0.267974  0.444894   \n",
       "36   0.926471  0.454545  0.555556        0.370915  0.444944   \n",
       "7    0.852941  0.500000  0.555556        0.297386  0.444944   \n",
       "19   0.794118  0.500000  0.555556        0.238562  0.444944   \n",
       "49   0.735294  0.500000  0.555556        0.179739  0.445044   \n",
       "48   0.955882  0.500000  0.555556        0.400327  0.445044   \n",
       "1    0.970588  0.636364  0.555556        0.415033  0.445044   \n",
       "8    0.808824  0.500000  0.555556        0.253268  0.445044   \n",
       "15   1.000000  0.500000  0.555556        0.444444  0.445044   \n",
       "24   0.779412  0.454545  0.555556        0.223856  0.445094   \n",
       "46   0.808824  0.500000  0.555556        0.253268  0.445094   \n",
       "43   0.808824  0.500000  0.555556        0.253268  0.445094   \n",
       "34   0.720588  0.636364  0.555556        0.165033  0.445094   \n",
       "3    0.852941  0.500000  0.555556        0.297386  0.445144   \n",
       "13   0.794118  0.500000  0.555556        0.238562  0.445144   \n",
       "14   0.647059  0.454545  0.500000        0.147059  0.500350   \n",
       "6    0.882353  0.500000  0.500000        0.382353  0.500400   \n",
       "5    1.000000  0.500000  0.500000        0.500000  0.500400   \n",
       "37   0.882353  0.500000  0.500000        0.382353  0.500450   \n",
       "23   0.705882  0.454545  0.500000        0.205882  0.500650   \n",
       "27   0.911765  0.500000  0.500000        0.411765  0.500650   \n",
       "9    0.808824  0.545455  0.500000        0.308824  0.500700   \n",
       "26   0.779412  0.500000  0.444444        0.334967  0.556056   \n",
       "16   0.970588  0.500000  0.444444        0.526144  0.556106   \n",
       "33   0.705882  0.500000  0.444444        0.261438  0.556206   \n",
       "21   0.632353  0.318182  0.444444        0.187909  0.556206   \n",
       "32   0.602941  0.227273  0.388889        0.214052  0.611761   \n",
       "\n",
       "                                    channels_selected  \n",
       "41  [P3, C3, Fz, F4, P4, Pz, Fp1, Fp2, T5, O1, O2,...  \n",
       "45  [P3, C3, Fz, F4, P4, Pz, Fp1, Fp2, T5, O1, O2,...  \n",
       "25  [P3, C3, F3, C4, Cz, Pz, Fp2, T3, T5, O2, F7, ...  \n",
       "39  [P3, C3, Fz, F4, P4, Pz, Fp1, Fp2, T5, O1, O2,...  \n",
       "42  [P3, C3, Fz, F4, P4, Pz, Fp1, Fp2, T5, O1, O2,...  \n",
       "2               [P3, C3, F3, C4, Pz, Fp2, T5, O2, T6]  \n",
       "47  [C3, Fz, F4, P4, Pz, Fp1, Fp2, T5, O1, O2, F7,...  \n",
       "29  [P3, C3, Fz, C4, P4, Cz, Pz, Fp1, Fp2, T5, O1,...  \n",
       "11  [P3, C3, F3, C4, Cz, Pz, Fp2, T3, T5, O2, F7, ...  \n",
       "0   [P3, C3, Fz, Cz, Pz, Fp2, T3, T5, O1, O2, F7, ...  \n",
       "18              [F3, F4, Cz, Fp1, T3, O1, F8, T6, T4]  \n",
       "12              [P3, C3, Pz, Fp2, T5, O2, F7, T6, T4]  \n",
       "20              [P3, C3, Cz, Pz, Fp2, T5, O2, F7, T6]  \n",
       "17          [P3, C3, Cz, Pz, Fp2, T5, O1, O2, F7, T6]  \n",
       "38      [P3, C3, F3, Fz, C4, Cz, Fp2, T3, F8, A2, T4]  \n",
       "40      [P3, Fz, F4, P4, Pz, Fp1, T5, O1, O2, F8, A2]  \n",
       "30  [P3, C3, F3, C4, Cz, Pz, Fp2, T3, T5, O2, F7, ...  \n",
       "44  [P3, C3, Fz, F4, P4, Pz, Fp1, Fp2, T5, O1, O2,...  \n",
       "22  [P3, C3, F3, C4, Cz, Pz, Fp2, T3, T5, O2, F7, ...  \n",
       "35  [P3, F3, Fz, C4, P4, Cz, Fp2, T3, O2, F7, F8, ...  \n",
       "31  [P3, C3, F3, C4, Cz, Pz, Fp2, T3, T5, O2, F7, ...  \n",
       "10                      [F3, F4, C4, Fp1, T5, O2, T6]  \n",
       "4                   [P3, Fz, P4, Fp2, O1, F8, A2, T4]  \n",
       "28              [P3, C3, Fz, Pz, Fp2, T5, O1, O2, T6]  \n",
       "36         [P3, C3, Fz, F4, Cz, Pz, Fp1, Fp2, T3, A2]  \n",
       "7           [P3, C3, Fz, P4, Fp1, O1, O2, F8, A2, T4]  \n",
       "19          [P3, C3, Fz, C4, Pz, Fp2, T5, O2, F7, T6]  \n",
       "49  [P3, C3, Fz, F4, P4, Pz, Fp1, Fp2, T5, O1, F7,...  \n",
       "48  [P3, C3, Fz, F4, P4, Fp1, Fp2, T5, O1, O2, F7,...  \n",
       "1   [P3, C3, Fz, C4, P4, Cz, Pz, Fp1, Fp2, T5, O1,...  \n",
       "8   [C3, F3, Fz, F4, P4, Cz, Pz, Fp2, T3, T5, F7, A2]  \n",
       "15  [P3, C3, F3, C4, Cz, Pz, Fp2, T5, O2, F7, T6, T4]  \n",
       "24  [P3, C3, F3, C4, Cz, Pz, Fp2, T3, T5, O2, F7, ...  \n",
       "46  [P3, C3, Fz, F4, P4, Pz, Fp1, Fp2, T5, O1, O2,...  \n",
       "43  [P3, C3, Fz, F4, P4, Pz, Fp1, Fp2, T5, O1, O2,...  \n",
       "34  [P3, C3, F3, C4, Cz, Pz, Fp2, T3, T5, O2, F7, ...  \n",
       "3   [P3, C3, F3, Fz, F4, C4, Cz, Pz, Fp1, Fp2, T3,...  \n",
       "13  [P3, C3, F3, C4, Cz, Pz, Fp2, T3, T5, O1, O2, ...  \n",
       "14                       [C3, Pz, T3, T5, O1, O2, T6]  \n",
       "6                   [F3, Fz, Pz, Fp2, T5, O1, T6, T4]  \n",
       "5                    [P3, Fz, P4, Cz, T3, O2, F8, A2]  \n",
       "37               [F3, P4, Pz, T5, O1, O2, F7, T6, T4]  \n",
       "23  [P3, C3, F3, C4, Cz, Pz, Fp2, T3, T5, O2, F7, ...  \n",
       "27  [P3, C3, F3, C4, Cz, Pz, Fp2, T3, T5, O2, F7, ...  \n",
       "9   [P3, C3, Fz, F4, C4, P4, Pz, Fp2, T3, T5, O1, ...  \n",
       "26          [F3, Fz, F4, C4, Fp1, T3, O1, F8, T6, T4]  \n",
       "16      [P3, C3, F3, C4, Pz, Fp2, T3, T5, O2, T6, T4]  \n",
       "33  [P3, C3, F3, C4, Cz, Pz, Fp2, T3, T5, O2, F7, ...  \n",
       "21  [P3, C3, F3, C4, Cz, Pz, Fp2, T3, T5, O2, F7, ...  \n",
       "32  [P3, C3, F3, C4, Cz, Pz, Fp2, T3, T5, O2, F7, ...  "
      ]
     },
     "execution_count": 215,
     "metadata": {},
     "output_type": "execute_result"
    }
   ],
   "source": [
    "model_optimizer.get_study_metrics(study).sort_values(by=\"scores\", ascending=True)\n",
    "# model_optimizer.get_study_metrics(study).sort_values(by=\"test_acc\", ascending=False)"
   ]
  },
  {
   "cell_type": "code",
   "execution_count": 216,
   "metadata": {},
   "outputs": [
    {
     "data": {
      "text/html": [
       "<pre style=\"white-space:pre;overflow-x:auto;line-height:normal;font-family:Menlo,'DejaVu Sans Mono',consolas,'Courier New',monospace\"><span style=\"font-weight: bold\">{</span>\n",
       "<span style=\"color: #7fbf7f; text-decoration-color: #7fbf7f\">│   </span><span style=\"color: #008000; text-decoration-color: #008000\">'sfreq'</span>: <span style=\"color: #008080; text-decoration-color: #008080; font-weight: bold\">256</span>,\n",
       "<span style=\"color: #7fbf7f; text-decoration-color: #7fbf7f\">│   </span><span style=\"color: #008000; text-decoration-color: #008000\">'batch_size'</span>: <span style=\"color: #008080; text-decoration-color: #008080; font-weight: bold\">160</span>,\n",
       "<span style=\"color: #7fbf7f; text-decoration-color: #7fbf7f\">│   </span><span style=\"color: #008000; text-decoration-color: #008000\">'pool_size_d2'</span>: <span style=\"color: #008080; text-decoration-color: #008080; font-weight: bold\">65</span>,\n",
       "<span style=\"color: #7fbf7f; text-decoration-color: #7fbf7f\">│   </span><span style=\"color: #008000; text-decoration-color: #008000\">'strides_d2'</span>: <span style=\"color: #008080; text-decoration-color: #008080; font-weight: bold\">29</span>,\n",
       "<span style=\"color: #7fbf7f; text-decoration-color: #7fbf7f\">│   </span><span style=\"color: #008000; text-decoration-color: #008000\">'conv_filters_d2'</span>: <span style=\"color: #008080; text-decoration-color: #008080; font-weight: bold\">31</span>,\n",
       "<span style=\"color: #7fbf7f; text-decoration-color: #7fbf7f\">│   </span><span style=\"color: #008000; text-decoration-color: #008000\">'conv2d_1_units'</span>: <span style=\"color: #008080; text-decoration-color: #008080; font-weight: bold\">120</span>,\n",
       "<span style=\"color: #7fbf7f; text-decoration-color: #7fbf7f\">│   </span><span style=\"color: #008000; text-decoration-color: #008000\">'conv2d_2_units'</span>: <span style=\"color: #008080; text-decoration-color: #008080; font-weight: bold\">110</span>,\n",
       "<span style=\"color: #7fbf7f; text-decoration-color: #7fbf7f\">│   </span><span style=\"color: #008000; text-decoration-color: #008000\">'l2_reg_1'</span>: <span style=\"color: #008080; text-decoration-color: #008080; font-weight: bold\">0.2864980963607602</span>,\n",
       "<span style=\"color: #7fbf7f; text-decoration-color: #7fbf7f\">│   </span><span style=\"color: #008000; text-decoration-color: #008000\">'l2_reg_2'</span>: <span style=\"color: #008080; text-decoration-color: #008080; font-weight: bold\">0.6518631293670971</span>,\n",
       "<span style=\"color: #7fbf7f; text-decoration-color: #7fbf7f\">│   </span><span style=\"color: #008000; text-decoration-color: #008000\">'l2_reg_3'</span>: <span style=\"color: #008080; text-decoration-color: #008080; font-weight: bold\">0.05624824674993861</span>,\n",
       "<span style=\"color: #7fbf7f; text-decoration-color: #7fbf7f\">│   </span><span style=\"color: #008000; text-decoration-color: #008000\">'dropout_rate'</span>: <span style=\"color: #008080; text-decoration-color: #008080; font-weight: bold\">0.8</span>\n",
       "<span style=\"font-weight: bold\">}</span>\n",
       "</pre>\n"
      ],
      "text/plain": [
       "\u001b[1m{\u001b[0m\n",
       "\u001b[2;32m│   \u001b[0m\u001b[32m'sfreq'\u001b[0m: \u001b[1;36m256\u001b[0m,\n",
       "\u001b[2;32m│   \u001b[0m\u001b[32m'batch_size'\u001b[0m: \u001b[1;36m160\u001b[0m,\n",
       "\u001b[2;32m│   \u001b[0m\u001b[32m'pool_size_d2'\u001b[0m: \u001b[1;36m65\u001b[0m,\n",
       "\u001b[2;32m│   \u001b[0m\u001b[32m'strides_d2'\u001b[0m: \u001b[1;36m29\u001b[0m,\n",
       "\u001b[2;32m│   \u001b[0m\u001b[32m'conv_filters_d2'\u001b[0m: \u001b[1;36m31\u001b[0m,\n",
       "\u001b[2;32m│   \u001b[0m\u001b[32m'conv2d_1_units'\u001b[0m: \u001b[1;36m120\u001b[0m,\n",
       "\u001b[2;32m│   \u001b[0m\u001b[32m'conv2d_2_units'\u001b[0m: \u001b[1;36m110\u001b[0m,\n",
       "\u001b[2;32m│   \u001b[0m\u001b[32m'l2_reg_1'\u001b[0m: \u001b[1;36m0.2864980963607602\u001b[0m,\n",
       "\u001b[2;32m│   \u001b[0m\u001b[32m'l2_reg_2'\u001b[0m: \u001b[1;36m0.6518631293670971\u001b[0m,\n",
       "\u001b[2;32m│   \u001b[0m\u001b[32m'l2_reg_3'\u001b[0m: \u001b[1;36m0.05624824674993861\u001b[0m,\n",
       "\u001b[2;32m│   \u001b[0m\u001b[32m'dropout_rate'\u001b[0m: \u001b[1;36m0.8\u001b[0m\n",
       "\u001b[1m}\u001b[0m\n"
      ]
     },
     "metadata": {},
     "output_type": "display_data"
    },
    {
     "data": {
      "text/html": [
       "<pre style=\"white-space:pre;overflow-x:auto;line-height:normal;font-family:Menlo,'DejaVu Sans Mono',consolas,'Courier New',monospace\">test_accuracy = <span style=\"color: #008080; text-decoration-color: #008080; font-weight: bold\">0.5909091234207153</span>\n",
       "</pre>\n"
      ],
      "text/plain": [
       "test_accuracy = \u001b[1;36m0.5909091234207153\u001b[0m\n"
      ]
     },
     "metadata": {},
     "output_type": "display_data"
    },
    {
     "data": {
      "text/html": [
       "<pre style=\"white-space:pre;overflow-x:auto;line-height:normal;font-family:Menlo,'DejaVu Sans Mono',consolas,'Courier New',monospace\">val_accuracy = <span style=\"color: #008080; text-decoration-color: #008080; font-weight: bold\">0.8333333134651184</span>\n",
       "</pre>\n"
      ],
      "text/plain": [
       "val_accuracy = \u001b[1;36m0.8333333134651184\u001b[0m\n"
      ]
     },
     "metadata": {},
     "output_type": "display_data"
    },
    {
     "data": {
      "text/html": [
       "<pre style=\"white-space:pre;overflow-x:auto;line-height:normal;font-family:Menlo,'DejaVu Sans Mono',consolas,'Courier New',monospace\">channels_selected = <span style=\"font-weight: bold\">[</span><span style=\"color: #008000; text-decoration-color: #008000\">'P3'</span> <span style=\"color: #008000; text-decoration-color: #008000\">'C3'</span> <span style=\"color: #008000; text-decoration-color: #008000\">'Fz'</span> <span style=\"color: #008000; text-decoration-color: #008000\">'F4'</span> <span style=\"color: #008000; text-decoration-color: #008000\">'P4'</span> <span style=\"color: #008000; text-decoration-color: #008000\">'Pz'</span> <span style=\"color: #008000; text-decoration-color: #008000\">'Fp1'</span> <span style=\"color: #008000; text-decoration-color: #008000\">'Fp2'</span> <span style=\"color: #008000; text-decoration-color: #008000\">'T5'</span> <span style=\"color: #008000; text-decoration-color: #008000\">'O1'</span> <span style=\"color: #008000; text-decoration-color: #008000\">'O2'</span> <span style=\"color: #008000; text-decoration-color: #008000\">'F7'</span> <span style=\"color: #008000; text-decoration-color: #008000\">'T6'</span><span style=\"font-weight: bold\">]</span>\n",
       "</pre>\n"
      ],
      "text/plain": [
       "channels_selected = \u001b[1m[\u001b[0m\u001b[32m'P3'\u001b[0m \u001b[32m'C3'\u001b[0m \u001b[32m'Fz'\u001b[0m \u001b[32m'F4'\u001b[0m \u001b[32m'P4'\u001b[0m \u001b[32m'Pz'\u001b[0m \u001b[32m'Fp1'\u001b[0m \u001b[32m'Fp2'\u001b[0m \u001b[32m'T5'\u001b[0m \u001b[32m'O1'\u001b[0m \u001b[32m'O2'\u001b[0m \u001b[32m'F7'\u001b[0m \u001b[32m'T6'\u001b[0m\u001b[1m]\u001b[0m\n"
      ]
     },
     "metadata": {},
     "output_type": "display_data"
    }
   ],
   "source": [
    "rpprint({ k: v for k, v in study.best_trial.params.items() if not k.startswith(\"channels\") })\n",
    "rprint(\"test_accuracy =\", study.best_trial.user_attrs[\"trial_data\"][\"test_accuracy\"])\n",
    "rprint(\"val_accuracy =\", np.max(study.best_trial.user_attrs[\"trial_data\"][\"val_accuracy\"]))\n",
    "rprint(\"channels_selected =\", study.best_trial.user_attrs[\"trial_data\"][\"channels_selected\"])"
   ]
  }
 ],
 "metadata": {
  "kernelspec": {
   "display_name": "moabb_model_optimization",
   "language": "python",
   "name": "python3"
  },
  "language_info": {
   "codemirror_mode": {
    "name": "ipython",
    "version": 3
   },
   "file_extension": ".py",
   "mimetype": "text/x-python",
   "name": "python",
   "nbconvert_exporter": "python",
   "pygments_lexer": "ipython3",
   "version": "3.11.5"
  }
 },
 "nbformat": 4,
 "nbformat_minor": 2
}
