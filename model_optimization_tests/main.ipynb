{
 "cells": [
  {
   "cell_type": "code",
   "execution_count": 19,
   "metadata": {},
   "outputs": [
    {
     "name": "stdout",
     "output_type": "stream",
     "text": [
      "The autoreload extension is already loaded. To reload it, use:\n",
      "  %reload_ext autoreload\n"
     ]
    }
   ],
   "source": [
    "# region General Imports\n",
    "import os\n",
    "import uuid\n",
    "import shutil\n",
    "import time\n",
    "import random\n",
    "import datetime\n",
    "import glob\n",
    "import pickle\n",
    "import tqdm\n",
    "import copy\n",
    "import optuna\n",
    "import numpy as np\n",
    "import pandas as pd\n",
    "import scipy as sp\n",
    "import matplotlib.pyplot as plt\n",
    "import seaborn as sns\n",
    "import mne\n",
    "from rich import print as rprint\n",
    "from rich.pretty import pprint as rpprint\n",
    "from tqdm import tqdm\n",
    "from itertools import chain\n",
    "from functools import partial\n",
    "# endregion General Imports\n",
    "\n",
    "from model_optim.model_optimizer import ModelOptimizer\n",
    "\n",
    "# Dataset\n",
    "from custom_datasets.fatigue_mi import FatigueMI\n",
    "\n",
    "%load_ext autoreload\n",
    "%autoreload 3"
   ]
  },
  {
   "cell_type": "code",
   "execution_count": 10,
   "metadata": {},
   "outputs": [
    {
     "data": {
      "text/plain": [
       "{'channels_selected': array(['P3', 'C3', 'F4', 'Fp1', 'T3', 'O1', 'F7', 'A2', 'T6'], dtype='<U3'),\n",
       " 'model': '{\"module\": \"keras.src.models.functional\", \"class_name\": \"Functional\", \"config\": {\"name\": \"functional_2431\", \"trainable\": true, \"layers\": [{\"module\": \"keras.layers\", \"class_name\": \"InputLayer\", \"config\": {\"batch_shape\": [null, 9, 513, 1], \"dtype\": \"float32\", \"sparse\": false, \"name\": \"input_layer_1143\"}, \"registered_name\": null, \"name\": \"input_layer_1143\", \"inbound_nodes\": []}, {\"module\": \"keras.layers\", \"class_name\": \"Conv2D\", \"config\": {\"name\": \"conv2d_2250\", \"trainable\": true, \"dtype\": \"float32\", \"filters\": 190, \"kernel_size\": [1, 33], \"strides\": [1, 1], \"padding\": \"valid\", \"data_format\": \"channels_last\", \"dilation_rate\": [1, 1], \"groups\": 1, \"activation\": \"linear\", \"use_bias\": true, \"kernel_initializer\": {\"module\": \"keras.initializers\", \"class_name\": \"GlorotUniform\", \"config\": {\"seed\": null}, \"registered_name\": null}, \"bias_initializer\": {\"module\": \"keras.initializers\", \"class_name\": \"Zeros\", \"config\": {}, \"registered_name\": null}, \"kernel_regularizer\": {\"module\": \"keras.regularizers\", \"class_name\": \"L2\", \"config\": {\"l2\": 0.05620846902973261}, \"registered_name\": null}, \"bias_regularizer\": null, \"activity_regularizer\": null, \"kernel_constraint\": {\"module\": \"keras.constraints\", \"class_name\": \"MaxNorm\", \"config\": {\"max_value\": 2.0, \"axis\": [0, 1, 2]}, \"registered_name\": null}, \"bias_constraint\": null}, \"registered_name\": null, \"build_config\": {\"input_shape\": [null, 9, 513, 1]}, \"name\": \"conv2d_2250\", \"inbound_nodes\": [{\"args\": [{\"class_name\": \"__keras_tensor__\", \"config\": {\"shape\": [null, 9, 513, 1], \"dtype\": \"float32\", \"keras_history\": [\"input_layer_1143\", 0, 0]}}], \"kwargs\": {}}]}, {\"module\": \"keras.layers\", \"class_name\": \"Conv2D\", \"config\": {\"name\": \"conv2d_2251\", \"trainable\": true, \"dtype\": \"float32\", \"filters\": 180, \"kernel_size\": [9, 1], \"strides\": [1, 1], \"padding\": \"valid\", \"data_format\": \"channels_last\", \"dilation_rate\": [1, 1], \"groups\": 1, \"activation\": \"linear\", \"use_bias\": false, \"kernel_initializer\": {\"module\": \"keras.initializers\", \"class_name\": \"GlorotUniform\", \"config\": {\"seed\": null}, \"registered_name\": null}, \"bias_initializer\": {\"module\": \"keras.initializers\", \"class_name\": \"Zeros\", \"config\": {}, \"registered_name\": null}, \"kernel_regularizer\": {\"module\": \"keras.regularizers\", \"class_name\": \"L2\", \"config\": {\"l2\": 0.5766880804725334}, \"registered_name\": null}, \"bias_regularizer\": null, \"activity_regularizer\": null, \"kernel_constraint\": {\"module\": \"keras.constraints\", \"class_name\": \"MaxNorm\", \"config\": {\"max_value\": 2.0, \"axis\": [0, 1, 2]}, \"registered_name\": null}, \"bias_constraint\": null}, \"registered_name\": null, \"build_config\": {\"input_shape\": [null, 9, 481, 190]}, \"name\": \"conv2d_2251\", \"inbound_nodes\": [{\"args\": [{\"class_name\": \"__keras_tensor__\", \"config\": {\"shape\": [null, 9, 481, 190], \"dtype\": \"float32\", \"keras_history\": [\"conv2d_2250\", 0, 0]}}], \"kwargs\": {}}]}, {\"module\": \"keras.layers\", \"class_name\": \"BatchNormalization\", \"config\": {\"name\": \"batch_normalization_1161\", \"trainable\": true, \"dtype\": \"float32\", \"axis\": -1, \"momentum\": 0.9, \"epsilon\": 1e-05, \"center\": true, \"scale\": true, \"beta_initializer\": {\"module\": \"keras.initializers\", \"class_name\": \"Zeros\", \"config\": {}, \"registered_name\": null}, \"gamma_initializer\": {\"module\": \"keras.initializers\", \"class_name\": \"Ones\", \"config\": {}, \"registered_name\": null}, \"moving_mean_initializer\": {\"module\": \"keras.initializers\", \"class_name\": \"Zeros\", \"config\": {}, \"registered_name\": null}, \"moving_variance_initializer\": {\"module\": \"keras.initializers\", \"class_name\": \"Ones\", \"config\": {}, \"registered_name\": null}, \"beta_regularizer\": null, \"gamma_regularizer\": null, \"beta_constraint\": null, \"gamma_constraint\": null, \"synchronized\": false}, \"registered_name\": null, \"build_config\": {\"input_shape\": [null, 1, 481, 180]}, \"name\": \"batch_normalization_1161\", \"inbound_nodes\": [{\"args\": [{\"class_name\": \"__keras_tensor__\", \"config\": {\"shape\": [null, 1, 481, 180], \"dtype\": \"float32\", \"keras_history\": [\"conv2d_2251\", 0, 0]}}], \"kwargs\": {\"mask\": null}}]}, {\"module\": \"keras.layers\", \"class_name\": \"Activation\", \"config\": {\"name\": \"activation_3393\", \"trainable\": true, \"dtype\": \"float32\", \"activation\": {\"module\": \"builtins\", \"class_name\": \"function\", \"config\": \"shallow_conv_net_square_layer\", \"registered_name\": \"function\"}}, \"registered_name\": null, \"build_config\": {\"input_shape\": [null, 1, 481, 180]}, \"name\": \"activation_3393\", \"inbound_nodes\": [{\"args\": [{\"class_name\": \"__keras_tensor__\", \"config\": {\"shape\": [null, 1, 481, 180], \"dtype\": \"float32\", \"keras_history\": [\"batch_normalization_1161\", 0, 0]}}], \"kwargs\": {}}]}, {\"module\": \"keras.layers\", \"class_name\": \"AveragePooling2D\", \"config\": {\"name\": \"average_pooling2d_1125\", \"trainable\": true, \"dtype\": \"float32\", \"pool_size\": [1, 50], \"padding\": \"valid\", \"strides\": [1, 15], \"data_format\": \"channels_last\"}, \"registered_name\": null, \"build_config\": {\"input_shape\": [null, 1, 481, 180]}, \"name\": \"average_pooling2d_1125\", \"inbound_nodes\": [{\"args\": [{\"class_name\": \"__keras_tensor__\", \"config\": {\"shape\": [null, 1, 481, 180], \"dtype\": \"float32\", \"keras_history\": [\"activation_3393\", 0, 0]}}], \"kwargs\": {}}]}, {\"module\": \"keras.layers\", \"class_name\": \"Activation\", \"config\": {\"name\": \"activation_3394\", \"trainable\": true, \"dtype\": \"float32\", \"activation\": {\"module\": \"builtins\", \"class_name\": \"function\", \"config\": \"shallow_conv_net_log_layer\", \"registered_name\": \"function\"}}, \"registered_name\": null, \"build_config\": {\"input_shape\": [null, 1, 29, 180]}, \"name\": \"activation_3394\", \"inbound_nodes\": [{\"args\": [{\"class_name\": \"__keras_tensor__\", \"config\": {\"shape\": [null, 1, 29, 180], \"dtype\": \"float32\", \"keras_history\": [\"average_pooling2d_1125\", 0, 0]}}], \"kwargs\": {}}]}, {\"module\": \"keras.layers\", \"class_name\": \"Dropout\", \"config\": {\"name\": \"dropout_1161\", \"trainable\": true, \"dtype\": \"float32\", \"rate\": 0.6, \"seed\": null, \"noise_shape\": null}, \"registered_name\": null, \"name\": \"dropout_1161\", \"inbound_nodes\": [{\"args\": [{\"class_name\": \"__keras_tensor__\", \"config\": {\"shape\": [null, 1, 29, 180], \"dtype\": \"float32\", \"keras_history\": [\"activation_3394\", 0, 0]}}], \"kwargs\": {\"training\": false}}]}, {\"module\": \"keras.layers\", \"class_name\": \"Flatten\", \"config\": {\"name\": \"flatten_1143\", \"trainable\": true, \"dtype\": \"float32\", \"data_format\": \"channels_last\"}, \"registered_name\": null, \"build_config\": {\"input_shape\": [null, 1, 29, 180]}, \"name\": \"flatten_1143\", \"inbound_nodes\": [{\"args\": [{\"class_name\": \"__keras_tensor__\", \"config\": {\"shape\": [null, 1, 29, 180], \"dtype\": \"float32\", \"keras_history\": [\"dropout_1161\", 0, 0]}}], \"kwargs\": {}}]}, {\"module\": \"keras.layers\", \"class_name\": \"Dense\", \"config\": {\"name\": \"dense_1143\", \"trainable\": true, \"dtype\": \"float32\", \"units\": 2, \"activation\": \"linear\", \"use_bias\": true, \"kernel_initializer\": {\"module\": \"keras.initializers\", \"class_name\": \"GlorotUniform\", \"config\": {\"seed\": null}, \"registered_name\": null}, \"bias_initializer\": {\"module\": \"keras.initializers\", \"class_name\": \"Zeros\", \"config\": {}, \"registered_name\": null}, \"kernel_regularizer\": {\"module\": \"keras.regularizers\", \"class_name\": \"L2\", \"config\": {\"l2\": 0.08580052800199775}, \"registered_name\": null}, \"bias_regularizer\": null, \"kernel_constraint\": {\"module\": \"keras.constraints\", \"class_name\": \"MaxNorm\", \"config\": {\"max_value\": 0.5, \"axis\": 0}, \"registered_name\": null}, \"bias_constraint\": null}, \"registered_name\": null, \"build_config\": {\"input_shape\": [null, 5220]}, \"name\": \"dense_1143\", \"inbound_nodes\": [{\"args\": [{\"class_name\": \"__keras_tensor__\", \"config\": {\"shape\": [null, 5220], \"dtype\": \"float32\", \"keras_history\": [\"flatten_1143\", 0, 0]}}], \"kwargs\": {}}]}, {\"module\": \"keras.layers\", \"class_name\": \"Activation\", \"config\": {\"name\": \"activation_3395\", \"trainable\": true, \"dtype\": \"float32\", \"activation\": \"softmax\"}, \"registered_name\": null, \"build_config\": {\"input_shape\": [null, 2]}, \"name\": \"activation_3395\", \"inbound_nodes\": [{\"args\": [{\"class_name\": \"__keras_tensor__\", \"config\": {\"shape\": [null, 2], \"dtype\": \"float32\", \"keras_history\": [\"dense_1143\", 0, 0]}}], \"kwargs\": {}}]}], \"input_layers\": [[\"input_layer_1143\", 0, 0]], \"output_layers\": [[\"activation_3395\", 0, 0]]}, \"registered_name\": \"Functional\", \"build_config\": {\"input_shape\": null}, \"compile_config\": {\"optimizer\": \"adam\", \"loss\": \"sparse_categorical_crossentropy\", \"loss_weights\": null, \"metrics\": [{\"module\": \"keras.metrics\", \"class_name\": \"SparseCategoricalAccuracy\", \"config\": {\"name\": \"accuracy\", \"dtype\": null}, \"registered_name\": null}], \"weighted_metrics\": null, \"run_eagerly\": false, \"steps_per_execution\": 1, \"jit_compile\": true}}',\n",
       " 'train_accuracy': [0.5588235259056091,\n",
       "  0.7352941036224365,\n",
       "  0.9117646813392639,\n",
       "  0.9558823704719543,\n",
       "  0.9558823704719543],\n",
       " 'val_accuracy': [0.5555555820465088,\n",
       "  0.5555555820465088,\n",
       "  0.6666666865348816,\n",
       "  0.7777777910232544,\n",
       "  0.8333333134651184],\n",
       " 'test_accuracy': 0.6818181872367859}"
      ]
     },
     "execution_count": 10,
     "metadata": {},
     "output_type": "execute_result"
    }
   ],
   "source": [
    "np.load(\"./bkup/best_subjects_search_results/subject_6_shallow_conv_net_7b71b3b6-52f7-435c-be85-2cb99e793f98.npy\", allow_pickle=True).item().user_attrs['trial_data']"
   ]
  },
  {
   "cell_type": "code",
   "execution_count": 20,
   "metadata": {},
   "outputs": [],
   "source": [
    "model_optimizer = ModelOptimizer(\n",
    "    dataset=FatigueMI(),\n",
    "    model_name=\"shallow_conv_net\"\n",
    ")"
   ]
  },
  {
   "cell_type": "code",
   "execution_count": 25,
   "metadata": {},
   "outputs": [
    {
     "name": "stderr",
     "output_type": "stream",
     "text": [
      "/home/araz/Documents/GitHub/moabb_model_optimization/model_optimization_tests/model_optim/model_optimizer.py:376: ExperimentalWarning: NSGAIIISampler is experimental (supported from v3.2.0). The interface can change in the future.\n",
      "  direction=\"minimize\", sampler=optuna.samplers.NSGAIIISampler()\n"
     ]
    },
    {
     "data": {
      "application/vnd.jupyter.widget-view+json": {
       "model_id": "8e1223deee824463b47722747f4fd016",
       "version_major": 2,
       "version_minor": 0
      },
      "text/plain": [
       "  0%|          | 0/50 [00:00<?, ?it/s]"
      ]
     },
     "metadata": {},
     "output_type": "display_data"
    },
    {
     "name": "stdout",
     "output_type": "stream",
     "text": [
      "Adding metadata with 3 columns\n"
     ]
    },
    {
     "name": "stderr",
     "output_type": "stream",
     "text": [
      "/home/araz/anaconda3/envs/moabb_model_optimization/lib/python3.11/site-packages/keras/src/layers/convolutional/base_conv.py:99: UserWarning: Do not pass an `input_shape`/`input_dim` argument to a layer. When using Sequential models, prefer using an `Input(shape)` object as the first layer in the model instead.\n",
      "  super().__init__(\n"
     ]
    },
    {
     "name": "stdout",
     "output_type": "stream",
     "text": [
      "Epoch 1/300\n",
      "\u001b[1m1/1\u001b[0m \u001b[32m━━━━━━━━━━━━━━━━━━━━\u001b[0m\u001b[37m\u001b[0m \u001b[1m1s\u001b[0m 968ms/step - accuracy: 0.5000 - loss: 64.5232 - val_accuracy: 0.5556 - val_loss: 58.0732 - learning_rate: 0.0010\n",
      "Epoch 2/300\n",
      "\u001b[1m1/1\u001b[0m \u001b[32m━━━━━━━━━━━━━━━━━━━━\u001b[0m\u001b[37m\u001b[0m \u001b[1m0s\u001b[0m 209ms/step - accuracy: 0.5882 - loss: 57.1295 - val_accuracy: 0.5000 - val_loss: 53.1432 - learning_rate: 0.0010\n",
      "Epoch 3/300\n",
      "\u001b[1m1/1\u001b[0m \u001b[32m━━━━━━━━━━━━━━━━━━━━\u001b[0m\u001b[37m\u001b[0m \u001b[1m0s\u001b[0m 209ms/step - accuracy: 0.6471 - loss: 53.1271 - val_accuracy: 0.5556 - val_loss: 50.8645 - learning_rate: 0.0010\n",
      "Epoch 4/300\n",
      "\u001b[1m1/1\u001b[0m \u001b[32m━━━━━━━━━━━━━━━━━━━━\u001b[0m\u001b[37m\u001b[0m \u001b[1m0s\u001b[0m 215ms/step - accuracy: 0.8382 - loss: 49.8566 - val_accuracy: 0.3889 - val_loss: 47.6700 - learning_rate: 0.0010\n",
      "Epoch 5/300\n",
      "\u001b[1m1/1\u001b[0m \u001b[32m━━━━━━━━━━━━━━━━━━━━\u001b[0m\u001b[37m\u001b[0m \u001b[1m0s\u001b[0m 219ms/step - accuracy: 0.7794 - loss: 47.3357 - val_accuracy: 0.6111 - val_loss: 45.7514 - learning_rate: 0.0010\n",
      "Epoch 6/300\n",
      "\u001b[1m1/1\u001b[0m \u001b[32m━━━━━━━━━━━━━━━━━━━━\u001b[0m\u001b[37m\u001b[0m \u001b[1m0s\u001b[0m 221ms/step - accuracy: 0.8382 - loss: 45.0723 - val_accuracy: 0.6111 - val_loss: 43.4279 - learning_rate: 0.0010\n",
      "Epoch 7/300\n",
      "\u001b[1m1/1\u001b[0m \u001b[32m━━━━━━━━━━━━━━━━━━━━\u001b[0m\u001b[37m\u001b[0m \u001b[1m0s\u001b[0m 220ms/step - accuracy: 0.8088 - loss: 43.0523 - val_accuracy: 0.5556 - val_loss: 41.8875 - learning_rate: 0.0010\n",
      "Epoch 8/300\n",
      "\u001b[1m1/1\u001b[0m \u001b[32m━━━━━━━━━━━━━━━━━━━━\u001b[0m\u001b[37m\u001b[0m \u001b[1m0s\u001b[0m 207ms/step - accuracy: 0.8529 - loss: 41.2051 - val_accuracy: 0.5556 - val_loss: 39.9129 - learning_rate: 0.0010\n",
      "Epoch 9/300\n",
      "\u001b[1m1/1\u001b[0m \u001b[32m━━━━━━━━━━━━━━━━━━━━\u001b[0m\u001b[37m\u001b[0m \u001b[1m0s\u001b[0m 217ms/step - accuracy: 0.8971 - loss: 39.4365 - val_accuracy: 0.5000 - val_loss: 38.6297 - learning_rate: 0.0010\n",
      "Epoch 10/300\n",
      "\u001b[1m1/1\u001b[0m \u001b[32m━━━━━━━━━━━━━━━━━━━━\u001b[0m\u001b[37m\u001b[0m \u001b[1m0s\u001b[0m 206ms/step - accuracy: 0.8971 - loss: 37.8510 - val_accuracy: 0.5556 - val_loss: 36.9505 - learning_rate: 0.0010\n",
      "Epoch 11/300\n",
      "\u001b[1m1/1\u001b[0m \u001b[32m━━━━━━━━━━━━━━━━━━━━\u001b[0m\u001b[37m\u001b[0m \u001b[1m0s\u001b[0m 207ms/step - accuracy: 0.8971 - loss: 36.3232 - val_accuracy: 0.4444 - val_loss: 35.6101 - learning_rate: 0.0010\n",
      "Epoch 12/300\n",
      "\u001b[1m1/1\u001b[0m \u001b[32m━━━━━━━━━━━━━━━━━━━━\u001b[0m\u001b[37m\u001b[0m \u001b[1m0s\u001b[0m 192ms/step - accuracy: 0.9559 - loss: 34.8575"
     ]
    }
   ],
   "source": [
    "study = model_optimizer.search_best_model(\n",
    "    subjects=[7],\n",
    "    # channels=[],\n",
    "    max_iter = 50,\n",
    "    max_epochs=300,\n",
    "    max_stag_count=20,\n",
    "    rounds=1,\n",
    "    replace_previous_study_for_subjects=True\n",
    ")"
   ]
  },
  {
   "cell_type": "code",
   "execution_count": 22,
   "metadata": {},
   "outputs": [
    {
     "data": {
      "text/html": [
       "<div>\n",
       "<style scoped>\n",
       "    .dataframe tbody tr th:only-of-type {\n",
       "        vertical-align: middle;\n",
       "    }\n",
       "\n",
       "    .dataframe tbody tr th {\n",
       "        vertical-align: top;\n",
       "    }\n",
       "\n",
       "    .dataframe thead th {\n",
       "        text-align: right;\n",
       "    }\n",
       "</style>\n",
       "<table border=\"1\" class=\"dataframe\">\n",
       "  <thead>\n",
       "    <tr style=\"text-align: right;\">\n",
       "      <th></th>\n",
       "      <th>train_acc</th>\n",
       "      <th>test_acc</th>\n",
       "      <th>val_acc</th>\n",
       "      <th>train_val_diff</th>\n",
       "      <th>scores</th>\n",
       "      <th>channels_selected</th>\n",
       "    </tr>\n",
       "  </thead>\n",
       "  <tbody>\n",
       "    <tr>\n",
       "      <th>24</th>\n",
       "      <td>0.926471</td>\n",
       "      <td>0.500000</td>\n",
       "      <td>0.555556</td>\n",
       "      <td>0.370915</td>\n",
       "      <td>4.942807</td>\n",
       "      <td>[P3, C3, Fz, C4, Cz, T5, O2, F8, A2]</td>\n",
       "    </tr>\n",
       "    <tr>\n",
       "      <th>18</th>\n",
       "      <td>1.000000</td>\n",
       "      <td>0.318182</td>\n",
       "      <td>0.444444</td>\n",
       "      <td>0.555556</td>\n",
       "      <td>6.407590</td>\n",
       "      <td>[C3, F3, Cz, Pz, Fp1, Fp2, O2, F7]</td>\n",
       "    </tr>\n",
       "    <tr>\n",
       "      <th>13</th>\n",
       "      <td>0.794118</td>\n",
       "      <td>0.500000</td>\n",
       "      <td>0.555556</td>\n",
       "      <td>0.238562</td>\n",
       "      <td>11.127895</td>\n",
       "      <td>[P3, Fz, P4, Fp2, T3, T5, O2, F7, A2]</td>\n",
       "    </tr>\n",
       "    <tr>\n",
       "      <th>15</th>\n",
       "      <td>0.808824</td>\n",
       "      <td>0.500000</td>\n",
       "      <td>0.555556</td>\n",
       "      <td>0.253268</td>\n",
       "      <td>11.308154</td>\n",
       "      <td>[C3, F3, Fz, F4, C4, P4, Cz, Fp1, O1, O2, F7, ...</td>\n",
       "    </tr>\n",
       "    <tr>\n",
       "      <th>0</th>\n",
       "      <td>0.823529</td>\n",
       "      <td>0.500000</td>\n",
       "      <td>0.555556</td>\n",
       "      <td>0.267974</td>\n",
       "      <td>16.854555</td>\n",
       "      <td>[C3, F3, Fz, F4, Pz, Fp1, O1, O2, F7, A2, T6]</td>\n",
       "    </tr>\n",
       "    <tr>\n",
       "      <th>20</th>\n",
       "      <td>0.764706</td>\n",
       "      <td>0.409091</td>\n",
       "      <td>0.555556</td>\n",
       "      <td>0.209150</td>\n",
       "      <td>19.373888</td>\n",
       "      <td>[C3, F3, F4, Pz, Fp1, Fp2, T3, T5, O1, O2, F7]</td>\n",
       "    </tr>\n",
       "    <tr>\n",
       "      <th>22</th>\n",
       "      <td>0.794118</td>\n",
       "      <td>0.500000</td>\n",
       "      <td>0.722222</td>\n",
       "      <td>0.071895</td>\n",
       "      <td>19.447917</td>\n",
       "      <td>[C3, F3, Fz, F4, C4, P4, Fp2, T3, O2, F8, A2, T6]</td>\n",
       "    </tr>\n",
       "    <tr>\n",
       "      <th>16</th>\n",
       "      <td>0.691176</td>\n",
       "      <td>0.636364</td>\n",
       "      <td>0.500000</td>\n",
       "      <td>0.191176</td>\n",
       "      <td>19.456588</td>\n",
       "      <td>[F3, F4, Cz, Fp1, T5, O1, F8, A2, T4]</td>\n",
       "    </tr>\n",
       "    <tr>\n",
       "      <th>11</th>\n",
       "      <td>0.573529</td>\n",
       "      <td>0.409091</td>\n",
       "      <td>0.555556</td>\n",
       "      <td>0.017974</td>\n",
       "      <td>21.145915</td>\n",
       "      <td>[C3, Pz, Fp1, T5, O1, F7, F8, T4]</td>\n",
       "    </tr>\n",
       "    <tr>\n",
       "      <th>1</th>\n",
       "      <td>0.705882</td>\n",
       "      <td>0.454545</td>\n",
       "      <td>0.666667</td>\n",
       "      <td>0.039216</td>\n",
       "      <td>21.886801</td>\n",
       "      <td>[C3, F3, Fz, F4, P4, Fp2, O1, O2, F7, F8, T6]</td>\n",
       "    </tr>\n",
       "    <tr>\n",
       "      <th>7</th>\n",
       "      <td>0.661765</td>\n",
       "      <td>0.590909</td>\n",
       "      <td>0.666667</td>\n",
       "      <td>0.004902</td>\n",
       "      <td>27.251691</td>\n",
       "      <td>[P4, Pz, Fp2, T3, O1, O2, F7, F8, T6]</td>\n",
       "    </tr>\n",
       "    <tr>\n",
       "      <th>12</th>\n",
       "      <td>0.852941</td>\n",
       "      <td>0.545455</td>\n",
       "      <td>0.666667</td>\n",
       "      <td>0.186274</td>\n",
       "      <td>28.328520</td>\n",
       "      <td>[F3, F4, C4, Cz, Fp2, T3, T5, O1, O2, F7, T6]</td>\n",
       "    </tr>\n",
       "    <tr>\n",
       "      <th>6</th>\n",
       "      <td>0.617647</td>\n",
       "      <td>0.590909</td>\n",
       "      <td>0.611111</td>\n",
       "      <td>0.006536</td>\n",
       "      <td>30.320328</td>\n",
       "      <td>[C3, F3, Fz, T3, O1, F7, T4]</td>\n",
       "    </tr>\n",
       "    <tr>\n",
       "      <th>23</th>\n",
       "      <td>0.588235</td>\n",
       "      <td>0.590909</td>\n",
       "      <td>0.500000</td>\n",
       "      <td>0.088235</td>\n",
       "      <td>39.723147</td>\n",
       "      <td>[P3, C3, F3, P4, Cz, T3, T5, O2, F8, T6, T4]</td>\n",
       "    </tr>\n",
       "    <tr>\n",
       "      <th>21</th>\n",
       "      <td>0.764706</td>\n",
       "      <td>0.500000</td>\n",
       "      <td>0.666667</td>\n",
       "      <td>0.098039</td>\n",
       "      <td>41.801461</td>\n",
       "      <td>[C3, F3, Fz, Fp1, T3, T5, O1, O2]</td>\n",
       "    </tr>\n",
       "    <tr>\n",
       "      <th>19</th>\n",
       "      <td>0.632353</td>\n",
       "      <td>0.545455</td>\n",
       "      <td>0.611111</td>\n",
       "      <td>0.021242</td>\n",
       "      <td>49.872853</td>\n",
       "      <td>[P3, F3, C4, Fp1, Fp2, T5, O1, A2, T6]</td>\n",
       "    </tr>\n",
       "    <tr>\n",
       "      <th>4</th>\n",
       "      <td>0.764706</td>\n",
       "      <td>0.636364</td>\n",
       "      <td>0.611111</td>\n",
       "      <td>0.153595</td>\n",
       "      <td>53.144469</td>\n",
       "      <td>[P3, F3, Fz, C4, P4, Pz, Fp1, Fp2, T3, T5, F7,...</td>\n",
       "    </tr>\n",
       "    <tr>\n",
       "      <th>3</th>\n",
       "      <td>0.838235</td>\n",
       "      <td>0.545455</td>\n",
       "      <td>0.611111</td>\n",
       "      <td>0.227124</td>\n",
       "      <td>58.267927</td>\n",
       "      <td>[P3, C3, F3, Fz, P4, Cz, Fp1, T3, F8, A2, T4]</td>\n",
       "    </tr>\n",
       "    <tr>\n",
       "      <th>5</th>\n",
       "      <td>0.867647</td>\n",
       "      <td>0.545455</td>\n",
       "      <td>0.555556</td>\n",
       "      <td>0.312091</td>\n",
       "      <td>60.301459</td>\n",
       "      <td>[P3, F3, Fz, F4, P4, Fp1, Fp2, T3, T5, F7, T6,...</td>\n",
       "    </tr>\n",
       "    <tr>\n",
       "      <th>14</th>\n",
       "      <td>0.617647</td>\n",
       "      <td>0.545455</td>\n",
       "      <td>0.500000</td>\n",
       "      <td>0.117647</td>\n",
       "      <td>63.262512</td>\n",
       "      <td>[F3, Fz, C4, P4, Cz, Fp1, T3, T5, O1, F8, A2, ...</td>\n",
       "    </tr>\n",
       "    <tr>\n",
       "      <th>8</th>\n",
       "      <td>0.852941</td>\n",
       "      <td>0.500000</td>\n",
       "      <td>0.500000</td>\n",
       "      <td>0.352941</td>\n",
       "      <td>66.507277</td>\n",
       "      <td>[C3, Fz, F4, C4, Fp1, Fp2, T5, O1, O2, F8, A2,...</td>\n",
       "    </tr>\n",
       "    <tr>\n",
       "      <th>2</th>\n",
       "      <td>0.838235</td>\n",
       "      <td>0.500000</td>\n",
       "      <td>0.555556</td>\n",
       "      <td>0.282680</td>\n",
       "      <td>68.325467</td>\n",
       "      <td>[C3, F3, P4, Cz, Fp1, T3, O1, T6]</td>\n",
       "    </tr>\n",
       "    <tr>\n",
       "      <th>17</th>\n",
       "      <td>0.691176</td>\n",
       "      <td>0.500000</td>\n",
       "      <td>0.666667</td>\n",
       "      <td>0.024510</td>\n",
       "      <td>68.731944</td>\n",
       "      <td>[P3, Fp2, T3, A2, T4]</td>\n",
       "    </tr>\n",
       "    <tr>\n",
       "      <th>10</th>\n",
       "      <td>0.720588</td>\n",
       "      <td>0.545455</td>\n",
       "      <td>0.611111</td>\n",
       "      <td>0.109477</td>\n",
       "      <td>75.942969</td>\n",
       "      <td>[C3, F3, Fz, Cz, Fp2, T3, T5, O1, O2, F7, A2, T6]</td>\n",
       "    </tr>\n",
       "    <tr>\n",
       "      <th>9</th>\n",
       "      <td>0.691176</td>\n",
       "      <td>0.545455</td>\n",
       "      <td>0.611111</td>\n",
       "      <td>0.080065</td>\n",
       "      <td>76.321316</td>\n",
       "      <td>[C4, Cz, Fp1, Fp2, T3, O1, F8]</td>\n",
       "    </tr>\n",
       "  </tbody>\n",
       "</table>\n",
       "</div>"
      ],
      "text/plain": [
       "    train_acc  test_acc   val_acc  train_val_diff     scores  \\\n",
       "24   0.926471  0.500000  0.555556        0.370915   4.942807   \n",
       "18   1.000000  0.318182  0.444444        0.555556   6.407590   \n",
       "13   0.794118  0.500000  0.555556        0.238562  11.127895   \n",
       "15   0.808824  0.500000  0.555556        0.253268  11.308154   \n",
       "0    0.823529  0.500000  0.555556        0.267974  16.854555   \n",
       "20   0.764706  0.409091  0.555556        0.209150  19.373888   \n",
       "22   0.794118  0.500000  0.722222        0.071895  19.447917   \n",
       "16   0.691176  0.636364  0.500000        0.191176  19.456588   \n",
       "11   0.573529  0.409091  0.555556        0.017974  21.145915   \n",
       "1    0.705882  0.454545  0.666667        0.039216  21.886801   \n",
       "7    0.661765  0.590909  0.666667        0.004902  27.251691   \n",
       "12   0.852941  0.545455  0.666667        0.186274  28.328520   \n",
       "6    0.617647  0.590909  0.611111        0.006536  30.320328   \n",
       "23   0.588235  0.590909  0.500000        0.088235  39.723147   \n",
       "21   0.764706  0.500000  0.666667        0.098039  41.801461   \n",
       "19   0.632353  0.545455  0.611111        0.021242  49.872853   \n",
       "4    0.764706  0.636364  0.611111        0.153595  53.144469   \n",
       "3    0.838235  0.545455  0.611111        0.227124  58.267927   \n",
       "5    0.867647  0.545455  0.555556        0.312091  60.301459   \n",
       "14   0.617647  0.545455  0.500000        0.117647  63.262512   \n",
       "8    0.852941  0.500000  0.500000        0.352941  66.507277   \n",
       "2    0.838235  0.500000  0.555556        0.282680  68.325467   \n",
       "17   0.691176  0.500000  0.666667        0.024510  68.731944   \n",
       "10   0.720588  0.545455  0.611111        0.109477  75.942969   \n",
       "9    0.691176  0.545455  0.611111        0.080065  76.321316   \n",
       "\n",
       "                                    channels_selected  \n",
       "24               [P3, C3, Fz, C4, Cz, T5, O2, F8, A2]  \n",
       "18                 [C3, F3, Cz, Pz, Fp1, Fp2, O2, F7]  \n",
       "13              [P3, Fz, P4, Fp2, T3, T5, O2, F7, A2]  \n",
       "15  [C3, F3, Fz, F4, C4, P4, Cz, Fp1, O1, O2, F7, ...  \n",
       "0       [C3, F3, Fz, F4, Pz, Fp1, O1, O2, F7, A2, T6]  \n",
       "20     [C3, F3, F4, Pz, Fp1, Fp2, T3, T5, O1, O2, F7]  \n",
       "22  [C3, F3, Fz, F4, C4, P4, Fp2, T3, O2, F8, A2, T6]  \n",
       "16              [F3, F4, Cz, Fp1, T5, O1, F8, A2, T4]  \n",
       "11                  [C3, Pz, Fp1, T5, O1, F7, F8, T4]  \n",
       "1       [C3, F3, Fz, F4, P4, Fp2, O1, O2, F7, F8, T6]  \n",
       "7               [P4, Pz, Fp2, T3, O1, O2, F7, F8, T6]  \n",
       "12      [F3, F4, C4, Cz, Fp2, T3, T5, O1, O2, F7, T6]  \n",
       "6                        [C3, F3, Fz, T3, O1, F7, T4]  \n",
       "23       [P3, C3, F3, P4, Cz, T3, T5, O2, F8, T6, T4]  \n",
       "21                  [C3, F3, Fz, Fp1, T3, T5, O1, O2]  \n",
       "19             [P3, F3, C4, Fp1, Fp2, T5, O1, A2, T6]  \n",
       "4   [P3, F3, Fz, C4, P4, Pz, Fp1, Fp2, T3, T5, F7,...  \n",
       "3       [P3, C3, F3, Fz, P4, Cz, Fp1, T3, F8, A2, T4]  \n",
       "5   [P3, F3, Fz, F4, P4, Fp1, Fp2, T3, T5, F7, T6,...  \n",
       "14  [F3, Fz, C4, P4, Cz, Fp1, T3, T5, O1, F8, A2, ...  \n",
       "8   [C3, Fz, F4, C4, Fp1, Fp2, T5, O1, O2, F8, A2,...  \n",
       "2                   [C3, F3, P4, Cz, Fp1, T3, O1, T6]  \n",
       "17                              [P3, Fp2, T3, A2, T4]  \n",
       "10  [C3, F3, Fz, Cz, Fp2, T3, T5, O1, O2, F7, A2, T6]  \n",
       "9                      [C4, Cz, Fp1, Fp2, T3, O1, F8]  "
      ]
     },
     "execution_count": 22,
     "metadata": {},
     "output_type": "execute_result"
    }
   ],
   "source": [
    "model_optimizer.get_study_metrics(study).sort_values(by=\"scores\", ascending=True)\n",
    "# model_optimizer.get_study_metrics(study).sort_values(by=\"test_acc\", ascending=False)"
   ]
  },
  {
   "cell_type": "code",
   "execution_count": 23,
   "metadata": {},
   "outputs": [
    {
     "data": {
      "text/html": [
       "<pre style=\"white-space:pre;overflow-x:auto;line-height:normal;font-family:Menlo,'DejaVu Sans Mono',consolas,'Courier New',monospace\"><span style=\"font-weight: bold\">{</span>\n",
       "<span style=\"color: #7fbf7f; text-decoration-color: #7fbf7f\">│   </span><span style=\"color: #008000; text-decoration-color: #008000\">'sfreq'</span>: <span style=\"color: #008080; text-decoration-color: #008080; font-weight: bold\">128</span>,\n",
       "<span style=\"color: #7fbf7f; text-decoration-color: #7fbf7f\">│   </span><span style=\"color: #008000; text-decoration-color: #008000\">'batch_size'</span>: <span style=\"color: #008080; text-decoration-color: #008080; font-weight: bold\">256</span>,\n",
       "<span style=\"color: #7fbf7f; text-decoration-color: #7fbf7f\">│   </span><span style=\"color: #008000; text-decoration-color: #008000\">'pool_size_d2'</span>: <span style=\"color: #008080; text-decoration-color: #008080; font-weight: bold\">65</span>,\n",
       "<span style=\"color: #7fbf7f; text-decoration-color: #7fbf7f\">│   </span><span style=\"color: #008000; text-decoration-color: #008000\">'strides_d2'</span>: <span style=\"color: #008080; text-decoration-color: #008080; font-weight: bold\">19</span>,\n",
       "<span style=\"color: #7fbf7f; text-decoration-color: #7fbf7f\">│   </span><span style=\"color: #008000; text-decoration-color: #008000\">'conv_filters_d2'</span>: <span style=\"color: #008080; text-decoration-color: #008080; font-weight: bold\">26</span>,\n",
       "<span style=\"color: #7fbf7f; text-decoration-color: #7fbf7f\">│   </span><span style=\"color: #008000; text-decoration-color: #008000\">'conv2d_1_units'</span>: <span style=\"color: #008080; text-decoration-color: #008080; font-weight: bold\">150</span>,\n",
       "<span style=\"color: #7fbf7f; text-decoration-color: #7fbf7f\">│   </span><span style=\"color: #008000; text-decoration-color: #008000\">'conv2d_2_units'</span>: <span style=\"color: #008080; text-decoration-color: #008080; font-weight: bold\">70</span>,\n",
       "<span style=\"color: #7fbf7f; text-decoration-color: #7fbf7f\">│   </span><span style=\"color: #008000; text-decoration-color: #008000\">'l2_reg_1'</span>: <span style=\"color: #008080; text-decoration-color: #008080; font-weight: bold\">0.10188474000116615</span>,\n",
       "<span style=\"color: #7fbf7f; text-decoration-color: #7fbf7f\">│   </span><span style=\"color: #008000; text-decoration-color: #008000\">'l2_reg_2'</span>: <span style=\"color: #008080; text-decoration-color: #008080; font-weight: bold\">0.030963983161359357</span>,\n",
       "<span style=\"color: #7fbf7f; text-decoration-color: #7fbf7f\">│   </span><span style=\"color: #008000; text-decoration-color: #008000\">'l2_reg_3'</span>: <span style=\"color: #008080; text-decoration-color: #008080; font-weight: bold\">0.15438207921948321</span>,\n",
       "<span style=\"color: #7fbf7f; text-decoration-color: #7fbf7f\">│   </span><span style=\"color: #008000; text-decoration-color: #008000\">'dropout_rate'</span>: <span style=\"color: #008080; text-decoration-color: #008080; font-weight: bold\">0.2</span>\n",
       "<span style=\"font-weight: bold\">}</span>\n",
       "</pre>\n"
      ],
      "text/plain": [
       "\u001b[1m{\u001b[0m\n",
       "\u001b[2;32m│   \u001b[0m\u001b[32m'sfreq'\u001b[0m: \u001b[1;36m128\u001b[0m,\n",
       "\u001b[2;32m│   \u001b[0m\u001b[32m'batch_size'\u001b[0m: \u001b[1;36m256\u001b[0m,\n",
       "\u001b[2;32m│   \u001b[0m\u001b[32m'pool_size_d2'\u001b[0m: \u001b[1;36m65\u001b[0m,\n",
       "\u001b[2;32m│   \u001b[0m\u001b[32m'strides_d2'\u001b[0m: \u001b[1;36m19\u001b[0m,\n",
       "\u001b[2;32m│   \u001b[0m\u001b[32m'conv_filters_d2'\u001b[0m: \u001b[1;36m26\u001b[0m,\n",
       "\u001b[2;32m│   \u001b[0m\u001b[32m'conv2d_1_units'\u001b[0m: \u001b[1;36m150\u001b[0m,\n",
       "\u001b[2;32m│   \u001b[0m\u001b[32m'conv2d_2_units'\u001b[0m: \u001b[1;36m70\u001b[0m,\n",
       "\u001b[2;32m│   \u001b[0m\u001b[32m'l2_reg_1'\u001b[0m: \u001b[1;36m0.10188474000116615\u001b[0m,\n",
       "\u001b[2;32m│   \u001b[0m\u001b[32m'l2_reg_2'\u001b[0m: \u001b[1;36m0.030963983161359357\u001b[0m,\n",
       "\u001b[2;32m│   \u001b[0m\u001b[32m'l2_reg_3'\u001b[0m: \u001b[1;36m0.15438207921948321\u001b[0m,\n",
       "\u001b[2;32m│   \u001b[0m\u001b[32m'dropout_rate'\u001b[0m: \u001b[1;36m0.2\u001b[0m\n",
       "\u001b[1m}\u001b[0m\n"
      ]
     },
     "metadata": {},
     "output_type": "display_data"
    },
    {
     "data": {
      "text/html": [
       "<pre style=\"white-space:pre;overflow-x:auto;line-height:normal;font-family:Menlo,'DejaVu Sans Mono',consolas,'Courier New',monospace\">test_accuracy = <span style=\"color: #008080; text-decoration-color: #008080; font-weight: bold\">0.5</span>\n",
       "</pre>\n"
      ],
      "text/plain": [
       "test_accuracy = \u001b[1;36m0.5\u001b[0m\n"
      ]
     },
     "metadata": {},
     "output_type": "display_data"
    },
    {
     "data": {
      "text/html": [
       "<pre style=\"white-space:pre;overflow-x:auto;line-height:normal;font-family:Menlo,'DejaVu Sans Mono',consolas,'Courier New',monospace\">val_accuracy = <span style=\"color: #008080; text-decoration-color: #008080; font-weight: bold\">0.5555555820465088</span>\n",
       "</pre>\n"
      ],
      "text/plain": [
       "val_accuracy = \u001b[1;36m0.5555555820465088\u001b[0m\n"
      ]
     },
     "metadata": {},
     "output_type": "display_data"
    },
    {
     "data": {
      "text/html": [
       "<pre style=\"white-space:pre;overflow-x:auto;line-height:normal;font-family:Menlo,'DejaVu Sans Mono',consolas,'Courier New',monospace\">channels_selected = <span style=\"font-weight: bold\">[</span><span style=\"color: #008000; text-decoration-color: #008000\">'P3'</span> <span style=\"color: #008000; text-decoration-color: #008000\">'C3'</span> <span style=\"color: #008000; text-decoration-color: #008000\">'Fz'</span> <span style=\"color: #008000; text-decoration-color: #008000\">'C4'</span> <span style=\"color: #008000; text-decoration-color: #008000\">'Cz'</span> <span style=\"color: #008000; text-decoration-color: #008000\">'T5'</span> <span style=\"color: #008000; text-decoration-color: #008000\">'O2'</span> <span style=\"color: #008000; text-decoration-color: #008000\">'F8'</span> <span style=\"color: #008000; text-decoration-color: #008000\">'A2'</span><span style=\"font-weight: bold\">]</span>\n",
       "</pre>\n"
      ],
      "text/plain": [
       "channels_selected = \u001b[1m[\u001b[0m\u001b[32m'P3'\u001b[0m \u001b[32m'C3'\u001b[0m \u001b[32m'Fz'\u001b[0m \u001b[32m'C4'\u001b[0m \u001b[32m'Cz'\u001b[0m \u001b[32m'T5'\u001b[0m \u001b[32m'O2'\u001b[0m \u001b[32m'F8'\u001b[0m \u001b[32m'A2'\u001b[0m\u001b[1m]\u001b[0m\n"
      ]
     },
     "metadata": {},
     "output_type": "display_data"
    }
   ],
   "source": [
    "rpprint({ k: v for k, v in study.best_trial.params.items() if not k.startswith(\"channels\") })\n",
    "rprint(\"test_accuracy =\", study.best_trial.user_attrs[\"trial_data\"][\"test_accuracy\"])\n",
    "rprint(\"val_accuracy =\", np.max(study.best_trial.user_attrs[\"trial_data\"][\"val_accuracy\"]))\n",
    "rprint(\"channels_selected =\", study.best_trial.user_attrs[\"trial_data\"][\"channels_selected\"])"
   ]
  },
  {
   "cell_type": "code",
   "execution_count": 24,
   "metadata": {},
   "outputs": [
    {
     "data": {
      "text/html": [
       "<pre style=\"white-space:pre;overflow-x:auto;line-height:normal;font-family:Menlo,'DejaVu Sans Mono',consolas,'Courier New',monospace\"><span style=\"font-weight: bold\">[</span><span style=\"color: #008000; text-decoration-color: #008000\">'./temp/[7]/3e22927bc66e4ee9992cbff3187e1466/model/study_best_trial.npy'</span><span style=\"font-weight: bold\">]</span>\n",
       "</pre>\n"
      ],
      "text/plain": [
       "\u001b[1m[\u001b[0m\u001b[32m'./temp/\u001b[0m\u001b[32m[\u001b[0m\u001b[32m7\u001b[0m\u001b[32m]\u001b[0m\u001b[32m/3e22927bc66e4ee9992cbff3187e1466/model/study_best_trial.npy'\u001b[0m\u001b[1m]\u001b[0m\n"
      ]
     },
     "metadata": {},
     "output_type": "display_data"
    },
    {
     "data": {
      "text/html": [
       "<pre style=\"white-space:pre;overflow-x:auto;line-height:normal;font-family:Menlo,'DejaVu Sans Mono',consolas,'Courier New',monospace\">Found <span style=\"color: #008080; text-decoration-color: #008080; font-weight: bold\">1</span> best trials for subjects: <span style=\"font-weight: bold\">[</span><span style=\"color: #008080; text-decoration-color: #008080; font-weight: bold\">7</span><span style=\"font-weight: bold\">]</span>\n",
       "</pre>\n"
      ],
      "text/plain": [
       "Found \u001b[1;36m1\u001b[0m best trials for subjects: \u001b[1m[\u001b[0m\u001b[1;36m7\u001b[0m\u001b[1m]\u001b[0m\n"
      ]
     },
     "metadata": {},
     "output_type": "display_data"
    }
   ],
   "source": [
    "model_optimizer.clean_up(\n",
    "    action=\"remove_all_but_best_trial_data\",\n",
    "    subjects=[7],\n",
    ")"
   ]
  }
 ],
 "metadata": {
  "kernelspec": {
   "display_name": "moabb_model_optimization",
   "language": "python",
   "name": "python3"
  },
  "language_info": {
   "codemirror_mode": {
    "name": "ipython",
    "version": 3
   },
   "file_extension": ".py",
   "mimetype": "text/x-python",
   "name": "python",
   "nbconvert_exporter": "python",
   "pygments_lexer": "ipython3",
   "version": "3.11.5"
  }
 },
 "nbformat": 4,
 "nbformat_minor": 2
}
