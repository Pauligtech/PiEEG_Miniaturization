{
 "cells": [
  {
   "cell_type": "code",
   "execution_count": 107,
   "metadata": {},
   "outputs": [
    {
     "name": "stdout",
     "output_type": "stream",
     "text": [
      "The autoreload extension is already loaded. To reload it, use:\n",
      "  %reload_ext autoreload\n"
     ]
    }
   ],
   "source": [
    "# region General Imports\n",
    "import os\n",
    "import uuid\n",
    "import shutil\n",
    "import time\n",
    "import random\n",
    "import datetime\n",
    "import glob\n",
    "import pickle\n",
    "import tqdm\n",
    "import copy\n",
    "import optuna\n",
    "import numpy as np\n",
    "import pandas as pd\n",
    "import scipy as sp\n",
    "import matplotlib.pyplot as plt\n",
    "import seaborn as sns\n",
    "import mne\n",
    "from rich import print as rprint\n",
    "from rich.pretty import pprint as rpprint\n",
    "from tqdm import tqdm\n",
    "from itertools import chain\n",
    "from functools import partial\n",
    "# endregion General Imports\n",
    "\n",
    "from model_optim.model_optimizer import ModelOptimizer\n",
    "\n",
    "# Dataset\n",
    "from custom_datasets.fatigue_mi import FatigueMI\n",
    "\n",
    "%load_ext autoreload\n",
    "%autoreload 3"
   ]
  },
  {
   "cell_type": "code",
   "execution_count": 108,
   "metadata": {},
   "outputs": [
    {
     "data": {
      "text/html": [
       "<pre style=\"white-space:pre;overflow-x:auto;line-height:normal;font-family:Menlo,'DejaVu Sans Mono',consolas,'Courier New',monospace\"><span style=\"font-weight: bold\">{</span>\n",
       "<span style=\"color: #7fbf7f; text-decoration-color: #7fbf7f\">│   </span><span style=\"color: #008000; text-decoration-color: #008000\">'sfreq'</span>: <span style=\"color: #008080; text-decoration-color: #008080; font-weight: bold\">300</span>,\n",
       "<span style=\"color: #7fbf7f; text-decoration-color: #7fbf7f\">│   </span><span style=\"color: #008000; text-decoration-color: #008000\">'batch_size'</span>: <span style=\"color: #008080; text-decoration-color: #008080; font-weight: bold\">160</span>,\n",
       "<span style=\"color: #7fbf7f; text-decoration-color: #7fbf7f\">│   </span><span style=\"color: #008000; text-decoration-color: #008000\">'val_acc'</span>: <span style=\"color: #008080; text-decoration-color: #008080; font-weight: bold\">0.8333333134651184</span>,\n",
       "<span style=\"color: #7fbf7f; text-decoration-color: #7fbf7f\">│   </span><span style=\"color: #008000; text-decoration-color: #008000\">'test_acc'</span>: <span style=\"color: #008080; text-decoration-color: #008080; font-weight: bold\">0.8636363744735718</span>,\n",
       "<span style=\"color: #7fbf7f; text-decoration-color: #7fbf7f\">│   </span><span style=\"color: #008000; text-decoration-color: #008000\">'channels'</span>: <span style=\"color: #800080; text-decoration-color: #800080; font-weight: bold\">array</span><span style=\"font-weight: bold\">([</span><span style=\"color: #008000; text-decoration-color: #008000\">'Fz'</span>, <span style=\"color: #008000; text-decoration-color: #008000\">'C4'</span>, <span style=\"color: #008000; text-decoration-color: #008000\">'Fp2'</span>, <span style=\"color: #008000; text-decoration-color: #008000\">'T5'</span>, <span style=\"color: #008000; text-decoration-color: #008000\">'O2'</span>, <span style=\"color: #008000; text-decoration-color: #008000\">'F7'</span>, <span style=\"color: #008000; text-decoration-color: #008000\">'F8'</span>, <span style=\"color: #008000; text-decoration-color: #008000\">'A2'</span>, <span style=\"color: #008000; text-decoration-color: #008000\">'T6'</span>, <span style=\"color: #008000; text-decoration-color: #008000\">'T4'</span><span style=\"font-weight: bold\">]</span>,\n",
       "<span style=\"color: #7fbf7f; text-decoration-color: #7fbf7f\">│     </span><span style=\"color: #808000; text-decoration-color: #808000\">dtype</span>=<span style=\"color: #008000; text-decoration-color: #008000\">'&lt;U3'</span><span style=\"font-weight: bold\">)</span>\n",
       "<span style=\"font-weight: bold\">}</span>\n",
       "</pre>\n"
      ],
      "text/plain": [
       "\u001b[1m{\u001b[0m\n",
       "\u001b[2;32m│   \u001b[0m\u001b[32m'sfreq'\u001b[0m: \u001b[1;36m300\u001b[0m,\n",
       "\u001b[2;32m│   \u001b[0m\u001b[32m'batch_size'\u001b[0m: \u001b[1;36m160\u001b[0m,\n",
       "\u001b[2;32m│   \u001b[0m\u001b[32m'val_acc'\u001b[0m: \u001b[1;36m0.8333333134651184\u001b[0m,\n",
       "\u001b[2;32m│   \u001b[0m\u001b[32m'test_acc'\u001b[0m: \u001b[1;36m0.8636363744735718\u001b[0m,\n",
       "\u001b[2;32m│   \u001b[0m\u001b[32m'channels'\u001b[0m: \u001b[1;35marray\u001b[0m\u001b[1m(\u001b[0m\u001b[1m[\u001b[0m\u001b[32m'Fz'\u001b[0m, \u001b[32m'C4'\u001b[0m, \u001b[32m'Fp2'\u001b[0m, \u001b[32m'T5'\u001b[0m, \u001b[32m'O2'\u001b[0m, \u001b[32m'F7'\u001b[0m, \u001b[32m'F8'\u001b[0m, \u001b[32m'A2'\u001b[0m, \u001b[32m'T6'\u001b[0m, \u001b[32m'T4'\u001b[0m\u001b[1m]\u001b[0m,\n",
       "\u001b[2;32m│     \u001b[0m\u001b[33mdtype\u001b[0m=\u001b[32m'<U3'\u001b[0m\u001b[1m)\u001b[0m\n",
       "\u001b[1m}\u001b[0m\n"
      ]
     },
     "metadata": {},
     "output_type": "display_data"
    }
   ],
   "source": [
    "# np.load(\"./bkup/best_subjects_search_results/subject_6_shallow_conv_net_7b71b3b6-52f7-435c-be85-2cb99e793f98.npy\", allow_pickle=True).item().user_attrs['trial_data']\n",
    "\n",
    "prev_best_full = np.load(\"./_temp/[1]/292cbc92b8cf46da9986fe7d8447819f/model/study_best_trial.npy\", allow_pickle=True).item()\n",
    "prev_best = prev_best_full.user_attrs['trial_data']\n",
    "\n",
    "rpprint({\n",
    "    \"sfreq\": prev_best_full.params[\"sfreq\"],\n",
    "    \"batch_size\": prev_best_full.params[\"batch_size\"],\n",
    "    \"val_acc\": np.max(prev_best[\"val_accuracy\"]),\n",
    "    \"test_acc\": prev_best[\"test_accuracy\"],\n",
    "    \"channels\": prev_best[\"channels_selected\"],\n",
    "})"
   ]
  },
  {
   "cell_type": "code",
   "execution_count": 109,
   "metadata": {},
   "outputs": [],
   "source": [
    "model_optimizer = ModelOptimizer(\n",
    "    dataset=FatigueMI(),\n",
    "    model_name=\"shallow_conv_net\"\n",
    ")"
   ]
  },
  {
   "cell_type": "code",
   "execution_count": 114,
   "metadata": {},
   "outputs": [
    {
     "name": "stderr",
     "output_type": "stream",
     "text": [
      "/home/arazzz/Documents/GitHub/moabb_model_optimization/model_optimization_tests/model_optim/model_optimizer.py:385: ExperimentalWarning: NSGAIIISampler is experimental (supported from v3.2.0). The interface can change in the future.\n",
      "  if enqueue_prev_best_trial:\n",
      "  0%|          | 0/25 [00:00<?, ?it/s]"
     ]
    },
    {
     "name": "stdout",
     "output_type": "stream",
     "text": [
      "Adding metadata with 3 columns\n",
      "Epoch 1/5\n"
     ]
    },
    {
     "name": "stderr",
     "output_type": "stream",
     "text": [
      "2024-03-02 21:45:36.634992: E tensorflow/core/grappler/optimizers/meta_optimizer.cc:961] layout failed: INVALID_ARGUMENT: Size of values 0 does not match size of permutation 4 @ fanin shape inmodel_238/dropout_238/dropout/SelectV2-2-TransposeNHWCToNCHW-LayoutOptimizer\n"
     ]
    },
    {
     "name": "stdout",
     "output_type": "stream",
     "text": [
      "2/2 [==============================] - 2s 474ms/step - loss: 125.9110 - accuracy: 0.5882 - val_loss: 90.2218 - val_accuracy: 0.5556 - lr: 0.0010\n",
      "Epoch 2/5\n",
      "2/2 [==============================] - 0s 38ms/step - loss: 89.3563 - accuracy: 0.6324 - val_loss: 71.4821 - val_accuracy: 0.5556 - lr: 0.0010\n",
      "Epoch 3/5\n",
      "2/2 [==============================] - 0s 40ms/step - loss: 70.6785 - accuracy: 0.7059 - val_loss: 58.9777 - val_accuracy: 0.6111 - lr: 0.0010\n",
      "Epoch 4/5\n",
      "2/2 [==============================] - 0s 43ms/step - loss: 57.7863 - accuracy: 0.7794 - val_loss: 49.0534 - val_accuracy: 0.6111 - lr: 0.0010\n",
      "Epoch 5/5\n",
      "2/2 [==============================] - 0s 41ms/step - loss: 48.0922 - accuracy: 0.7206 - val_loss: 41.2360 - val_accuracy: 0.5556 - lr: 0.0010\n",
      "\n",
      "\n",
      "1/1 [==============================] - 0s 167ms/step - loss: 41.1787 - accuracy: 0.4545\n"
     ]
    },
    {
     "name": "stderr",
     "output_type": "stream",
     "text": [
      "Best trial: 0. Best value: 0.389339:   4%|▍         | 1/25 [00:03<01:18,  3.28s/it]"
     ]
    },
    {
     "name": "stdout",
     "output_type": "stream",
     "text": [
      "\n",
      "\n",
      "Adding metadata with 3 columns\n",
      "Epoch 1/5\n",
      "1/1 [==============================] - 2s 2s/step - loss: 93.3388 - accuracy: 0.4412 - val_loss: 73.9337 - val_accuracy: 0.5556 - lr: 0.0010\n",
      "Epoch 2/5\n",
      "1/1 [==============================] - 0s 56ms/step - loss: 73.4394 - accuracy: 0.9853 - val_loss: 63.0249 - val_accuracy: 0.5000 - lr: 0.0010\n",
      "Epoch 3/5\n",
      "1/1 [==============================] - 0s 61ms/step - loss: 62.4096 - accuracy: 1.0000 - val_loss: 55.1584 - val_accuracy: 0.4444 - lr: 0.0010\n",
      "Epoch 4/5\n",
      "1/1 [==============================] - 0s 63ms/step - loss: 54.5217 - accuracy: 1.0000 - val_loss: 48.9636 - val_accuracy: 0.4444 - lr: 0.0010\n",
      "Epoch 5/5\n",
      "1/1 [==============================] - 0s 62ms/step - loss: 48.2813 - accuracy: 1.0000 - val_loss: 43.7824 - val_accuracy: 0.4444 - lr: 0.0010\n",
      "\n",
      "\n",
      "1/1 [==============================] - 0s 160ms/step - loss: 43.6724 - accuracy: 0.5909\n"
     ]
    },
    {
     "name": "stderr",
     "output_type": "stream",
     "text": [
      "Best trial: 0. Best value: 0.389339:   8%|▊         | 2/25 [00:06<01:08,  2.96s/it]"
     ]
    },
    {
     "name": "stdout",
     "output_type": "stream",
     "text": [
      "\n",
      "\n",
      "Adding metadata with 3 columns\n",
      "Epoch 1/5\n",
      "2/2 [==============================] - 9s 427ms/step - loss: 19.8900 - accuracy: 0.3529 - val_loss: 14.4848 - val_accuracy: 0.5556 - lr: 0.0010\n",
      "Epoch 2/5\n",
      "2/2 [==============================] - 0s 40ms/step - loss: 14.3822 - accuracy: 0.5000 - val_loss: 13.1082 - val_accuracy: 0.6111 - lr: 0.0010\n",
      "Epoch 3/5\n",
      "2/2 [==============================] - 0s 39ms/step - loss: 13.1018 - accuracy: 0.4853 - val_loss: 12.1426 - val_accuracy: 0.5000 - lr: 0.0010\n",
      "Epoch 4/5\n",
      "2/2 [==============================] - 0s 40ms/step - loss: 12.1317 - accuracy: 0.4706 - val_loss: 11.2890 - val_accuracy: 0.5000 - lr: 0.0010\n",
      "Epoch 5/5\n",
      "2/2 [==============================] - 0s 39ms/step - loss: 11.1840 - accuracy: 0.5441 - val_loss: 10.5410 - val_accuracy: 0.5000 - lr: 0.0010\n",
      "\n",
      "\n",
      "1/1 [==============================] - 0s 171ms/step - loss: 10.5283 - accuracy: 0.4545\n"
     ]
    },
    {
     "name": "stderr",
     "output_type": "stream",
     "text": [
      "Best trial: 0. Best value: 0.389339:  12%|█▏        | 3/25 [00:15<02:11,  5.97s/it]"
     ]
    },
    {
     "name": "stdout",
     "output_type": "stream",
     "text": [
      "\n",
      "\n",
      "Adding metadata with 3 columns\n",
      "Epoch 1/5\n",
      "3/3 [==============================] - 2s 293ms/step - loss: 87.9306 - accuracy: 0.6471 - val_loss: 62.9957 - val_accuracy: 0.5000 - lr: 0.0010\n",
      "Epoch 2/5\n",
      "3/3 [==============================] - 0s 34ms/step - loss: 59.0280 - accuracy: 0.7500 - val_loss: 47.5116 - val_accuracy: 0.5000 - lr: 0.0010\n",
      "Epoch 3/5\n",
      "3/3 [==============================] - 0s 33ms/step - loss: 44.4511 - accuracy: 0.8676 - val_loss: 37.0124 - val_accuracy: 0.6111 - lr: 0.0010\n",
      "Epoch 4/5\n",
      "3/3 [==============================] - 0s 32ms/step - loss: 34.9592 - accuracy: 0.8235 - val_loss: 30.4651 - val_accuracy: 0.5000 - lr: 0.0010\n",
      "Epoch 5/5\n",
      "3/3 [==============================] - 0s 33ms/step - loss: 27.4652 - accuracy: 0.8382 - val_loss: 24.0855 - val_accuracy: 0.5556 - lr: 0.0010\n",
      "\n",
      "\n",
      "1/1 [==============================] - 0s 236ms/step - loss: 23.9330 - accuracy: 0.6364\n"
     ]
    },
    {
     "name": "stderr",
     "output_type": "stream",
     "text": [
      "Best trial: 3. Best value: 0.389289:  16%|█▌        | 4/25 [00:18<01:42,  4.90s/it]"
     ]
    },
    {
     "name": "stdout",
     "output_type": "stream",
     "text": [
      "\n",
      "\n",
      "Adding metadata with 3 columns\n",
      "Epoch 1/5\n",
      "2/2 [==============================] - 1s 370ms/step - loss: 3.2751 - accuracy: 0.4559 - val_loss: 1.5768 - val_accuracy: 0.3889 - lr: 0.0010\n",
      "Epoch 2/5\n",
      "2/2 [==============================] - 0s 39ms/step - loss: 1.1836 - accuracy: 0.6324 - val_loss: 1.4115 - val_accuracy: 0.5000 - lr: 0.0010\n",
      "Epoch 3/5\n",
      "2/2 [==============================] - 0s 37ms/step - loss: 1.1142 - accuracy: 0.6765 - val_loss: 1.2519 - val_accuracy: 0.5556 - lr: 0.0010\n",
      "Epoch 4/5\n",
      "2/2 [==============================] - 0s 38ms/step - loss: 0.9948 - accuracy: 0.8824 - val_loss: 1.2138 - val_accuracy: 0.6667 - lr: 0.0010\n",
      "Epoch 5/5\n",
      "2/2 [==============================] - 0s 36ms/step - loss: 0.9577 - accuracy: 0.9265 - val_loss: 1.1750 - val_accuracy: 0.6111 - lr: 0.0010\n",
      "\n",
      "\n",
      "1/1 [==============================] - 0s 100ms/step - loss: 1.2827 - accuracy: 0.4545\n"
     ]
    },
    {
     "name": "stderr",
     "output_type": "stream",
     "text": [
      "Best trial: 4. Best value: 0.333633:  20%|██        | 5/25 [00:20<01:17,  3.87s/it]"
     ]
    },
    {
     "name": "stdout",
     "output_type": "stream",
     "text": [
      "\n",
      "\n",
      "Sampling frequency of the instance is already 300.0, returning unmodified.\n",
      "Adding metadata with 3 columns\n",
      "Epoch 1/5\n",
      "1/1 [==============================] - 2s 2s/step - loss: 4.2923 - accuracy: 0.5147 - val_loss: 3.2614 - val_accuracy: 0.5556 - lr: 0.0010\n",
      "Epoch 2/5\n",
      "1/1 [==============================] - 0s 61ms/step - loss: 3.0981 - accuracy: 0.7353 - val_loss: 3.1468 - val_accuracy: 0.6111 - lr: 0.0010\n",
      "Epoch 3/5\n",
      "1/1 [==============================] - 0s 66ms/step - loss: 2.8727 - accuracy: 0.8676 - val_loss: 3.0257 - val_accuracy: 0.5000 - lr: 0.0010\n",
      "Epoch 4/5\n",
      "1/1 [==============================] - 0s 64ms/step - loss: 2.7156 - accuracy: 0.9118 - val_loss: 2.9666 - val_accuracy: 0.5000 - lr: 0.0010\n",
      "Epoch 5/5\n",
      "1/1 [==============================] - 0s 64ms/step - loss: 2.5750 - accuracy: 0.9706 - val_loss: 2.8468 - val_accuracy: 0.5556 - lr: 0.0010\n",
      "\n",
      "\n",
      "1/1 [==============================] - 0s 153ms/step - loss: 2.8836 - accuracy: 0.5000\n"
     ]
    },
    {
     "name": "stderr",
     "output_type": "stream",
     "text": [
      "Best trial: 4. Best value: 0.333633:  24%|██▍       | 6/25 [00:23<01:04,  3.38s/it]"
     ]
    },
    {
     "name": "stdout",
     "output_type": "stream",
     "text": [
      "\n",
      "\n",
      "Adding metadata with 3 columns\n",
      "Epoch 1/5\n",
      "1/1 [==============================] - 19s 19s/step - loss: 35.7621 - accuracy: 0.5735 - val_loss: 28.7593 - val_accuracy: 0.5000 - lr: 0.0010\n",
      "Epoch 2/5\n",
      "1/1 [==============================] - 0s 45ms/step - loss: 28.6887 - accuracy: 0.7206 - val_loss: 26.1376 - val_accuracy: 0.5556 - lr: 0.0010\n",
      "Epoch 3/5\n",
      "1/1 [==============================] - 0s 43ms/step - loss: 26.0545 - accuracy: 0.7500 - val_loss: 24.1080 - val_accuracy: 0.3333 - lr: 0.0010\n",
      "Epoch 4/5\n",
      "1/1 [==============================] - 0s 42ms/step - loss: 24.0157 - accuracy: 0.7941 - val_loss: 22.4360 - val_accuracy: 0.6111 - lr: 0.0010\n",
      "Epoch 5/5\n",
      "1/1 [==============================] - 0s 44ms/step - loss: 22.3265 - accuracy: 0.8235 - val_loss: 20.9967 - val_accuracy: 0.5556 - lr: 0.0010\n",
      "\n",
      "\n",
      "1/1 [==============================] - 2s 2s/step - loss: 21.0302 - accuracy: 0.5455\n"
     ]
    },
    {
     "name": "stderr",
     "output_type": "stream",
     "text": [
      "Best trial: 4. Best value: 0.333633:  28%|██▊       | 7/25 [00:44<02:46,  9.23s/it]"
     ]
    },
    {
     "name": "stdout",
     "output_type": "stream",
     "text": [
      "\n",
      "\n",
      "Sampling frequency of the instance is already 300.0, returning unmodified.\n",
      "Adding metadata with 3 columns\n",
      "Epoch 1/5\n",
      "1/1 [==============================] - 1s 1s/step - loss: 4.6566 - accuracy: 0.5735 - val_loss: 2.9602 - val_accuracy: 0.4444 - lr: 0.0010\n",
      "Epoch 2/5\n",
      "1/1 [==============================] - 0s 43ms/step - loss: 2.7554 - accuracy: 0.7206 - val_loss: 2.8323 - val_accuracy: 0.5000 - lr: 0.0010\n",
      "Epoch 3/5\n",
      "1/1 [==============================] - 0s 44ms/step - loss: 2.6830 - accuracy: 0.7206 - val_loss: 2.8178 - val_accuracy: 0.5556 - lr: 0.0010\n",
      "Epoch 4/5\n",
      "1/1 [==============================] - 0s 43ms/step - loss: 2.5112 - accuracy: 0.8088 - val_loss: 2.7353 - val_accuracy: 0.5556 - lr: 0.0010\n",
      "Epoch 5/5\n",
      "1/1 [==============================] - 0s 41ms/step - loss: 2.3886 - accuracy: 0.8971 - val_loss: 2.7298 - val_accuracy: 0.4444 - lr: 0.0010\n",
      "\n",
      "\n",
      "1/1 [==============================] - 0s 109ms/step - loss: 2.7615 - accuracy: 0.3636\n"
     ]
    },
    {
     "name": "stderr",
     "output_type": "stream",
     "text": [
      "Best trial: 4. Best value: 0.333633:  32%|███▏      | 8/25 [00:46<01:57,  6.93s/it]"
     ]
    },
    {
     "name": "stdout",
     "output_type": "stream",
     "text": [
      "\n",
      "\n",
      "Adding metadata with 3 columns\n",
      "Epoch 1/5\n",
      "1/1 [==============================] - 5s 5s/step - loss: 36.6882 - accuracy: 0.5735 - val_loss: 29.1506 - val_accuracy: 0.4444 - lr: 0.0010\n",
      "Epoch 2/5\n",
      "1/1 [==============================] - 0s 61ms/step - loss: 28.8946 - accuracy: 0.8529 - val_loss: 24.7470 - val_accuracy: 0.5000 - lr: 0.0010\n",
      "Epoch 3/5\n",
      "1/1 [==============================] - 0s 57ms/step - loss: 24.5110 - accuracy: 0.8235 - val_loss: 21.6198 - val_accuracy: 0.6111 - lr: 0.0010\n",
      "Epoch 4/5\n",
      "1/1 [==============================] - 0s 58ms/step - loss: 21.3848 - accuracy: 0.9265 - val_loss: 19.2799 - val_accuracy: 0.5556 - lr: 0.0010\n",
      "Epoch 5/5\n",
      "1/1 [==============================] - 0s 58ms/step - loss: 18.9105 - accuracy: 0.8824 - val_loss: 17.2145 - val_accuracy: 0.5000 - lr: 0.0010\n",
      "\n",
      "\n",
      "1/1 [==============================] - 0s 155ms/step - loss: 17.1485 - accuracy: 0.5909\n",
      "\n",
      "\n"
     ]
    },
    {
     "name": "stderr",
     "output_type": "stream",
     "text": [
      "Best trial: 4. Best value: 0.333633:  36%|███▌      | 9/25 [00:52<01:43,  6.48s/it]"
     ]
    },
    {
     "name": "stdout",
     "output_type": "stream",
     "text": [
      "Adding metadata with 3 columns\n",
      "Epoch 1/5\n",
      "1/1 [==============================] - 8s 8s/step - loss: 12.8017 - accuracy: 0.5882 - val_loss: 10.0773 - val_accuracy: 0.3889 - lr: 0.0010\n",
      "Epoch 2/5\n",
      "1/1 [==============================] - 0s 59ms/step - loss: 9.7625 - accuracy: 0.8529 - val_loss: 9.0321 - val_accuracy: 0.5556 - lr: 0.0010\n",
      "Epoch 3/5\n",
      "1/1 [==============================] - 0s 58ms/step - loss: 8.6452 - accuracy: 0.9118 - val_loss: 8.2293 - val_accuracy: 0.5000 - lr: 0.0010\n",
      "Epoch 4/5\n",
      "1/1 [==============================] - 0s 56ms/step - loss: 7.7845 - accuracy: 1.0000 - val_loss: 7.5893 - val_accuracy: 0.5556 - lr: 0.0010\n",
      "Epoch 5/5\n",
      "1/1 [==============================] - 0s 64ms/step - loss: 7.0611 - accuracy: 1.0000 - val_loss: 7.0702 - val_accuracy: 0.5000 - lr: 0.0010\n",
      "\n",
      "\n",
      "1/1 [==============================] - 8s 8s/step - loss: 7.0866 - accuracy: 0.5000\n"
     ]
    },
    {
     "name": "stderr",
     "output_type": "stream",
     "text": [
      "Best trial: 4. Best value: 0.333633:  40%|████      | 10/25 [01:08<02:25,  9.67s/it]"
     ]
    },
    {
     "name": "stdout",
     "output_type": "stream",
     "text": [
      "\n",
      "\n",
      "Sampling frequency of the instance is already 300.0, returning unmodified.\n",
      "Adding metadata with 3 columns\n",
      "Epoch 1/5\n"
     ]
    },
    {
     "name": "stderr",
     "output_type": "stream",
     "text": [
      "2024-03-02 21:46:45.376647: E tensorflow/core/grappler/optimizers/meta_optimizer.cc:961] layout failed: INVALID_ARGUMENT: Size of values 0 does not match size of permutation 4 @ fanin shape inmodel_248/dropout_248/dropout/SelectV2-2-TransposeNHWCToNCHW-LayoutOptimizer\n"
     ]
    },
    {
     "name": "stdout",
     "output_type": "stream",
     "text": [
      "2/2 [==============================] - 3s 528ms/step - loss: 132.0145 - accuracy: 0.4265 - val_loss: 98.5317 - val_accuracy: 0.5000 - lr: 0.0010\n",
      "Epoch 2/5\n",
      "2/2 [==============================] - 0s 55ms/step - loss: 97.8886 - accuracy: 0.5882 - val_loss: 81.6544 - val_accuracy: 0.5556 - lr: 0.0010\n",
      "Epoch 3/5\n",
      "2/2 [==============================] - 0s 38ms/step - loss: 81.1566 - accuracy: 0.6176 - val_loss: 69.5708 - val_accuracy: 0.5000 - lr: 0.0010\n",
      "Epoch 4/5\n",
      "2/2 [==============================] - 0s 40ms/step - loss: 69.1710 - accuracy: 0.6618 - val_loss: 60.2829 - val_accuracy: 0.5556 - lr: 0.0010\n",
      "Epoch 5/5\n",
      "2/2 [==============================] - 0s 38ms/step - loss: 59.8410 - accuracy: 0.7059 - val_loss: 52.5262 - val_accuracy: 0.4444 - lr: 0.0010\n",
      "\n",
      "\n",
      "1/1 [==============================] - 0s 216ms/step - loss: 52.5687 - accuracy: 0.5455\n"
     ]
    },
    {
     "name": "stderr",
     "output_type": "stream",
     "text": [
      "Best trial: 4. Best value: 0.333633:  44%|████▍     | 11/25 [01:12<01:49,  7.79s/it]"
     ]
    },
    {
     "name": "stdout",
     "output_type": "stream",
     "text": [
      "\n",
      "\n",
      "Adding metadata with 3 columns\n",
      "Epoch 1/5\n",
      "1/1 [==============================] - 3s 3s/step - loss: 15.2886 - accuracy: 0.5441 - val_loss: 12.5276 - val_accuracy: 0.4444 - lr: 0.0010\n",
      "Epoch 2/5\n",
      "1/1 [==============================] - 0s 44ms/step - loss: 12.4333 - accuracy: 0.6471 - val_loss: 11.8662 - val_accuracy: 0.4444 - lr: 0.0010\n",
      "Epoch 3/5\n",
      "1/1 [==============================] - 0s 40ms/step - loss: 11.5244 - accuracy: 0.6324 - val_loss: 11.0600 - val_accuracy: 0.4444 - lr: 0.0010\n",
      "Epoch 4/5\n",
      "1/1 [==============================] - 0s 39ms/step - loss: 10.8312 - accuracy: 0.6471 - val_loss: 10.3945 - val_accuracy: 0.4444 - lr: 0.0010\n",
      "Epoch 5/5\n",
      "1/1 [==============================] - 0s 41ms/step - loss: 10.2403 - accuracy: 0.6471 - val_loss: 9.8438 - val_accuracy: 0.5000 - lr: 0.0010\n",
      "\n",
      "\n",
      "1/1 [==============================] - 0s 106ms/step - loss: 9.8136 - accuracy: 0.5000\n"
     ]
    },
    {
     "name": "stderr",
     "output_type": "stream",
     "text": [
      "Best trial: 4. Best value: 0.333633:  48%|████▊     | 12/25 [01:16<01:25,  6.58s/it]"
     ]
    },
    {
     "name": "stdout",
     "output_type": "stream",
     "text": [
      "\n",
      "\n",
      "Adding metadata with 3 columns\n",
      "Epoch 1/5\n",
      "1/1 [==============================] - 3s 3s/step - loss: 65.7819 - accuracy: 0.4265 - val_loss: 52.1390 - val_accuracy: 0.6667 - lr: 0.0010\n",
      "Epoch 2/5\n",
      "1/1 [==============================] - 0s 77ms/step - loss: 51.9004 - accuracy: 0.9265 - val_loss: 44.8179 - val_accuracy: 0.5556 - lr: 0.0010\n",
      "Epoch 3/5\n",
      "1/1 [==============================] - 0s 80ms/step - loss: 44.4560 - accuracy: 0.9706 - val_loss: 39.4421 - val_accuracy: 0.7222 - lr: 0.0010\n",
      "Epoch 4/5\n",
      "1/1 [==============================] - 0s 80ms/step - loss: 39.0747 - accuracy: 1.0000 - val_loss: 35.2470 - val_accuracy: 0.5556 - lr: 0.0010\n",
      "Epoch 5/5\n",
      "1/1 [==============================] - 0s 80ms/step - loss: 34.7964 - accuracy: 1.0000 - val_loss: 31.6719 - val_accuracy: 0.7222 - lr: 0.0010\n",
      "\n",
      "\n",
      "1/1 [==============================] - 0s 224ms/step - loss: 31.7160 - accuracy: 0.5909\n"
     ]
    },
    {
     "name": "stderr",
     "output_type": "stream",
     "text": [
      "Best trial: 12. Best value: 0.278278:  52%|█████▏    | 13/25 [01:20<01:11,  5.94s/it]"
     ]
    },
    {
     "name": "stdout",
     "output_type": "stream",
     "text": [
      "\n",
      "\n",
      "Adding metadata with 3 columns\n",
      "Epoch 1/5\n",
      "3/3 [==============================] - 2s 257ms/step - loss: 5.8460 - accuracy: 0.5294 - val_loss: 3.9412 - val_accuracy: 0.5556 - lr: 0.0010\n",
      "Epoch 2/5\n",
      "3/3 [==============================] - 0s 23ms/step - loss: 3.8586 - accuracy: 0.5588 - val_loss: 3.6504 - val_accuracy: 0.6111 - lr: 0.0010\n",
      "Epoch 3/5\n",
      "3/3 [==============================] - 0s 23ms/step - loss: 3.5134 - accuracy: 0.6912 - val_loss: 3.4176 - val_accuracy: 0.6667 - lr: 0.0010\n",
      "Epoch 4/5\n",
      "3/3 [==============================] - 0s 23ms/step - loss: 3.3345 - accuracy: 0.6618 - val_loss: 3.2202 - val_accuracy: 0.6111 - lr: 0.0010\n",
      "Epoch 5/5\n",
      "3/3 [==============================] - 0s 24ms/step - loss: 3.0549 - accuracy: 0.7794 - val_loss: 3.0377 - val_accuracy: 0.6111 - lr: 0.0010\n",
      "\n",
      "\n",
      "1/1 [==============================] - 0s 187ms/step - loss: 3.0460 - accuracy: 0.5909\n"
     ]
    },
    {
     "name": "stderr",
     "output_type": "stream",
     "text": [
      "Best trial: 12. Best value: 0.278278:  56%|█████▌    | 14/25 [01:23<00:54,  4.95s/it]"
     ]
    },
    {
     "name": "stdout",
     "output_type": "stream",
     "text": [
      "\n",
      "\n",
      "Sampling frequency of the instance is already 300.0, returning unmodified.\n",
      "Adding metadata with 3 columns\n",
      "Epoch 1/5\n",
      "3/3 [==============================] - 2s 248ms/step - loss: 46.7438 - accuracy: 0.5000 - val_loss: 36.6550 - val_accuracy: 0.4444 - lr: 0.0010\n",
      "Epoch 2/5\n",
      "3/3 [==============================] - 0s 31ms/step - loss: 33.8610 - accuracy: 0.6618 - val_loss: 28.7002 - val_accuracy: 0.4444 - lr: 0.0010\n",
      "Epoch 3/5\n",
      "3/3 [==============================] - 0s 29ms/step - loss: 27.2129 - accuracy: 0.7794 - val_loss: 23.6677 - val_accuracy: 0.4444 - lr: 0.0010\n",
      "Epoch 4/5\n",
      "3/3 [==============================] - 0s 29ms/step - loss: 22.3237 - accuracy: 0.8824 - val_loss: 19.6810 - val_accuracy: 0.5000 - lr: 0.0010\n",
      "Epoch 5/5\n",
      "3/3 [==============================] - 0s 29ms/step - loss: 18.5667 - accuracy: 0.8529 - val_loss: 16.6167 - val_accuracy: 0.5000 - lr: 0.0010\n",
      "\n",
      "\n",
      "1/1 [==============================] - 0s 182ms/step - loss: 16.6529 - accuracy: 0.4545\n"
     ]
    },
    {
     "name": "stderr",
     "output_type": "stream",
     "text": [
      "Best trial: 12. Best value: 0.278278:  60%|██████    | 15/25 [01:26<00:42,  4.27s/it]"
     ]
    },
    {
     "name": "stdout",
     "output_type": "stream",
     "text": [
      "\n",
      "\n",
      "Adding metadata with 3 columns\n",
      "Epoch 1/5\n",
      "1/1 [==============================] - 10s 10s/step - loss: 10.0202 - accuracy: 0.5882 - val_loss: 8.9976 - val_accuracy: 0.4444 - lr: 0.0010\n",
      "Epoch 2/5\n",
      "1/1 [==============================] - 0s 48ms/step - loss: 8.6574 - accuracy: 0.7206 - val_loss: 8.4206 - val_accuracy: 0.5000 - lr: 0.0010\n",
      "Epoch 3/5\n",
      "1/1 [==============================] - 0s 44ms/step - loss: 7.9156 - accuracy: 0.7647 - val_loss: 7.7583 - val_accuracy: 0.5556 - lr: 0.0010\n",
      "Epoch 4/5\n",
      "1/1 [==============================] - 0s 47ms/step - loss: 7.3300 - accuracy: 0.8824 - val_loss: 7.2905 - val_accuracy: 0.4444 - lr: 0.0010\n",
      "Epoch 5/5\n",
      "1/1 [==============================] - 0s 47ms/step - loss: 6.8188 - accuracy: 0.8824 - val_loss: 6.9323 - val_accuracy: 0.5556 - lr: 0.0010\n",
      "\n",
      "\n",
      "1/1 [==============================] - 0s 200ms/step - loss: 6.8810 - accuracy: 0.6364\n"
     ]
    },
    {
     "name": "stderr",
     "output_type": "stream",
     "text": [
      "Best trial: 12. Best value: 0.278278:  64%|██████▍   | 16/25 [01:37<00:57,  6.39s/it]"
     ]
    },
    {
     "name": "stdout",
     "output_type": "stream",
     "text": [
      "\n",
      "\n",
      "Adding metadata with 3 columns\n",
      "Epoch 1/5\n",
      "1/1 [==============================] - 2s 2s/step - loss: 9.1077 - accuracy: 0.3971 - val_loss: 6.3421 - val_accuracy: 0.5000 - lr: 0.0010\n",
      "Epoch 2/5\n",
      "1/1 [==============================] - 0s 40ms/step - loss: 6.2502 - accuracy: 0.6029 - val_loss: 5.9775 - val_accuracy: 0.3889 - lr: 0.0010\n",
      "Epoch 3/5\n",
      "1/1 [==============================] - 0s 41ms/step - loss: 5.8902 - accuracy: 0.6029 - val_loss: 5.6902 - val_accuracy: 0.5000 - lr: 0.0010\n",
      "Epoch 4/5\n",
      "1/1 [==============================] - 0s 41ms/step - loss: 5.5962 - accuracy: 0.5735 - val_loss: 5.4463 - val_accuracy: 0.4444 - lr: 0.0010\n",
      "Epoch 5/5\n",
      "1/1 [==============================] - 0s 39ms/step - loss: 5.4003 - accuracy: 0.4853 - val_loss: 5.2229 - val_accuracy: 0.5000 - lr: 0.0010\n",
      "\n",
      "\n",
      "1/1 [==============================] - 0s 117ms/step - loss: 5.1861 - accuracy: 0.5000\n"
     ]
    },
    {
     "name": "stderr",
     "output_type": "stream",
     "text": [
      "Best trial: 12. Best value: 0.278278:  68%|██████▊   | 17/25 [01:39<00:41,  5.25s/it]"
     ]
    },
    {
     "name": "stdout",
     "output_type": "stream",
     "text": [
      "\n",
      "\n",
      "Sampling frequency of the instance is already 300.0, returning unmodified.\n",
      "Adding metadata with 3 columns\n",
      "Epoch 1/5\n",
      "1/1 [==============================] - 2s 2s/step - loss: 64.8721 - accuracy: 0.4853 - val_loss: 54.7890 - val_accuracy: 0.4444 - lr: 0.0010\n",
      "Epoch 2/5\n",
      "1/1 [==============================] - 0s 68ms/step - loss: 54.4781 - accuracy: 0.6324 - val_loss: 48.9915 - val_accuracy: 0.4444 - lr: 0.0010\n",
      "Epoch 3/5\n",
      "1/1 [==============================] - 0s 68ms/step - loss: 48.8167 - accuracy: 0.5441 - val_loss: 45.0881 - val_accuracy: 0.5000 - lr: 0.0010\n",
      "Epoch 4/5\n",
      "1/1 [==============================] - 0s 73ms/step - loss: 44.4263 - accuracy: 0.6176 - val_loss: 40.7032 - val_accuracy: 0.4444 - lr: 0.0010\n",
      "Epoch 5/5\n",
      "1/1 [==============================] - 0s 70ms/step - loss: 40.0931 - accuracy: 0.8824 - val_loss: 37.4818 - val_accuracy: 0.6111 - lr: 0.0010\n",
      "\n",
      "\n",
      "1/1 [==============================] - 0s 194ms/step - loss: 37.4019 - accuracy: 0.6364\n"
     ]
    },
    {
     "name": "stderr",
     "output_type": "stream",
     "text": [
      "Best trial: 12. Best value: 0.278278:  72%|███████▏  | 18/25 [01:42<00:32,  4.58s/it]"
     ]
    },
    {
     "name": "stdout",
     "output_type": "stream",
     "text": [
      "\n",
      "\n",
      "Sampling frequency of the instance is already 300.0, returning unmodified.\n",
      "Adding metadata with 3 columns\n",
      "Epoch 1/5\n",
      "1/1 [==============================] - 2s 2s/step - loss: 75.7839 - accuracy: 0.5000 - val_loss: 65.9622 - val_accuracy: 0.4444 - lr: 0.0010\n",
      "Epoch 2/5\n",
      "1/1 [==============================] - 0s 66ms/step - loss: 65.2838 - accuracy: 0.7794 - val_loss: 60.4340 - val_accuracy: 0.5556 - lr: 0.0010\n",
      "Epoch 3/5\n",
      "1/1 [==============================] - 0s 62ms/step - loss: 59.3939 - accuracy: 0.6029 - val_loss: 54.5786 - val_accuracy: 0.6111 - lr: 0.0010\n",
      "Epoch 4/5\n",
      "1/1 [==============================] - 0s 62ms/step - loss: 54.1318 - accuracy: 0.7059 - val_loss: 50.2394 - val_accuracy: 0.5000 - lr: 0.0010\n",
      "Epoch 5/5\n",
      "1/1 [==============================] - 0s 60ms/step - loss: 49.6636 - accuracy: 0.8529 - val_loss: 46.7573 - val_accuracy: 0.5000 - lr: 0.0010\n",
      "\n",
      "\n",
      "1/1 [==============================] - 0s 167ms/step - loss: 46.8512 - accuracy: 0.4545\n"
     ]
    },
    {
     "name": "stderr",
     "output_type": "stream",
     "text": [
      "Best trial: 12. Best value: 0.278278:  76%|███████▌  | 19/25 [01:45<00:24,  4.06s/it]"
     ]
    },
    {
     "name": "stdout",
     "output_type": "stream",
     "text": [
      "\n",
      "\n",
      "Sampling frequency of the instance is already 300.0, returning unmodified.\n",
      "Adding metadata with 3 columns\n",
      "Epoch 1/5\n",
      "3/3 [==============================] - 1s 209ms/step - loss: 12.7592 - accuracy: 0.5441 - val_loss: 11.2956 - val_accuracy: 0.5556 - lr: 0.0010\n",
      "Epoch 2/5\n",
      "3/3 [==============================] - 0s 25ms/step - loss: 9.8086 - accuracy: 0.6324 - val_loss: 9.2650 - val_accuracy: 0.5000 - lr: 0.0010\n",
      "Epoch 3/5\n",
      "3/3 [==============================] - 0s 24ms/step - loss: 8.7454 - accuracy: 0.8088 - val_loss: 8.6168 - val_accuracy: 0.4444 - lr: 0.0010\n",
      "Epoch 4/5\n",
      "3/3 [==============================] - 0s 23ms/step - loss: 8.0051 - accuracy: 0.8824 - val_loss: 8.0548 - val_accuracy: 0.5000 - lr: 0.0010\n",
      "Epoch 5/5\n",
      "3/3 [==============================] - 0s 35ms/step - loss: 7.3932 - accuracy: 0.8971 - val_loss: 7.5258 - val_accuracy: 0.5000 - lr: 0.0010\n",
      "\n",
      "\n",
      "1/1 [==============================] - 0s 109ms/step - loss: 7.5261 - accuracy: 0.5000\n"
     ]
    },
    {
     "name": "stderr",
     "output_type": "stream",
     "text": [
      "Best trial: 12. Best value: 0.278278:  80%|████████  | 20/25 [01:48<00:17,  3.50s/it]"
     ]
    },
    {
     "name": "stdout",
     "output_type": "stream",
     "text": [
      "\n",
      "\n",
      "Adding metadata with 3 columns\n",
      "Epoch 1/5\n",
      "1/1 [==============================] - 3s 3s/step - loss: 123.0273 - accuracy: 0.5441 - val_loss: 100.3938 - val_accuracy: 0.5000 - lr: 0.0010\n",
      "Epoch 2/5\n",
      "1/1 [==============================] - 0s 97ms/step - loss: 100.2302 - accuracy: 0.7941 - val_loss: 86.8795 - val_accuracy: 0.5556 - lr: 0.0010\n",
      "Epoch 3/5\n",
      "1/1 [==============================] - 0s 86ms/step - loss: 86.6005 - accuracy: 0.8971 - val_loss: 76.9550 - val_accuracy: 0.5000 - lr: 0.0010\n",
      "Epoch 4/5\n",
      "1/1 [==============================] - 0s 85ms/step - loss: 76.5862 - accuracy: 0.9706 - val_loss: 69.0090 - val_accuracy: 0.6667 - lr: 0.0010\n",
      "Epoch 5/5\n",
      "1/1 [==============================] - 0s 74ms/step - loss: 68.5898 - accuracy: 0.9706 - val_loss: 62.3480 - val_accuracy: 0.6111 - lr: 0.0010\n",
      "\n",
      "\n",
      "1/1 [==============================] - 0s 213ms/step - loss: 62.3678 - accuracy: 0.5909\n"
     ]
    },
    {
     "name": "stderr",
     "output_type": "stream",
     "text": [
      "Best trial: 12. Best value: 0.278278:  84%|████████▍ | 21/25 [01:51<00:14,  3.57s/it]"
     ]
    },
    {
     "name": "stdout",
     "output_type": "stream",
     "text": [
      "\n",
      "\n",
      "Adding metadata with 3 columns\n",
      "Epoch 1/5\n",
      "1/1 [==============================] - 2s 2s/step - loss: 54.2155 - accuracy: 0.5441 - val_loss: 58.5187 - val_accuracy: 0.4444 - lr: 0.0010\n",
      "Epoch 2/5\n",
      "1/1 [==============================] - 0s 70ms/step - loss: 47.9746 - accuracy: 0.5588 - val_loss: 52.0019 - val_accuracy: 0.5556 - lr: 0.0010\n",
      "Epoch 3/5\n",
      "1/1 [==============================] - 0s 65ms/step - loss: 45.8191 - accuracy: 0.5000 - val_loss: 41.9522 - val_accuracy: 0.4444 - lr: 0.0010\n",
      "Epoch 4/5\n",
      "1/1 [==============================] - 0s 67ms/step - loss: 38.8598 - accuracy: 0.7794 - val_loss: 39.3769 - val_accuracy: 0.5556 - lr: 0.0010\n",
      "Epoch 5/5\n",
      "1/1 [==============================] - 0s 68ms/step - loss: 35.9299 - accuracy: 0.7353 - val_loss: 34.5553 - val_accuracy: 0.6111 - lr: 0.0010\n",
      "\n",
      "\n",
      "1/1 [==============================] - 0s 156ms/step - loss: 34.0882 - accuracy: 0.5455\n",
      "\n",
      "\n"
     ]
    },
    {
     "name": "stderr",
     "output_type": "stream",
     "text": [
      "Best trial: 12. Best value: 0.278278:  88%|████████▊ | 22/25 [01:54<00:09,  3.32s/it]"
     ]
    },
    {
     "name": "stdout",
     "output_type": "stream",
     "text": [
      "Adding metadata with 3 columns\n",
      "Epoch 1/5\n",
      "1/1 [==============================] - 2s 2s/step - loss: 8.5994 - accuracy: 0.6324 - val_loss: 7.8685 - val_accuracy: 0.5556 - lr: 0.0010\n",
      "Epoch 2/5\n",
      "1/1 [==============================] - 0s 64ms/step - loss: 7.7318 - accuracy: 0.7206 - val_loss: 7.2519 - val_accuracy: 0.6667 - lr: 0.0010\n",
      "Epoch 3/5\n",
      "1/1 [==============================] - 0s 63ms/step - loss: 7.0300 - accuracy: 0.9265 - val_loss: 6.8204 - val_accuracy: 0.7222 - lr: 0.0010\n",
      "Epoch 4/5\n",
      "1/1 [==============================] - 0s 66ms/step - loss: 6.5296 - accuracy: 1.0000 - val_loss: 6.5042 - val_accuracy: 0.7222 - lr: 0.0010\n",
      "Epoch 5/5\n",
      "1/1 [==============================] - 0s 62ms/step - loss: 6.1254 - accuracy: 1.0000 - val_loss: 6.1926 - val_accuracy: 0.7778 - lr: 0.0010\n",
      "\n",
      "\n",
      "1/1 [==============================] - 0s 181ms/step - loss: 6.4398 - accuracy: 0.4545\n"
     ]
    },
    {
     "name": "stderr",
     "output_type": "stream",
     "text": [
      "Best trial: 22. Best value: 0.222672:  92%|█████████▏| 23/25 [01:57<00:06,  3.26s/it]"
     ]
    },
    {
     "name": "stdout",
     "output_type": "stream",
     "text": [
      "\n",
      "\n",
      "Adding metadata with 3 columns\n",
      "Epoch 1/5\n",
      "2/2 [==============================] - 6s 1s/step - loss: 138.9159 - accuracy: 0.5000 - val_loss: 109.5573 - val_accuracy: 0.5556 - lr: 0.0010\n",
      "Epoch 2/5\n",
      "2/2 [==============================] - 0s 39ms/step - loss: 108.9565 - accuracy: 0.6176 - val_loss: 88.0652 - val_accuracy: 0.5556 - lr: 0.0010\n",
      "Epoch 3/5\n",
      "2/2 [==============================] - 0s 41ms/step - loss: 87.4074 - accuracy: 0.7794 - val_loss: 74.4154 - val_accuracy: 0.5000 - lr: 0.0010\n",
      "Epoch 4/5\n",
      "2/2 [==============================] - 0s 43ms/step - loss: 74.1102 - accuracy: 0.6471 - val_loss: 64.4981 - val_accuracy: 0.6111 - lr: 0.0010\n",
      "Epoch 5/5\n",
      "2/2 [==============================] - 0s 41ms/step - loss: 64.2572 - accuracy: 0.6765 - val_loss: 56.3558 - val_accuracy: 0.5556 - lr: 0.0010\n",
      "\n",
      "\n",
      "1/1 [==============================] - 0s 269ms/step - loss: 56.2670 - accuracy: 0.5909\n"
     ]
    },
    {
     "name": "stderr",
     "output_type": "stream",
     "text": [
      "Best trial: 22. Best value: 0.222672:  96%|█████████▌| 24/25 [02:05<00:04,  4.76s/it]"
     ]
    },
    {
     "name": "stdout",
     "output_type": "stream",
     "text": [
      "\n",
      "\n",
      "Sampling frequency of the instance is already 300.0, returning unmodified.\n",
      "Adding metadata with 3 columns\n",
      "Epoch 1/5\n",
      "1/1 [==============================] - 6s 6s/step - loss: 81.2411 - accuracy: 0.5294 - val_loss: 64.4808 - val_accuracy: 0.5556 - lr: 0.0010\n",
      "Epoch 2/5\n",
      "1/1 [==============================] - 0s 116ms/step - loss: 63.7080 - accuracy: 0.9412 - val_loss: 56.6088 - val_accuracy: 0.6111 - lr: 0.0010\n",
      "Epoch 3/5\n",
      "1/1 [==============================] - 0s 85ms/step - loss: 56.2005 - accuracy: 0.6176 - val_loss: 57.0333 - val_accuracy: 0.3889 - lr: 0.0010\n",
      "Epoch 4/5\n",
      "1/1 [==============================] - 0s 94ms/step - loss: 50.8176 - accuracy: 0.5588 - val_loss: 47.0041 - val_accuracy: 0.6111 - lr: 0.0010\n",
      "Epoch 5/5\n",
      "1/1 [==============================] - 0s 88ms/step - loss: 42.2782 - accuracy: 0.7206 - val_loss: 39.2088 - val_accuracy: 0.5000 - lr: 0.0010\n",
      "\n",
      "\n",
      "1/1 [==============================] - 0s 230ms/step - loss: 39.2702 - accuracy: 0.4545\n"
     ]
    },
    {
     "name": "stderr",
     "output_type": "stream",
     "text": [
      "Best trial: 22. Best value: 0.222672: 100%|██████████| 25/25 [02:14<00:00,  5.38s/it]"
     ]
    },
    {
     "name": "stdout",
     "output_type": "stream",
     "text": [
      "\n",
      "\n"
     ]
    },
    {
     "name": "stderr",
     "output_type": "stream",
     "text": [
      "\n"
     ]
    }
   ],
   "source": [
    "study = model_optimizer.search_best_model(\n",
    "    subjects=[1],\n",
    "    # channels=['Fz', 'C4', 'Fp2', 'T5', 'O2', 'F7', 'F8', 'A2', 'T6', 'T4'],\n",
    "    # sfreq=300,\n",
    "    # batch_size=160,\n",
    "    max_iter = 25,\n",
    "    max_epochs=5,\n",
    "    max_stag_count=10,\n",
    "    rounds=1,\n",
    "    replace_previous_study_for_subjects=True\n",
    ")"
   ]
  },
  {
   "cell_type": "code",
   "execution_count": 113,
   "metadata": {},
   "outputs": [
    {
     "data": {
      "text/html": [
       "<div>\n",
       "<style scoped>\n",
       "    .dataframe tbody tr th:only-of-type {\n",
       "        vertical-align: middle;\n",
       "    }\n",
       "\n",
       "    .dataframe tbody tr th {\n",
       "        vertical-align: top;\n",
       "    }\n",
       "\n",
       "    .dataframe thead th {\n",
       "        text-align: right;\n",
       "    }\n",
       "</style>\n",
       "<table border=\"1\" class=\"dataframe\">\n",
       "  <thead>\n",
       "    <tr style=\"text-align: right;\">\n",
       "      <th></th>\n",
       "      <th>train_acc</th>\n",
       "      <th>test_acc</th>\n",
       "      <th>val_acc</th>\n",
       "      <th>train_val_acc_diff</th>\n",
       "      <th>train_loss</th>\n",
       "      <th>val_loss</th>\n",
       "      <th>train_val_loss_diff</th>\n",
       "      <th>test_loss</th>\n",
       "      <th>scores</th>\n",
       "      <th>channels_selected</th>\n",
       "      <th>sfreq</th>\n",
       "      <th>batch_size</th>\n",
       "    </tr>\n",
       "  </thead>\n",
       "  <tbody>\n",
       "    <tr>\n",
       "      <th>23</th>\n",
       "      <td>1.000000</td>\n",
       "      <td>0.454545</td>\n",
       "      <td>0.777778</td>\n",
       "      <td>0.222222</td>\n",
       "      <td>38.712139</td>\n",
       "      <td>36.113388</td>\n",
       "      <td>2.598751</td>\n",
       "      <td>36.416714</td>\n",
       "      <td>0.222672</td>\n",
       "      <td>[P3, C3, Fz, Cz, Fp2, T3, O1, T6, T4]</td>\n",
       "      <td>256</td>\n",
       "      <td>192</td>\n",
       "    </tr>\n",
       "    <tr>\n",
       "      <th>16</th>\n",
       "      <td>0.867647</td>\n",
       "      <td>0.454545</td>\n",
       "      <td>0.722222</td>\n",
       "      <td>0.145425</td>\n",
       "      <td>29.584417</td>\n",
       "      <td>23.348167</td>\n",
       "      <td>6.236250</td>\n",
       "      <td>23.387690</td>\n",
       "      <td>0.278278</td>\n",
       "      <td>[P3, F3, Fz, F4, Cz, Pz, Fp1, Fp2, T5, T6]</td>\n",
       "      <td>256</td>\n",
       "      <td>32</td>\n",
       "    </tr>\n",
       "    <tr>\n",
       "      <th>9</th>\n",
       "      <td>0.852941</td>\n",
       "      <td>0.545455</td>\n",
       "      <td>0.666667</td>\n",
       "      <td>0.186274</td>\n",
       "      <td>27.467167</td>\n",
       "      <td>25.843273</td>\n",
       "      <td>1.623894</td>\n",
       "      <td>25.754885</td>\n",
       "      <td>0.333733</td>\n",
       "      <td>[P3, F3, Fz, F4, T3, O1, A2, T6]</td>\n",
       "      <td>256</td>\n",
       "      <td>96</td>\n",
       "    </tr>\n",
       "    <tr>\n",
       "      <th>17</th>\n",
       "      <td>0.926471</td>\n",
       "      <td>0.545455</td>\n",
       "      <td>0.666667</td>\n",
       "      <td>0.259804</td>\n",
       "      <td>26.384428</td>\n",
       "      <td>23.541975</td>\n",
       "      <td>2.842453</td>\n",
       "      <td>24.112532</td>\n",
       "      <td>0.333833</td>\n",
       "      <td>[P3, Fz, C4, Pz, T3, T5, O2, F7, A2, T4]</td>\n",
       "      <td>128</td>\n",
       "      <td>32</td>\n",
       "    </tr>\n",
       "    <tr>\n",
       "      <th>15</th>\n",
       "      <td>0.941176</td>\n",
       "      <td>0.545455</td>\n",
       "      <td>0.666667</td>\n",
       "      <td>0.274510</td>\n",
       "      <td>11.311977</td>\n",
       "      <td>11.348184</td>\n",
       "      <td>0.036206</td>\n",
       "      <td>11.541354</td>\n",
       "      <td>0.333833</td>\n",
       "      <td>[C3, Fz, F4, Cz, Fp2, T5, F7, F8, A2, T4]</td>\n",
       "      <td>256</td>\n",
       "      <td>32</td>\n",
       "    </tr>\n",
       "    <tr>\n",
       "      <th>0</th>\n",
       "      <td>0.926471</td>\n",
       "      <td>0.545455</td>\n",
       "      <td>0.666667</td>\n",
       "      <td>0.259804</td>\n",
       "      <td>12.077768</td>\n",
       "      <td>10.190771</td>\n",
       "      <td>1.886997</td>\n",
       "      <td>10.698915</td>\n",
       "      <td>0.333883</td>\n",
       "      <td>[C3, Fz, C4, P4, Cz, Fp1, Fp2, T5, F7, F8, T4]</td>\n",
       "      <td>300</td>\n",
       "      <td>32</td>\n",
       "    </tr>\n",
       "    <tr>\n",
       "      <th>6</th>\n",
       "      <td>0.955882</td>\n",
       "      <td>0.454545</td>\n",
       "      <td>0.611111</td>\n",
       "      <td>0.344771</td>\n",
       "      <td>54.284248</td>\n",
       "      <td>50.145000</td>\n",
       "      <td>4.139248</td>\n",
       "      <td>50.332218</td>\n",
       "      <td>0.389039</td>\n",
       "      <td>[T3, O1, A2]</td>\n",
       "      <td>256</td>\n",
       "      <td>64</td>\n",
       "    </tr>\n",
       "    <tr>\n",
       "      <th>13</th>\n",
       "      <td>0.926471</td>\n",
       "      <td>0.545455</td>\n",
       "      <td>0.611111</td>\n",
       "      <td>0.315359</td>\n",
       "      <td>9.758842</td>\n",
       "      <td>9.687805</td>\n",
       "      <td>0.071037</td>\n",
       "      <td>9.657433</td>\n",
       "      <td>0.389089</td>\n",
       "      <td>[Cz, Pz, T3, O1]</td>\n",
       "      <td>300</td>\n",
       "      <td>192</td>\n",
       "    </tr>\n",
       "    <tr>\n",
       "      <th>24</th>\n",
       "      <td>0.882353</td>\n",
       "      <td>0.545455</td>\n",
       "      <td>0.611111</td>\n",
       "      <td>0.271242</td>\n",
       "      <td>13.214392</td>\n",
       "      <td>13.930416</td>\n",
       "      <td>0.716024</td>\n",
       "      <td>14.315606</td>\n",
       "      <td>0.389339</td>\n",
       "      <td>[C3, Fz, C4, P4, Cz, Pz, F8, A2, T6]</td>\n",
       "      <td>300</td>\n",
       "      <td>64</td>\n",
       "    </tr>\n",
       "    <tr>\n",
       "      <th>1</th>\n",
       "      <td>0.823529</td>\n",
       "      <td>0.500000</td>\n",
       "      <td>0.611111</td>\n",
       "      <td>0.212418</td>\n",
       "      <td>57.824211</td>\n",
       "      <td>52.186741</td>\n",
       "      <td>5.637470</td>\n",
       "      <td>52.336254</td>\n",
       "      <td>0.389439</td>\n",
       "      <td>[P3, C3, F4, Fp2, O1, O2, F7, F8, A2, T6, T4]</td>\n",
       "      <td>256</td>\n",
       "      <td>224</td>\n",
       "    </tr>\n",
       "    <tr>\n",
       "      <th>20</th>\n",
       "      <td>0.985294</td>\n",
       "      <td>0.500000</td>\n",
       "      <td>0.611111</td>\n",
       "      <td>0.374183</td>\n",
       "      <td>29.507797</td>\n",
       "      <td>26.510229</td>\n",
       "      <td>2.997568</td>\n",
       "      <td>26.728090</td>\n",
       "      <td>0.389539</td>\n",
       "      <td>[P3, C3, C4, P4, Cz, Pz, Fp2, T5, O1, O2, A2, ...</td>\n",
       "      <td>256</td>\n",
       "      <td>192</td>\n",
       "    </tr>\n",
       "    <tr>\n",
       "      <th>2</th>\n",
       "      <td>0.941176</td>\n",
       "      <td>0.500000</td>\n",
       "      <td>0.611111</td>\n",
       "      <td>0.330065</td>\n",
       "      <td>27.368088</td>\n",
       "      <td>24.726044</td>\n",
       "      <td>2.642044</td>\n",
       "      <td>24.688837</td>\n",
       "      <td>0.389589</td>\n",
       "      <td>[P3, C3, Fz, F4, P4, Pz, Fp1, Fp2, T3, T5, O2,...</td>\n",
       "      <td>128</td>\n",
       "      <td>160</td>\n",
       "    </tr>\n",
       "    <tr>\n",
       "      <th>7</th>\n",
       "      <td>0.676471</td>\n",
       "      <td>0.500000</td>\n",
       "      <td>0.555556</td>\n",
       "      <td>0.120915</td>\n",
       "      <td>13.816528</td>\n",
       "      <td>13.264073</td>\n",
       "      <td>0.552455</td>\n",
       "      <td>13.234318</td>\n",
       "      <td>0.444944</td>\n",
       "      <td>[P3, C3, F3, C4, Fp1, T5, O1, F7, F8, T4]</td>\n",
       "      <td>128</td>\n",
       "      <td>224</td>\n",
       "    </tr>\n",
       "    <tr>\n",
       "      <th>14</th>\n",
       "      <td>0.617647</td>\n",
       "      <td>0.545455</td>\n",
       "      <td>0.555556</td>\n",
       "      <td>0.062091</td>\n",
       "      <td>96.638153</td>\n",
       "      <td>91.810455</td>\n",
       "      <td>4.827698</td>\n",
       "      <td>90.952232</td>\n",
       "      <td>0.444944</td>\n",
       "      <td>[P3, F3, F4, C4, P4, Fp1, O1, O2, T6, T4]</td>\n",
       "      <td>300</td>\n",
       "      <td>128</td>\n",
       "    </tr>\n",
       "    <tr>\n",
       "      <th>3</th>\n",
       "      <td>0.661765</td>\n",
       "      <td>0.545455</td>\n",
       "      <td>0.555556</td>\n",
       "      <td>0.106209</td>\n",
       "      <td>8.491897</td>\n",
       "      <td>7.670388</td>\n",
       "      <td>0.821508</td>\n",
       "      <td>7.658897</td>\n",
       "      <td>0.444944</td>\n",
       "      <td>[C3, F3, Fz, C4, Pz, Fp1, O2, F8, A2, T4]</td>\n",
       "      <td>300</td>\n",
       "      <td>32</td>\n",
       "    </tr>\n",
       "    <tr>\n",
       "      <th>19</th>\n",
       "      <td>0.867647</td>\n",
       "      <td>0.500000</td>\n",
       "      <td>0.555556</td>\n",
       "      <td>0.312091</td>\n",
       "      <td>47.663158</td>\n",
       "      <td>44.311222</td>\n",
       "      <td>3.351936</td>\n",
       "      <td>44.294559</td>\n",
       "      <td>0.444944</td>\n",
       "      <td>[F3, F4, P4, Cz, T3, T5, O2, F7, T6, T4]</td>\n",
       "      <td>300</td>\n",
       "      <td>192</td>\n",
       "    </tr>\n",
       "    <tr>\n",
       "      <th>5</th>\n",
       "      <td>0.735294</td>\n",
       "      <td>0.500000</td>\n",
       "      <td>0.555556</td>\n",
       "      <td>0.179739</td>\n",
       "      <td>17.492252</td>\n",
       "      <td>14.703259</td>\n",
       "      <td>2.788994</td>\n",
       "      <td>14.624912</td>\n",
       "      <td>0.445044</td>\n",
       "      <td>[P3, Fz, F4, C4, Cz, Pz, Fp1, Fp2, T5, O1, F7,...</td>\n",
       "      <td>128</td>\n",
       "      <td>64</td>\n",
       "    </tr>\n",
       "    <tr>\n",
       "      <th>8</th>\n",
       "      <td>1.000000</td>\n",
       "      <td>0.545455</td>\n",
       "      <td>0.555556</td>\n",
       "      <td>0.444444</td>\n",
       "      <td>8.267650</td>\n",
       "      <td>8.802983</td>\n",
       "      <td>0.535334</td>\n",
       "      <td>8.713335</td>\n",
       "      <td>0.445094</td>\n",
       "      <td>[P3, C3, F3, C4, P4, Cz, Pz, Fp1, Fp2, T5, O2,...</td>\n",
       "      <td>128</td>\n",
       "      <td>128</td>\n",
       "    </tr>\n",
       "    <tr>\n",
       "      <th>21</th>\n",
       "      <td>0.794118</td>\n",
       "      <td>0.500000</td>\n",
       "      <td>0.555556</td>\n",
       "      <td>0.238562</td>\n",
       "      <td>12.661879</td>\n",
       "      <td>12.077414</td>\n",
       "      <td>0.584465</td>\n",
       "      <td>12.118302</td>\n",
       "      <td>0.445144</td>\n",
       "      <td>[P3, C3, F4, C4, P4, Pz, Fp1, O1, O2, F7, F8, ...</td>\n",
       "      <td>256</td>\n",
       "      <td>128</td>\n",
       "    </tr>\n",
       "    <tr>\n",
       "      <th>22</th>\n",
       "      <td>1.000000</td>\n",
       "      <td>0.500000</td>\n",
       "      <td>0.500000</td>\n",
       "      <td>0.500000</td>\n",
       "      <td>10.655165</td>\n",
       "      <td>10.202718</td>\n",
       "      <td>0.452447</td>\n",
       "      <td>10.108348</td>\n",
       "      <td>0.500400</td>\n",
       "      <td>[C3, F3, C4, P4, Pz, Fp2, T5, F8]</td>\n",
       "      <td>128</td>\n",
       "      <td>224</td>\n",
       "    </tr>\n",
       "    <tr>\n",
       "      <th>18</th>\n",
       "      <td>0.911765</td>\n",
       "      <td>0.500000</td>\n",
       "      <td>0.500000</td>\n",
       "      <td>0.411765</td>\n",
       "      <td>20.658901</td>\n",
       "      <td>19.863068</td>\n",
       "      <td>0.795834</td>\n",
       "      <td>19.816826</td>\n",
       "      <td>0.500500</td>\n",
       "      <td>[P3, F4, P4, Pz, Fp1, Fp2, T3, A2, T6, T4]</td>\n",
       "      <td>128</td>\n",
       "      <td>160</td>\n",
       "    </tr>\n",
       "    <tr>\n",
       "      <th>11</th>\n",
       "      <td>0.955882</td>\n",
       "      <td>0.500000</td>\n",
       "      <td>0.500000</td>\n",
       "      <td>0.455882</td>\n",
       "      <td>55.574070</td>\n",
       "      <td>50.107334</td>\n",
       "      <td>5.466736</td>\n",
       "      <td>50.044510</td>\n",
       "      <td>0.500550</td>\n",
       "      <td>[F3, Fz, C4, Cz, Fp1, T3, T5, O1, F7, F8, A2]</td>\n",
       "      <td>300</td>\n",
       "      <td>128</td>\n",
       "    </tr>\n",
       "    <tr>\n",
       "      <th>12</th>\n",
       "      <td>0.970588</td>\n",
       "      <td>0.500000</td>\n",
       "      <td>0.500000</td>\n",
       "      <td>0.470588</td>\n",
       "      <td>23.048084</td>\n",
       "      <td>21.904976</td>\n",
       "      <td>1.143108</td>\n",
       "      <td>21.868382</td>\n",
       "      <td>0.500550</td>\n",
       "      <td>[C3, F3, F4, C4, Pz, T3, O1, F7, F8, A2, T6]</td>\n",
       "      <td>300</td>\n",
       "      <td>160</td>\n",
       "    </tr>\n",
       "    <tr>\n",
       "      <th>4</th>\n",
       "      <td>0.750000</td>\n",
       "      <td>0.409091</td>\n",
       "      <td>0.500000</td>\n",
       "      <td>0.250000</td>\n",
       "      <td>29.013369</td>\n",
       "      <td>26.546309</td>\n",
       "      <td>2.467060</td>\n",
       "      <td>26.479265</td>\n",
       "      <td>0.500600</td>\n",
       "      <td>[C3, F3, Fz, C4, P4, Cz, Fp2, T5, O2, F7, F8, A2]</td>\n",
       "      <td>128</td>\n",
       "      <td>224</td>\n",
       "    </tr>\n",
       "    <tr>\n",
       "      <th>10</th>\n",
       "      <td>1.000000</td>\n",
       "      <td>0.454545</td>\n",
       "      <td>0.333333</td>\n",
       "      <td>0.666667</td>\n",
       "      <td>52.367336</td>\n",
       "      <td>46.636742</td>\n",
       "      <td>5.730595</td>\n",
       "      <td>46.508698</td>\n",
       "      <td>0.667267</td>\n",
       "      <td>[P3, C3, C4, P4, Cz, Pz, Fp1, Fp2, T3, O1, O2,...</td>\n",
       "      <td>128</td>\n",
       "      <td>96</td>\n",
       "    </tr>\n",
       "  </tbody>\n",
       "</table>\n",
       "</div>"
      ],
      "text/plain": [
       "    train_acc  test_acc   val_acc  train_val_acc_diff  train_loss   val_loss  \\\n",
       "23   1.000000  0.454545  0.777778            0.222222   38.712139  36.113388   \n",
       "16   0.867647  0.454545  0.722222            0.145425   29.584417  23.348167   \n",
       "9    0.852941  0.545455  0.666667            0.186274   27.467167  25.843273   \n",
       "17   0.926471  0.545455  0.666667            0.259804   26.384428  23.541975   \n",
       "15   0.941176  0.545455  0.666667            0.274510   11.311977  11.348184   \n",
       "0    0.926471  0.545455  0.666667            0.259804   12.077768  10.190771   \n",
       "6    0.955882  0.454545  0.611111            0.344771   54.284248  50.145000   \n",
       "13   0.926471  0.545455  0.611111            0.315359    9.758842   9.687805   \n",
       "24   0.882353  0.545455  0.611111            0.271242   13.214392  13.930416   \n",
       "1    0.823529  0.500000  0.611111            0.212418   57.824211  52.186741   \n",
       "20   0.985294  0.500000  0.611111            0.374183   29.507797  26.510229   \n",
       "2    0.941176  0.500000  0.611111            0.330065   27.368088  24.726044   \n",
       "7    0.676471  0.500000  0.555556            0.120915   13.816528  13.264073   \n",
       "14   0.617647  0.545455  0.555556            0.062091   96.638153  91.810455   \n",
       "3    0.661765  0.545455  0.555556            0.106209    8.491897   7.670388   \n",
       "19   0.867647  0.500000  0.555556            0.312091   47.663158  44.311222   \n",
       "5    0.735294  0.500000  0.555556            0.179739   17.492252  14.703259   \n",
       "8    1.000000  0.545455  0.555556            0.444444    8.267650   8.802983   \n",
       "21   0.794118  0.500000  0.555556            0.238562   12.661879  12.077414   \n",
       "22   1.000000  0.500000  0.500000            0.500000   10.655165  10.202718   \n",
       "18   0.911765  0.500000  0.500000            0.411765   20.658901  19.863068   \n",
       "11   0.955882  0.500000  0.500000            0.455882   55.574070  50.107334   \n",
       "12   0.970588  0.500000  0.500000            0.470588   23.048084  21.904976   \n",
       "4    0.750000  0.409091  0.500000            0.250000   29.013369  26.546309   \n",
       "10   1.000000  0.454545  0.333333            0.666667   52.367336  46.636742   \n",
       "\n",
       "    train_val_loss_diff  test_loss    scores  \\\n",
       "23             2.598751  36.416714  0.222672   \n",
       "16             6.236250  23.387690  0.278278   \n",
       "9              1.623894  25.754885  0.333733   \n",
       "17             2.842453  24.112532  0.333833   \n",
       "15             0.036206  11.541354  0.333833   \n",
       "0              1.886997  10.698915  0.333883   \n",
       "6              4.139248  50.332218  0.389039   \n",
       "13             0.071037   9.657433  0.389089   \n",
       "24             0.716024  14.315606  0.389339   \n",
       "1              5.637470  52.336254  0.389439   \n",
       "20             2.997568  26.728090  0.389539   \n",
       "2              2.642044  24.688837  0.389589   \n",
       "7              0.552455  13.234318  0.444944   \n",
       "14             4.827698  90.952232  0.444944   \n",
       "3              0.821508   7.658897  0.444944   \n",
       "19             3.351936  44.294559  0.444944   \n",
       "5              2.788994  14.624912  0.445044   \n",
       "8              0.535334   8.713335  0.445094   \n",
       "21             0.584465  12.118302  0.445144   \n",
       "22             0.452447  10.108348  0.500400   \n",
       "18             0.795834  19.816826  0.500500   \n",
       "11             5.466736  50.044510  0.500550   \n",
       "12             1.143108  21.868382  0.500550   \n",
       "4              2.467060  26.479265  0.500600   \n",
       "10             5.730595  46.508698  0.667267   \n",
       "\n",
       "                                    channels_selected  sfreq  batch_size  \n",
       "23              [P3, C3, Fz, Cz, Fp2, T3, O1, T6, T4]    256         192  \n",
       "16         [P3, F3, Fz, F4, Cz, Pz, Fp1, Fp2, T5, T6]    256          32  \n",
       "9                    [P3, F3, Fz, F4, T3, O1, A2, T6]    256          96  \n",
       "17           [P3, Fz, C4, Pz, T3, T5, O2, F7, A2, T4]    128          32  \n",
       "15          [C3, Fz, F4, Cz, Fp2, T5, F7, F8, A2, T4]    256          32  \n",
       "0      [C3, Fz, C4, P4, Cz, Fp1, Fp2, T5, F7, F8, T4]    300          32  \n",
       "6                                        [T3, O1, A2]    256          64  \n",
       "13                                   [Cz, Pz, T3, O1]    300         192  \n",
       "24               [C3, Fz, C4, P4, Cz, Pz, F8, A2, T6]    300          64  \n",
       "1       [P3, C3, F4, Fp2, O1, O2, F7, F8, A2, T6, T4]    256         224  \n",
       "20  [P3, C3, C4, P4, Cz, Pz, Fp2, T5, O1, O2, A2, ...    256         192  \n",
       "2   [P3, C3, Fz, F4, P4, Pz, Fp1, Fp2, T3, T5, O2,...    128         160  \n",
       "7           [P3, C3, F3, C4, Fp1, T5, O1, F7, F8, T4]    128         224  \n",
       "14          [P3, F3, F4, C4, P4, Fp1, O1, O2, T6, T4]    300         128  \n",
       "3           [C3, F3, Fz, C4, Pz, Fp1, O2, F8, A2, T4]    300          32  \n",
       "19           [F3, F4, P4, Cz, T3, T5, O2, F7, T6, T4]    300         192  \n",
       "5   [P3, Fz, F4, C4, Cz, Pz, Fp1, Fp2, T5, O1, F7,...    128          64  \n",
       "8   [P3, C3, F3, C4, P4, Cz, Pz, Fp1, Fp2, T5, O2,...    128         128  \n",
       "21  [P3, C3, F4, C4, P4, Pz, Fp1, O1, O2, F7, F8, ...    256         128  \n",
       "22                  [C3, F3, C4, P4, Pz, Fp2, T5, F8]    128         224  \n",
       "18         [P3, F4, P4, Pz, Fp1, Fp2, T3, A2, T6, T4]    128         160  \n",
       "11      [F3, Fz, C4, Cz, Fp1, T3, T5, O1, F7, F8, A2]    300         128  \n",
       "12       [C3, F3, F4, C4, Pz, T3, O1, F7, F8, A2, T6]    300         160  \n",
       "4   [C3, F3, Fz, C4, P4, Cz, Fp2, T5, O2, F7, F8, A2]    128         224  \n",
       "10  [P3, C3, C4, P4, Cz, Pz, Fp1, Fp2, T3, O1, O2,...    128          96  "
      ]
     },
     "execution_count": 113,
     "metadata": {},
     "output_type": "execute_result"
    }
   ],
   "source": [
    "model_optimizer.get_study_metrics(study).sort_values(by=\"scores\", ascending=True)\n",
    "# model_optimizer.get_study_metrics(study).sort_values(by=\"test_acc\", ascending=False)"
   ]
  },
  {
   "cell_type": "code",
   "execution_count": 112,
   "metadata": {},
   "outputs": [
    {
     "data": {
      "text/html": [
       "<pre style=\"white-space:pre;overflow-x:auto;line-height:normal;font-family:Menlo,'DejaVu Sans Mono',consolas,'Courier New',monospace\"><span style=\"font-weight: bold\">{</span>\n",
       "<span style=\"color: #7fbf7f; text-decoration-color: #7fbf7f\">│   </span><span style=\"color: #008000; text-decoration-color: #008000\">'sfreq'</span>: <span style=\"color: #008080; text-decoration-color: #008080; font-weight: bold\">256</span>,\n",
       "<span style=\"color: #7fbf7f; text-decoration-color: #7fbf7f\">│   </span><span style=\"color: #008000; text-decoration-color: #008000\">'batch_size'</span>: <span style=\"color: #008080; text-decoration-color: #008080; font-weight: bold\">192</span>,\n",
       "<span style=\"color: #7fbf7f; text-decoration-color: #7fbf7f\">│   </span><span style=\"color: #008000; text-decoration-color: #008000\">'pool_size_d2'</span>: <span style=\"color: #008080; text-decoration-color: #008080; font-weight: bold\">5</span>,\n",
       "<span style=\"color: #7fbf7f; text-decoration-color: #7fbf7f\">│   </span><span style=\"color: #008000; text-decoration-color: #008000\">'strides_d2'</span>: <span style=\"color: #008080; text-decoration-color: #008080; font-weight: bold\">28</span>,\n",
       "<span style=\"color: #7fbf7f; text-decoration-color: #7fbf7f\">│   </span><span style=\"color: #008000; text-decoration-color: #008000\">'conv_filters_d2'</span>: <span style=\"color: #008080; text-decoration-color: #008080; font-weight: bold\">54</span>,\n",
       "<span style=\"color: #7fbf7f; text-decoration-color: #7fbf7f\">│   </span><span style=\"color: #008000; text-decoration-color: #008000\">'conv2d_1_units'</span>: <span style=\"color: #008080; text-decoration-color: #008080; font-weight: bold\">190</span>,\n",
       "<span style=\"color: #7fbf7f; text-decoration-color: #7fbf7f\">│   </span><span style=\"color: #008000; text-decoration-color: #008000\">'conv2d_2_units'</span>: <span style=\"color: #008080; text-decoration-color: #008080; font-weight: bold\">80</span>,\n",
       "<span style=\"color: #7fbf7f; text-decoration-color: #7fbf7f\">│   </span><span style=\"color: #008000; text-decoration-color: #008000\">'l2_reg_1'</span>: <span style=\"color: #008080; text-decoration-color: #008080; font-weight: bold\">0.7926224799954846</span>,\n",
       "<span style=\"color: #7fbf7f; text-decoration-color: #7fbf7f\">│   </span><span style=\"color: #008000; text-decoration-color: #008000\">'l2_reg_2'</span>: <span style=\"color: #008080; text-decoration-color: #008080; font-weight: bold\">0.4828200575740509</span>,\n",
       "<span style=\"color: #7fbf7f; text-decoration-color: #7fbf7f\">│   </span><span style=\"color: #008000; text-decoration-color: #008000\">'l2_reg_3'</span>: <span style=\"color: #008080; text-decoration-color: #008080; font-weight: bold\">0.28386456453413045</span>,\n",
       "<span style=\"color: #7fbf7f; text-decoration-color: #7fbf7f\">│   </span><span style=\"color: #008000; text-decoration-color: #008000\">'dropout_rate'</span>: <span style=\"color: #008080; text-decoration-color: #008080; font-weight: bold\">0.5</span>\n",
       "<span style=\"font-weight: bold\">}</span>\n",
       "</pre>\n"
      ],
      "text/plain": [
       "\u001b[1m{\u001b[0m\n",
       "\u001b[2;32m│   \u001b[0m\u001b[32m'sfreq'\u001b[0m: \u001b[1;36m256\u001b[0m,\n",
       "\u001b[2;32m│   \u001b[0m\u001b[32m'batch_size'\u001b[0m: \u001b[1;36m192\u001b[0m,\n",
       "\u001b[2;32m│   \u001b[0m\u001b[32m'pool_size_d2'\u001b[0m: \u001b[1;36m5\u001b[0m,\n",
       "\u001b[2;32m│   \u001b[0m\u001b[32m'strides_d2'\u001b[0m: \u001b[1;36m28\u001b[0m,\n",
       "\u001b[2;32m│   \u001b[0m\u001b[32m'conv_filters_d2'\u001b[0m: \u001b[1;36m54\u001b[0m,\n",
       "\u001b[2;32m│   \u001b[0m\u001b[32m'conv2d_1_units'\u001b[0m: \u001b[1;36m190\u001b[0m,\n",
       "\u001b[2;32m│   \u001b[0m\u001b[32m'conv2d_2_units'\u001b[0m: \u001b[1;36m80\u001b[0m,\n",
       "\u001b[2;32m│   \u001b[0m\u001b[32m'l2_reg_1'\u001b[0m: \u001b[1;36m0.7926224799954846\u001b[0m,\n",
       "\u001b[2;32m│   \u001b[0m\u001b[32m'l2_reg_2'\u001b[0m: \u001b[1;36m0.4828200575740509\u001b[0m,\n",
       "\u001b[2;32m│   \u001b[0m\u001b[32m'l2_reg_3'\u001b[0m: \u001b[1;36m0.28386456453413045\u001b[0m,\n",
       "\u001b[2;32m│   \u001b[0m\u001b[32m'dropout_rate'\u001b[0m: \u001b[1;36m0.5\u001b[0m\n",
       "\u001b[1m}\u001b[0m\n"
      ]
     },
     "metadata": {},
     "output_type": "display_data"
    },
    {
     "data": {
      "text/html": [
       "<pre style=\"white-space:pre;overflow-x:auto;line-height:normal;font-family:Menlo,'DejaVu Sans Mono',consolas,'Courier New',monospace\">test_accuracy = <span style=\"color: #008080; text-decoration-color: #008080; font-weight: bold\">0.4545454680919647</span>\n",
       "</pre>\n"
      ],
      "text/plain": [
       "test_accuracy = \u001b[1;36m0.4545454680919647\u001b[0m\n"
      ]
     },
     "metadata": {},
     "output_type": "display_data"
    },
    {
     "data": {
      "text/html": [
       "<pre style=\"white-space:pre;overflow-x:auto;line-height:normal;font-family:Menlo,'DejaVu Sans Mono',consolas,'Courier New',monospace\">val_accuracy = <span style=\"color: #008080; text-decoration-color: #008080; font-weight: bold\">0.7777777910232544</span>\n",
       "</pre>\n"
      ],
      "text/plain": [
       "val_accuracy = \u001b[1;36m0.7777777910232544\u001b[0m\n"
      ]
     },
     "metadata": {},
     "output_type": "display_data"
    },
    {
     "data": {
      "text/html": [
       "<pre style=\"white-space:pre;overflow-x:auto;line-height:normal;font-family:Menlo,'DejaVu Sans Mono',consolas,'Courier New',monospace\">channels_selected = <span style=\"font-weight: bold\">[</span><span style=\"color: #008000; text-decoration-color: #008000\">'P3'</span> <span style=\"color: #008000; text-decoration-color: #008000\">'C3'</span> <span style=\"color: #008000; text-decoration-color: #008000\">'Fz'</span> <span style=\"color: #008000; text-decoration-color: #008000\">'Cz'</span> <span style=\"color: #008000; text-decoration-color: #008000\">'Fp2'</span> <span style=\"color: #008000; text-decoration-color: #008000\">'T3'</span> <span style=\"color: #008000; text-decoration-color: #008000\">'O1'</span> <span style=\"color: #008000; text-decoration-color: #008000\">'T6'</span> <span style=\"color: #008000; text-decoration-color: #008000\">'T4'</span><span style=\"font-weight: bold\">]</span>\n",
       "</pre>\n"
      ],
      "text/plain": [
       "channels_selected = \u001b[1m[\u001b[0m\u001b[32m'P3'\u001b[0m \u001b[32m'C3'\u001b[0m \u001b[32m'Fz'\u001b[0m \u001b[32m'Cz'\u001b[0m \u001b[32m'Fp2'\u001b[0m \u001b[32m'T3'\u001b[0m \u001b[32m'O1'\u001b[0m \u001b[32m'T6'\u001b[0m \u001b[32m'T4'\u001b[0m\u001b[1m]\u001b[0m\n"
      ]
     },
     "metadata": {},
     "output_type": "display_data"
    }
   ],
   "source": [
    "rpprint({ k: v for k, v in study.best_trial.params.items() if not k.startswith(\"channels\") })\n",
    "rprint(\"test_accuracy =\", study.best_trial.user_attrs[\"trial_data\"][\"test_accuracy\"])\n",
    "rprint(\"val_accuracy =\", np.max(study.best_trial.user_attrs[\"trial_data\"][\"val_accuracy\"]))\n",
    "rprint(\"channels_selected =\", study.best_trial.user_attrs[\"trial_data\"][\"channels_selected\"])"
   ]
  },
  {
   "cell_type": "code",
   "execution_count": 89,
   "metadata": {},
   "outputs": [
    {
     "data": {
      "text/html": [
       "<pre style=\"white-space:pre;overflow-x:auto;line-height:normal;font-family:Menlo,'DejaVu Sans Mono',consolas,'Courier New',monospace\"><span style=\"font-weight: bold\">[</span><span style=\"color: #008000; text-decoration-color: #008000\">'./temp/[1]/865611df66084ad3982e37da60ab6a1f/model/study_best_trial.npy'</span><span style=\"font-weight: bold\">]</span>\n",
       "</pre>\n"
      ],
      "text/plain": [
       "\u001b[1m[\u001b[0m\u001b[32m'./temp/\u001b[0m\u001b[32m[\u001b[0m\u001b[32m1\u001b[0m\u001b[32m]\u001b[0m\u001b[32m/865611df66084ad3982e37da60ab6a1f/model/study_best_trial.npy'\u001b[0m\u001b[1m]\u001b[0m\n"
      ]
     },
     "metadata": {},
     "output_type": "display_data"
    },
    {
     "data": {
      "text/html": [
       "<pre style=\"white-space:pre;overflow-x:auto;line-height:normal;font-family:Menlo,'DejaVu Sans Mono',consolas,'Courier New',monospace\">Found <span style=\"color: #008080; text-decoration-color: #008080; font-weight: bold\">1</span> best trials for subjects: <span style=\"font-weight: bold\">[</span><span style=\"color: #008080; text-decoration-color: #008080; font-weight: bold\">1</span><span style=\"font-weight: bold\">]</span>\n",
       "</pre>\n"
      ],
      "text/plain": [
       "Found \u001b[1;36m1\u001b[0m best trials for subjects: \u001b[1m[\u001b[0m\u001b[1;36m1\u001b[0m\u001b[1m]\u001b[0m\n"
      ]
     },
     "metadata": {},
     "output_type": "display_data"
    }
   ],
   "source": [
    "model_optimizer.clean_up(\n",
    "    action=\"remove_all_but_best_trial_data\",\n",
    "    subjects=[1],\n",
    ")"
   ]
  }
 ],
 "metadata": {
  "kernelspec": {
   "display_name": "moabb_model_optimization",
   "language": "python",
   "name": "python3"
  },
  "language_info": {
   "codemirror_mode": {
    "name": "ipython",
    "version": 3
   },
   "file_extension": ".py",
   "mimetype": "text/x-python",
   "name": "python",
   "nbconvert_exporter": "python",
   "pygments_lexer": "ipython3",
   "version": "3.11.8"
  }
 },
 "nbformat": 4,
 "nbformat_minor": 2
}
