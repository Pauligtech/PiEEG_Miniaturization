{
 "cells": [
  {
   "cell_type": "code",
   "execution_count": 1,
   "metadata": {},
   "outputs": [
    {
     "name": "stderr",
     "output_type": "stream",
     "text": [
      "2024-02-17 11:19:17.303520: I tensorflow/tsl/cuda/cudart_stub.cc:28] Could not find cuda drivers on your machine, GPU will not be used.\n",
      "2024-02-17 11:19:17.339814: I tensorflow/tsl/cuda/cudart_stub.cc:28] Could not find cuda drivers on your machine, GPU will not be used.\n",
      "2024-02-17 11:19:17.340572: I tensorflow/core/platform/cpu_feature_guard.cc:182] This TensorFlow binary is optimized to use available CPU instructions in performance-critical operations.\n",
      "To enable the following instructions: AVX2 FMA, in other operations, rebuild TensorFlow with the appropriate compiler flags.\n",
      "2024-02-17 11:19:17.933247: W tensorflow/compiler/tf2tensorrt/utils/py_utils.cc:38] TF-TRT Warning: Could not find TensorRT\n",
      "<frozen importlib._bootstrap>:241: FutureWarning: mne.io.pick.pick_types is deprecated will be removed in 1.6, use documented public API instead. If no appropriate public API exists, please open an issue on GitHub.\n",
      "<frozen importlib._bootstrap>:241: FutureWarning: mne.io.pick.pick_channels_regexp is deprecated will be removed in 1.6, use documented public API instead. If no appropriate public API exists, please open an issue on GitHub.\n",
      "<frozen importlib._bootstrap>:241: FutureWarning: mne.io.pick.channel_type is deprecated will be removed in 1.6, use documented public API instead. If no appropriate public API exists, please open an issue on GitHub.\n"
     ]
    }
   ],
   "source": [
    "# General imports\n",
    "from typing import Any, Dict\n",
    "from rich import print as rprint\n",
    "from rich.pretty import pprint as rpprint\n",
    "from pickle import load\n",
    "\n",
    "# Tensorflow + keras imports\n",
    "import tensorflow as tf\n",
    "import keras\n",
    "from keras import backend as K\n",
    "from keras.constraints import max_norm\n",
    "from keras.layers import (\n",
    "    Activation,\n",
    "    Add,\n",
    "    AveragePooling2D,\n",
    "    AvgPool2D,\n",
    "    BatchNormalization,\n",
    "    Concatenate,\n",
    "    Conv2D,\n",
    "    Dense,\n",
    "    DepthwiseConv2D,\n",
    "    Dropout,\n",
    "    Flatten,\n",
    "    Input,\n",
    "    Lambda,\n",
    "    LayerNormalization,\n",
    "    MaxPooling2D,\n",
    "    Permute,\n",
    ")\n",
    "from keras.models import Model, Sequential\n",
    "from scikeras.wrappers import KerasClassifier\n",
    "\n",
    "# Sklearn imports\n",
    "from sklearn.pipeline import Pipeline\n",
    "from sklearn.preprocessing import StandardScaler\n",
    "from sklearn.pipeline import make_pipeline\n",
    "\n",
    "# Moabb imports\n",
    "from moabb.pipelines.utils_deep_model import EEGNet, EEGNet_TC\n",
    "from moabb.pipelines.features import Resampler_Epoch, Convert_Epoch_Array, StandardScaler_Epoch\n",
    "from moabb import set_log_level\n",
    "from moabb.utils import setup_seed\n",
    "from moabb.evaluations import CrossSessionEvaluation, WithinSessionEvaluation\n",
    "from moabb.paradigms import LeftRightImagery\n",
    "\n",
    "# Unused imports\n",
    "# from braindecode import EEGClassifier\n",
    "# from braindecode.models import EEGInception\n",
    "# from scikeras.wrappers import KerasClassifier\n",
    "# from sklearn.pipeline import Pipeline, make_pipeline\n",
    "# from skorch.callbacks import EarlyStopping, EpochScoring\n",
    "# from skorch.dataset import ValidSplit\n",
    "\n",
    "# Datasets\n",
    "from custom_datasets.fatigue_mi import FatigueMI\n",
    "from custom_datasets.norm_cho import NormCho2017\n",
    "from moabb.datasets import Cho2017, Zhou2016\n",
    "\n",
    "%load_ext autoreload\n",
    "%autoreload 3"
   ]
  },
  {
   "cell_type": "code",
   "execution_count": 2,
   "metadata": {},
   "outputs": [],
   "source": [
    "# Set up reproducibility of Tensorflow\n",
    "setup_seed(42)"
   ]
  },
  {
   "cell_type": "code",
   "execution_count": 3,
   "metadata": {},
   "outputs": [
    {
     "name": "stderr",
     "output_type": "stream",
     "text": [
      "2024-02-17 11:19:29.334722: I tensorflow/compiler/xla/stream_executor/cuda/cuda_gpu_executor.cc:996] successful NUMA node read from SysFS had negative value (-1), but there must be at least one NUMA node, so returning NUMA node zero. See more at https://github.com/torvalds/linux/blob/v6.0/Documentation/ABI/testing/sysfs-bus-pci#L344-L355\n",
      "2024-02-17 11:19:29.335721: W tensorflow/core/common_runtime/gpu/gpu_device.cc:1956] Cannot dlopen some GPU libraries. Please make sure the missing libraries mentioned above are installed properly if you would like to use GPU. Follow the guide at https://www.tensorflow.org/install/gpu for how to download and setup the required libraries for your platform.\n",
      "Skipping registering GPU devices...\n"
     ]
    }
   ],
   "source": [
    "# =================================================================================\n",
    "# DeepConvNet\n",
    "# =================================================================================\n",
    "class KerasDeepConvNet(KerasClassifier):\n",
    "    \"\"\"Keras implementation of the Deep Convolutional Network as described in\n",
    "    [1]_.\n",
    "\n",
    "    This implementation is taken from code by the Army Research Laboratory (ARL)\n",
    "    at https://github.com/vlawhern/arl-eegmodels\n",
    "\n",
    "    We use the original parameter implemented on the paper.\n",
    "\n",
    "    Note that this implementation has not been verified by the original\n",
    "    authors.\n",
    "\n",
    "    References\n",
    "    ----------\n",
    "    .. [1] Schirrmeister, R. T., Springenberg, J. T., Fiederer, L. D. J., Glasstetter, M., Eggensperger,\n",
    "           K., Tangermann, M., ... & Ball, T. (2017). Deep learning with convolutional neural networks\n",
    "           for EEG decoding and visualization. Human brain mapping, 38(11), 5391-5420.\n",
    "           https://doi.org/10.1002/hbm.23730\n",
    "\n",
    "    Notes\n",
    "    -----\n",
    "    .. versionadded:: 0.5.0\n",
    "    \"\"\"\n",
    "\n",
    "    def __init__(\n",
    "        self,\n",
    "        loss,\n",
    "        optimizer=\"Adam\",\n",
    "        epochs=1000,\n",
    "        batch_size=64,\n",
    "        verbose=0,\n",
    "        random_state=None,\n",
    "        validation_split=0.2,\n",
    "        history_plot=False,\n",
    "        path=None,\n",
    "        **kwargs,\n",
    "    ):\n",
    "        super().__init__(**kwargs)\n",
    "\n",
    "        self.loss = loss\n",
    "        if optimizer == \"Adam\":\n",
    "            optimizer = tf.keras.optimizers.Adam(learning_rate=0.0009)\n",
    "\n",
    "        self.optimizer = optimizer\n",
    "        self.epochs = epochs\n",
    "        self.batch_size = batch_size\n",
    "        self.verbose = verbose\n",
    "        self.random_state = random_state\n",
    "        self.validation_split = validation_split\n",
    "        self.history_plot = history_plot\n",
    "        self.path = path\n",
    "\n",
    "    def _keras_build_fn(self, compile_kwargs: Dict[str, Any]):\n",
    "        input_main = Input(shape=(self.X_shape_[1], self.X_shape_[2], 1))\n",
    "\n",
    "        block1 = Conv2D(\n",
    "            25,\n",
    "            (1, 10),\n",
    "            input_shape=(self.X_shape_[1], self.X_shape_[2], 1),\n",
    "            kernel_constraint=max_norm(2.0, axis=(0, 1, 2)),\n",
    "        )(input_main)\n",
    "        block1 = Conv2D(\n",
    "            25,\n",
    "            (self.X_shape_[1], 1),\n",
    "            kernel_constraint=max_norm(2.0, axis=(0, 1, 2)),\n",
    "        )(block1)\n",
    "        block1 = BatchNormalization(epsilon=1e-05, momentum=0.9)(block1)\n",
    "        block1 = Activation(\"elu\")(block1)\n",
    "        block1 = MaxPooling2D(pool_size=(1, 3), strides=(1, 3))(block1)\n",
    "        block1 = Dropout(0.5)(block1)\n",
    "\n",
    "        block2 = Conv2D(50, (1, 10), kernel_constraint=max_norm(2.0, axis=(0, 1, 2)))(\n",
    "            block1\n",
    "        )\n",
    "        block2 = BatchNormalization(epsilon=1e-05, momentum=0.9)(block2)\n",
    "        block2 = Activation(\"elu\")(block2)\n",
    "        block2 = MaxPooling2D(pool_size=(1, 3), strides=(1, 3))(block2)\n",
    "        block2 = Dropout(0.5)(block2)\n",
    "\n",
    "        block3 = Conv2D(100, (1, 10), kernel_constraint=max_norm(2.0, axis=(0, 1, 2)))(\n",
    "            block2\n",
    "        )\n",
    "        block3 = BatchNormalization(epsilon=1e-05, momentum=0.9)(block3)\n",
    "        block3 = Activation(\"elu\")(block3)\n",
    "        block3 = MaxPooling2D(pool_size=(1, 3), strides=(1, 3))(block3)\n",
    "        block3 = Dropout(0.5)(block3)\n",
    "\n",
    "        block4 = Conv2D(200, (1, 10), kernel_constraint=max_norm(2.0, axis=(0, 1, 2)))(\n",
    "            block3\n",
    "        )\n",
    "        block4 = BatchNormalization(epsilon=1e-05, momentum=0.9)(block4)\n",
    "        block4 = Activation(\"elu\")(block4)\n",
    "        block4 = MaxPooling2D(pool_size=(1, 3), strides=(1, 3))(block4)\n",
    "        block4 = Dropout(0.5)(block4)\n",
    "\n",
    "        flatten = Flatten()(block4)\n",
    "\n",
    "        dense = Dense(self.n_classes_, kernel_constraint=max_norm(0.5))(flatten)\n",
    "        softmax = Activation(\"softmax\")(dense)\n",
    "\n",
    "        model = Model(inputs=input_main, outputs=softmax)\n",
    "        \n",
    "        model.compile(loss=compile_kwargs[\"loss\"], optimizer=compile_kwargs[\"optimizer\"])\n",
    "\n",
    "        ## Pruning\n",
    "\n",
    "        # prune_low_magnitude = tfmot.sparsity.keras.prune_low_magnitude\n",
    "\n",
    "        # pruning_params = {\n",
    "        #     'pruning_schedule': tfmot.sparsity.keras.ConstantSparsity(0.5, begin_step=0, frequency=100)\n",
    "        # }\n",
    "\n",
    "        # callbacks = [\n",
    "        # tfmot.sparsity.keras.UpdatePruningStep()\n",
    "        # ]\n",
    "\n",
    "        # pruned_model = prune_low_magnitude(model, **pruning_params)\n",
    "\n",
    "        # # Use smaller learning rate for fine-tuning\n",
    "        # opt = keras.optimizers.Adam(learning_rate=1e-5)\n",
    "\n",
    "        # pruned_model.compile(\n",
    "        # loss=keras.losses.SparseCategoricalCrossentropy(from_logits=True),\n",
    "        # optimizer=opt,\n",
    "        # metrics=['accuracy'])\n",
    "\n",
    "        return model\n",
    "        \n",
    "\n",
    "keras_deep_conv_net = KerasDeepConvNet(\n",
    "    loss=\"sparse_categorical_crossentropy\",\n",
    "    optimizer=\"Adam\",\n",
    "    epochs=5,\n",
    "    batch_size=64,\n",
    "    verbose=1,\n",
    "    random_state=None,\n",
    "    validation_split=0.2,\n",
    "    history_plot=False,\n",
    "    path=None,\n",
    ")\n",
    "# keras_deep_conv_net.save(\"keras_deep_conv_net.h5\")"
   ]
  },
  {
   "cell_type": "code",
   "execution_count": 4,
   "metadata": {},
   "outputs": [
    {
     "data": {
      "text/html": [
       "<style>#sk-container-id-1 {color: black;}#sk-container-id-1 pre{padding: 0;}#sk-container-id-1 div.sk-toggleable {background-color: white;}#sk-container-id-1 label.sk-toggleable__label {cursor: pointer;display: block;width: 100%;margin-bottom: 0;padding: 0.3em;box-sizing: border-box;text-align: center;}#sk-container-id-1 label.sk-toggleable__label-arrow:before {content: \"▸\";float: left;margin-right: 0.25em;color: #696969;}#sk-container-id-1 label.sk-toggleable__label-arrow:hover:before {color: black;}#sk-container-id-1 div.sk-estimator:hover label.sk-toggleable__label-arrow:before {color: black;}#sk-container-id-1 div.sk-toggleable__content {max-height: 0;max-width: 0;overflow: hidden;text-align: left;background-color: #f0f8ff;}#sk-container-id-1 div.sk-toggleable__content pre {margin: 0.2em;color: black;border-radius: 0.25em;background-color: #f0f8ff;}#sk-container-id-1 input.sk-toggleable__control:checked~div.sk-toggleable__content {max-height: 200px;max-width: 100%;overflow: auto;}#sk-container-id-1 input.sk-toggleable__control:checked~label.sk-toggleable__label-arrow:before {content: \"▾\";}#sk-container-id-1 div.sk-estimator input.sk-toggleable__control:checked~label.sk-toggleable__label {background-color: #d4ebff;}#sk-container-id-1 div.sk-label input.sk-toggleable__control:checked~label.sk-toggleable__label {background-color: #d4ebff;}#sk-container-id-1 input.sk-hidden--visually {border: 0;clip: rect(1px 1px 1px 1px);clip: rect(1px, 1px, 1px, 1px);height: 1px;margin: -1px;overflow: hidden;padding: 0;position: absolute;width: 1px;}#sk-container-id-1 div.sk-estimator {font-family: monospace;background-color: #f0f8ff;border: 1px dotted black;border-radius: 0.25em;box-sizing: border-box;margin-bottom: 0.5em;}#sk-container-id-1 div.sk-estimator:hover {background-color: #d4ebff;}#sk-container-id-1 div.sk-parallel-item::after {content: \"\";width: 100%;border-bottom: 1px solid gray;flex-grow: 1;}#sk-container-id-1 div.sk-label:hover label.sk-toggleable__label {background-color: #d4ebff;}#sk-container-id-1 div.sk-serial::before {content: \"\";position: absolute;border-left: 1px solid gray;box-sizing: border-box;top: 0;bottom: 0;left: 50%;z-index: 0;}#sk-container-id-1 div.sk-serial {display: flex;flex-direction: column;align-items: center;background-color: white;padding-right: 0.2em;padding-left: 0.2em;position: relative;}#sk-container-id-1 div.sk-item {position: relative;z-index: 1;}#sk-container-id-1 div.sk-parallel {display: flex;align-items: stretch;justify-content: center;background-color: white;position: relative;}#sk-container-id-1 div.sk-item::before, #sk-container-id-1 div.sk-parallel-item::before {content: \"\";position: absolute;border-left: 1px solid gray;box-sizing: border-box;top: 0;bottom: 0;left: 50%;z-index: -1;}#sk-container-id-1 div.sk-parallel-item {display: flex;flex-direction: column;z-index: 1;position: relative;background-color: white;}#sk-container-id-1 div.sk-parallel-item:first-child::after {align-self: flex-end;width: 50%;}#sk-container-id-1 div.sk-parallel-item:last-child::after {align-self: flex-start;width: 50%;}#sk-container-id-1 div.sk-parallel-item:only-child::after {width: 0;}#sk-container-id-1 div.sk-dashed-wrapped {border: 1px dashed gray;margin: 0 0.4em 0.5em 0.4em;box-sizing: border-box;padding-bottom: 0.4em;background-color: white;}#sk-container-id-1 div.sk-label label {font-family: monospace;font-weight: bold;display: inline-block;line-height: 1.2em;}#sk-container-id-1 div.sk-label-container {text-align: center;}#sk-container-id-1 div.sk-container {/* jupyter's `normalize.less` sets `[hidden] { display: none; }` but bootstrap.min.css set `[hidden] { display: none !important; }` so we also need the `!important` here to be able to override the default hidden behavior on the sphinx rendered scikit-learn.org. See: https://github.com/scikit-learn/scikit-learn/issues/21755 */display: inline-block !important;position: relative;}#sk-container-id-1 div.sk-text-repr-fallback {display: none;}</style><div id=\"sk-container-id-1\" class=\"sk-top-container\"><div class=\"sk-text-repr-fallback\"><pre>Pipeline(steps=[(&#x27;resampler_epoch&#x27;, Resampler_Epoch(sfreq=250)),\n",
       "                (&#x27;convert_epoch_array&#x27;, Convert_Epoch_Array()),\n",
       "                (&#x27;standardscaler_epoch&#x27;, StandardScaler_Epoch()),\n",
       "                (&#x27;kerasdeepconvnet&#x27;,\n",
       "                 KerasDeepConvNet(build_fn=None, callbacks=None, class_weight=None, epochs=5, loss=&#x27;sparse_categorical_crossentropy&#x27;, metrics=None, model=None, optimizer=&lt;keras.optimizers.adam.Adam object at 0x7fe327b8e450&gt;, run_eagerly=False, shuffle=True, validation_batch_size=None, verbose=1, warm_start=False))])</pre><b>In a Jupyter environment, please rerun this cell to show the HTML representation or trust the notebook. <br />On GitHub, the HTML representation is unable to render, please try loading this page with nbviewer.org.</b></div><div class=\"sk-container\" hidden><div class=\"sk-item sk-dashed-wrapped\"><div class=\"sk-label-container\"><div class=\"sk-label sk-toggleable\"><input class=\"sk-toggleable__control sk-hidden--visually\" id=\"sk-estimator-id-1\" type=\"checkbox\" ><label for=\"sk-estimator-id-1\" class=\"sk-toggleable__label sk-toggleable__label-arrow\">Pipeline</label><div class=\"sk-toggleable__content\"><pre>Pipeline(steps=[(&#x27;resampler_epoch&#x27;, Resampler_Epoch(sfreq=250)),\n",
       "                (&#x27;convert_epoch_array&#x27;, Convert_Epoch_Array()),\n",
       "                (&#x27;standardscaler_epoch&#x27;, StandardScaler_Epoch()),\n",
       "                (&#x27;kerasdeepconvnet&#x27;,\n",
       "                 KerasDeepConvNet(build_fn=None, callbacks=None, class_weight=None, epochs=5, loss=&#x27;sparse_categorical_crossentropy&#x27;, metrics=None, model=None, optimizer=&lt;keras.optimizers.adam.Adam object at 0x7fe327b8e450&gt;, run_eagerly=False, shuffle=True, validation_batch_size=None, verbose=1, warm_start=False))])</pre></div></div></div><div class=\"sk-serial\"><div class=\"sk-item\"><div class=\"sk-estimator sk-toggleable\"><input class=\"sk-toggleable__control sk-hidden--visually\" id=\"sk-estimator-id-2\" type=\"checkbox\" ><label for=\"sk-estimator-id-2\" class=\"sk-toggleable__label sk-toggleable__label-arrow\">Resampler_Epoch</label><div class=\"sk-toggleable__content\"><pre>Resampler_Epoch(sfreq=250)</pre></div></div></div><div class=\"sk-item\"><div class=\"sk-estimator sk-toggleable\"><input class=\"sk-toggleable__control sk-hidden--visually\" id=\"sk-estimator-id-3\" type=\"checkbox\" ><label for=\"sk-estimator-id-3\" class=\"sk-toggleable__label sk-toggleable__label-arrow\">Convert_Epoch_Array</label><div class=\"sk-toggleable__content\"><pre>Convert_Epoch_Array()</pre></div></div></div><div class=\"sk-item\"><div class=\"sk-estimator sk-toggleable\"><input class=\"sk-toggleable__control sk-hidden--visually\" id=\"sk-estimator-id-4\" type=\"checkbox\" ><label for=\"sk-estimator-id-4\" class=\"sk-toggleable__label sk-toggleable__label-arrow\">StandardScaler_Epoch</label><div class=\"sk-toggleable__content\"><pre>StandardScaler_Epoch()</pre></div></div></div><div class=\"sk-item\"><div class=\"sk-estimator sk-toggleable\"><input class=\"sk-toggleable__control sk-hidden--visually\" id=\"sk-estimator-id-5\" type=\"checkbox\" ><label for=\"sk-estimator-id-5\" class=\"sk-toggleable__label sk-toggleable__label-arrow\">KerasDeepConvNet</label><div class=\"sk-toggleable__content\"><pre>KerasDeepConvNet(\n",
       "\tmodel=None\n",
       "\tbuild_fn=None\n",
       "\twarm_start=False\n",
       "\trandom_state=None\n",
       "\toptimizer=&lt;keras.optimizers.adam.Adam object at 0x7fe327b8e450&gt;\n",
       "\tloss=sparse_categorical_crossentropy\n",
       "\tmetrics=None\n",
       "\tbatch_size=64\n",
       "\tvalidation_batch_size=None\n",
       "\tverbose=1\n",
       "\tcallbacks=None\n",
       "\tvalidation_split=0.2\n",
       "\tshuffle=True\n",
       "\trun_eagerly=False\n",
       "\tepochs=5\n",
       "\tclass_weight=None\n",
       "\thistory_plot=False\n",
       "\tpath=None\n",
       ")</pre></div></div></div></div></div></div></div>"
      ],
      "text/plain": [
       "Pipeline(steps=[('resampler_epoch', Resampler_Epoch(sfreq=250)),\n",
       "                ('convert_epoch_array', Convert_Epoch_Array()),\n",
       "                ('standardscaler_epoch', StandardScaler_Epoch()),\n",
       "                ('kerasdeepconvnet',\n",
       "                 KerasDeepConvNet(build_fn=None, callbacks=None, class_weight=None, epochs=5, loss='sparse_categorical_crossentropy', metrics=None, model=None, optimizer=<keras.optimizers.adam.Adam object at 0x7fe327b8e450>, run_eagerly=False, shuffle=True, validation_batch_size=None, verbose=1, warm_start=False))])"
      ]
     },
     "execution_count": 4,
     "metadata": {},
     "output_type": "execute_result"
    }
   ],
   "source": [
    "# model_keras_pruned = keras.models.load_model(\"keras_deep_conv_net.h5\")\n",
    "model_keras_pruned = keras_deep_conv_net\n",
    "# Now we need to instantiate a new SciKeras object since we only saved the Keras model\n",
    "resampler_epoch = Resampler_Epoch(sfreq=250)\n",
    "convert_epoch_array = Convert_Epoch_Array()\n",
    "standardscaler_epoch = StandardScaler_Epoch()\n",
    "Keras_DeepConvNet_Trained_Pruned = make_pipeline(\n",
    "    resampler_epoch,\n",
    "    convert_epoch_array,\n",
    "    standardscaler_epoch,\n",
    "    model_keras_pruned\n",
    ")\n",
    "\n",
    "Keras_DeepConvNet_Trained_Pruned"
   ]
  },
  {
   "cell_type": "code",
   "execution_count": 21,
   "metadata": {},
   "outputs": [
    {
     "data": {
      "text/html": [
       "<pre style=\"white-space:pre;overflow-x:auto;line-height:normal;font-family:Menlo,'DejaVu Sans Mono',consolas,'Courier New',monospace\">Evaluating Keras_DeepConvNet_Trained_Pruned using WithinSession and LeftRightImagery<span style=\"color: #808000; text-decoration-color: #808000\">...</span>\n",
       "</pre>\n"
      ],
      "text/plain": [
       "Evaluating Keras_DeepConvNet_Trained_Pruned using WithinSession and LeftRightImagery\u001b[33m...\u001b[0m\n"
      ]
     },
     "metadata": {},
     "output_type": "display_data"
    },
    {
     "name": "stderr",
     "output_type": "stream",
     "text": [
      "FatigueMI-WithinSession:   0%|          | 0/1 [00:00<?, ?it/s]"
     ]
    },
    {
     "name": "stdout",
     "output_type": "stream",
     "text": [
      "Adding metadata with 3 columns\n",
      "Adding metadata with 3 columns\n",
      "108 matching events found\n",
      "No baseline correction applied\n"
     ]
    },
    {
     "name": "stderr",
     "output_type": "stream",
     "text": [
      "/home/araz/anaconda3/envs/moabb_model_optimization/lib/python3.11/site-packages/moabb/paradigms/base.py:354: RuntimeWarning: Concatenation of Annotations within Epochs is not supported yet. All annotations will be dropped.\n",
      "  X = mne.concatenate_epochs(X)\n",
      "/home/araz/anaconda3/envs/moabb_model_optimization/lib/python3.11/site-packages/moabb/pipelines/features.py:163: FutureWarning: The current default of copy=False will change to copy=True in 1.7. Set the value of copy explicitly to avoid this warning\n",
      "  return X.get_data()\n"
     ]
    },
    {
     "name": "stdout",
     "output_type": "stream",
     "text": [
      "Epoch 1/5\n"
     ]
    },
    {
     "name": "stderr",
     "output_type": "stream",
     "text": [
      "2024-02-17 12:01:15.584405: I tensorflow/core/common_runtime/executor.cc:1197] [/device:CPU:0] (DEBUG INFO) Executor start aborting (this does not indicate an error and you can ignore this message): INVALID_ARGUMENT: You must feed a value for placeholder tensor 'Placeholder/_11' with dtype float and shape [68,1]\n",
      "\t [[{{node Placeholder/_11}}]]\n",
      "2024-02-17 12:01:15.584616: I tensorflow/core/common_runtime/executor.cc:1197] [/device:CPU:0] (DEBUG INFO) Executor start aborting (this does not indicate an error and you can ignore this message): INVALID_ARGUMENT: You must feed a value for placeholder tensor 'Placeholder/_11' with dtype float and shape [68,1]\n",
      "\t [[{{node Placeholder/_11}}]]\n"
     ]
    },
    {
     "name": "stdout",
     "output_type": "stream",
     "text": [
      "2/2 [==============================] - 2s 179ms/step - loss: 0.9658 - val_loss: 0.6900\n",
      "Epoch 2/5\n"
     ]
    },
    {
     "name": "stderr",
     "output_type": "stream",
     "text": [
      "2024-02-17 12:01:17.144172: I tensorflow/core/common_runtime/executor.cc:1197] [/device:CPU:0] (DEBUG INFO) Executor start aborting (this does not indicate an error and you can ignore this message): INVALID_ARGUMENT: You must feed a value for placeholder tensor 'Placeholder/_11' with dtype float and shape [18,1]\n",
      "\t [[{{node Placeholder/_11}}]]\n",
      "2024-02-17 12:01:17.144389: I tensorflow/core/common_runtime/executor.cc:1197] [/device:CPU:0] (DEBUG INFO) Executor start aborting (this does not indicate an error and you can ignore this message): INVALID_ARGUMENT: You must feed a value for placeholder tensor 'Placeholder/_11' with dtype float and shape [18,1]\n",
      "\t [[{{node Placeholder/_11}}]]\n"
     ]
    },
    {
     "name": "stdout",
     "output_type": "stream",
     "text": [
      "2/2 [==============================] - 0s 38ms/step - loss: 0.8508 - val_loss: 0.6840\n",
      "Epoch 3/5\n",
      "2/2 [==============================] - 0s 38ms/step - loss: 0.7570 - val_loss: 0.6804\n",
      "Epoch 4/5\n",
      "2/2 [==============================] - 0s 33ms/step - loss: 0.8119 - val_loss: 0.6768\n",
      "Epoch 5/5\n",
      "2/2 [==============================] - 0s 37ms/step - loss: 0.7958 - val_loss: 0.6756\n",
      "1/1 [==============================] - 0s 100ms/step\n"
     ]
    },
    {
     "name": "stderr",
     "output_type": "stream",
     "text": [
      "/home/araz/anaconda3/envs/moabb_model_optimization/lib/python3.11/site-packages/moabb/pipelines/features.py:163: FutureWarning: The current default of copy=False will change to copy=True in 1.7. Set the value of copy explicitly to avoid this warning\n",
      "  return X.get_data()\n",
      "2024-02-17 12:01:17.940142: I tensorflow/core/common_runtime/executor.cc:1197] [/device:CPU:0] (DEBUG INFO) Executor start aborting (this does not indicate an error and you can ignore this message): INVALID_ARGUMENT: You must feed a value for placeholder tensor 'Placeholder/_10' with dtype float and shape [22,20,501]\n",
      "\t [[{{node Placeholder/_10}}]]\n",
      "2024-02-17 12:01:17.940323: I tensorflow/core/common_runtime/executor.cc:1197] [/device:CPU:0] (DEBUG INFO) Executor start aborting (this does not indicate an error and you can ignore this message): INVALID_ARGUMENT: You must feed a value for placeholder tensor 'Placeholder/_10' with dtype float and shape [22,20,501]\n",
      "\t [[{{node Placeholder/_10}}]]\n",
      "2024-02-17 12:01:18.524296: I tensorflow/core/common_runtime/executor.cc:1197] [/device:CPU:0] (DEBUG INFO) Executor start aborting (this does not indicate an error and you can ignore this message): INVALID_ARGUMENT: You must feed a value for placeholder tensor 'inputs' with dtype float and shape [?,1,164,25]\n",
      "\t [[{{node inputs}}]]\n",
      "2024-02-17 12:01:18.542121: I tensorflow/core/common_runtime/executor.cc:1197] [/device:CPU:0] (DEBUG INFO) Executor start aborting (this does not indicate an error and you can ignore this message): INVALID_ARGUMENT: You must feed a value for placeholder tensor 'inputs' with dtype float and shape [?,1,51,50]\n",
      "\t [[{{node inputs}}]]\n",
      "2024-02-17 12:01:18.554253: I tensorflow/core/common_runtime/executor.cc:1197] [/device:CPU:0] (DEBUG INFO) Executor start aborting (this does not indicate an error and you can ignore this message): INVALID_ARGUMENT: You must feed a value for placeholder tensor 'inputs' with dtype float and shape [?,1,14,100]\n",
      "\t [[{{node inputs}}]]\n",
      "2024-02-17 12:01:18.566395: I tensorflow/core/common_runtime/executor.cc:1197] [/device:CPU:0] (DEBUG INFO) Executor start aborting (this does not indicate an error and you can ignore this message): INVALID_ARGUMENT: You must feed a value for placeholder tensor 'inputs' with dtype float and shape [?,1,1,200]\n",
      "\t [[{{node inputs}}]]\n",
      "2024-02-17 12:01:18.888023: I tensorflow/core/common_runtime/executor.cc:1197] [/device:CPU:0] (DEBUG INFO) Executor start aborting (this does not indicate an error and you can ignore this message): INVALID_ARGUMENT: You must feed a value for placeholder tensor 'inputs' with dtype float and shape [?,1,164,25]\n",
      "\t [[{{node inputs}}]]\n",
      "2024-02-17 12:01:18.941457: I tensorflow/core/common_runtime/executor.cc:1197] [/device:CPU:0] (DEBUG INFO) Executor start aborting (this does not indicate an error and you can ignore this message): INVALID_ARGUMENT: You must feed a value for placeholder tensor 'inputs' with dtype float and shape [?,1,51,50]\n",
      "\t [[{{node inputs}}]]\n",
      "2024-02-17 12:01:18.992635: I tensorflow/core/common_runtime/executor.cc:1197] [/device:CPU:0] (DEBUG INFO) Executor start aborting (this does not indicate an error and you can ignore this message): INVALID_ARGUMENT: You must feed a value for placeholder tensor 'inputs' with dtype float and shape [?,1,14,100]\n",
      "\t [[{{node inputs}}]]\n",
      "2024-02-17 12:01:19.043119: I tensorflow/core/common_runtime/executor.cc:1197] [/device:CPU:0] (DEBUG INFO) Executor start aborting (this does not indicate an error and you can ignore this message): INVALID_ARGUMENT: You must feed a value for placeholder tensor 'inputs' with dtype float and shape [?,1,1,200]\n",
      "\t [[{{node inputs}}]]\n",
      "WARNING:absl:Found untraced functions such as _jit_compiled_convolution_op, _jit_compiled_convolution_op, _jit_compiled_convolution_op, _jit_compiled_convolution_op, _jit_compiled_convolution_op while saving (showing 5 of 6). These functions will not be directly callable after loading.\n"
     ]
    },
    {
     "name": "stdout",
     "output_type": "stream",
     "text": [
      "INFO:tensorflow:Assets written to: ram://dc470729eb164dfa95baccdc58c9225d/assets\n"
     ]
    },
    {
     "name": "stderr",
     "output_type": "stream",
     "text": [
      "INFO:tensorflow:Assets written to: ram://dc470729eb164dfa95baccdc58c9225d/assets\n"
     ]
    },
    {
     "name": "stdout",
     "output_type": "stream",
     "text": [
      "Epoch 1/5\n"
     ]
    },
    {
     "name": "stderr",
     "output_type": "stream",
     "text": [
      "/home/araz/anaconda3/envs/moabb_model_optimization/lib/python3.11/site-packages/moabb/pipelines/features.py:163: FutureWarning: The current default of copy=False will change to copy=True in 1.7. Set the value of copy explicitly to avoid this warning\n",
      "  return X.get_data()\n",
      "2024-02-17 12:01:19.925288: I tensorflow/core/common_runtime/executor.cc:1197] [/device:CPU:0] (DEBUG INFO) Executor start aborting (this does not indicate an error and you can ignore this message): INVALID_ARGUMENT: You must feed a value for placeholder tensor 'Placeholder/_10' with dtype float and shape [68,20,501]\n",
      "\t [[{{node Placeholder/_10}}]]\n",
      "2024-02-17 12:01:19.925550: I tensorflow/core/common_runtime/executor.cc:1197] [/device:CPU:0] (DEBUG INFO) Executor start aborting (this does not indicate an error and you can ignore this message): INVALID_ARGUMENT: You must feed a value for placeholder tensor 'Placeholder/_11' with dtype float and shape [68,1]\n",
      "\t [[{{node Placeholder/_11}}]]\n"
     ]
    },
    {
     "name": "stdout",
     "output_type": "stream",
     "text": [
      "2/2 [==============================] - 2s 174ms/step - loss: 1.7611 - val_loss: 0.7021\n",
      "Epoch 2/5\n"
     ]
    },
    {
     "name": "stderr",
     "output_type": "stream",
     "text": [
      "2024-02-17 12:01:21.870116: I tensorflow/core/common_runtime/executor.cc:1197] [/device:CPU:0] (DEBUG INFO) Executor start aborting (this does not indicate an error and you can ignore this message): INVALID_ARGUMENT: You must feed a value for placeholder tensor 'Placeholder/_11' with dtype float and shape [18,1]\n",
      "\t [[{{node Placeholder/_11}}]]\n",
      "2024-02-17 12:01:21.870317: I tensorflow/core/common_runtime/executor.cc:1197] [/device:CPU:0] (DEBUG INFO) Executor start aborting (this does not indicate an error and you can ignore this message): INVALID_ARGUMENT: You must feed a value for placeholder tensor 'Placeholder/_11' with dtype float and shape [18,1]\n",
      "\t [[{{node Placeholder/_11}}]]\n"
     ]
    },
    {
     "name": "stdout",
     "output_type": "stream",
     "text": [
      "2/2 [==============================] - 0s 41ms/step - loss: 0.8274 - val_loss: 0.7018\n",
      "Epoch 3/5\n",
      "2/2 [==============================] - 0s 34ms/step - loss: 0.6832 - val_loss: 0.7058\n",
      "Epoch 4/5\n",
      "2/2 [==============================] - 0s 34ms/step - loss: 0.7414 - val_loss: 0.7193\n",
      "Epoch 5/5\n",
      "2/2 [==============================] - 0s 35ms/step - loss: 0.7960 - val_loss: 0.7388\n",
      "1/1 [==============================] - 0s 101ms/step\n"
     ]
    },
    {
     "name": "stderr",
     "output_type": "stream",
     "text": [
      "/home/araz/anaconda3/envs/moabb_model_optimization/lib/python3.11/site-packages/moabb/pipelines/features.py:163: FutureWarning: The current default of copy=False will change to copy=True in 1.7. Set the value of copy explicitly to avoid this warning\n",
      "  return X.get_data()\n",
      "2024-02-17 12:01:22.669532: I tensorflow/core/common_runtime/executor.cc:1197] [/device:CPU:0] (DEBUG INFO) Executor start aborting (this does not indicate an error and you can ignore this message): INVALID_ARGUMENT: You must feed a value for placeholder tensor 'Placeholder/_10' with dtype float and shape [22,20,501]\n",
      "\t [[{{node Placeholder/_10}}]]\n",
      "2024-02-17 12:01:22.669710: I tensorflow/core/common_runtime/executor.cc:1197] [/device:CPU:0] (DEBUG INFO) Executor start aborting (this does not indicate an error and you can ignore this message): INVALID_ARGUMENT: You must feed a value for placeholder tensor 'Placeholder/_10' with dtype float and shape [22,20,501]\n",
      "\t [[{{node Placeholder/_10}}]]\n",
      "2024-02-17 12:01:23.225939: I tensorflow/core/common_runtime/executor.cc:1197] [/device:CPU:0] (DEBUG INFO) Executor start aborting (this does not indicate an error and you can ignore this message): INVALID_ARGUMENT: You must feed a value for placeholder tensor 'inputs' with dtype float and shape [?,1,164,25]\n",
      "\t [[{{node inputs}}]]\n",
      "2024-02-17 12:01:23.237996: I tensorflow/core/common_runtime/executor.cc:1197] [/device:CPU:0] (DEBUG INFO) Executor start aborting (this does not indicate an error and you can ignore this message): INVALID_ARGUMENT: You must feed a value for placeholder tensor 'inputs' with dtype float and shape [?,1,51,50]\n",
      "\t [[{{node inputs}}]]\n",
      "2024-02-17 12:01:23.251311: I tensorflow/core/common_runtime/executor.cc:1197] [/device:CPU:0] (DEBUG INFO) Executor start aborting (this does not indicate an error and you can ignore this message): INVALID_ARGUMENT: You must feed a value for placeholder tensor 'inputs' with dtype float and shape [?,1,14,100]\n",
      "\t [[{{node inputs}}]]\n",
      "2024-02-17 12:01:23.263927: I tensorflow/core/common_runtime/executor.cc:1197] [/device:CPU:0] (DEBUG INFO) Executor start aborting (this does not indicate an error and you can ignore this message): INVALID_ARGUMENT: You must feed a value for placeholder tensor 'inputs' with dtype float and shape [?,1,1,200]\n",
      "\t [[{{node inputs}}]]\n",
      "2024-02-17 12:01:23.565968: I tensorflow/core/common_runtime/executor.cc:1197] [/device:CPU:0] (DEBUG INFO) Executor start aborting (this does not indicate an error and you can ignore this message): INVALID_ARGUMENT: You must feed a value for placeholder tensor 'inputs' with dtype float and shape [?,1,164,25]\n",
      "\t [[{{node inputs}}]]\n",
      "2024-02-17 12:01:23.616812: I tensorflow/core/common_runtime/executor.cc:1197] [/device:CPU:0] (DEBUG INFO) Executor start aborting (this does not indicate an error and you can ignore this message): INVALID_ARGUMENT: You must feed a value for placeholder tensor 'inputs' with dtype float and shape [?,1,51,50]\n",
      "\t [[{{node inputs}}]]\n",
      "2024-02-17 12:01:23.669237: I tensorflow/core/common_runtime/executor.cc:1197] [/device:CPU:0] (DEBUG INFO) Executor start aborting (this does not indicate an error and you can ignore this message): INVALID_ARGUMENT: You must feed a value for placeholder tensor 'inputs' with dtype float and shape [?,1,14,100]\n",
      "\t [[{{node inputs}}]]\n",
      "2024-02-17 12:01:23.721063: I tensorflow/core/common_runtime/executor.cc:1197] [/device:CPU:0] (DEBUG INFO) Executor start aborting (this does not indicate an error and you can ignore this message): INVALID_ARGUMENT: You must feed a value for placeholder tensor 'inputs' with dtype float and shape [?,1,1,200]\n",
      "\t [[{{node inputs}}]]\n",
      "WARNING:absl:Found untraced functions such as _jit_compiled_convolution_op, _jit_compiled_convolution_op, _jit_compiled_convolution_op, _jit_compiled_convolution_op, _jit_compiled_convolution_op while saving (showing 5 of 6). These functions will not be directly callable after loading.\n"
     ]
    },
    {
     "name": "stdout",
     "output_type": "stream",
     "text": [
      "INFO:tensorflow:Assets written to: ram://1ef7682c9c6144709e4b1e422e43a3e6/assets\n"
     ]
    },
    {
     "name": "stderr",
     "output_type": "stream",
     "text": [
      "INFO:tensorflow:Assets written to: ram://1ef7682c9c6144709e4b1e422e43a3e6/assets\n"
     ]
    },
    {
     "name": "stdout",
     "output_type": "stream",
     "text": [
      "Epoch 1/5\n"
     ]
    },
    {
     "name": "stderr",
     "output_type": "stream",
     "text": [
      "/home/araz/anaconda3/envs/moabb_model_optimization/lib/python3.11/site-packages/moabb/pipelines/features.py:163: FutureWarning: The current default of copy=False will change to copy=True in 1.7. Set the value of copy explicitly to avoid this warning\n",
      "  return X.get_data()\n",
      "2024-02-17 12:01:24.641361: I tensorflow/core/common_runtime/executor.cc:1197] [/device:CPU:0] (DEBUG INFO) Executor start aborting (this does not indicate an error and you can ignore this message): INVALID_ARGUMENT: You must feed a value for placeholder tensor 'Placeholder/_11' with dtype float and shape [68,1]\n",
      "\t [[{{node Placeholder/_11}}]]\n",
      "2024-02-17 12:01:24.641607: I tensorflow/core/common_runtime/executor.cc:1197] [/device:CPU:0] (DEBUG INFO) Executor start aborting (this does not indicate an error and you can ignore this message): INVALID_ARGUMENT: You must feed a value for placeholder tensor 'Placeholder/_11' with dtype float and shape [68,1]\n",
      "\t [[{{node Placeholder/_11}}]]\n"
     ]
    },
    {
     "name": "stdout",
     "output_type": "stream",
     "text": [
      "2/2 [==============================] - 2s 173ms/step - loss: 1.9077 - val_loss: 0.6856\n",
      "Epoch 2/5\n"
     ]
    },
    {
     "name": "stderr",
     "output_type": "stream",
     "text": [
      "2024-02-17 12:01:26.199113: I tensorflow/core/common_runtime/executor.cc:1197] [/device:CPU:0] (DEBUG INFO) Executor start aborting (this does not indicate an error and you can ignore this message): INVALID_ARGUMENT: You must feed a value for placeholder tensor 'Placeholder/_11' with dtype float and shape [18,1]\n",
      "\t [[{{node Placeholder/_11}}]]\n",
      "2024-02-17 12:01:26.199342: I tensorflow/core/common_runtime/executor.cc:1197] [/device:CPU:0] (DEBUG INFO) Executor start aborting (this does not indicate an error and you can ignore this message): INVALID_ARGUMENT: You must feed a value for placeholder tensor 'Placeholder/_11' with dtype float and shape [18,1]\n",
      "\t [[{{node Placeholder/_11}}]]\n"
     ]
    },
    {
     "name": "stdout",
     "output_type": "stream",
     "text": [
      "2/2 [==============================] - 0s 41ms/step - loss: 0.8169 - val_loss: 0.6955\n",
      "Epoch 3/5\n",
      "2/2 [==============================] - 0s 34ms/step - loss: 0.9055 - val_loss: 0.7290\n",
      "Epoch 4/5\n",
      "2/2 [==============================] - 0s 35ms/step - loss: 0.8098 - val_loss: 0.7843\n",
      "Epoch 5/5\n",
      "2/2 [==============================] - 0s 38ms/step - loss: 0.7591 - val_loss: 0.8648\n",
      "1/1 [==============================] - 0s 98ms/step\n"
     ]
    },
    {
     "name": "stderr",
     "output_type": "stream",
     "text": [
      "/home/araz/anaconda3/envs/moabb_model_optimization/lib/python3.11/site-packages/moabb/pipelines/features.py:163: FutureWarning: The current default of copy=False will change to copy=True in 1.7. Set the value of copy explicitly to avoid this warning\n",
      "  return X.get_data()\n",
      "2024-02-17 12:01:27.008919: I tensorflow/core/common_runtime/executor.cc:1197] [/device:CPU:0] (DEBUG INFO) Executor start aborting (this does not indicate an error and you can ignore this message): INVALID_ARGUMENT: You must feed a value for placeholder tensor 'Placeholder/_10' with dtype float and shape [22,20,501]\n",
      "\t [[{{node Placeholder/_10}}]]\n",
      "2024-02-17 12:01:27.009096: I tensorflow/core/common_runtime/executor.cc:1197] [/device:CPU:0] (DEBUG INFO) Executor start aborting (this does not indicate an error and you can ignore this message): INVALID_ARGUMENT: You must feed a value for placeholder tensor 'Placeholder/_10' with dtype float and shape [22,20,501]\n",
      "\t [[{{node Placeholder/_10}}]]\n",
      "2024-02-17 12:01:27.569200: I tensorflow/core/common_runtime/executor.cc:1197] [/device:CPU:0] (DEBUG INFO) Executor start aborting (this does not indicate an error and you can ignore this message): INVALID_ARGUMENT: You must feed a value for placeholder tensor 'inputs' with dtype float and shape [?,1,164,25]\n",
      "\t [[{{node inputs}}]]\n",
      "2024-02-17 12:01:27.582337: I tensorflow/core/common_runtime/executor.cc:1197] [/device:CPU:0] (DEBUG INFO) Executor start aborting (this does not indicate an error and you can ignore this message): INVALID_ARGUMENT: You must feed a value for placeholder tensor 'inputs' with dtype float and shape [?,1,51,50]\n",
      "\t [[{{node inputs}}]]\n",
      "2024-02-17 12:01:27.594936: I tensorflow/core/common_runtime/executor.cc:1197] [/device:CPU:0] (DEBUG INFO) Executor start aborting (this does not indicate an error and you can ignore this message): INVALID_ARGUMENT: You must feed a value for placeholder tensor 'inputs' with dtype float and shape [?,1,14,100]\n",
      "\t [[{{node inputs}}]]\n",
      "2024-02-17 12:01:27.609458: I tensorflow/core/common_runtime/executor.cc:1197] [/device:CPU:0] (DEBUG INFO) Executor start aborting (this does not indicate an error and you can ignore this message): INVALID_ARGUMENT: You must feed a value for placeholder tensor 'inputs' with dtype float and shape [?,1,1,200]\n",
      "\t [[{{node inputs}}]]\n",
      "2024-02-17 12:01:27.922298: I tensorflow/core/common_runtime/executor.cc:1197] [/device:CPU:0] (DEBUG INFO) Executor start aborting (this does not indicate an error and you can ignore this message): INVALID_ARGUMENT: You must feed a value for placeholder tensor 'inputs' with dtype float and shape [?,1,164,25]\n",
      "\t [[{{node inputs}}]]\n",
      "2024-02-17 12:01:27.978395: I tensorflow/core/common_runtime/executor.cc:1197] [/device:CPU:0] (DEBUG INFO) Executor start aborting (this does not indicate an error and you can ignore this message): INVALID_ARGUMENT: You must feed a value for placeholder tensor 'inputs' with dtype float and shape [?,1,51,50]\n",
      "\t [[{{node inputs}}]]\n",
      "2024-02-17 12:01:28.033453: I tensorflow/core/common_runtime/executor.cc:1197] [/device:CPU:0] (DEBUG INFO) Executor start aborting (this does not indicate an error and you can ignore this message): INVALID_ARGUMENT: You must feed a value for placeholder tensor 'inputs' with dtype float and shape [?,1,14,100]\n",
      "\t [[{{node inputs}}]]\n",
      "2024-02-17 12:01:28.088730: I tensorflow/core/common_runtime/executor.cc:1197] [/device:CPU:0] (DEBUG INFO) Executor start aborting (this does not indicate an error and you can ignore this message): INVALID_ARGUMENT: You must feed a value for placeholder tensor 'inputs' with dtype float and shape [?,1,1,200]\n",
      "\t [[{{node inputs}}]]\n",
      "WARNING:absl:Found untraced functions such as _jit_compiled_convolution_op, _jit_compiled_convolution_op, _jit_compiled_convolution_op, _jit_compiled_convolution_op, _jit_compiled_convolution_op while saving (showing 5 of 6). These functions will not be directly callable after loading.\n"
     ]
    },
    {
     "name": "stdout",
     "output_type": "stream",
     "text": [
      "INFO:tensorflow:Assets written to: ram://432ee038329a47bcb28413f212139346/assets\n"
     ]
    },
    {
     "name": "stderr",
     "output_type": "stream",
     "text": [
      "INFO:tensorflow:Assets written to: ram://432ee038329a47bcb28413f212139346/assets\n"
     ]
    },
    {
     "name": "stdout",
     "output_type": "stream",
     "text": [
      "Epoch 1/5\n"
     ]
    },
    {
     "name": "stderr",
     "output_type": "stream",
     "text": [
      "/home/araz/anaconda3/envs/moabb_model_optimization/lib/python3.11/site-packages/moabb/pipelines/features.py:163: FutureWarning: The current default of copy=False will change to copy=True in 1.7. Set the value of copy explicitly to avoid this warning\n",
      "  return X.get_data()\n",
      "2024-02-17 12:01:29.029581: I tensorflow/core/common_runtime/executor.cc:1197] [/device:CPU:0] (DEBUG INFO) Executor start aborting (this does not indicate an error and you can ignore this message): INVALID_ARGUMENT: You must feed a value for placeholder tensor 'Placeholder/_10' with dtype float and shape [69,20,501]\n",
      "\t [[{{node Placeholder/_10}}]]\n",
      "2024-02-17 12:01:29.029829: I tensorflow/core/common_runtime/executor.cc:1197] [/device:CPU:0] (DEBUG INFO) Executor start aborting (this does not indicate an error and you can ignore this message): INVALID_ARGUMENT: You must feed a value for placeholder tensor 'Placeholder/_11' with dtype float and shape [69,1]\n",
      "\t [[{{node Placeholder/_11}}]]\n"
     ]
    },
    {
     "name": "stdout",
     "output_type": "stream",
     "text": [
      "2/2 [==============================] - 2s 179ms/step - loss: 1.3911 - val_loss: 0.6956\n",
      "Epoch 2/5\n"
     ]
    },
    {
     "name": "stderr",
     "output_type": "stream",
     "text": [
      "2024-02-17 12:01:30.575312: I tensorflow/core/common_runtime/executor.cc:1197] [/device:CPU:0] (DEBUG INFO) Executor start aborting (this does not indicate an error and you can ignore this message): INVALID_ARGUMENT: You must feed a value for placeholder tensor 'Placeholder/_11' with dtype float and shape [18,1]\n",
      "\t [[{{node Placeholder/_11}}]]\n",
      "2024-02-17 12:01:30.575602: I tensorflow/core/common_runtime/executor.cc:1197] [/device:CPU:0] (DEBUG INFO) Executor start aborting (this does not indicate an error and you can ignore this message): INVALID_ARGUMENT: You must feed a value for placeholder tensor 'Placeholder/_11' with dtype float and shape [18,1]\n",
      "\t [[{{node Placeholder/_11}}]]\n"
     ]
    },
    {
     "name": "stdout",
     "output_type": "stream",
     "text": [
      "2/2 [==============================] - 0s 35ms/step - loss: 0.8021 - val_loss: 0.6965\n",
      "Epoch 3/5\n",
      "2/2 [==============================] - 0s 42ms/step - loss: 0.7701 - val_loss: 0.6961\n",
      "Epoch 4/5\n",
      "2/2 [==============================] - 0s 35ms/step - loss: 0.8216 - val_loss: 0.6969\n",
      "Epoch 5/5\n",
      "2/2 [==============================] - 0s 35ms/step - loss: 0.7091 - val_loss: 0.6994\n",
      "1/1 [==============================] - 0s 96ms/step\n"
     ]
    },
    {
     "name": "stderr",
     "output_type": "stream",
     "text": [
      "/home/araz/anaconda3/envs/moabb_model_optimization/lib/python3.11/site-packages/moabb/pipelines/features.py:163: FutureWarning: The current default of copy=False will change to copy=True in 1.7. Set the value of copy explicitly to avoid this warning\n",
      "  return X.get_data()\n",
      "2024-02-17 12:01:31.358189: I tensorflow/core/common_runtime/executor.cc:1197] [/device:CPU:0] (DEBUG INFO) Executor start aborting (this does not indicate an error and you can ignore this message): INVALID_ARGUMENT: You must feed a value for placeholder tensor 'Placeholder/_10' with dtype float and shape [21,20,501]\n",
      "\t [[{{node Placeholder/_10}}]]\n",
      "2024-02-17 12:01:31.358380: I tensorflow/core/common_runtime/executor.cc:1197] [/device:CPU:0] (DEBUG INFO) Executor start aborting (this does not indicate an error and you can ignore this message): INVALID_ARGUMENT: You must feed a value for placeholder tensor 'Placeholder/_10' with dtype float and shape [21,20,501]\n",
      "\t [[{{node Placeholder/_10}}]]\n",
      "2024-02-17 12:01:31.897855: I tensorflow/core/common_runtime/executor.cc:1197] [/device:CPU:0] (DEBUG INFO) Executor start aborting (this does not indicate an error and you can ignore this message): INVALID_ARGUMENT: You must feed a value for placeholder tensor 'inputs' with dtype float and shape [?,1,164,25]\n",
      "\t [[{{node inputs}}]]\n",
      "2024-02-17 12:01:31.910703: I tensorflow/core/common_runtime/executor.cc:1197] [/device:CPU:0] (DEBUG INFO) Executor start aborting (this does not indicate an error and you can ignore this message): INVALID_ARGUMENT: You must feed a value for placeholder tensor 'inputs' with dtype float and shape [?,1,51,50]\n",
      "\t [[{{node inputs}}]]\n",
      "2024-02-17 12:01:31.924401: I tensorflow/core/common_runtime/executor.cc:1197] [/device:CPU:0] (DEBUG INFO) Executor start aborting (this does not indicate an error and you can ignore this message): INVALID_ARGUMENT: You must feed a value for placeholder tensor 'inputs' with dtype float and shape [?,1,14,100]\n",
      "\t [[{{node inputs}}]]\n",
      "2024-02-17 12:01:31.936860: I tensorflow/core/common_runtime/executor.cc:1197] [/device:CPU:0] (DEBUG INFO) Executor start aborting (this does not indicate an error and you can ignore this message): INVALID_ARGUMENT: You must feed a value for placeholder tensor 'inputs' with dtype float and shape [?,1,1,200]\n",
      "\t [[{{node inputs}}]]\n",
      "2024-02-17 12:01:32.240503: I tensorflow/core/common_runtime/executor.cc:1197] [/device:CPU:0] (DEBUG INFO) Executor start aborting (this does not indicate an error and you can ignore this message): INVALID_ARGUMENT: You must feed a value for placeholder tensor 'inputs' with dtype float and shape [?,1,164,25]\n",
      "\t [[{{node inputs}}]]\n",
      "2024-02-17 12:01:32.296270: I tensorflow/core/common_runtime/executor.cc:1197] [/device:CPU:0] (DEBUG INFO) Executor start aborting (this does not indicate an error and you can ignore this message): INVALID_ARGUMENT: You must feed a value for placeholder tensor 'inputs' with dtype float and shape [?,1,51,50]\n",
      "\t [[{{node inputs}}]]\n",
      "2024-02-17 12:01:32.349989: I tensorflow/core/common_runtime/executor.cc:1197] [/device:CPU:0] (DEBUG INFO) Executor start aborting (this does not indicate an error and you can ignore this message): INVALID_ARGUMENT: You must feed a value for placeholder tensor 'inputs' with dtype float and shape [?,1,14,100]\n",
      "\t [[{{node inputs}}]]\n",
      "2024-02-17 12:01:32.700270: I tensorflow/core/common_runtime/executor.cc:1197] [/device:CPU:0] (DEBUG INFO) Executor start aborting (this does not indicate an error and you can ignore this message): INVALID_ARGUMENT: You must feed a value for placeholder tensor 'inputs' with dtype float and shape [?,1,1,200]\n",
      "\t [[{{node inputs}}]]\n",
      "WARNING:absl:Found untraced functions such as _jit_compiled_convolution_op, _jit_compiled_convolution_op, _jit_compiled_convolution_op, _jit_compiled_convolution_op, _jit_compiled_convolution_op while saving (showing 5 of 6). These functions will not be directly callable after loading.\n"
     ]
    },
    {
     "name": "stdout",
     "output_type": "stream",
     "text": [
      "INFO:tensorflow:Assets written to: ram://8e0270c91f8641cf87b72f34509e2a23/assets\n"
     ]
    },
    {
     "name": "stderr",
     "output_type": "stream",
     "text": [
      "INFO:tensorflow:Assets written to: ram://8e0270c91f8641cf87b72f34509e2a23/assets\n"
     ]
    },
    {
     "name": "stdout",
     "output_type": "stream",
     "text": [
      "Epoch 1/5\n"
     ]
    },
    {
     "name": "stderr",
     "output_type": "stream",
     "text": [
      "/home/araz/anaconda3/envs/moabb_model_optimization/lib/python3.11/site-packages/moabb/pipelines/features.py:163: FutureWarning: The current default of copy=False will change to copy=True in 1.7. Set the value of copy explicitly to avoid this warning\n",
      "  return X.get_data()\n",
      "2024-02-17 12:01:33.710861: I tensorflow/core/common_runtime/executor.cc:1197] [/device:CPU:0] (DEBUG INFO) Executor start aborting (this does not indicate an error and you can ignore this message): INVALID_ARGUMENT: You must feed a value for placeholder tensor 'Placeholder/_11' with dtype float and shape [69,1]\n",
      "\t [[{{node Placeholder/_11}}]]\n",
      "2024-02-17 12:01:33.711099: I tensorflow/core/common_runtime/executor.cc:1197] [/device:CPU:0] (DEBUG INFO) Executor start aborting (this does not indicate an error and you can ignore this message): INVALID_ARGUMENT: You must feed a value for placeholder tensor 'Placeholder/_11' with dtype float and shape [69,1]\n",
      "\t [[{{node Placeholder/_11}}]]\n"
     ]
    },
    {
     "name": "stdout",
     "output_type": "stream",
     "text": [
      "2/2 [==============================] - 2s 188ms/step - loss: 1.7782 - val_loss: 0.6874\n",
      "Epoch 2/5\n"
     ]
    },
    {
     "name": "stderr",
     "output_type": "stream",
     "text": [
      "2024-02-17 12:01:35.312197: I tensorflow/core/common_runtime/executor.cc:1197] [/device:CPU:0] (DEBUG INFO) Executor start aborting (this does not indicate an error and you can ignore this message): INVALID_ARGUMENT: You must feed a value for placeholder tensor 'Placeholder/_11' with dtype float and shape [18,1]\n",
      "\t [[{{node Placeholder/_11}}]]\n",
      "2024-02-17 12:01:35.312490: I tensorflow/core/common_runtime/executor.cc:1197] [/device:CPU:0] (DEBUG INFO) Executor start aborting (this does not indicate an error and you can ignore this message): INVALID_ARGUMENT: You must feed a value for placeholder tensor 'Placeholder/_11' with dtype float and shape [18,1]\n",
      "\t [[{{node Placeholder/_11}}]]\n"
     ]
    },
    {
     "name": "stdout",
     "output_type": "stream",
     "text": [
      "2/2 [==============================] - 0s 40ms/step - loss: 0.7379 - val_loss: 0.6822\n",
      "Epoch 3/5\n",
      "2/2 [==============================] - 0s 36ms/step - loss: 0.7526 - val_loss: 0.6810\n",
      "Epoch 4/5\n",
      "2/2 [==============================] - 0s 35ms/step - loss: 0.8025 - val_loss: 0.6824\n",
      "Epoch 5/5\n",
      "2/2 [==============================] - 0s 36ms/step - loss: 0.8328 - val_loss: 0.6844\n",
      "1/1 [==============================] - 0s 95ms/step\n"
     ]
    },
    {
     "name": "stderr",
     "output_type": "stream",
     "text": [
      "/home/araz/anaconda3/envs/moabb_model_optimization/lib/python3.11/site-packages/moabb/pipelines/features.py:163: FutureWarning: The current default of copy=False will change to copy=True in 1.7. Set the value of copy explicitly to avoid this warning\n",
      "  return X.get_data()\n",
      "2024-02-17 12:01:36.102824: I tensorflow/core/common_runtime/executor.cc:1197] [/device:CPU:0] (DEBUG INFO) Executor start aborting (this does not indicate an error and you can ignore this message): INVALID_ARGUMENT: You must feed a value for placeholder tensor 'Placeholder/_10' with dtype float and shape [21,20,501]\n",
      "\t [[{{node Placeholder/_10}}]]\n",
      "2024-02-17 12:01:36.103012: I tensorflow/core/common_runtime/executor.cc:1197] [/device:CPU:0] (DEBUG INFO) Executor start aborting (this does not indicate an error and you can ignore this message): INVALID_ARGUMENT: You must feed a value for placeholder tensor 'Placeholder/_10' with dtype float and shape [21,20,501]\n",
      "\t [[{{node Placeholder/_10}}]]\n",
      "2024-02-17 12:01:36.641632: I tensorflow/core/common_runtime/executor.cc:1197] [/device:CPU:0] (DEBUG INFO) Executor start aborting (this does not indicate an error and you can ignore this message): INVALID_ARGUMENT: You must feed a value for placeholder tensor 'inputs' with dtype float and shape [?,1,164,25]\n",
      "\t [[{{node inputs}}]]\n",
      "2024-02-17 12:01:36.653560: I tensorflow/core/common_runtime/executor.cc:1197] [/device:CPU:0] (DEBUG INFO) Executor start aborting (this does not indicate an error and you can ignore this message): INVALID_ARGUMENT: You must feed a value for placeholder tensor 'inputs' with dtype float and shape [?,1,51,50]\n",
      "\t [[{{node inputs}}]]\n",
      "2024-02-17 12:01:36.666697: I tensorflow/core/common_runtime/executor.cc:1197] [/device:CPU:0] (DEBUG INFO) Executor start aborting (this does not indicate an error and you can ignore this message): INVALID_ARGUMENT: You must feed a value for placeholder tensor 'inputs' with dtype float and shape [?,1,14,100]\n",
      "\t [[{{node inputs}}]]\n",
      "2024-02-17 12:01:36.678574: I tensorflow/core/common_runtime/executor.cc:1197] [/device:CPU:0] (DEBUG INFO) Executor start aborting (this does not indicate an error and you can ignore this message): INVALID_ARGUMENT: You must feed a value for placeholder tensor 'inputs' with dtype float and shape [?,1,1,200]\n",
      "\t [[{{node inputs}}]]\n",
      "2024-02-17 12:01:36.974071: I tensorflow/core/common_runtime/executor.cc:1197] [/device:CPU:0] (DEBUG INFO) Executor start aborting (this does not indicate an error and you can ignore this message): INVALID_ARGUMENT: You must feed a value for placeholder tensor 'inputs' with dtype float and shape [?,1,164,25]\n",
      "\t [[{{node inputs}}]]\n",
      "2024-02-17 12:01:37.024535: I tensorflow/core/common_runtime/executor.cc:1197] [/device:CPU:0] (DEBUG INFO) Executor start aborting (this does not indicate an error and you can ignore this message): INVALID_ARGUMENT: You must feed a value for placeholder tensor 'inputs' with dtype float and shape [?,1,51,50]\n",
      "\t [[{{node inputs}}]]\n",
      "2024-02-17 12:01:37.077544: I tensorflow/core/common_runtime/executor.cc:1197] [/device:CPU:0] (DEBUG INFO) Executor start aborting (this does not indicate an error and you can ignore this message): INVALID_ARGUMENT: You must feed a value for placeholder tensor 'inputs' with dtype float and shape [?,1,14,100]\n",
      "\t [[{{node inputs}}]]\n",
      "2024-02-17 12:01:37.128470: I tensorflow/core/common_runtime/executor.cc:1197] [/device:CPU:0] (DEBUG INFO) Executor start aborting (this does not indicate an error and you can ignore this message): INVALID_ARGUMENT: You must feed a value for placeholder tensor 'inputs' with dtype float and shape [?,1,1,200]\n",
      "\t [[{{node inputs}}]]\n",
      "WARNING:absl:Found untraced functions such as _jit_compiled_convolution_op, _jit_compiled_convolution_op, _jit_compiled_convolution_op, _jit_compiled_convolution_op, _jit_compiled_convolution_op while saving (showing 5 of 6). These functions will not be directly callable after loading.\n"
     ]
    },
    {
     "name": "stdout",
     "output_type": "stream",
     "text": [
      "INFO:tensorflow:Assets written to: ram://cfda7ea38fbe4055b2c5c9cf7f1bf882/assets\n"
     ]
    },
    {
     "name": "stderr",
     "output_type": "stream",
     "text": [
      "INFO:tensorflow:Assets written to: ram://cfda7ea38fbe4055b2c5c9cf7f1bf882/assets\n",
      "FatigueMI-WithinSession: 100%|██████████| 1/1 [00:22<00:00, 22.85s/it]\n"
     ]
    }
   ],
   "source": [
    "# # model_keras_pruned = keras.models.load_model(\"keras_deep_conv_net.h5\")\n",
    "# model_keras_pruned = keras_deep_conv_net\n",
    "# # Now we need to instantiate a new SciKeras object since we only saved the Keras model\n",
    "# Keras_DeepConvNet_Trained_Pruned = KerasClassifier(build_fn = model_keras_pruned._keras_build_fn)\n",
    "\n",
    "# Restrict this example only on the first two subject of BNCI2014_001\n",
    "fat_dataset = FatigueMI()\n",
    "norm_cho_dataset = NormCho2017()\n",
    "cho_dataset = Cho2017()\n",
    "\n",
    "fat_dataset.subject_list = fat_dataset.subject_list[:1]\n",
    "# norm_cho_dataset.subject_list = norm_cho_dataset.subject_list[:32]\n",
    "# cho_dataset.subject_list = cho_dataset.subject_list[:32]\n",
    "\n",
    "datasets = [\n",
    "    fat_dataset,\n",
    "    # norm_cho_dataset,\n",
    "    # cho_dataset\n",
    "]\n",
    "\n",
    "evaluation_dict = {\n",
    "    \"WithinSession\": WithinSessionEvaluation\n",
    "}\n",
    "paradim_dict = {\n",
    "    \"LeftRightImagery\": LeftRightImagery\n",
    "}\n",
    "pipeline_dict = {\n",
    "    \"Keras_DeepConvNet_Trained_Pruned\": Pipeline(\n",
    "        [\n",
    "            # (\"StandardScaler_Epoch\", StandardScaler_Epoch),\n",
    "            (\"Keras_DeepConvNet_Trained\", Keras_DeepConvNet_Trained_Pruned),\n",
    "        ]\n",
    "    ),\n",
    "}\n",
    "\n",
    "results_dict = {}\n",
    "for model_text in pipeline_dict.keys():\n",
    "    for evaluation_text in [\"WithinSession\"]: #, \"CrossSession\", \"CrossSubject\"]:\n",
    "        for paradim_text in [\"LeftRightImagery\"]: #, \"FilterBankMotorImagery\"]:\n",
    "            rprint(f\"Evaluating {model_text} using {evaluation_text} and {paradim_text}...\")\n",
    "            evaluation = evaluation_dict[evaluation_text](\n",
    "                paradigm=paradim_dict[paradim_text](), datasets=datasets, overwrite=True, return_epochs=True,  hdf5_path=f\"./saved_models/\", save_model=True\n",
    "            )\n",
    "            results = evaluation.process({ model_text: pipeline_dict[model_text] })\n",
    "            results_dict[model_text + \"_\" + evaluation_text + \"_\" + paradim_text] = results\n",
    "\n"
   ]
  },
  {
   "cell_type": "code",
   "execution_count": 23,
   "metadata": {},
   "outputs": [
    {
     "data": {
      "text/html": [
       "<pre style=\"white-space:pre;overflow-x:auto;line-height:normal;font-family:Menlo,'DejaVu Sans Mono',consolas,'Courier New',monospace\"><span style=\"color: #7fbf7f; text-decoration-color: #7fbf7f\">│     </span>score      time  samples subject session  channels  n_sessions  \\\n",
       "<span style=\"color: #008080; text-decoration-color: #008080; font-weight: bold\">0</span>  <span style=\"color: #008080; text-decoration-color: #008080; font-weight: bold\">0.466777</span>  <span style=\"color: #008080; text-decoration-color: #008080; font-weight: bold\">4.481342</span>    <span style=\"color: #008080; text-decoration-color: #008080; font-weight: bold\">108.0</span>       <span style=\"color: #008080; text-decoration-color: #008080; font-weight: bold\">1</span>       <span style=\"color: #008080; text-decoration-color: #008080; font-weight: bold\">0</span>        <span style=\"color: #008080; text-decoration-color: #008080; font-weight: bold\">20</span>           <span style=\"color: #008080; text-decoration-color: #008080; font-weight: bold\">1</span>   \n",
       "<span style=\"color: #7fbf7f; text-decoration-color: #7fbf7f\">│    </span>\n",
       "<span style=\"color: #7fbf7f; text-decoration-color: #7fbf7f\">│    </span>dataset                          pipeline  \n",
       "<span style=\"color: #008080; text-decoration-color: #008080; font-weight: bold\">0</span>  FatigueMI  Keras_DeepConvNet_Trained_Pruned  \n",
       "</pre>\n"
      ],
      "text/plain": [
       "\u001b[2;32m│     \u001b[0mscore      time  samples subject session  channels  n_sessions  \\\n",
       "\u001b[1;36m0\u001b[0m  \u001b[1;36m0.466777\u001b[0m  \u001b[1;36m4.481342\u001b[0m    \u001b[1;36m108.0\u001b[0m       \u001b[1;36m1\u001b[0m       \u001b[1;36m0\u001b[0m        \u001b[1;36m20\u001b[0m           \u001b[1;36m1\u001b[0m   \n",
       "\u001b[2;32m│    \u001b[0m\n",
       "\u001b[2;32m│    \u001b[0mdataset                          pipeline  \n",
       "\u001b[1;36m0\u001b[0m  FatigueMI  Keras_DeepConvNet_Trained_Pruned  \n"
      ]
     },
     "metadata": {},
     "output_type": "display_data"
    }
   ],
   "source": [
    "rpprint(\n",
    "    results_dict['Keras_DeepConvNet_Trained_Pruned_WithinSession_LeftRightImagery']\n",
    ")"
   ]
  },
  {
   "cell_type": "code",
   "execution_count": 27,
   "metadata": {},
   "outputs": [
    {
     "name": "stdout",
     "output_type": "stream",
     "text": [
      "Pipeline(steps=[('Keras_DeepConvNet_Trained',\n",
      "                 Pipeline(steps=[('resampler_epoch',\n",
      "                                  Resampler_Epoch(sfreq=250)),\n",
      "                                 ('convert_epoch_array', Convert_Epoch_Array()),\n",
      "                                 ('standardscaler_epoch',\n",
      "                                  StandardScaler_Epoch()),\n",
      "                                 ('kerasdeepconvnet',\n",
      "                                  KerasDeepConvNet(build_fn=None, callbacks=None, class_weight=None, epochs=5, loss='sparse_categorical_crossentropy', metrics=None, model=None, optimizer=<keras.optimizers.adam.Adam object at 0x7fe2e8653890>, run_eagerly=False, shuffle=True, validation_batch_size=None, verbose=1, warm_start=False))]))])\n"
     ]
    },
    {
     "name": "stderr",
     "output_type": "stream",
     "text": [
      "2024-02-17 12:08:24.514704: W tensorflow/core/util/tensor_slice_reader.cc:97] Could not open ram://c35d7f57d8454e51a3f9918bf7eec064: INVALID_ARGUMENT: ram://c35d7f57d8454e51a3f9918bf7eec064 is a directory.\n"
     ]
    }
   ],
   "source": [
    "# Load ./saved_models/results/LeftRightImagery/WithinSessionEvaluation/results_.hdf5\n",
    "with open(\"./saved_models/Models_WithinSession/FatigueMI/1/0/Keras_DeepConvNet_Trained_Pruned/fitted_model_2.pkl\", \"rb\") as f:\n",
    "    results = load(f)\n",
    "    print(results)"
   ]
  }
 ],
 "metadata": {
  "kernelspec": {
   "display_name": "base",
   "language": "python",
   "name": "python3"
  },
  "language_info": {
   "codemirror_mode": {
    "name": "ipython",
    "version": 3
   },
   "file_extension": ".py",
   "mimetype": "text/x-python",
   "name": "python",
   "nbconvert_exporter": "python",
   "pygments_lexer": "ipython3",
   "version": "3.11.5"
  }
 },
 "nbformat": 4,
 "nbformat_minor": 2
}
