{
 "cells": [
  {
   "cell_type": "code",
   "execution_count": 1,
   "metadata": {},
   "outputs": [
    {
     "name": "stderr",
     "output_type": "stream",
     "text": [
      "2024-02-17 18:44:10.731659: I tensorflow/tsl/cuda/cudart_stub.cc:28] Could not find cuda drivers on your machine, GPU will not be used.\n",
      "2024-02-17 18:44:10.769629: I tensorflow/tsl/cuda/cudart_stub.cc:28] Could not find cuda drivers on your machine, GPU will not be used.\n",
      "2024-02-17 18:44:10.770285: I tensorflow/core/platform/cpu_feature_guard.cc:182] This TensorFlow binary is optimized to use available CPU instructions in performance-critical operations.\n",
      "To enable the following instructions: AVX2 FMA, in other operations, rebuild TensorFlow with the appropriate compiler flags.\n",
      "2024-02-17 18:44:11.358677: W tensorflow/compiler/tf2tensorrt/utils/py_utils.cc:38] TF-TRT Warning: Could not find TensorRT\n",
      "<frozen importlib._bootstrap>:241: FutureWarning: mne.io.pick.pick_types is deprecated will be removed in 1.6, use documented public API instead. If no appropriate public API exists, please open an issue on GitHub.\n",
      "<frozen importlib._bootstrap>:241: FutureWarning: mne.io.pick.pick_channels_regexp is deprecated will be removed in 1.6, use documented public API instead. If no appropriate public API exists, please open an issue on GitHub.\n",
      "<frozen importlib._bootstrap>:241: FutureWarning: mne.io.pick.channel_type is deprecated will be removed in 1.6, use documented public API instead. If no appropriate public API exists, please open an issue on GitHub.\n"
     ]
    }
   ],
   "source": [
    "# General imports\n",
    "import h5py\n",
    "import numpy as np\n",
    "import pandas as pd\n",
    "from typing import Any, Dict\n",
    "from rich import print as rprint\n",
    "from rich.pretty import pprint as rpprint\n",
    "from pickle import load\n",
    "\n",
    "# Tensorflow + keras imports\n",
    "import tensorflow as tf\n",
    "import tensorflow_model_optimization as tfmot\n",
    "from tensorflow.python import keras\n",
    "from keras import backend as K\n",
    "from keras.constraints import max_norm\n",
    "from keras.layers import (\n",
    "    Activation,\n",
    "    Add,\n",
    "    AveragePooling2D,\n",
    "    AvgPool2D,\n",
    "    BatchNormalization,\n",
    "    Concatenate,\n",
    "    Conv2D,\n",
    "    Dense,\n",
    "    DepthwiseConv2D,\n",
    "    Dropout,\n",
    "    Flatten,\n",
    "    Input,\n",
    "    Lambda,\n",
    "    LayerNormalization,\n",
    "    MaxPooling2D,\n",
    "    Permute,\n",
    ")\n",
    "from keras.models import Model, Sequential\n",
    "from scikeras.wrappers import KerasClassifier\n",
    "\n",
    "# Sklearn imports\n",
    "from sklearn.pipeline import Pipeline\n",
    "from sklearn.preprocessing import StandardScaler\n",
    "from sklearn.pipeline import make_pipeline\n",
    "\n",
    "# Moabb imports\n",
    "from moabb.pipelines.utils_deep_model import EEGNet, EEGNet_TC\n",
    "from moabb.pipelines.features import Resampler_Epoch, Convert_Epoch_Array, StandardScaler_Epoch\n",
    "from moabb import set_log_level\n",
    "from moabb.utils import setup_seed\n",
    "from moabb.evaluations import CrossSessionEvaluation, WithinSessionEvaluation\n",
    "from moabb.paradigms import LeftRightImagery\n",
    "from moabb.analysis import analyze\n",
    "\n",
    "# Unused imports\n",
    "# from braindecode import EEGClassifier\n",
    "# from braindecode.models import EEGInception\n",
    "# from scikeras.wrappers import KerasClassifier\n",
    "# from sklearn.pipeline import Pipeline, make_pipeline\n",
    "# from skorch.callbacks import EarlyStopping, EpochScoring\n",
    "# from skorch.dataset import ValidSplit\n",
    "\n",
    "# Datasets\n",
    "from custom_datasets.fatigue_mi import FatigueMI\n",
    "from custom_datasets.norm_cho import NormCho2017\n",
    "from moabb.datasets import Cho2017, Zhou2016\n",
    "\n",
    "%load_ext autoreload\n",
    "%autoreload 3"
   ]
  },
  {
   "cell_type": "code",
   "execution_count": 2,
   "metadata": {},
   "outputs": [],
   "source": [
    "# Set up reproducibility of Tensorflow\n",
    "setup_seed(42)"
   ]
  },
  {
   "cell_type": "code",
   "execution_count": 3,
   "metadata": {},
   "outputs": [
    {
     "name": "stderr",
     "output_type": "stream",
     "text": [
      "2024-02-17 18:44:17.906985: I tensorflow/compiler/xla/stream_executor/cuda/cuda_gpu_executor.cc:996] successful NUMA node read from SysFS had negative value (-1), but there must be at least one NUMA node, so returning NUMA node zero. See more at https://github.com/torvalds/linux/blob/v6.0/Documentation/ABI/testing/sysfs-bus-pci#L344-L355\n",
      "2024-02-17 18:44:17.907690: W tensorflow/core/common_runtime/gpu/gpu_device.cc:1956] Cannot dlopen some GPU libraries. Please make sure the missing libraries mentioned above are installed properly if you would like to use GPU. Follow the guide at https://www.tensorflow.org/install/gpu for how to download and setup the required libraries for your platform.\n",
      "Skipping registering GPU devices...\n"
     ]
    }
   ],
   "source": [
    "# =================================================================================\n",
    "# DeepConvNet\n",
    "# =================================================================================\n",
    "class KerasDeepConvNet(KerasClassifier):\n",
    "    \"\"\"Keras implementation of the Deep Convolutional Network as described in\n",
    "    [1]_.\n",
    "\n",
    "    This implementation is taken from code by the Army Research Laboratory (ARL)\n",
    "    at https://github.com/vlawhern/arl-eegmodels\n",
    "\n",
    "    We use the original parameter implemented on the paper.\n",
    "\n",
    "    Note that this implementation has not been verified by the original\n",
    "    authors.\n",
    "\n",
    "    References\n",
    "    ----------\n",
    "    .. [1] Schirrmeister, R. T., Springenberg, J. T., Fiederer, L. D. J., Glasstetter, M., Eggensperger,\n",
    "           K., Tangermann, M., ... & Ball, T. (2017). Deep learning with convolutional neural networks\n",
    "           for EEG decoding and visualization. Human brain mapping, 38(11), 5391-5420.\n",
    "           https://doi.org/10.1002/hbm.23730\n",
    "\n",
    "    Notes\n",
    "    -----\n",
    "    .. versionadded:: 0.5.0\n",
    "    \"\"\"\n",
    "\n",
    "    def __init__(\n",
    "        self,\n",
    "        loss,\n",
    "        optimizer=\"Adam\",\n",
    "        epochs=1000,\n",
    "        batch_size=64,\n",
    "        verbose=0,\n",
    "        random_state=None,\n",
    "        validation_split=0.2,\n",
    "        history_plot=False,\n",
    "        path=None,\n",
    "        **kwargs,\n",
    "    ):\n",
    "        super().__init__(**kwargs)\n",
    "\n",
    "        self.loss = loss\n",
    "        if optimizer == \"Adam\":\n",
    "            optimizer = tf.keras.optimizers.Adam(learning_rate=0.0009)\n",
    "\n",
    "        self.optimizer = optimizer\n",
    "        self.epochs = epochs\n",
    "        self.batch_size = batch_size\n",
    "        self.verbose = verbose\n",
    "        self.random_state = random_state\n",
    "        self.validation_split = validation_split\n",
    "        self.history_plot = history_plot\n",
    "        self.path = path\n",
    "\n",
    "    def _keras_build_fn(self, compile_kwargs: Dict[str, Any]):\n",
    "        input_main = Input(shape=(self.X_shape_[1], self.X_shape_[2], 1))\n",
    "\n",
    "        block1 = Conv2D(\n",
    "            25,\n",
    "            (1, 10),\n",
    "            input_shape=(self.X_shape_[1], self.X_shape_[2], 1),\n",
    "            kernel_constraint=max_norm(2.0, axis=(0, 1, 2)),\n",
    "        )(input_main)\n",
    "        block1 = Conv2D(\n",
    "            25,\n",
    "            (self.X_shape_[1], 1),\n",
    "            kernel_constraint=max_norm(2.0, axis=(0, 1, 2)),\n",
    "        )(block1)\n",
    "        block1 = BatchNormalization(epsilon=1e-05, momentum=0.9)(block1)\n",
    "        block1 = Activation(\"elu\")(block1)\n",
    "        block1 = MaxPooling2D(pool_size=(1, 3), strides=(1, 3))(block1)\n",
    "        block1 = Dropout(0.5)(block1)\n",
    "\n",
    "        block2 = Conv2D(50, (1, 10), kernel_constraint=max_norm(2.0, axis=(0, 1, 2)))(\n",
    "            block1\n",
    "        )\n",
    "        block2 = BatchNormalization(epsilon=1e-05, momentum=0.9)(block2)\n",
    "        block2 = Activation(\"elu\")(block2)\n",
    "        block2 = MaxPooling2D(pool_size=(1, 3), strides=(1, 3))(block2)\n",
    "        block2 = Dropout(0.5)(block2)\n",
    "\n",
    "        block3 = Conv2D(100, (1, 10), kernel_constraint=max_norm(2.0, axis=(0, 1, 2)))(\n",
    "            block2\n",
    "        )\n",
    "        block3 = BatchNormalization(epsilon=1e-05, momentum=0.9)(block3)\n",
    "        block3 = Activation(\"elu\")(block3)\n",
    "        block3 = MaxPooling2D(pool_size=(1, 3), strides=(1, 3))(block3)\n",
    "        block3 = Dropout(0.5)(block3)\n",
    "\n",
    "        block4 = Conv2D(200, (1, 10), kernel_constraint=max_norm(2.0, axis=(0, 1, 2)))(\n",
    "            block3\n",
    "        )\n",
    "        block4 = BatchNormalization(epsilon=1e-05, momentum=0.9)(block4)\n",
    "        block4 = Activation(\"elu\")(block4)\n",
    "        block4 = MaxPooling2D(pool_size=(1, 3), strides=(1, 3))(block4)\n",
    "        block4 = Dropout(0.5)(block4)\n",
    "\n",
    "        flatten = Flatten()(block4)\n",
    "\n",
    "        dense = Dense(self.n_classes_, kernel_constraint=max_norm(0.5))(flatten)\n",
    "        softmax = Activation(\"softmax\")(dense)\n",
    "\n",
    "        model = Model(inputs=input_main, outputs=softmax)\n",
    "        \n",
    "        model.compile(loss=compile_kwargs[\"loss\"], optimizer=compile_kwargs[\"optimizer\"])\n",
    "        \n",
    "        return model\n",
    "        \n",
    "\n",
    "keras_deep_conv_net = KerasDeepConvNet(\n",
    "    loss=\"sparse_categorical_crossentropy\",\n",
    "    optimizer=\"Adam\",\n",
    "    epochs=5,\n",
    "    batch_size=64,\n",
    "    verbose=1,\n",
    "    random_state=None,\n",
    "    validation_split=0.2,\n",
    "    history_plot=False,\n",
    "    path=None,\n",
    ")\n",
    "# keras_deep_conv_net.save(\"keras_deep_conv_net.h5\")"
   ]
  },
  {
   "cell_type": "code",
   "execution_count": 17,
   "metadata": {},
   "outputs": [
    {
     "data": {
      "text/html": [
       "<style>#sk-container-id-2 {color: black;}#sk-container-id-2 pre{padding: 0;}#sk-container-id-2 div.sk-toggleable {background-color: white;}#sk-container-id-2 label.sk-toggleable__label {cursor: pointer;display: block;width: 100%;margin-bottom: 0;padding: 0.3em;box-sizing: border-box;text-align: center;}#sk-container-id-2 label.sk-toggleable__label-arrow:before {content: \"▸\";float: left;margin-right: 0.25em;color: #696969;}#sk-container-id-2 label.sk-toggleable__label-arrow:hover:before {color: black;}#sk-container-id-2 div.sk-estimator:hover label.sk-toggleable__label-arrow:before {color: black;}#sk-container-id-2 div.sk-toggleable__content {max-height: 0;max-width: 0;overflow: hidden;text-align: left;background-color: #f0f8ff;}#sk-container-id-2 div.sk-toggleable__content pre {margin: 0.2em;color: black;border-radius: 0.25em;background-color: #f0f8ff;}#sk-container-id-2 input.sk-toggleable__control:checked~div.sk-toggleable__content {max-height: 200px;max-width: 100%;overflow: auto;}#sk-container-id-2 input.sk-toggleable__control:checked~label.sk-toggleable__label-arrow:before {content: \"▾\";}#sk-container-id-2 div.sk-estimator input.sk-toggleable__control:checked~label.sk-toggleable__label {background-color: #d4ebff;}#sk-container-id-2 div.sk-label input.sk-toggleable__control:checked~label.sk-toggleable__label {background-color: #d4ebff;}#sk-container-id-2 input.sk-hidden--visually {border: 0;clip: rect(1px 1px 1px 1px);clip: rect(1px, 1px, 1px, 1px);height: 1px;margin: -1px;overflow: hidden;padding: 0;position: absolute;width: 1px;}#sk-container-id-2 div.sk-estimator {font-family: monospace;background-color: #f0f8ff;border: 1px dotted black;border-radius: 0.25em;box-sizing: border-box;margin-bottom: 0.5em;}#sk-container-id-2 div.sk-estimator:hover {background-color: #d4ebff;}#sk-container-id-2 div.sk-parallel-item::after {content: \"\";width: 100%;border-bottom: 1px solid gray;flex-grow: 1;}#sk-container-id-2 div.sk-label:hover label.sk-toggleable__label {background-color: #d4ebff;}#sk-container-id-2 div.sk-serial::before {content: \"\";position: absolute;border-left: 1px solid gray;box-sizing: border-box;top: 0;bottom: 0;left: 50%;z-index: 0;}#sk-container-id-2 div.sk-serial {display: flex;flex-direction: column;align-items: center;background-color: white;padding-right: 0.2em;padding-left: 0.2em;position: relative;}#sk-container-id-2 div.sk-item {position: relative;z-index: 1;}#sk-container-id-2 div.sk-parallel {display: flex;align-items: stretch;justify-content: center;background-color: white;position: relative;}#sk-container-id-2 div.sk-item::before, #sk-container-id-2 div.sk-parallel-item::before {content: \"\";position: absolute;border-left: 1px solid gray;box-sizing: border-box;top: 0;bottom: 0;left: 50%;z-index: -1;}#sk-container-id-2 div.sk-parallel-item {display: flex;flex-direction: column;z-index: 1;position: relative;background-color: white;}#sk-container-id-2 div.sk-parallel-item:first-child::after {align-self: flex-end;width: 50%;}#sk-container-id-2 div.sk-parallel-item:last-child::after {align-self: flex-start;width: 50%;}#sk-container-id-2 div.sk-parallel-item:only-child::after {width: 0;}#sk-container-id-2 div.sk-dashed-wrapped {border: 1px dashed gray;margin: 0 0.4em 0.5em 0.4em;box-sizing: border-box;padding-bottom: 0.4em;background-color: white;}#sk-container-id-2 div.sk-label label {font-family: monospace;font-weight: bold;display: inline-block;line-height: 1.2em;}#sk-container-id-2 div.sk-label-container {text-align: center;}#sk-container-id-2 div.sk-container {/* jupyter's `normalize.less` sets `[hidden] { display: none; }` but bootstrap.min.css set `[hidden] { display: none !important; }` so we also need the `!important` here to be able to override the default hidden behavior on the sphinx rendered scikit-learn.org. See: https://github.com/scikit-learn/scikit-learn/issues/21755 */display: inline-block !important;position: relative;}#sk-container-id-2 div.sk-text-repr-fallback {display: none;}</style><div id=\"sk-container-id-2\" class=\"sk-top-container\"><div class=\"sk-text-repr-fallback\"><pre>Pipeline(steps=[(&#x27;resampler_epoch&#x27;, Resampler_Epoch(sfreq=250)),\n",
       "                (&#x27;convert_epoch_array&#x27;, Convert_Epoch_Array()),\n",
       "                (&#x27;standardscaler_epoch&#x27;, StandardScaler_Epoch()),\n",
       "                (&#x27;kerasdeepconvnet&#x27;,\n",
       "                 KerasDeepConvNet(build_fn=None, callbacks=None, class_weight=None, epochs=5, loss=&#x27;sparse_categorical_crossentropy&#x27;, metrics=None, model=None, optimizer=&lt;keras.optimizers.adam.Adam object at 0x7fab90bcc390&gt;, run_eagerly=False, shuffle=True, validation_batch_size=None, verbose=1, warm_start=False))])</pre><b>In a Jupyter environment, please rerun this cell to show the HTML representation or trust the notebook. <br />On GitHub, the HTML representation is unable to render, please try loading this page with nbviewer.org.</b></div><div class=\"sk-container\" hidden><div class=\"sk-item sk-dashed-wrapped\"><div class=\"sk-label-container\"><div class=\"sk-label sk-toggleable\"><input class=\"sk-toggleable__control sk-hidden--visually\" id=\"sk-estimator-id-6\" type=\"checkbox\" ><label for=\"sk-estimator-id-6\" class=\"sk-toggleable__label sk-toggleable__label-arrow\">Pipeline</label><div class=\"sk-toggleable__content\"><pre>Pipeline(steps=[(&#x27;resampler_epoch&#x27;, Resampler_Epoch(sfreq=250)),\n",
       "                (&#x27;convert_epoch_array&#x27;, Convert_Epoch_Array()),\n",
       "                (&#x27;standardscaler_epoch&#x27;, StandardScaler_Epoch()),\n",
       "                (&#x27;kerasdeepconvnet&#x27;,\n",
       "                 KerasDeepConvNet(build_fn=None, callbacks=None, class_weight=None, epochs=5, loss=&#x27;sparse_categorical_crossentropy&#x27;, metrics=None, model=None, optimizer=&lt;keras.optimizers.adam.Adam object at 0x7fab90bcc390&gt;, run_eagerly=False, shuffle=True, validation_batch_size=None, verbose=1, warm_start=False))])</pre></div></div></div><div class=\"sk-serial\"><div class=\"sk-item\"><div class=\"sk-estimator sk-toggleable\"><input class=\"sk-toggleable__control sk-hidden--visually\" id=\"sk-estimator-id-7\" type=\"checkbox\" ><label for=\"sk-estimator-id-7\" class=\"sk-toggleable__label sk-toggleable__label-arrow\">Resampler_Epoch</label><div class=\"sk-toggleable__content\"><pre>Resampler_Epoch(sfreq=250)</pre></div></div></div><div class=\"sk-item\"><div class=\"sk-estimator sk-toggleable\"><input class=\"sk-toggleable__control sk-hidden--visually\" id=\"sk-estimator-id-8\" type=\"checkbox\" ><label for=\"sk-estimator-id-8\" class=\"sk-toggleable__label sk-toggleable__label-arrow\">Convert_Epoch_Array</label><div class=\"sk-toggleable__content\"><pre>Convert_Epoch_Array()</pre></div></div></div><div class=\"sk-item\"><div class=\"sk-estimator sk-toggleable\"><input class=\"sk-toggleable__control sk-hidden--visually\" id=\"sk-estimator-id-9\" type=\"checkbox\" ><label for=\"sk-estimator-id-9\" class=\"sk-toggleable__label sk-toggleable__label-arrow\">StandardScaler_Epoch</label><div class=\"sk-toggleable__content\"><pre>StandardScaler_Epoch()</pre></div></div></div><div class=\"sk-item\"><div class=\"sk-estimator sk-toggleable\"><input class=\"sk-toggleable__control sk-hidden--visually\" id=\"sk-estimator-id-10\" type=\"checkbox\" ><label for=\"sk-estimator-id-10\" class=\"sk-toggleable__label sk-toggleable__label-arrow\">KerasDeepConvNet</label><div class=\"sk-toggleable__content\"><pre>KerasDeepConvNet(\n",
       "\tmodel=None\n",
       "\tbuild_fn=None\n",
       "\twarm_start=False\n",
       "\trandom_state=None\n",
       "\toptimizer=&lt;keras.optimizers.adam.Adam object at 0x7fab90bcc390&gt;\n",
       "\tloss=sparse_categorical_crossentropy\n",
       "\tmetrics=None\n",
       "\tbatch_size=64\n",
       "\tvalidation_batch_size=None\n",
       "\tverbose=1\n",
       "\tcallbacks=None\n",
       "\tvalidation_split=0.2\n",
       "\tshuffle=True\n",
       "\trun_eagerly=False\n",
       "\tepochs=5\n",
       "\tclass_weight=None\n",
       "\thistory_plot=False\n",
       "\tpath=None\n",
       ")</pre></div></div></div></div></div></div></div>"
      ],
      "text/plain": [
       "Pipeline(steps=[('resampler_epoch', Resampler_Epoch(sfreq=250)),\n",
       "                ('convert_epoch_array', Convert_Epoch_Array()),\n",
       "                ('standardscaler_epoch', StandardScaler_Epoch()),\n",
       "                ('kerasdeepconvnet',\n",
       "                 KerasDeepConvNet(build_fn=None, callbacks=None, class_weight=None, epochs=5, loss='sparse_categorical_crossentropy', metrics=None, model=None, optimizer=<keras.optimizers.adam.Adam object at 0x7fab90bcc390>, run_eagerly=False, shuffle=True, validation_batch_size=None, verbose=1, warm_start=False))])"
      ]
     },
     "execution_count": 17,
     "metadata": {},
     "output_type": "execute_result"
    }
   ],
   "source": [
    "# model_keras_pruned = keras.models.load_model(\"keras_deep_conv_net.h5\")\n",
    "model_keras = keras_deep_conv_net\n",
    "# Now we need to instantiate a new SciKeras object since we only saved the Keras model\n",
    "resampler_epoch = Resampler_Epoch(sfreq=250)\n",
    "convert_epoch_array = Convert_Epoch_Array()\n",
    "standardscaler_epoch = StandardScaler_Epoch()\n",
    "keras_deepconvnet_pipeline = make_pipeline(\n",
    "    resampler_epoch,\n",
    "    convert_epoch_array,\n",
    "    standardscaler_epoch,\n",
    "    model_keras\n",
    ")\n",
    "\n",
    "keras_deepconvnet_pipeline"
   ]
  },
  {
   "cell_type": "code",
   "execution_count": 18,
   "metadata": {},
   "outputs": [
    {
     "data": {
      "text/html": [
       "<pre style=\"white-space:pre;overflow-x:auto;line-height:normal;font-family:Menlo,'DejaVu Sans Mono',consolas,'Courier New',monospace\">Evaluating Keras_DeepConvNet using WithinSession and LeftRightImagery<span style=\"color: #808000; text-decoration-color: #808000\">...</span>\n",
       "</pre>\n"
      ],
      "text/plain": [
       "Evaluating Keras_DeepConvNet using WithinSession and LeftRightImagery\u001b[33m...\u001b[0m\n"
      ]
     },
     "metadata": {},
     "output_type": "display_data"
    },
    {
     "name": "stderr",
     "output_type": "stream",
     "text": [
      "FatigueMI-WithinSession:   0%|          | 0/2 [00:00<?, ?it/s]"
     ]
    },
    {
     "name": "stdout",
     "output_type": "stream",
     "text": [
      "Adding metadata with 3 columns\n",
      "Adding metadata with 3 columns\n",
      "108 matching events found\n",
      "No baseline correction applied\n"
     ]
    },
    {
     "name": "stderr",
     "output_type": "stream",
     "text": [
      "/home/araz/anaconda3/envs/moabb_model_optimization/lib/python3.11/site-packages/moabb/paradigms/base.py:354: RuntimeWarning: Concatenation of Annotations within Epochs is not supported yet. All annotations will be dropped.\n",
      "  X = mne.concatenate_epochs(X)\n"
     ]
    },
    {
     "name": "stdout",
     "output_type": "stream",
     "text": [
      "Epoch 1/5\n"
     ]
    },
    {
     "name": "stderr",
     "output_type": "stream",
     "text": [
      "/home/araz/anaconda3/envs/moabb_model_optimization/lib/python3.11/site-packages/moabb/pipelines/features.py:163: FutureWarning: The current default of copy=False will change to copy=True in 1.7. Set the value of copy explicitly to avoid this warning\n",
      "  return X.get_data()\n",
      "2024-02-17 20:15:57.646651: I tensorflow/core/common_runtime/executor.cc:1197] [/device:CPU:0] (DEBUG INFO) Executor start aborting (this does not indicate an error and you can ignore this message): INVALID_ARGUMENT: You must feed a value for placeholder tensor 'Placeholder/_11' with dtype float and shape [68,1]\n",
      "\t [[{{node Placeholder/_11}}]]\n",
      "2024-02-17 20:15:57.646858: I tensorflow/core/common_runtime/executor.cc:1197] [/device:CPU:0] (DEBUG INFO) Executor start aborting (this does not indicate an error and you can ignore this message): INVALID_ARGUMENT: You must feed a value for placeholder tensor 'Placeholder/_11' with dtype float and shape [68,1]\n",
      "\t [[{{node Placeholder/_11}}]]\n"
     ]
    },
    {
     "name": "stdout",
     "output_type": "stream",
     "text": [
      "2/2 [==============================] - 2s 186ms/step - loss: 1.1915 - val_loss: 0.6901\n",
      "Epoch 2/5\n"
     ]
    },
    {
     "name": "stderr",
     "output_type": "stream",
     "text": [
      "2024-02-17 20:15:59.382198: I tensorflow/core/common_runtime/executor.cc:1197] [/device:CPU:0] (DEBUG INFO) Executor start aborting (this does not indicate an error and you can ignore this message): INVALID_ARGUMENT: You must feed a value for placeholder tensor 'Placeholder/_10' with dtype float and shape [18,20,501]\n",
      "\t [[{{node Placeholder/_10}}]]\n",
      "2024-02-17 20:15:59.382440: I tensorflow/core/common_runtime/executor.cc:1197] [/device:CPU:0] (DEBUG INFO) Executor start aborting (this does not indicate an error and you can ignore this message): INVALID_ARGUMENT: You must feed a value for placeholder tensor 'Placeholder/_11' with dtype float and shape [18,1]\n",
      "\t [[{{node Placeholder/_11}}]]\n"
     ]
    },
    {
     "name": "stdout",
     "output_type": "stream",
     "text": [
      "2/2 [==============================] - 0s 41ms/step - loss: 0.8650 - val_loss: 0.6996\n",
      "Epoch 3/5\n",
      "2/2 [==============================] - 0s 36ms/step - loss: 0.8830 - val_loss: 0.7208\n",
      "Epoch 4/5\n",
      "2/2 [==============================] - 0s 38ms/step - loss: 0.7506 - val_loss: 0.7516\n",
      "Epoch 5/5\n",
      "2/2 [==============================] - 0s 37ms/step - loss: 0.8346 - val_loss: 0.7830\n",
      "WARNING:tensorflow:6 out of the last 6 calls to <function Model.make_predict_function.<locals>.predict_function at 0x7faa54629300> triggered tf.function retracing. Tracing is expensive and the excessive number of tracings could be due to (1) creating @tf.function repeatedly in a loop, (2) passing tensors with different shapes, (3) passing Python objects instead of tensors. For (1), please define your @tf.function outside of the loop. For (2), @tf.function has reduce_retracing=True option that can avoid unnecessary retracing. For (3), please refer to https://www.tensorflow.org/guide/function#controlling_retracing and https://www.tensorflow.org/api_docs/python/tf/function for  more details.\n",
      "1/1 [==============================] - 0s 108ms/step\n",
      "Saving Keras model\n"
     ]
    },
    {
     "name": "stderr",
     "output_type": "stream",
     "text": [
      "/home/araz/anaconda3/envs/moabb_model_optimization/lib/python3.11/site-packages/moabb/pipelines/features.py:163: FutureWarning: The current default of copy=False will change to copy=True in 1.7. Set the value of copy explicitly to avoid this warning\n",
      "  return X.get_data()\n",
      "2024-02-17 20:16:00.235426: I tensorflow/core/common_runtime/executor.cc:1197] [/device:CPU:0] (DEBUG INFO) Executor start aborting (this does not indicate an error and you can ignore this message): INVALID_ARGUMENT: You must feed a value for placeholder tensor 'Placeholder/_10' with dtype float and shape [22,20,501]\n",
      "\t [[{{node Placeholder/_10}}]]\n",
      "2024-02-17 20:16:00.235755: I tensorflow/core/common_runtime/executor.cc:1197] [/device:CPU:0] (DEBUG INFO) Executor start aborting (this does not indicate an error and you can ignore this message): INVALID_ARGUMENT: You must feed a value for placeholder tensor 'Placeholder/_10' with dtype float and shape [22,20,501]\n",
      "\t [[{{node Placeholder/_10}}]]\n"
     ]
    },
    {
     "name": "stdout",
     "output_type": "stream",
     "text": [
      "Epoch 1/5\n"
     ]
    },
    {
     "name": "stderr",
     "output_type": "stream",
     "text": [
      "/home/araz/anaconda3/envs/moabb_model_optimization/lib/python3.11/site-packages/moabb/pipelines/features.py:163: FutureWarning: The current default of copy=False will change to copy=True in 1.7. Set the value of copy explicitly to avoid this warning\n",
      "  return X.get_data()\n",
      "2024-02-17 20:16:00.847458: I tensorflow/core/common_runtime/executor.cc:1197] [/device:CPU:0] (DEBUG INFO) Executor start aborting (this does not indicate an error and you can ignore this message): INVALID_ARGUMENT: You must feed a value for placeholder tensor 'Placeholder/_11' with dtype float and shape [68,1]\n",
      "\t [[{{node Placeholder/_11}}]]\n",
      "2024-02-17 20:16:00.847682: I tensorflow/core/common_runtime/executor.cc:1197] [/device:CPU:0] (DEBUG INFO) Executor start aborting (this does not indicate an error and you can ignore this message): INVALID_ARGUMENT: You must feed a value for placeholder tensor 'Placeholder/_11' with dtype float and shape [68,1]\n",
      "\t [[{{node Placeholder/_11}}]]\n"
     ]
    },
    {
     "name": "stdout",
     "output_type": "stream",
     "text": [
      "1/2 [==============>...............] - ETA: 1s - loss: 1.7418"
     ]
    },
    {
     "name": "stderr",
     "output_type": "stream",
     "text": [
      "2024-02-17 20:16:02.549235: I tensorflow/core/common_runtime/executor.cc:1197] [/device:CPU:0] (DEBUG INFO) Executor start aborting (this does not indicate an error and you can ignore this message): INVALID_ARGUMENT: You must feed a value for placeholder tensor 'Placeholder/_11' with dtype float and shape [18,1]\n",
      "\t [[{{node Placeholder/_11}}]]\n",
      "2024-02-17 20:16:02.549914: I tensorflow/core/common_runtime/executor.cc:1197] [/device:CPU:0] (DEBUG INFO) Executor start aborting (this does not indicate an error and you can ignore this message): INVALID_ARGUMENT: You must feed a value for placeholder tensor 'Placeholder/_11' with dtype float and shape [18,1]\n",
      "\t [[{{node Placeholder/_11}}]]\n"
     ]
    },
    {
     "name": "stdout",
     "output_type": "stream",
     "text": [
      "2/2 [==============================] - 2s 502ms/step - loss: 1.6880 - val_loss: 0.6868\n",
      "Epoch 2/5\n",
      "2/2 [==============================] - 0s 40ms/step - loss: 0.8906 - val_loss: 0.6977\n",
      "Epoch 3/5\n",
      "2/2 [==============================] - 0s 41ms/step - loss: 0.8007 - val_loss: 0.7156\n",
      "Epoch 4/5\n",
      "2/2 [==============================] - 0s 40ms/step - loss: 0.6974 - val_loss: 0.7470\n",
      "Epoch 5/5\n",
      "2/2 [==============================] - 0s 39ms/step - loss: 0.7705 - val_loss: 0.7860\n",
      "1/1 [==============================] - 0s 135ms/step\n"
     ]
    },
    {
     "name": "stderr",
     "output_type": "stream",
     "text": [
      "/home/araz/anaconda3/envs/moabb_model_optimization/lib/python3.11/site-packages/moabb/pipelines/features.py:163: FutureWarning: The current default of copy=False will change to copy=True in 1.7. Set the value of copy explicitly to avoid this warning\n",
      "  return X.get_data()\n",
      "2024-02-17 20:16:03.724622: I tensorflow/core/common_runtime/executor.cc:1197] [/device:CPU:0] (DEBUG INFO) Executor start aborting (this does not indicate an error and you can ignore this message): INVALID_ARGUMENT: You must feed a value for placeholder tensor 'Placeholder/_10' with dtype float and shape [22,20,501]\n",
      "\t [[{{node Placeholder/_10}}]]\n",
      "2024-02-17 20:16:03.724954: I tensorflow/core/common_runtime/executor.cc:1197] [/device:CPU:0] (DEBUG INFO) Executor start aborting (this does not indicate an error and you can ignore this message): INVALID_ARGUMENT: You must feed a value for placeholder tensor 'Placeholder/_10' with dtype float and shape [22,20,501]\n",
      "\t [[{{node Placeholder/_10}}]]\n"
     ]
    },
    {
     "name": "stdout",
     "output_type": "stream",
     "text": [
      "Saving Keras model\n",
      "Epoch 1/5\n"
     ]
    },
    {
     "name": "stderr",
     "output_type": "stream",
     "text": [
      "/home/araz/anaconda3/envs/moabb_model_optimization/lib/python3.11/site-packages/moabb/pipelines/features.py:163: FutureWarning: The current default of copy=False will change to copy=True in 1.7. Set the value of copy explicitly to avoid this warning\n",
      "  return X.get_data()\n",
      "2024-02-17 20:16:04.360953: I tensorflow/core/common_runtime/executor.cc:1197] [/device:CPU:0] (DEBUG INFO) Executor start aborting (this does not indicate an error and you can ignore this message): INVALID_ARGUMENT: You must feed a value for placeholder tensor 'Placeholder/_10' with dtype float and shape [68,20,501]\n",
      "\t [[{{node Placeholder/_10}}]]\n",
      "2024-02-17 20:16:04.361161: I tensorflow/core/common_runtime/executor.cc:1197] [/device:CPU:0] (DEBUG INFO) Executor start aborting (this does not indicate an error and you can ignore this message): INVALID_ARGUMENT: You must feed a value for placeholder tensor 'Placeholder/_11' with dtype float and shape [68,1]\n",
      "\t [[{{node Placeholder/_11}}]]\n"
     ]
    },
    {
     "name": "stdout",
     "output_type": "stream",
     "text": [
      "2/2 [==============================] - 2s 188ms/step - loss: 1.3003 - val_loss: 0.6869\n",
      "Epoch 2/5\n"
     ]
    },
    {
     "name": "stderr",
     "output_type": "stream",
     "text": [
      "2024-02-17 20:16:06.014094: I tensorflow/core/common_runtime/executor.cc:1197] [/device:CPU:0] (DEBUG INFO) Executor start aborting (this does not indicate an error and you can ignore this message): INVALID_ARGUMENT: You must feed a value for placeholder tensor 'Placeholder/_11' with dtype float and shape [18,1]\n",
      "\t [[{{node Placeholder/_11}}]]\n",
      "2024-02-17 20:16:06.014354: I tensorflow/core/common_runtime/executor.cc:1197] [/device:CPU:0] (DEBUG INFO) Executor start aborting (this does not indicate an error and you can ignore this message): INVALID_ARGUMENT: You must feed a value for placeholder tensor 'Placeholder/_11' with dtype float and shape [18,1]\n",
      "\t [[{{node Placeholder/_11}}]]\n"
     ]
    },
    {
     "name": "stdout",
     "output_type": "stream",
     "text": [
      "2/2 [==============================] - 0s 40ms/step - loss: 0.8408 - val_loss: 0.6850\n",
      "Epoch 3/5\n",
      "2/2 [==============================] - 0s 38ms/step - loss: 0.7749 - val_loss: 0.6829\n",
      "Epoch 4/5\n",
      "2/2 [==============================] - 0s 42ms/step - loss: 0.7545 - val_loss: 0.6807\n",
      "Epoch 5/5\n",
      "2/2 [==============================] - 0s 37ms/step - loss: 0.9052 - val_loss: 0.6789\n",
      "1/1 [==============================] - 0s 102ms/step\n",
      "Saving Keras model\n"
     ]
    },
    {
     "name": "stderr",
     "output_type": "stream",
     "text": [
      "/home/araz/anaconda3/envs/moabb_model_optimization/lib/python3.11/site-packages/moabb/pipelines/features.py:163: FutureWarning: The current default of copy=False will change to copy=True in 1.7. Set the value of copy explicitly to avoid this warning\n",
      "  return X.get_data()\n",
      "2024-02-17 20:16:06.862097: I tensorflow/core/common_runtime/executor.cc:1197] [/device:CPU:0] (DEBUG INFO) Executor start aborting (this does not indicate an error and you can ignore this message): INVALID_ARGUMENT: You must feed a value for placeholder tensor 'Placeholder/_10' with dtype float and shape [22,20,501]\n",
      "\t [[{{node Placeholder/_10}}]]\n",
      "2024-02-17 20:16:06.862269: I tensorflow/core/common_runtime/executor.cc:1197] [/device:CPU:0] (DEBUG INFO) Executor start aborting (this does not indicate an error and you can ignore this message): INVALID_ARGUMENT: You must feed a value for placeholder tensor 'Placeholder/_10' with dtype float and shape [22,20,501]\n",
      "\t [[{{node Placeholder/_10}}]]\n"
     ]
    },
    {
     "name": "stdout",
     "output_type": "stream",
     "text": [
      "Epoch 1/5\n"
     ]
    },
    {
     "name": "stderr",
     "output_type": "stream",
     "text": [
      "/home/araz/anaconda3/envs/moabb_model_optimization/lib/python3.11/site-packages/moabb/pipelines/features.py:163: FutureWarning: The current default of copy=False will change to copy=True in 1.7. Set the value of copy explicitly to avoid this warning\n",
      "  return X.get_data()\n",
      "2024-02-17 20:16:07.361110: I tensorflow/core/common_runtime/executor.cc:1197] [/device:CPU:0] (DEBUG INFO) Executor start aborting (this does not indicate an error and you can ignore this message): INVALID_ARGUMENT: You must feed a value for placeholder tensor 'Placeholder/_11' with dtype float and shape [69,1]\n",
      "\t [[{{node Placeholder/_11}}]]\n",
      "2024-02-17 20:16:07.361340: I tensorflow/core/common_runtime/executor.cc:1197] [/device:CPU:0] (DEBUG INFO) Executor start aborting (this does not indicate an error and you can ignore this message): INVALID_ARGUMENT: You must feed a value for placeholder tensor 'Placeholder/_11' with dtype float and shape [69,1]\n",
      "\t [[{{node Placeholder/_11}}]]\n"
     ]
    },
    {
     "name": "stdout",
     "output_type": "stream",
     "text": [
      "2/2 [==============================] - 2s 186ms/step - loss: 1.5677 - val_loss: 0.6939\n",
      "Epoch 2/5\n"
     ]
    },
    {
     "name": "stderr",
     "output_type": "stream",
     "text": [
      "2024-02-17 20:16:09.074725: I tensorflow/core/common_runtime/executor.cc:1197] [/device:CPU:0] (DEBUG INFO) Executor start aborting (this does not indicate an error and you can ignore this message): INVALID_ARGUMENT: You must feed a value for placeholder tensor 'Placeholder/_11' with dtype float and shape [18,1]\n",
      "\t [[{{node Placeholder/_11}}]]\n",
      "2024-02-17 20:16:09.074918: I tensorflow/core/common_runtime/executor.cc:1197] [/device:CPU:0] (DEBUG INFO) Executor start aborting (this does not indicate an error and you can ignore this message): INVALID_ARGUMENT: You must feed a value for placeholder tensor 'Placeholder/_11' with dtype float and shape [18,1]\n",
      "\t [[{{node Placeholder/_11}}]]\n"
     ]
    },
    {
     "name": "stdout",
     "output_type": "stream",
     "text": [
      "2/2 [==============================] - 0s 38ms/step - loss: 0.8428 - val_loss: 0.7076\n",
      "Epoch 3/5\n",
      "2/2 [==============================] - 0s 47ms/step - loss: 0.7604 - val_loss: 0.7203\n",
      "Epoch 4/5\n",
      "2/2 [==============================] - 0s 44ms/step - loss: 0.7359 - val_loss: 0.7238\n",
      "Epoch 5/5\n",
      "2/2 [==============================] - 0s 46ms/step - loss: 0.7503 - val_loss: 0.7189\n",
      "1/1 [==============================] - 0s 110ms/step\n",
      "Saving Keras model\n"
     ]
    },
    {
     "name": "stderr",
     "output_type": "stream",
     "text": [
      "/home/araz/anaconda3/envs/moabb_model_optimization/lib/python3.11/site-packages/moabb/pipelines/features.py:163: FutureWarning: The current default of copy=False will change to copy=True in 1.7. Set the value of copy explicitly to avoid this warning\n",
      "  return X.get_data()\n",
      "2024-02-17 20:16:09.985004: I tensorflow/core/common_runtime/executor.cc:1197] [/device:CPU:0] (DEBUG INFO) Executor start aborting (this does not indicate an error and you can ignore this message): INVALID_ARGUMENT: You must feed a value for placeholder tensor 'Placeholder/_10' with dtype float and shape [21,20,501]\n",
      "\t [[{{node Placeholder/_10}}]]\n",
      "2024-02-17 20:16:09.985243: I tensorflow/core/common_runtime/executor.cc:1197] [/device:CPU:0] (DEBUG INFO) Executor start aborting (this does not indicate an error and you can ignore this message): INVALID_ARGUMENT: You must feed a value for placeholder tensor 'Placeholder/_10' with dtype float and shape [21,20,501]\n",
      "\t [[{{node Placeholder/_10}}]]\n"
     ]
    },
    {
     "name": "stdout",
     "output_type": "stream",
     "text": [
      "Epoch 1/5\n"
     ]
    },
    {
     "name": "stderr",
     "output_type": "stream",
     "text": [
      "/home/araz/anaconda3/envs/moabb_model_optimization/lib/python3.11/site-packages/moabb/pipelines/features.py:163: FutureWarning: The current default of copy=False will change to copy=True in 1.7. Set the value of copy explicitly to avoid this warning\n",
      "  return X.get_data()\n",
      "2024-02-17 20:16:10.516381: I tensorflow/core/common_runtime/executor.cc:1197] [/device:CPU:0] (DEBUG INFO) Executor start aborting (this does not indicate an error and you can ignore this message): INVALID_ARGUMENT: You must feed a value for placeholder tensor 'Placeholder/_11' with dtype float and shape [69,1]\n",
      "\t [[{{node Placeholder/_11}}]]\n",
      "2024-02-17 20:16:10.516605: I tensorflow/core/common_runtime/executor.cc:1197] [/device:CPU:0] (DEBUG INFO) Executor start aborting (this does not indicate an error and you can ignore this message): INVALID_ARGUMENT: You must feed a value for placeholder tensor 'Placeholder/_11' with dtype float and shape [69,1]\n",
      "\t [[{{node Placeholder/_11}}]]\n"
     ]
    },
    {
     "name": "stdout",
     "output_type": "stream",
     "text": [
      "2/2 [==============================] - 2s 186ms/step - loss: 1.7073 - val_loss: 0.7025\n",
      "Epoch 2/5\n"
     ]
    },
    {
     "name": "stderr",
     "output_type": "stream",
     "text": [
      "2024-02-17 20:16:12.214881: I tensorflow/core/common_runtime/executor.cc:1197] [/device:CPU:0] (DEBUG INFO) Executor start aborting (this does not indicate an error and you can ignore this message): INVALID_ARGUMENT: You must feed a value for placeholder tensor 'Placeholder/_11' with dtype float and shape [18,1]\n",
      "\t [[{{node Placeholder/_11}}]]\n",
      "2024-02-17 20:16:12.215356: I tensorflow/core/common_runtime/executor.cc:1197] [/device:CPU:0] (DEBUG INFO) Executor start aborting (this does not indicate an error and you can ignore this message): INVALID_ARGUMENT: You must feed a value for placeholder tensor 'Placeholder/_11' with dtype float and shape [18,1]\n",
      "\t [[{{node Placeholder/_11}}]]\n"
     ]
    },
    {
     "name": "stdout",
     "output_type": "stream",
     "text": [
      "2/2 [==============================] - 0s 41ms/step - loss: 0.7951 - val_loss: 0.7049\n",
      "Epoch 3/5\n",
      "2/2 [==============================] - 0s 49ms/step - loss: 0.7528 - val_loss: 0.7123\n",
      "Epoch 4/5\n",
      "2/2 [==============================] - 0s 42ms/step - loss: 0.7881 - val_loss: 0.7318\n",
      "Epoch 5/5\n",
      "2/2 [==============================] - 0s 63ms/step - loss: 0.8783 - val_loss: 0.7497\n",
      "1/1 [==============================] - 0s 110ms/step\n"
     ]
    },
    {
     "name": "stderr",
     "output_type": "stream",
     "text": [
      "/home/araz/anaconda3/envs/moabb_model_optimization/lib/python3.11/site-packages/moabb/pipelines/features.py:163: FutureWarning: The current default of copy=False will change to copy=True in 1.7. Set the value of copy explicitly to avoid this warning\n",
      "  return X.get_data()\n",
      "2024-02-17 20:16:13.398906: I tensorflow/core/common_runtime/executor.cc:1197] [/device:CPU:0] (DEBUG INFO) Executor start aborting (this does not indicate an error and you can ignore this message): INVALID_ARGUMENT: You must feed a value for placeholder tensor 'Placeholder/_10' with dtype float and shape [21,20,501]\n",
      "\t [[{{node Placeholder/_10}}]]\n",
      "2024-02-17 20:16:13.399214: I tensorflow/core/common_runtime/executor.cc:1197] [/device:CPU:0] (DEBUG INFO) Executor start aborting (this does not indicate an error and you can ignore this message): INVALID_ARGUMENT: You must feed a value for placeholder tensor 'Placeholder/_10' with dtype float and shape [21,20,501]\n",
      "\t [[{{node Placeholder/_10}}]]\n",
      "FatigueMI-WithinSession:  50%|█████     | 1/2 [00:16<00:16, 16.83s/it]"
     ]
    },
    {
     "name": "stdout",
     "output_type": "stream",
     "text": [
      "Saving Keras model\n",
      "Adding metadata with 3 columns\n",
      "Adding metadata with 3 columns\n",
      "108 matching events found\n",
      "No baseline correction applied\n"
     ]
    },
    {
     "name": "stderr",
     "output_type": "stream",
     "text": [
      "/home/araz/anaconda3/envs/moabb_model_optimization/lib/python3.11/site-packages/moabb/paradigms/base.py:354: RuntimeWarning: Concatenation of Annotations within Epochs is not supported yet. All annotations will be dropped.\n",
      "  X = mne.concatenate_epochs(X)\n",
      "/home/araz/anaconda3/envs/moabb_model_optimization/lib/python3.11/site-packages/moabb/pipelines/features.py:163: FutureWarning: The current default of copy=False will change to copy=True in 1.7. Set the value of copy explicitly to avoid this warning\n",
      "  return X.get_data()\n"
     ]
    },
    {
     "name": "stdout",
     "output_type": "stream",
     "text": [
      "Epoch 1/5\n"
     ]
    },
    {
     "name": "stderr",
     "output_type": "stream",
     "text": [
      "2024-02-17 20:16:15.961433: I tensorflow/core/common_runtime/executor.cc:1197] [/device:CPU:0] (DEBUG INFO) Executor start aborting (this does not indicate an error and you can ignore this message): INVALID_ARGUMENT: You must feed a value for placeholder tensor 'Placeholder/_11' with dtype float and shape [68,1]\n",
      "\t [[{{node Placeholder/_11}}]]\n",
      "2024-02-17 20:16:15.961652: I tensorflow/core/common_runtime/executor.cc:1197] [/device:CPU:0] (DEBUG INFO) Executor start aborting (this does not indicate an error and you can ignore this message): INVALID_ARGUMENT: You must feed a value for placeholder tensor 'Placeholder/_11' with dtype float and shape [68,1]\n",
      "\t [[{{node Placeholder/_11}}]]\n"
     ]
    },
    {
     "name": "stdout",
     "output_type": "stream",
     "text": [
      "2/2 [==============================] - 2s 196ms/step - loss: 1.5478 - val_loss: 0.6867\n",
      "Epoch 2/5\n"
     ]
    },
    {
     "name": "stderr",
     "output_type": "stream",
     "text": [
      "2024-02-17 20:16:17.601509: I tensorflow/core/common_runtime/executor.cc:1197] [/device:CPU:0] (DEBUG INFO) Executor start aborting (this does not indicate an error and you can ignore this message): INVALID_ARGUMENT: You must feed a value for placeholder tensor 'Placeholder/_11' with dtype float and shape [18,1]\n",
      "\t [[{{node Placeholder/_11}}]]\n",
      "2024-02-17 20:16:17.601820: I tensorflow/core/common_runtime/executor.cc:1197] [/device:CPU:0] (DEBUG INFO) Executor start aborting (this does not indicate an error and you can ignore this message): INVALID_ARGUMENT: You must feed a value for placeholder tensor 'Placeholder/_11' with dtype float and shape [18,1]\n",
      "\t [[{{node Placeholder/_11}}]]\n"
     ]
    },
    {
     "name": "stdout",
     "output_type": "stream",
     "text": [
      "2/2 [==============================] - 0s 37ms/step - loss: 0.8628 - val_loss: 0.6904\n",
      "Epoch 3/5\n",
      "2/2 [==============================] - 0s 41ms/step - loss: 0.8295 - val_loss: 0.6985\n",
      "Epoch 4/5\n",
      "2/2 [==============================] - 0s 36ms/step - loss: 0.7972 - val_loss: 0.7168\n",
      "Epoch 5/5\n",
      "2/2 [==============================] - 0s 38ms/step - loss: 0.7510 - val_loss: 0.7473\n",
      "1/1 [==============================] - 0s 112ms/step\n",
      "Saving Keras model\n"
     ]
    },
    {
     "name": "stderr",
     "output_type": "stream",
     "text": [
      "/home/araz/anaconda3/envs/moabb_model_optimization/lib/python3.11/site-packages/moabb/pipelines/features.py:163: FutureWarning: The current default of copy=False will change to copy=True in 1.7. Set the value of copy explicitly to avoid this warning\n",
      "  return X.get_data()\n",
      "2024-02-17 20:16:18.466780: I tensorflow/core/common_runtime/executor.cc:1197] [/device:CPU:0] (DEBUG INFO) Executor start aborting (this does not indicate an error and you can ignore this message): INVALID_ARGUMENT: You must feed a value for placeholder tensor 'Placeholder/_10' with dtype float and shape [22,20,501]\n",
      "\t [[{{node Placeholder/_10}}]]\n",
      "2024-02-17 20:16:18.466961: I tensorflow/core/common_runtime/executor.cc:1197] [/device:CPU:0] (DEBUG INFO) Executor start aborting (this does not indicate an error and you can ignore this message): INVALID_ARGUMENT: You must feed a value for placeholder tensor 'Placeholder/_10' with dtype float and shape [22,20,501]\n",
      "\t [[{{node Placeholder/_10}}]]\n"
     ]
    },
    {
     "name": "stdout",
     "output_type": "stream",
     "text": [
      "Epoch 1/5\n"
     ]
    },
    {
     "name": "stderr",
     "output_type": "stream",
     "text": [
      "/home/araz/anaconda3/envs/moabb_model_optimization/lib/python3.11/site-packages/moabb/pipelines/features.py:163: FutureWarning: The current default of copy=False will change to copy=True in 1.7. Set the value of copy explicitly to avoid this warning\n",
      "  return X.get_data()\n",
      "2024-02-17 20:16:18.953788: I tensorflow/core/common_runtime/executor.cc:1197] [/device:CPU:0] (DEBUG INFO) Executor start aborting (this does not indicate an error and you can ignore this message): INVALID_ARGUMENT: You must feed a value for placeholder tensor 'Placeholder/_11' with dtype float and shape [68,1]\n",
      "\t [[{{node Placeholder/_11}}]]\n",
      "2024-02-17 20:16:18.954002: I tensorflow/core/common_runtime/executor.cc:1197] [/device:CPU:0] (DEBUG INFO) Executor start aborting (this does not indicate an error and you can ignore this message): INVALID_ARGUMENT: You must feed a value for placeholder tensor 'Placeholder/_11' with dtype float and shape [68,1]\n",
      "\t [[{{node Placeholder/_11}}]]\n"
     ]
    },
    {
     "name": "stdout",
     "output_type": "stream",
     "text": [
      "2/2 [==============================] - 2s 185ms/step - loss: 1.4204 - val_loss: 0.6986\n",
      "Epoch 2/5\n"
     ]
    },
    {
     "name": "stderr",
     "output_type": "stream",
     "text": [
      "2024-02-17 20:16:20.639903: I tensorflow/core/common_runtime/executor.cc:1197] [/device:CPU:0] (DEBUG INFO) Executor start aborting (this does not indicate an error and you can ignore this message): INVALID_ARGUMENT: You must feed a value for placeholder tensor 'Placeholder/_10' with dtype float and shape [18,20,501]\n",
      "\t [[{{node Placeholder/_10}}]]\n",
      "2024-02-17 20:16:20.640261: I tensorflow/core/common_runtime/executor.cc:1197] [/device:CPU:0] (DEBUG INFO) Executor start aborting (this does not indicate an error and you can ignore this message): INVALID_ARGUMENT: You must feed a value for placeholder tensor 'Placeholder/_11' with dtype float and shape [18,1]\n",
      "\t [[{{node Placeholder/_11}}]]\n"
     ]
    },
    {
     "name": "stdout",
     "output_type": "stream",
     "text": [
      "2/2 [==============================] - 0s 37ms/step - loss: 0.7877 - val_loss: 0.6986\n",
      "Epoch 3/5\n",
      "2/2 [==============================] - 0s 43ms/step - loss: 0.7998 - val_loss: 0.7008\n",
      "Epoch 4/5\n",
      "2/2 [==============================] - 0s 37ms/step - loss: 0.7304 - val_loss: 0.7089\n",
      "Epoch 5/5\n",
      "2/2 [==============================] - 0s 36ms/step - loss: 0.7503 - val_loss: 0.7166\n",
      "1/1 [==============================] - 0s 102ms/step\n",
      "Saving Keras model\n"
     ]
    },
    {
     "name": "stderr",
     "output_type": "stream",
     "text": [
      "/home/araz/anaconda3/envs/moabb_model_optimization/lib/python3.11/site-packages/moabb/pipelines/features.py:163: FutureWarning: The current default of copy=False will change to copy=True in 1.7. Set the value of copy explicitly to avoid this warning\n",
      "  return X.get_data()\n",
      "2024-02-17 20:16:21.505306: I tensorflow/core/common_runtime/executor.cc:1197] [/device:CPU:0] (DEBUG INFO) Executor start aborting (this does not indicate an error and you can ignore this message): INVALID_ARGUMENT: You must feed a value for placeholder tensor 'Placeholder/_10' with dtype float and shape [22,20,501]\n",
      "\t [[{{node Placeholder/_10}}]]\n",
      "2024-02-17 20:16:21.505513: I tensorflow/core/common_runtime/executor.cc:1197] [/device:CPU:0] (DEBUG INFO) Executor start aborting (this does not indicate an error and you can ignore this message): INVALID_ARGUMENT: You must feed a value for placeholder tensor 'Placeholder/_10' with dtype float and shape [22,20,501]\n",
      "\t [[{{node Placeholder/_10}}]]\n"
     ]
    },
    {
     "name": "stdout",
     "output_type": "stream",
     "text": [
      "Epoch 1/5\n"
     ]
    },
    {
     "name": "stderr",
     "output_type": "stream",
     "text": [
      "/home/araz/anaconda3/envs/moabb_model_optimization/lib/python3.11/site-packages/moabb/pipelines/features.py:163: FutureWarning: The current default of copy=False will change to copy=True in 1.7. Set the value of copy explicitly to avoid this warning\n",
      "  return X.get_data()\n",
      "2024-02-17 20:16:21.993981: I tensorflow/core/common_runtime/executor.cc:1197] [/device:CPU:0] (DEBUG INFO) Executor start aborting (this does not indicate an error and you can ignore this message): INVALID_ARGUMENT: You must feed a value for placeholder tensor 'Placeholder/_11' with dtype float and shape [68,1]\n",
      "\t [[{{node Placeholder/_11}}]]\n",
      "2024-02-17 20:16:21.994191: I tensorflow/core/common_runtime/executor.cc:1197] [/device:CPU:0] (DEBUG INFO) Executor start aborting (this does not indicate an error and you can ignore this message): INVALID_ARGUMENT: You must feed a value for placeholder tensor 'Placeholder/_11' with dtype float and shape [68,1]\n",
      "\t [[{{node Placeholder/_11}}]]\n"
     ]
    },
    {
     "name": "stdout",
     "output_type": "stream",
     "text": [
      "2/2 [==============================] - 2s 195ms/step - loss: 1.3368 - val_loss: 0.6937\n",
      "Epoch 2/5\n"
     ]
    },
    {
     "name": "stderr",
     "output_type": "stream",
     "text": [
      "2024-02-17 20:16:23.700774: I tensorflow/core/common_runtime/executor.cc:1197] [/device:CPU:0] (DEBUG INFO) Executor start aborting (this does not indicate an error and you can ignore this message): INVALID_ARGUMENT: You must feed a value for placeholder tensor 'Placeholder/_11' with dtype float and shape [18,1]\n",
      "\t [[{{node Placeholder/_11}}]]\n",
      "2024-02-17 20:16:23.701174: I tensorflow/core/common_runtime/executor.cc:1197] [/device:CPU:0] (DEBUG INFO) Executor start aborting (this does not indicate an error and you can ignore this message): INVALID_ARGUMENT: You must feed a value for placeholder tensor 'Placeholder/_11' with dtype float and shape [18,1]\n",
      "\t [[{{node Placeholder/_11}}]]\n"
     ]
    },
    {
     "name": "stdout",
     "output_type": "stream",
     "text": [
      "2/2 [==============================] - 0s 47ms/step - loss: 0.8601 - val_loss: 0.6899\n",
      "Epoch 3/5\n",
      "2/2 [==============================] - 0s 50ms/step - loss: 0.8860 - val_loss: 0.6884\n",
      "Epoch 4/5\n",
      "2/2 [==============================] - 0s 39ms/step - loss: 0.6636 - val_loss: 0.6859\n",
      "Epoch 5/5\n",
      "2/2 [==============================] - 0s 44ms/step - loss: 0.8234 - val_loss: 0.6809\n",
      "1/1 [==============================] - 0s 103ms/step\n",
      "Saving Keras model\n"
     ]
    },
    {
     "name": "stderr",
     "output_type": "stream",
     "text": [
      "/home/araz/anaconda3/envs/moabb_model_optimization/lib/python3.11/site-packages/moabb/pipelines/features.py:163: FutureWarning: The current default of copy=False will change to copy=True in 1.7. Set the value of copy explicitly to avoid this warning\n",
      "  return X.get_data()\n",
      "2024-02-17 20:16:24.677723: I tensorflow/core/common_runtime/executor.cc:1197] [/device:CPU:0] (DEBUG INFO) Executor start aborting (this does not indicate an error and you can ignore this message): INVALID_ARGUMENT: You must feed a value for placeholder tensor 'Placeholder/_10' with dtype float and shape [22,20,501]\n",
      "\t [[{{node Placeholder/_10}}]]\n",
      "2024-02-17 20:16:24.677911: I tensorflow/core/common_runtime/executor.cc:1197] [/device:CPU:0] (DEBUG INFO) Executor start aborting (this does not indicate an error and you can ignore this message): INVALID_ARGUMENT: You must feed a value for placeholder tensor 'Placeholder/_10' with dtype float and shape [22,20,501]\n",
      "\t [[{{node Placeholder/_10}}]]\n"
     ]
    },
    {
     "name": "stdout",
     "output_type": "stream",
     "text": [
      "Epoch 1/5\n"
     ]
    },
    {
     "name": "stderr",
     "output_type": "stream",
     "text": [
      "/home/araz/anaconda3/envs/moabb_model_optimization/lib/python3.11/site-packages/moabb/pipelines/features.py:163: FutureWarning: The current default of copy=False will change to copy=True in 1.7. Set the value of copy explicitly to avoid this warning\n",
      "  return X.get_data()\n",
      "2024-02-17 20:16:25.158445: I tensorflow/core/common_runtime/executor.cc:1197] [/device:CPU:0] (DEBUG INFO) Executor start aborting (this does not indicate an error and you can ignore this message): INVALID_ARGUMENT: You must feed a value for placeholder tensor 'Placeholder/_11' with dtype float and shape [69,1]\n",
      "\t [[{{node Placeholder/_11}}]]\n",
      "2024-02-17 20:16:25.158653: I tensorflow/core/common_runtime/executor.cc:1197] [/device:CPU:0] (DEBUG INFO) Executor start aborting (this does not indicate an error and you can ignore this message): INVALID_ARGUMENT: You must feed a value for placeholder tensor 'Placeholder/_11' with dtype float and shape [69,1]\n",
      "\t [[{{node Placeholder/_11}}]]\n"
     ]
    },
    {
     "name": "stdout",
     "output_type": "stream",
     "text": [
      "2/2 [==============================] - 2s 188ms/step - loss: 1.3435 - val_loss: 0.7021\n",
      "Epoch 2/5\n"
     ]
    },
    {
     "name": "stderr",
     "output_type": "stream",
     "text": [
      "2024-02-17 20:16:26.811770: I tensorflow/core/common_runtime/executor.cc:1197] [/device:CPU:0] (DEBUG INFO) Executor start aborting (this does not indicate an error and you can ignore this message): INVALID_ARGUMENT: You must feed a value for placeholder tensor 'Placeholder/_11' with dtype float and shape [18,1]\n",
      "\t [[{{node Placeholder/_11}}]]\n",
      "2024-02-17 20:16:26.811976: I tensorflow/core/common_runtime/executor.cc:1197] [/device:CPU:0] (DEBUG INFO) Executor start aborting (this does not indicate an error and you can ignore this message): INVALID_ARGUMENT: You must feed a value for placeholder tensor 'Placeholder/_11' with dtype float and shape [18,1]\n",
      "\t [[{{node Placeholder/_11}}]]\n"
     ]
    },
    {
     "name": "stdout",
     "output_type": "stream",
     "text": [
      "2/2 [==============================] - 0s 41ms/step - loss: 0.8604 - val_loss: 0.7048\n",
      "Epoch 3/5\n",
      "2/2 [==============================] - 0s 39ms/step - loss: 0.8643 - val_loss: 0.7119\n",
      "Epoch 4/5\n",
      "2/2 [==============================] - 0s 39ms/step - loss: 0.7713 - val_loss: 0.7251\n",
      "Epoch 5/5\n",
      "2/2 [==============================] - 0s 47ms/step - loss: 0.8345 - val_loss: 0.7391\n",
      "1/1 [==============================] - 0s 148ms/step\n"
     ]
    },
    {
     "name": "stderr",
     "output_type": "stream",
     "text": [
      "/home/araz/anaconda3/envs/moabb_model_optimization/lib/python3.11/site-packages/moabb/pipelines/features.py:163: FutureWarning: The current default of copy=False will change to copy=True in 1.7. Set the value of copy explicitly to avoid this warning\n",
      "  return X.get_data()\n",
      "2024-02-17 20:16:27.715432: I tensorflow/core/common_runtime/executor.cc:1197] [/device:CPU:0] (DEBUG INFO) Executor start aborting (this does not indicate an error and you can ignore this message): INVALID_ARGUMENT: You must feed a value for placeholder tensor 'Placeholder/_10' with dtype float and shape [21,20,501]\n",
      "\t [[{{node Placeholder/_10}}]]\n",
      "2024-02-17 20:16:27.715853: I tensorflow/core/common_runtime/executor.cc:1197] [/device:CPU:0] (DEBUG INFO) Executor start aborting (this does not indicate an error and you can ignore this message): INVALID_ARGUMENT: You must feed a value for placeholder tensor 'Placeholder/_10' with dtype float and shape [21,20,501]\n",
      "\t [[{{node Placeholder/_10}}]]\n"
     ]
    },
    {
     "name": "stdout",
     "output_type": "stream",
     "text": [
      "Saving Keras model\n",
      "Epoch 1/5\n"
     ]
    },
    {
     "name": "stderr",
     "output_type": "stream",
     "text": [
      "/home/araz/anaconda3/envs/moabb_model_optimization/lib/python3.11/site-packages/moabb/pipelines/features.py:163: FutureWarning: The current default of copy=False will change to copy=True in 1.7. Set the value of copy explicitly to avoid this warning\n",
      "  return X.get_data()\n",
      "2024-02-17 20:16:28.244843: I tensorflow/core/common_runtime/executor.cc:1197] [/device:CPU:0] (DEBUG INFO) Executor start aborting (this does not indicate an error and you can ignore this message): INVALID_ARGUMENT: You must feed a value for placeholder tensor 'Placeholder/_10' with dtype float and shape [69,20,501]\n",
      "\t [[{{node Placeholder/_10}}]]\n",
      "2024-02-17 20:16:28.245045: I tensorflow/core/common_runtime/executor.cc:1197] [/device:CPU:0] (DEBUG INFO) Executor start aborting (this does not indicate an error and you can ignore this message): INVALID_ARGUMENT: You must feed a value for placeholder tensor 'Placeholder/_11' with dtype float and shape [69,1]\n",
      "\t [[{{node Placeholder/_11}}]]\n"
     ]
    },
    {
     "name": "stdout",
     "output_type": "stream",
     "text": [
      "2/2 [==============================] - 2s 201ms/step - loss: 1.2258 - val_loss: 0.6837\n",
      "Epoch 2/5\n"
     ]
    },
    {
     "name": "stderr",
     "output_type": "stream",
     "text": [
      "2024-02-17 20:16:29.900130: I tensorflow/core/common_runtime/executor.cc:1197] [/device:CPU:0] (DEBUG INFO) Executor start aborting (this does not indicate an error and you can ignore this message): INVALID_ARGUMENT: You must feed a value for placeholder tensor 'Placeholder/_11' with dtype float and shape [18,1]\n",
      "\t [[{{node Placeholder/_11}}]]\n",
      "2024-02-17 20:16:29.900535: I tensorflow/core/common_runtime/executor.cc:1197] [/device:CPU:0] (DEBUG INFO) Executor start aborting (this does not indicate an error and you can ignore this message): INVALID_ARGUMENT: You must feed a value for placeholder tensor 'Placeholder/_11' with dtype float and shape [18,1]\n",
      "\t [[{{node Placeholder/_11}}]]\n"
     ]
    },
    {
     "name": "stdout",
     "output_type": "stream",
     "text": [
      "2/2 [==============================] - 0s 41ms/step - loss: 0.7513 - val_loss: 0.6996\n",
      "Epoch 3/5\n",
      "2/2 [==============================] - 0s 39ms/step - loss: 0.8558 - val_loss: 0.7198\n",
      "Epoch 4/5\n",
      "2/2 [==============================] - 0s 40ms/step - loss: 0.8270 - val_loss: 0.7490\n",
      "Epoch 5/5\n",
      "2/2 [==============================] - 0s 40ms/step - loss: 0.8290 - val_loss: 0.7710\n",
      "1/1 [==============================] - 0s 99ms/step\n",
      "Saving Keras model\n"
     ]
    },
    {
     "name": "stderr",
     "output_type": "stream",
     "text": [
      "/home/araz/anaconda3/envs/moabb_model_optimization/lib/python3.11/site-packages/moabb/pipelines/features.py:163: FutureWarning: The current default of copy=False will change to copy=True in 1.7. Set the value of copy explicitly to avoid this warning\n",
      "  return X.get_data()\n",
      "2024-02-17 20:16:30.790349: I tensorflow/core/common_runtime/executor.cc:1197] [/device:CPU:0] (DEBUG INFO) Executor start aborting (this does not indicate an error and you can ignore this message): INVALID_ARGUMENT: You must feed a value for placeholder tensor 'Placeholder/_10' with dtype float and shape [21,20,501]\n",
      "\t [[{{node Placeholder/_10}}]]\n",
      "2024-02-17 20:16:30.790603: I tensorflow/core/common_runtime/executor.cc:1197] [/device:CPU:0] (DEBUG INFO) Executor start aborting (this does not indicate an error and you can ignore this message): INVALID_ARGUMENT: You must feed a value for placeholder tensor 'Placeholder/_10' with dtype float and shape [21,20,501]\n",
      "\t [[{{node Placeholder/_10}}]]\n",
      "FatigueMI-WithinSession: 100%|██████████| 2/2 [00:34<00:00, 17.10s/it]\n"
     ]
    }
   ],
   "source": [
    "# Restrict this example only on the first two subject of BNCI2014_001\n",
    "fat_dataset = FatigueMI()\n",
    "norm_cho_dataset = NormCho2017()\n",
    "cho_dataset = Cho2017()\n",
    "\n",
    "fat_dataset.subject_list = fat_dataset.subject_list[:2]\n",
    "# norm_cho_dataset.subject_list = norm_cho_dataset.subject_list[:32]\n",
    "# cho_dataset.subject_list = cho_dataset.subject_list[:32]\n",
    "\n",
    "datasets = [\n",
    "    fat_dataset,\n",
    "    # norm_cho_dataset,\n",
    "    # cho_dataset\n",
    "]\n",
    "\n",
    "evaluation_dict = {\n",
    "    \"WithinSession\": WithinSessionEvaluation\n",
    "}\n",
    "paradim_dict = {\n",
    "    \"LeftRightImagery\": LeftRightImagery\n",
    "}\n",
    "pipeline_dict = {\n",
    "    \"Keras_DeepConvNet\": keras_deepconvnet_pipeline,\n",
    "}\n",
    "\n",
    "results_dict = {}\n",
    "for model_text in pipeline_dict.keys():\n",
    "    for evaluation_text in [\"WithinSession\"]: #, \"CrossSession\", \"CrossSubject\"]:\n",
    "        for paradim_text in [\"LeftRightImagery\"]: #, \"FilterBankMotorImagery\"]:\n",
    "            rprint(f\"Evaluating {model_text} using {evaluation_text} and {paradim_text}...\")\n",
    "            evaluation = evaluation_dict[evaluation_text](\n",
    "                paradigm=paradim_dict[paradim_text](), datasets=datasets, overwrite=True, return_epochs=True,  hdf5_path=f\"./saved_models/\", save_model=True\n",
    "            )\n",
    "            results = evaluation.process({ model_text: pipeline_dict[model_text] })\n",
    "            results_dict[model_text + \"_\" + evaluation_text + \"_\" + paradim_text] = results\n",
    "\n"
   ]
  },
  {
   "cell_type": "code",
   "execution_count": 20,
   "metadata": {},
   "outputs": [
    {
     "data": {
      "text/html": [
       "<pre style=\"white-space:pre;overflow-x:auto;line-height:normal;font-family:Menlo,'DejaVu Sans Mono',consolas,'Courier New',monospace\"><span style=\"color: #7fbf7f; text-decoration-color: #7fbf7f\">│     </span>score      time  samples subject session  channels  n_sessions  \\\n",
       "<span style=\"color: #008080; text-decoration-color: #008080; font-weight: bold\">0</span>  <span style=\"color: #008080; text-decoration-color: #008080; font-weight: bold\">0.450909</span>  <span style=\"color: #008080; text-decoration-color: #008080; font-weight: bold\">3.259214</span>    <span style=\"color: #008080; text-decoration-color: #008080; font-weight: bold\">108.0</span>       <span style=\"color: #008080; text-decoration-color: #008080; font-weight: bold\">1</span>       <span style=\"color: #008080; text-decoration-color: #008080; font-weight: bold\">0</span>        <span style=\"color: #008080; text-decoration-color: #008080; font-weight: bold\">20</span>           <span style=\"color: #008080; text-decoration-color: #008080; font-weight: bold\">1</span>   \n",
       "<span style=\"color: #008080; text-decoration-color: #008080; font-weight: bold\">1</span>  <span style=\"color: #008080; text-decoration-color: #008080; font-weight: bold\">0.542314</span>  <span style=\"color: #008080; text-decoration-color: #008080; font-weight: bold\">3.063900</span>    <span style=\"color: #008080; text-decoration-color: #008080; font-weight: bold\">108.0</span>       <span style=\"color: #008080; text-decoration-color: #008080; font-weight: bold\">2</span>       <span style=\"color: #008080; text-decoration-color: #008080; font-weight: bold\">0</span>        <span style=\"color: #008080; text-decoration-color: #008080; font-weight: bold\">20</span>           <span style=\"color: #008080; text-decoration-color: #008080; font-weight: bold\">1</span>   \n",
       "<span style=\"color: #7fbf7f; text-decoration-color: #7fbf7f\">│    </span>\n",
       "<span style=\"color: #7fbf7f; text-decoration-color: #7fbf7f\">│    </span>dataset           pipeline  \n",
       "<span style=\"color: #008080; text-decoration-color: #008080; font-weight: bold\">0</span>  FatigueMI  Keras_DeepConvNet  \n",
       "<span style=\"color: #008080; text-decoration-color: #008080; font-weight: bold\">1</span>  FatigueMI  Keras_DeepConvNet  \n",
       "</pre>\n"
      ],
      "text/plain": [
       "\u001b[2;32m│     \u001b[0mscore      time  samples subject session  channels  n_sessions  \\\n",
       "\u001b[1;36m0\u001b[0m  \u001b[1;36m0.450909\u001b[0m  \u001b[1;36m3.259214\u001b[0m    \u001b[1;36m108.0\u001b[0m       \u001b[1;36m1\u001b[0m       \u001b[1;36m0\u001b[0m        \u001b[1;36m20\u001b[0m           \u001b[1;36m1\u001b[0m   \n",
       "\u001b[1;36m1\u001b[0m  \u001b[1;36m0.542314\u001b[0m  \u001b[1;36m3.063900\u001b[0m    \u001b[1;36m108.0\u001b[0m       \u001b[1;36m2\u001b[0m       \u001b[1;36m0\u001b[0m        \u001b[1;36m20\u001b[0m           \u001b[1;36m1\u001b[0m   \n",
       "\u001b[2;32m│    \u001b[0m\n",
       "\u001b[2;32m│    \u001b[0mdataset           pipeline  \n",
       "\u001b[1;36m0\u001b[0m  FatigueMI  Keras_DeepConvNet  \n",
       "\u001b[1;36m1\u001b[0m  FatigueMI  Keras_DeepConvNet  \n"
      ]
     },
     "metadata": {},
     "output_type": "display_data"
    }
   ],
   "source": [
    "rpprint(\n",
    "    results_dict['Keras_DeepConvNet_WithinSession_LeftRightImagery']\n",
    ")\n",
    "\n",
    "# analyze(\n",
    "#     results = results_dict['Keras_DeepConvNet_Trained_WithinSession_LeftRightImagery'],\n",
    "#     out_path = \"./saved_models\",\n",
    "#     name = \"Keras_DeepConvNet_Trained_WithinSession_LeftRightImagery\",\n",
    "#     plot = True\n",
    "# )"
   ]
  },
  {
   "cell_type": "code",
   "execution_count": 21,
   "metadata": {},
   "outputs": [
    {
     "data": {
      "text/html": [
       "<pre style=\"white-space:pre;overflow-x:auto;line-height:normal;font-family:Menlo,'DejaVu Sans Mono',consolas,'Courier New',monospace\"><span style=\"font-weight: bold\">{</span>\n",
       "<span style=\"color: #7fbf7f; text-decoration-color: #7fbf7f\">│   </span><span style=\"color: #008000; text-decoration-color: #008000\">'id'</span>: <span style=\"color: #800080; text-decoration-color: #800080; font-weight: bold\">array</span><span style=\"font-weight: bold\">([[</span><span style=\"color: #008000; text-decoration-color: #008000\">b'1'</span>, <span style=\"color: #008000; text-decoration-color: #008000\">b'0'</span><span style=\"font-weight: bold\">]</span>,\n",
       "<span style=\"color: #7fbf7f; text-decoration-color: #7fbf7f\">│      </span><span style=\"font-weight: bold\">[</span><span style=\"color: #008000; text-decoration-color: #008000\">b'2'</span>, <span style=\"color: #008000; text-decoration-color: #008000\">b'0'</span><span style=\"font-weight: bold\">]]</span>, <span style=\"color: #808000; text-decoration-color: #808000\">dtype</span>=<span style=\"color: #800080; text-decoration-color: #800080\">object</span><span style=\"font-weight: bold\">)</span>,\n",
       "<span style=\"color: #7fbf7f; text-decoration-color: #7fbf7f\">│   </span><span style=\"color: #008000; text-decoration-color: #008000\">'data'</span>: <span style=\"color: #800080; text-decoration-color: #800080; font-weight: bold\">array</span><span style=\"font-weight: bold\">([[</span>  <span style=\"color: #008080; text-decoration-color: #008080; font-weight: bold\">0.45090908</span>,   <span style=\"color: #008080; text-decoration-color: #008080; font-weight: bold\">3.2592142</span> , <span style=\"color: #008080; text-decoration-color: #008080; font-weight: bold\">108</span>.        <span style=\"font-weight: bold\">]</span>,\n",
       "<span style=\"color: #7fbf7f; text-decoration-color: #7fbf7f\">│      </span><span style=\"font-weight: bold\">[</span>  <span style=\"color: #008080; text-decoration-color: #008080; font-weight: bold\">0.54231405</span>,   <span style=\"color: #008080; text-decoration-color: #008080; font-weight: bold\">3.0639</span>    , <span style=\"color: #008080; text-decoration-color: #008080; font-weight: bold\">108</span>.        <span style=\"font-weight: bold\">]]</span>, <span style=\"color: #808000; text-decoration-color: #808000\">dtype</span>=<span style=\"color: #800080; text-decoration-color: #800080\">float32</span><span style=\"font-weight: bold\">)</span>\n",
       "<span style=\"font-weight: bold\">}</span>\n",
       "</pre>\n"
      ],
      "text/plain": [
       "\u001b[1m{\u001b[0m\n",
       "\u001b[2;32m│   \u001b[0m\u001b[32m'id'\u001b[0m: \u001b[1;35marray\u001b[0m\u001b[1m(\u001b[0m\u001b[1m[\u001b[0m\u001b[1m[\u001b[0m\u001b[32mb'1'\u001b[0m, \u001b[32mb'0'\u001b[0m\u001b[1m]\u001b[0m,\n",
       "\u001b[2;32m│      \u001b[0m\u001b[1m[\u001b[0m\u001b[32mb'2'\u001b[0m, \u001b[32mb'0'\u001b[0m\u001b[1m]\u001b[0m\u001b[1m]\u001b[0m, \u001b[33mdtype\u001b[0m=\u001b[35mobject\u001b[0m\u001b[1m)\u001b[0m,\n",
       "\u001b[2;32m│   \u001b[0m\u001b[32m'data'\u001b[0m: \u001b[1;35marray\u001b[0m\u001b[1m(\u001b[0m\u001b[1m[\u001b[0m\u001b[1m[\u001b[0m  \u001b[1;36m0.45090908\u001b[0m,   \u001b[1;36m3.2592142\u001b[0m , \u001b[1;36m108\u001b[0m.        \u001b[1m]\u001b[0m,\n",
       "\u001b[2;32m│      \u001b[0m\u001b[1m[\u001b[0m  \u001b[1;36m0.54231405\u001b[0m,   \u001b[1;36m3.0639\u001b[0m    , \u001b[1;36m108\u001b[0m.        \u001b[1m]\u001b[0m\u001b[1m]\u001b[0m, \u001b[33mdtype\u001b[0m=\u001b[35mfloat32\u001b[0m\u001b[1m)\u001b[0m\n",
       "\u001b[1m}\u001b[0m\n"
      ]
     },
     "metadata": {},
     "output_type": "display_data"
    }
   ],
   "source": [
    "\n",
    "with h5py.File('./saved_models/results/LeftRightImagery/WithinSessionEvaluation/results_.hdf5', 'r') as hfile:\n",
    "    hfile_group = hfile[list(hfile.keys())[0]]\n",
    "    id = hfile_group['FatigueMI'].get('id')[()]\n",
    "    data = hfile_group['FatigueMI'].get('data')[()]\n",
    "    rpprint({\n",
    "        \"id\": id,\n",
    "        \"data\": data\n",
    "    })\n"
   ]
  },
  {
   "cell_type": "markdown",
   "metadata": {},
   "source": [
    "### Pruning & Quantization"
   ]
  },
  {
   "cell_type": "code",
   "execution_count": 9,
   "metadata": {},
   "outputs": [],
   "source": [
    "trained_model = tf.keras.models.load_model('./saved_models/Models_WithinSession/FatigueMI/1/0/Keras_DeepConvNet/kerasdeepconvnet_fitted_model_0.h5')"
   ]
  },
  {
   "cell_type": "code",
   "execution_count": 15,
   "metadata": {},
   "outputs": [
    {
     "name": "stdout",
     "output_type": "stream",
     "text": [
      "Model: \"model\"\n",
      "_________________________________________________________________\n",
      " Layer (type)                Output Shape              Param #   \n",
      "=================================================================\n",
      " input_1 (InputLayer)        [(None, 20, 501, 1)]      0         \n",
      "                                                                 \n",
      " prune_low_magnitude_conv2d   (None, 20, 492, 25)      527       \n",
      " (PruneLowMagnitude)                                             \n",
      "                                                                 \n",
      " prune_low_magnitude_conv2d_  (None, 1, 492, 25)       25027     \n",
      " 1 (PruneLowMagnitude)                                           \n",
      "                                                                 \n",
      " prune_low_magnitude_batch_n  (None, 1, 492, 25)       101       \n",
      " ormalization (PruneLowMagni                                     \n",
      " tude)                                                           \n",
      "                                                                 \n",
      " prune_low_magnitude_activat  (None, 1, 492, 25)       1         \n",
      " ion (PruneLowMagnitude)                                         \n",
      "                                                                 \n",
      " prune_low_magnitude_max_poo  (None, 1, 164, 25)       1         \n",
      " ling2d (PruneLowMagnitude)                                      \n",
      "                                                                 \n",
      " prune_low_magnitude_dropout  (None, 1, 164, 25)       1         \n",
      "  (PruneLowMagnitude)                                            \n",
      "                                                                 \n",
      " prune_low_magnitude_conv2d_  (None, 1, 155, 50)       25052     \n",
      " 2 (PruneLowMagnitude)                                           \n",
      "                                                                 \n",
      " prune_low_magnitude_batch_n  (None, 1, 155, 50)       201       \n",
      " ormalization_1 (PruneLowMag                                     \n",
      " nitude)                                                         \n",
      "                                                                 \n",
      " prune_low_magnitude_activat  (None, 1, 155, 50)       1         \n",
      " ion_1 (PruneLowMagnitude)                                       \n",
      "                                                                 \n",
      " prune_low_magnitude_max_poo  (None, 1, 51, 50)        1         \n",
      " ling2d_1 (PruneLowMagnitude                                     \n",
      " )                                                               \n",
      "                                                                 \n",
      " prune_low_magnitude_dropout  (None, 1, 51, 50)        1         \n",
      " _1 (PruneLowMagnitude)                                          \n",
      "                                                                 \n",
      " prune_low_magnitude_conv2d_  (None, 1, 42, 100)       100102    \n",
      " 3 (PruneLowMagnitude)                                           \n",
      "                                                                 \n",
      " prune_low_magnitude_batch_n  (None, 1, 42, 100)       401       \n",
      " ormalization_2 (PruneLowMag                                     \n",
      " nitude)                                                         \n",
      "                                                                 \n",
      " prune_low_magnitude_activat  (None, 1, 42, 100)       1         \n",
      " ion_2 (PruneLowMagnitude)                                       \n",
      "                                                                 \n",
      " prune_low_magnitude_max_poo  (None, 1, 14, 100)       1         \n",
      " ling2d_2 (PruneLowMagnitude                                     \n",
      " )                                                               \n",
      "                                                                 \n",
      " prune_low_magnitude_dropout  (None, 1, 14, 100)       1         \n",
      " _2 (PruneLowMagnitude)                                          \n",
      "                                                                 \n",
      " prune_low_magnitude_conv2d_  (None, 1, 5, 200)        400202    \n",
      " 4 (PruneLowMagnitude)                                           \n",
      "                                                                 \n",
      " prune_low_magnitude_batch_n  (None, 1, 5, 200)        801       \n",
      " ormalization_3 (PruneLowMag                                     \n",
      " nitude)                                                         \n",
      "                                                                 \n",
      " prune_low_magnitude_activat  (None, 1, 5, 200)        1         \n",
      " ion_3 (PruneLowMagnitude)                                       \n",
      "                                                                 \n",
      " prune_low_magnitude_max_poo  (None, 1, 1, 200)        1         \n",
      " ling2d_3 (PruneLowMagnitude                                     \n",
      " )                                                               \n",
      "                                                                 \n",
      " prune_low_magnitude_dropout  (None, 1, 1, 200)        1         \n",
      " _3 (PruneLowMagnitude)                                          \n",
      "                                                                 \n",
      " prune_low_magnitude_flatten  (None, 200)              1         \n",
      "  (PruneLowMagnitude)                                            \n",
      "                                                                 \n",
      " prune_low_magnitude_dense (  (None, 2)                804       \n",
      " PruneLowMagnitude)                                              \n",
      "                                                                 \n",
      " prune_low_magnitude_activat  (None, 2)                1         \n",
      " ion_4 (PruneLowMagnitude)                                       \n",
      "                                                                 \n",
      "=================================================================\n",
      "Total params: 553,232\n",
      "Trainable params: 276,802\n",
      "Non-trainable params: 276,430\n",
      "_________________________________________________________________\n"
     ]
    }
   ],
   "source": [
    "model_for_pruning = tfmot.sparsity.keras.PolynomialDecay(\n",
    "    initial_sparsity=0.0, final_sparsity=0.5, begin_step=2000, end_step=4000\n",
    ")\n",
    "\n",
    "pruned_model = tfmot.sparsity.keras.prune_low_magnitude(trained_model, pruning_schedule=model_for_pruning)\n",
    "\n",
    "pruned_model.compile(\n",
    "    optimizer=\"Adam\",\n",
    "    loss=\"categorical_crossentropy\",\n",
    "    metrics=[\"accuracy\"]\n",
    ")\n",
    "\n",
    "pruned_model.save('./saved_models/Models_WithinSession/FatigueMI/1/0/Keras_DeepConvNet/pruned_kerasdeepconvnet_fitted_model_0.h5')\n",
    "\n",
    "pruned_model.summary()"
   ]
  },
  {
   "cell_type": "code",
   "execution_count": null,
   "metadata": {},
   "outputs": [],
   "source": [
    "## Quantization\n",
    "# converter = tf.lite.TFLiteConverter.from_saved_model('./saved_models/Models_WithinSession/FatigueMI/1/0/Keras_DeepConvNet/pruned_kerasdeepconvnet_fitted_model_0.h5')\n",
    "# converter.optimizations = [tf.lite.Optimize.DEFAULT]\n",
    "# tflite_quant_model = converter.convert()"
   ]
  },
  {
   "cell_type": "code",
   "execution_count": 16,
   "metadata": {},
   "outputs": [
    {
     "ename": "ValueError",
     "evalue": "Unknown layer: PruneLowMagnitude. Please ensure this object is passed to the `custom_objects` argument. See https://www.tensorflow.org/guide/keras/save_and_serialize#registering_the_custom_object for details.",
     "output_type": "error",
     "traceback": [
      "\u001b[0;31m---------------------------------------------------------------------------\u001b[0m",
      "\u001b[0;31mValueError\u001b[0m                                Traceback (most recent call last)",
      "Cell \u001b[0;32mIn[16], line 1\u001b[0m\n\u001b[0;32m----> 1\u001b[0m model_keras_pruned \u001b[38;5;241m=\u001b[39m keras\u001b[38;5;241m.\u001b[39mmodels\u001b[38;5;241m.\u001b[39mload_model(\n\u001b[1;32m      2\u001b[0m     \u001b[38;5;124m\"\u001b[39m\u001b[38;5;124m./saved_models/Models_WithinSession/FatigueMI/1/0/Keras_DeepConvNet/pruned_kerasdeepconvnet_fitted_model_0.h5\u001b[39m\u001b[38;5;124m\"\u001b[39m,\n\u001b[1;32m      3\u001b[0m )\n",
      "File \u001b[0;32m~/anaconda3/envs/moabb_model_optimization/lib/python3.11/site-packages/tensorflow/python/keras/saving/save.py:200\u001b[0m, in \u001b[0;36mload_model\u001b[0;34m(filepath, custom_objects, compile, options)\u001b[0m\n\u001b[1;32m    197\u001b[0m \u001b[38;5;28;01mwith\u001b[39;00m load_context\u001b[38;5;241m.\u001b[39mload_context(options):\n\u001b[1;32m    198\u001b[0m   \u001b[38;5;28;01mif\u001b[39;00m (h5py \u001b[38;5;129;01mis\u001b[39;00m \u001b[38;5;129;01mnot\u001b[39;00m \u001b[38;5;28;01mNone\u001b[39;00m \u001b[38;5;129;01mand\u001b[39;00m\n\u001b[1;32m    199\u001b[0m       (\u001b[38;5;28misinstance\u001b[39m(filepath, h5py\u001b[38;5;241m.\u001b[39mFile) \u001b[38;5;129;01mor\u001b[39;00m h5py\u001b[38;5;241m.\u001b[39mis_hdf5(filepath))):\n\u001b[0;32m--> 200\u001b[0m     \u001b[38;5;28;01mreturn\u001b[39;00m hdf5_format\u001b[38;5;241m.\u001b[39mload_model_from_hdf5(filepath, custom_objects,\n\u001b[1;32m    201\u001b[0m                                             \u001b[38;5;28mcompile\u001b[39m)\n\u001b[1;32m    203\u001b[0m   filepath \u001b[38;5;241m=\u001b[39m path_to_string(filepath)\n\u001b[1;32m    204\u001b[0m   \u001b[38;5;28;01mif\u001b[39;00m \u001b[38;5;28misinstance\u001b[39m(filepath, \u001b[38;5;28mstr\u001b[39m):\n",
      "File \u001b[0;32m~/anaconda3/envs/moabb_model_optimization/lib/python3.11/site-packages/tensorflow/python/keras/saving/hdf5_format.py:180\u001b[0m, in \u001b[0;36mload_model_from_hdf5\u001b[0;34m(filepath, custom_objects, compile)\u001b[0m\n\u001b[1;32m    178\u001b[0m   model_config \u001b[38;5;241m=\u001b[39m model_config\u001b[38;5;241m.\u001b[39mdecode(\u001b[38;5;124m'\u001b[39m\u001b[38;5;124mutf-8\u001b[39m\u001b[38;5;124m'\u001b[39m)\n\u001b[1;32m    179\u001b[0m model_config \u001b[38;5;241m=\u001b[39m json_utils\u001b[38;5;241m.\u001b[39mdecode(model_config)\n\u001b[0;32m--> 180\u001b[0m model \u001b[38;5;241m=\u001b[39m model_config_lib\u001b[38;5;241m.\u001b[39mmodel_from_config(model_config,\n\u001b[1;32m    181\u001b[0m                                            custom_objects\u001b[38;5;241m=\u001b[39mcustom_objects)\n\u001b[1;32m    183\u001b[0m \u001b[38;5;66;03m# set weights\u001b[39;00m\n\u001b[1;32m    184\u001b[0m load_weights_from_hdf5_group(f[\u001b[38;5;124m'\u001b[39m\u001b[38;5;124mmodel_weights\u001b[39m\u001b[38;5;124m'\u001b[39m], model\u001b[38;5;241m.\u001b[39mlayers)\n",
      "File \u001b[0;32m~/anaconda3/envs/moabb_model_optimization/lib/python3.11/site-packages/tensorflow/python/keras/saving/model_config.py:52\u001b[0m, in \u001b[0;36mmodel_from_config\u001b[0;34m(config, custom_objects)\u001b[0m\n\u001b[1;32m     48\u001b[0m   \u001b[38;5;28;01mraise\u001b[39;00m \u001b[38;5;167;01mTypeError\u001b[39;00m(\u001b[38;5;124m'\u001b[39m\u001b[38;5;124m`model_from_config` expects a dictionary, not a list. \u001b[39m\u001b[38;5;124m'\u001b[39m\n\u001b[1;32m     49\u001b[0m                   \u001b[38;5;124m'\u001b[39m\u001b[38;5;124mMaybe you meant to use \u001b[39m\u001b[38;5;124m'\u001b[39m\n\u001b[1;32m     50\u001b[0m                   \u001b[38;5;124m'\u001b[39m\u001b[38;5;124m`Sequential.from_config(config)`?\u001b[39m\u001b[38;5;124m'\u001b[39m)\n\u001b[1;32m     51\u001b[0m \u001b[38;5;28;01mfrom\u001b[39;00m \u001b[38;5;21;01mtensorflow\u001b[39;00m\u001b[38;5;21;01m.\u001b[39;00m\u001b[38;5;21;01mpython\u001b[39;00m\u001b[38;5;21;01m.\u001b[39;00m\u001b[38;5;21;01mkeras\u001b[39;00m\u001b[38;5;21;01m.\u001b[39;00m\u001b[38;5;21;01mlayers\u001b[39;00m \u001b[38;5;28;01mimport\u001b[39;00m deserialize  \u001b[38;5;66;03m# pylint: disable=g-import-not-at-top\u001b[39;00m\n\u001b[0;32m---> 52\u001b[0m \u001b[38;5;28;01mreturn\u001b[39;00m deserialize(config, custom_objects\u001b[38;5;241m=\u001b[39mcustom_objects)\n",
      "File \u001b[0;32m~/anaconda3/envs/moabb_model_optimization/lib/python3.11/site-packages/tensorflow/python/keras/layers/serialization.py:118\u001b[0m, in \u001b[0;36mdeserialize\u001b[0;34m(config, custom_objects)\u001b[0m\n\u001b[1;32m    107\u001b[0m \u001b[38;5;250m\u001b[39m\u001b[38;5;124;03m\"\"\"Instantiates a layer from a config dictionary.\u001b[39;00m\n\u001b[1;32m    108\u001b[0m \n\u001b[1;32m    109\u001b[0m \u001b[38;5;124;03mArgs:\u001b[39;00m\n\u001b[0;32m   (...)\u001b[0m\n\u001b[1;32m    115\u001b[0m \u001b[38;5;124;03m    Layer instance (may be Model, Sequential, Network, Layer...)\u001b[39;00m\n\u001b[1;32m    116\u001b[0m \u001b[38;5;124;03m\"\"\"\u001b[39;00m\n\u001b[1;32m    117\u001b[0m populate_deserializable_objects()\n\u001b[0;32m--> 118\u001b[0m \u001b[38;5;28;01mreturn\u001b[39;00m generic_utils\u001b[38;5;241m.\u001b[39mdeserialize_keras_object(\n\u001b[1;32m    119\u001b[0m     config,\n\u001b[1;32m    120\u001b[0m     module_objects\u001b[38;5;241m=\u001b[39mLOCAL\u001b[38;5;241m.\u001b[39mALL_OBJECTS,\n\u001b[1;32m    121\u001b[0m     custom_objects\u001b[38;5;241m=\u001b[39mcustom_objects,\n\u001b[1;32m    122\u001b[0m     printable_module_name\u001b[38;5;241m=\u001b[39m\u001b[38;5;124m'\u001b[39m\u001b[38;5;124mlayer\u001b[39m\u001b[38;5;124m'\u001b[39m)\n",
      "File \u001b[0;32m~/anaconda3/envs/moabb_model_optimization/lib/python3.11/site-packages/tensorflow/python/keras/utils/generic_utils.py:674\u001b[0m, in \u001b[0;36mdeserialize_keras_object\u001b[0;34m(identifier, module_objects, custom_objects, printable_module_name)\u001b[0m\n\u001b[1;32m    671\u001b[0m custom_objects \u001b[38;5;241m=\u001b[39m custom_objects \u001b[38;5;129;01mor\u001b[39;00m {}\n\u001b[1;32m    673\u001b[0m \u001b[38;5;28;01mif\u001b[39;00m \u001b[38;5;124m'\u001b[39m\u001b[38;5;124mcustom_objects\u001b[39m\u001b[38;5;124m'\u001b[39m \u001b[38;5;129;01min\u001b[39;00m arg_spec\u001b[38;5;241m.\u001b[39margs:\n\u001b[0;32m--> 674\u001b[0m   deserialized_obj \u001b[38;5;241m=\u001b[39m \u001b[38;5;28mcls\u001b[39m\u001b[38;5;241m.\u001b[39mfrom_config(\n\u001b[1;32m    675\u001b[0m       cls_config,\n\u001b[1;32m    676\u001b[0m       custom_objects\u001b[38;5;241m=\u001b[39m\u001b[38;5;28mdict\u001b[39m(\n\u001b[1;32m    677\u001b[0m           \u001b[38;5;28mlist\u001b[39m(_GLOBAL_CUSTOM_OBJECTS\u001b[38;5;241m.\u001b[39mitems()) \u001b[38;5;241m+\u001b[39m\n\u001b[1;32m    678\u001b[0m           \u001b[38;5;28mlist\u001b[39m(custom_objects\u001b[38;5;241m.\u001b[39mitems())))\n\u001b[1;32m    679\u001b[0m \u001b[38;5;28;01melse\u001b[39;00m:\n\u001b[1;32m    680\u001b[0m   \u001b[38;5;28;01mwith\u001b[39;00m CustomObjectScope(custom_objects):\n",
      "File \u001b[0;32m~/anaconda3/envs/moabb_model_optimization/lib/python3.11/site-packages/tensorflow/python/keras/engine/functional.py:667\u001b[0m, in \u001b[0;36mFunctional.from_config\u001b[0;34m(cls, config, custom_objects)\u001b[0m\n\u001b[1;32m    652\u001b[0m \u001b[38;5;250m\u001b[39m\u001b[38;5;124;03m\"\"\"Instantiates a Model from its config (output of `get_config()`).\u001b[39;00m\n\u001b[1;32m    653\u001b[0m \n\u001b[1;32m    654\u001b[0m \u001b[38;5;124;03mArgs:\u001b[39;00m\n\u001b[0;32m   (...)\u001b[0m\n\u001b[1;32m    664\u001b[0m \u001b[38;5;124;03m    ValueError: In case of improperly formatted config dict.\u001b[39;00m\n\u001b[1;32m    665\u001b[0m \u001b[38;5;124;03m\"\"\"\u001b[39;00m\n\u001b[1;32m    666\u001b[0m \u001b[38;5;28;01mwith\u001b[39;00m generic_utils\u001b[38;5;241m.\u001b[39mSharedObjectLoadingScope():\n\u001b[0;32m--> 667\u001b[0m   input_tensors, output_tensors, created_layers \u001b[38;5;241m=\u001b[39m reconstruct_from_config(\n\u001b[1;32m    668\u001b[0m       config, custom_objects)\n\u001b[1;32m    669\u001b[0m   model \u001b[38;5;241m=\u001b[39m \u001b[38;5;28mcls\u001b[39m(inputs\u001b[38;5;241m=\u001b[39minput_tensors, outputs\u001b[38;5;241m=\u001b[39moutput_tensors,\n\u001b[1;32m    670\u001b[0m               name\u001b[38;5;241m=\u001b[39mconfig\u001b[38;5;241m.\u001b[39mget(\u001b[38;5;124m'\u001b[39m\u001b[38;5;124mname\u001b[39m\u001b[38;5;124m'\u001b[39m))\n\u001b[1;32m    671\u001b[0m   connect_ancillary_layers(model, created_layers)\n",
      "File \u001b[0;32m~/anaconda3/envs/moabb_model_optimization/lib/python3.11/site-packages/tensorflow/python/keras/engine/functional.py:1278\u001b[0m, in \u001b[0;36mreconstruct_from_config\u001b[0;34m(config, custom_objects, created_layers)\u001b[0m\n\u001b[1;32m   1276\u001b[0m \u001b[38;5;66;03m# First, we create all layers and enqueue nodes to be processed\u001b[39;00m\n\u001b[1;32m   1277\u001b[0m \u001b[38;5;28;01mfor\u001b[39;00m layer_data \u001b[38;5;129;01min\u001b[39;00m config[\u001b[38;5;124m'\u001b[39m\u001b[38;5;124mlayers\u001b[39m\u001b[38;5;124m'\u001b[39m]:\n\u001b[0;32m-> 1278\u001b[0m   process_layer(layer_data)\n\u001b[1;32m   1279\u001b[0m \u001b[38;5;66;03m# Then we process nodes in order of layer depth.\u001b[39;00m\n\u001b[1;32m   1280\u001b[0m \u001b[38;5;66;03m# Nodes that cannot yet be processed (if the inbound node\u001b[39;00m\n\u001b[1;32m   1281\u001b[0m \u001b[38;5;66;03m# does not yet exist) are re-enqueued, and the process\u001b[39;00m\n\u001b[1;32m   1282\u001b[0m \u001b[38;5;66;03m# is repeated until all nodes are processed.\u001b[39;00m\n\u001b[1;32m   1283\u001b[0m \u001b[38;5;28;01mwhile\u001b[39;00m unprocessed_nodes:\n",
      "File \u001b[0;32m~/anaconda3/envs/moabb_model_optimization/lib/python3.11/site-packages/tensorflow/python/keras/engine/functional.py:1260\u001b[0m, in \u001b[0;36mreconstruct_from_config.<locals>.process_layer\u001b[0;34m(layer_data)\u001b[0m\n\u001b[1;32m   1256\u001b[0m \u001b[38;5;28;01melse\u001b[39;00m:\n\u001b[1;32m   1257\u001b[0m   \u001b[38;5;66;03m# Instantiate layer.\u001b[39;00m\n\u001b[1;32m   1258\u001b[0m   \u001b[38;5;28;01mfrom\u001b[39;00m \u001b[38;5;21;01mtensorflow\u001b[39;00m\u001b[38;5;21;01m.\u001b[39;00m\u001b[38;5;21;01mpython\u001b[39;00m\u001b[38;5;21;01m.\u001b[39;00m\u001b[38;5;21;01mkeras\u001b[39;00m\u001b[38;5;21;01m.\u001b[39;00m\u001b[38;5;21;01mlayers\u001b[39;00m \u001b[38;5;28;01mimport\u001b[39;00m deserialize \u001b[38;5;28;01mas\u001b[39;00m deserialize_layer  \u001b[38;5;66;03m# pylint: disable=g-import-not-at-top\u001b[39;00m\n\u001b[0;32m-> 1260\u001b[0m   layer \u001b[38;5;241m=\u001b[39m deserialize_layer(layer_data, custom_objects\u001b[38;5;241m=\u001b[39mcustom_objects)\n\u001b[1;32m   1261\u001b[0m   created_layers[layer_name] \u001b[38;5;241m=\u001b[39m layer\n\u001b[1;32m   1263\u001b[0m node_count_by_layer[layer] \u001b[38;5;241m=\u001b[39m \u001b[38;5;28mint\u001b[39m(_should_skip_first_node(layer))\n",
      "File \u001b[0;32m~/anaconda3/envs/moabb_model_optimization/lib/python3.11/site-packages/tensorflow/python/keras/layers/serialization.py:118\u001b[0m, in \u001b[0;36mdeserialize\u001b[0;34m(config, custom_objects)\u001b[0m\n\u001b[1;32m    107\u001b[0m \u001b[38;5;250m\u001b[39m\u001b[38;5;124;03m\"\"\"Instantiates a layer from a config dictionary.\u001b[39;00m\n\u001b[1;32m    108\u001b[0m \n\u001b[1;32m    109\u001b[0m \u001b[38;5;124;03mArgs:\u001b[39;00m\n\u001b[0;32m   (...)\u001b[0m\n\u001b[1;32m    115\u001b[0m \u001b[38;5;124;03m    Layer instance (may be Model, Sequential, Network, Layer...)\u001b[39;00m\n\u001b[1;32m    116\u001b[0m \u001b[38;5;124;03m\"\"\"\u001b[39;00m\n\u001b[1;32m    117\u001b[0m populate_deserializable_objects()\n\u001b[0;32m--> 118\u001b[0m \u001b[38;5;28;01mreturn\u001b[39;00m generic_utils\u001b[38;5;241m.\u001b[39mdeserialize_keras_object(\n\u001b[1;32m    119\u001b[0m     config,\n\u001b[1;32m    120\u001b[0m     module_objects\u001b[38;5;241m=\u001b[39mLOCAL\u001b[38;5;241m.\u001b[39mALL_OBJECTS,\n\u001b[1;32m    121\u001b[0m     custom_objects\u001b[38;5;241m=\u001b[39mcustom_objects,\n\u001b[1;32m    122\u001b[0m     printable_module_name\u001b[38;5;241m=\u001b[39m\u001b[38;5;124m'\u001b[39m\u001b[38;5;124mlayer\u001b[39m\u001b[38;5;124m'\u001b[39m)\n",
      "File \u001b[0;32m~/anaconda3/envs/moabb_model_optimization/lib/python3.11/site-packages/tensorflow/python/keras/utils/generic_utils.py:659\u001b[0m, in \u001b[0;36mdeserialize_keras_object\u001b[0;34m(identifier, module_objects, custom_objects, printable_module_name)\u001b[0m\n\u001b[1;32m    656\u001b[0m \u001b[38;5;28;01mif\u001b[39;00m \u001b[38;5;28misinstance\u001b[39m(identifier, \u001b[38;5;28mdict\u001b[39m):\n\u001b[1;32m    657\u001b[0m   \u001b[38;5;66;03m# In this case we are dealing with a Keras config dictionary.\u001b[39;00m\n\u001b[1;32m    658\u001b[0m   config \u001b[38;5;241m=\u001b[39m identifier\n\u001b[0;32m--> 659\u001b[0m   (\u001b[38;5;28mcls\u001b[39m, cls_config) \u001b[38;5;241m=\u001b[39m class_and_config_for_serialized_keras_object(\n\u001b[1;32m    660\u001b[0m       config, module_objects, custom_objects, printable_module_name)\n\u001b[1;32m    662\u001b[0m   \u001b[38;5;66;03m# If this object has already been loaded (i.e. it's shared between multiple\u001b[39;00m\n\u001b[1;32m    663\u001b[0m   \u001b[38;5;66;03m# objects), return the already-loaded object.\u001b[39;00m\n\u001b[1;32m    664\u001b[0m   shared_object_id \u001b[38;5;241m=\u001b[39m config\u001b[38;5;241m.\u001b[39mget(SHARED_OBJECT_KEY)\n",
      "File \u001b[0;32m~/anaconda3/envs/moabb_model_optimization/lib/python3.11/site-packages/tensorflow/python/keras/utils/generic_utils.py:556\u001b[0m, in \u001b[0;36mclass_and_config_for_serialized_keras_object\u001b[0;34m(config, module_objects, custom_objects, printable_module_name)\u001b[0m\n\u001b[1;32m    554\u001b[0m \u001b[38;5;28mcls\u001b[39m \u001b[38;5;241m=\u001b[39m get_registered_object(class_name, custom_objects, module_objects)\n\u001b[1;32m    555\u001b[0m \u001b[38;5;28;01mif\u001b[39;00m \u001b[38;5;28mcls\u001b[39m \u001b[38;5;129;01mis\u001b[39;00m \u001b[38;5;28;01mNone\u001b[39;00m:\n\u001b[0;32m--> 556\u001b[0m   \u001b[38;5;28;01mraise\u001b[39;00m \u001b[38;5;167;01mValueError\u001b[39;00m(\n\u001b[1;32m    557\u001b[0m       \u001b[38;5;124m'\u001b[39m\u001b[38;5;124mUnknown \u001b[39m\u001b[38;5;132;01m{}\u001b[39;00m\u001b[38;5;124m: \u001b[39m\u001b[38;5;132;01m{}\u001b[39;00m\u001b[38;5;124m. Please ensure this object is \u001b[39m\u001b[38;5;124m'\u001b[39m\n\u001b[1;32m    558\u001b[0m       \u001b[38;5;124m'\u001b[39m\u001b[38;5;124mpassed to the `custom_objects` argument. See \u001b[39m\u001b[38;5;124m'\u001b[39m\n\u001b[1;32m    559\u001b[0m       \u001b[38;5;124m'\u001b[39m\u001b[38;5;124mhttps://www.tensorflow.org/guide/keras/save_and_serialize\u001b[39m\u001b[38;5;124m'\u001b[39m\n\u001b[1;32m    560\u001b[0m       \u001b[38;5;124m'\u001b[39m\u001b[38;5;124m#registering_the_custom_object for details.\u001b[39m\u001b[38;5;124m'\u001b[39m\n\u001b[1;32m    561\u001b[0m       \u001b[38;5;241m.\u001b[39mformat(printable_module_name, class_name))\n\u001b[1;32m    563\u001b[0m cls_config \u001b[38;5;241m=\u001b[39m config[\u001b[38;5;124m'\u001b[39m\u001b[38;5;124mconfig\u001b[39m\u001b[38;5;124m'\u001b[39m]\n\u001b[1;32m    564\u001b[0m \u001b[38;5;66;03m# Check if `cls_config` is a list. If it is a list, return the class and the\u001b[39;00m\n\u001b[1;32m    565\u001b[0m \u001b[38;5;66;03m# associated class configs for recursively deserialization. This case will\u001b[39;00m\n\u001b[1;32m    566\u001b[0m \u001b[38;5;66;03m# happen on the old version of sequential model (e.g. `keras_version` ==\u001b[39;00m\n\u001b[1;32m    567\u001b[0m \u001b[38;5;66;03m# \"2.0.6\"), which is serialized in a different structure, for example\u001b[39;00m\n\u001b[1;32m    568\u001b[0m \u001b[38;5;66;03m# \"{'class_name': 'Sequential',\u001b[39;00m\n\u001b[1;32m    569\u001b[0m \u001b[38;5;66;03m#   'config': [{'class_name': 'Embedding', 'config': ...}, {}, ...]}\".\u001b[39;00m\n",
      "\u001b[0;31mValueError\u001b[0m: Unknown layer: PruneLowMagnitude. Please ensure this object is passed to the `custom_objects` argument. See https://www.tensorflow.org/guide/keras/save_and_serialize#registering_the_custom_object for details."
     ]
    }
   ],
   "source": [
    "model_keras_pruned = keras.models.load_model(\n",
    "    \"./saved_models/Models_WithinSession/FatigueMI/1/0/Keras_DeepConvNet/pruned_kerasdeepconvnet_fitted_model_0.h5\",\n",
    ")\n",
    "# # Now we need to instantiate a new SciKeras object since we only saved the Keras model\n",
    "# resampler_epoch = Resampler_Epoch(sfreq=250)\n",
    "# convert_epoch_array = Convert_Epoch_Array()\n",
    "# standardscaler_epoch = StandardScaler_Epoch()\n",
    "# keras_deepconvnet_pipeline = make_pipeline(\n",
    "#     resampler_epoch,\n",
    "#     convert_epoch_array,\n",
    "#     standardscaler_epoch,\n",
    "#     model_keras_pruned\n",
    "# )\n",
    "\n",
    "# keras_deepconvnet_pipeline"
   ]
  }
 ],
 "metadata": {
  "kernelspec": {
   "display_name": "base",
   "language": "python",
   "name": "python3"
  },
  "language_info": {
   "codemirror_mode": {
    "name": "ipython",
    "version": 3
   },
   "file_extension": ".py",
   "mimetype": "text/x-python",
   "name": "python",
   "nbconvert_exporter": "python",
   "pygments_lexer": "ipython3",
   "version": "3.11.5"
  }
 },
 "nbformat": 4,
 "nbformat_minor": 2
}
