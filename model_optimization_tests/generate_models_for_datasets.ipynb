{
 "cells": [
  {
   "cell_type": "code",
   "execution_count": 1,
   "metadata": {},
   "outputs": [],
   "source": [
    "%%capture\n",
    "%load_ext autoreload\n",
    "%autoreload 2"
   ]
  },
  {
   "cell_type": "code",
   "execution_count": 2,
   "metadata": {},
   "outputs": [
    {
     "name": "stderr",
     "output_type": "stream",
     "text": [
      "/home/arazzz/anaconda3/envs/moabb_model_optimization_quant/lib/python3.11/site-packages/tqdm/auto.py:21: TqdmWarning: IProgress not found. Please update jupyter and ipywidgets. See https://ipywidgets.readthedocs.io/en/stable/user_install.html\n",
      "  from .autonotebook import tqdm as notebook_tqdm\n",
      "2024-04-11 01:28:34.829715: E external/local_xla/xla/stream_executor/cuda/cuda_dnn.cc:9261] Unable to register cuDNN factory: Attempting to register factory for plugin cuDNN when one has already been registered\n",
      "2024-04-11 01:28:34.829761: E external/local_xla/xla/stream_executor/cuda/cuda_fft.cc:607] Unable to register cuFFT factory: Attempting to register factory for plugin cuFFT when one has already been registered\n",
      "2024-04-11 01:28:34.830688: E external/local_xla/xla/stream_executor/cuda/cuda_blas.cc:1515] Unable to register cuBLAS factory: Attempting to register factory for plugin cuBLAS when one has already been registered\n",
      "2024-04-11 01:28:34.836236: I tensorflow/core/platform/cpu_feature_guard.cc:182] This TensorFlow binary is optimized to use available CPU instructions in performance-critical operations.\n",
      "To enable the following instructions: AVX2 FMA, in other operations, rebuild TensorFlow with the appropriate compiler flags.\n",
      "2024-04-11 01:28:35.935720: W tensorflow/compiler/tf2tensorrt/utils/py_utils.cc:38] TF-TRT Warning: Could not find TensorRT\n",
      "<frozen importlib._bootstrap>:241: FutureWarning: mne.io.pick.pick_types is deprecated will be removed in 1.6, use documented public API instead. If no appropriate public API exists, please open an issue on GitHub.\n",
      "<frozen importlib._bootstrap>:241: FutureWarning: mne.io.pick.pick_channels_regexp is deprecated will be removed in 1.6, use documented public API instead. If no appropriate public API exists, please open an issue on GitHub.\n",
      "<frozen importlib._bootstrap>:241: FutureWarning: mne.io.pick.channel_type is deprecated will be removed in 1.6, use documented public API instead. If no appropriate public API exists, please open an issue on GitHub.\n"
     ]
    },
    {
     "name": "stdout",
     "output_type": "stream",
     "text": [
      "To use the get_shape_from_baseconcar, InputShapeSetterEEG, BraindecodeDatasetLoaderyou need to install `braindecode`.`pip install braindecode` or Please refer to `https://braindecode.org`.\n"
     ]
    },
    {
     "name": "stderr",
     "output_type": "stream",
     "text": [
      "/home/arazzz/anaconda3/envs/moabb_model_optimization_quant/lib/python3.11/site-packages/moabb/pipelines/__init__.py:26: ModuleNotFoundError: Tensorflow is not installed. You won't be able to use these MOABB pipelines if you attempt to do so.\n",
      "  warn(\n"
     ]
    }
   ],
   "source": [
    "# region General Imports\n",
    "import os\n",
    "import uuid\n",
    "import shutil\n",
    "import time\n",
    "import random\n",
    "import datetime\n",
    "import glob\n",
    "import pickle\n",
    "import tqdm\n",
    "import copy\n",
    "import optuna\n",
    "import numpy as np\n",
    "import pandas as pd\n",
    "import scipy as sp\n",
    "import matplotlib.pyplot as plt\n",
    "import seaborn as sns\n",
    "import mne\n",
    "from rich import print as rprint\n",
    "from rich.pretty import pprint as rpprint\n",
    "from tqdm import tqdm\n",
    "from itertools import chain\n",
    "from functools import partial\n",
    "# endregion General Imports\n",
    "\n",
    "from model_optim.model_optimizer import ModelOptimizer\n",
    "\n",
    "# Dataset\n",
    "from custom_datasets.fatigue_mi import FatigueMI\n",
    "from custom_datasets.norm_cho import NormCho2017\n",
    "from custom_datasets.opt_game_mi import OptGameMI\n",
    "from custom_datasets.opt_std_mi import OptStdMI"
   ]
  },
  {
   "cell_type": "code",
   "execution_count": 7,
   "metadata": {},
   "outputs": [],
   "source": [
    "MODELS_LIST = [\n",
    "    # \"shallow_conv_net\",\n",
    "    \"lstm_net\",\n",
    "    \"deep_conv_net\",\n",
    "    \"eeg_net\",\n",
    "    \"lstm_cnn_net\",\n",
    "    \"lstm_cnn_net_v2\"\n",
    "]\n",
    "MODELS_HYPERPARAMS_DICT = {\n",
    "    \"shallow_conv_net\": {\n",
    "        \"max_epochs\": 5\n",
    "    },\n",
    "    \"eeg_net\": {\n",
    "        \"max_epochs\": 10\n",
    "    },\n",
    "    \"deep_conv_net\": {\n",
    "        \"max_epochs\": 10\n",
    "    },\n",
    "    \"lstm_net\": {\n",
    "        \"max_epochs\": 10\n",
    "    },\n",
    "    \"lstm_cnn_net\": {\n",
    "        \"max_epochs\": 10\n",
    "    },\n",
    "    \"lstm_cnn_net_v2\": {},\n",
    "}\n",
    "\n",
    "DATASETS_LIST = [\n",
    "    FatigueMI,\n",
    "    # NormCho2017,\n",
    "    # OptGameMI,\n",
    "    # OptStdMI,\n",
    "]"
   ]
  },
  {
   "cell_type": "code",
   "execution_count": 4,
   "metadata": {},
   "outputs": [],
   "source": [
    "# from model_optim.utils import data_generator\n",
    "\n",
    "# data_generator(\n",
    "#     dataset=NormCho2017(),\n",
    "#     subjects=[1],\n",
    "#     channel_idx=[],\n",
    "#     sfreq=128,\n",
    "# )"
   ]
  },
  {
   "cell_type": "code",
   "execution_count": 8,
   "metadata": {},
   "outputs": [
    {
     "name": "stderr",
     "output_type": "stream",
     "text": [
      "  0%|          | 0/25 [00:00<?, ?it/s]"
     ]
    },
    {
     "name": "stdout",
     "output_type": "stream",
     "text": [
      "Adding metadata with 3 columns\n",
      "Epoch 1/10\n",
      "1/1 [==============================] - ETA: 0s - loss: 0.6950 - accuracy: 0.5147\n",
      "Epoch 00001: val_accuracy improved from -inf to 0.44444, storing weights.\n",
      "1/1 [==============================] - 8s 8s/step - loss: 0.6950 - accuracy: 0.5147 - val_loss: 0.6989 - val_accuracy: 0.4444 - lr: 0.0010\n",
      "Epoch 2/10\n",
      "1/1 [==============================] - ETA: 0s - loss: 0.6926 - accuracy: 0.5147\n",
      "Epoch 00002: val_accuracy did not improve\n",
      "1/1 [==============================] - 0s 267ms/step - loss: 0.6926 - accuracy: 0.5147 - val_loss: 0.6985 - val_accuracy: 0.4444 - lr: 0.0010\n",
      "Epoch 3/10\n",
      "1/1 [==============================] - ETA: 0s - loss: 0.6937 - accuracy: 0.5147\n",
      "Epoch 00003: val_accuracy did not improve\n",
      "1/1 [==============================] - 0s 391ms/step - loss: 0.6937 - accuracy: 0.5147 - val_loss: 0.6983 - val_accuracy: 0.4444 - lr: 0.0010\n",
      "Epoch 4/10\n",
      "1/1 [==============================] - ETA: 0s - loss: 0.6912 - accuracy: 0.5147\n",
      "Epoch 00004: val_accuracy did not improve\n",
      "1/1 [==============================] - 0s 359ms/step - loss: 0.6912 - accuracy: 0.5147 - val_loss: 0.6981 - val_accuracy: 0.4444 - lr: 0.0010\n",
      "Epoch 5/10\n",
      "1/1 [==============================] - ETA: 0s - loss: 0.6917 - accuracy: 0.5147\n",
      "Epoch 00005: val_accuracy did not improve\n",
      "1/1 [==============================] - 0s 276ms/step - loss: 0.6917 - accuracy: 0.5147 - val_loss: 0.6978 - val_accuracy: 0.4444 - lr: 0.0010\n",
      "Epoch 6/10\n",
      "1/1 [==============================] - ETA: 0s - loss: 0.6922 - accuracy: 0.5147\n",
      "Epoch 00006: val_accuracy did not improve\n",
      "1/1 [==============================] - 0s 315ms/step - loss: 0.6922 - accuracy: 0.5147 - val_loss: 0.6976 - val_accuracy: 0.4444 - lr: 0.0010\n",
      "Epoch 7/10\n",
      "1/1 [==============================] - ETA: 0s - loss: 0.6924 - accuracy: 0.5147\n",
      "Epoch 00007: val_accuracy did not improve\n",
      "1/1 [==============================] - 0s 358ms/step - loss: 0.6924 - accuracy: 0.5147 - val_loss: 0.6975 - val_accuracy: 0.4444 - lr: 0.0010\n",
      "Epoch 8/10\n",
      "1/1 [==============================] - ETA: 0s - loss: 0.6903 - accuracy: 0.5147\n",
      "Epoch 00008: val_accuracy did not improve\n",
      "1/1 [==============================] - 0s 392ms/step - loss: 0.6903 - accuracy: 0.5147 - val_loss: 0.6974 - val_accuracy: 0.4444 - lr: 0.0010\n",
      "Epoch 9/10\n",
      "1/1 [==============================] - ETA: 0s - loss: 0.6938 - accuracy: 0.5147\n",
      "Epoch 00009: val_accuracy did not improve\n",
      "1/1 [==============================] - 0s 269ms/step - loss: 0.6938 - accuracy: 0.5147 - val_loss: 0.6973 - val_accuracy: 0.4444 - lr: 0.0010\n",
      "Epoch 10/10\n",
      "1/1 [==============================] - ETA: 0s - loss: 0.6889 - accuracy: 0.5147\n",
      "Epoch 00010: val_accuracy did not improve\n",
      "1/1 [==============================] - 0s 300ms/step - loss: 0.6889 - accuracy: 0.5147 - val_loss: 0.6972 - val_accuracy: 0.4444 - lr: 0.0010\n",
      "Using epoch 00001 with val_accuracy: 0.44444\n",
      "\n",
      "\n",
      "1/1 [==============================] - 0s 76ms/step - loss: 0.6941 - accuracy: 0.5000\n"
     ]
    },
    {
     "name": "stderr",
     "output_type": "stream",
     "text": [
      "Best trial: 0. Best value: 1.05924:   4%|▍         | 1/25 [00:12<04:58, 12.44s/it]"
     ]
    },
    {
     "name": "stdout",
     "output_type": "stream",
     "text": [
      "\n",
      "\n",
      "Adding metadata with 3 columns\n",
      "Epoch 1/10\n",
      "1/1 [==============================] - ETA: 0s - loss: 0.6933 - accuracy: 0.4853\n",
      "Epoch 00001: val_accuracy improved from -inf to 0.44444, storing weights.\n",
      "1/1 [==============================] - 7s 7s/step - loss: 0.6933 - accuracy: 0.4853 - val_loss: 0.6948 - val_accuracy: 0.4444 - lr: 0.0010\n",
      "Epoch 2/10\n",
      "1/1 [==============================] - ETA: 0s - loss: 0.6925 - accuracy: 0.5147\n",
      "Epoch 00002: val_accuracy did not improve\n",
      "1/1 [==============================] - 0s 274ms/step - loss: 0.6925 - accuracy: 0.5147 - val_loss: 0.6951 - val_accuracy: 0.4444 - lr: 0.0010\n",
      "Epoch 3/10\n",
      "1/1 [==============================] - ETA: 0s - loss: 0.6925 - accuracy: 0.5147\n",
      "Epoch 00003: val_accuracy did not improve\n",
      "1/1 [==============================] - 0s 357ms/step - loss: 0.6925 - accuracy: 0.5147 - val_loss: 0.6954 - val_accuracy: 0.4444 - lr: 0.0010\n",
      "Epoch 4/10\n",
      "1/1 [==============================] - ETA: 0s - loss: 0.6921 - accuracy: 0.5147\n",
      "Epoch 00004: val_accuracy did not improve\n",
      "1/1 [==============================] - 0s 362ms/step - loss: 0.6921 - accuracy: 0.5147 - val_loss: 0.6956 - val_accuracy: 0.4444 - lr: 0.0010\n",
      "Epoch 5/10\n",
      "1/1 [==============================] - ETA: 0s - loss: 0.6928 - accuracy: 0.5147\n",
      "Epoch 00005: val_accuracy did not improve\n",
      "1/1 [==============================] - 0s 263ms/step - loss: 0.6928 - accuracy: 0.5147 - val_loss: 0.6956 - val_accuracy: 0.4444 - lr: 1.0000e-04\n",
      "Epoch 6/10\n",
      "1/1 [==============================] - ETA: 0s - loss: 0.6926 - accuracy: 0.5147\n",
      "Epoch 00006: val_accuracy did not improve\n",
      "1/1 [==============================] - 0s 332ms/step - loss: 0.6926 - accuracy: 0.5147 - val_loss: 0.6956 - val_accuracy: 0.4444 - lr: 1.0000e-04\n",
      "Epoch 7/10\n",
      "1/1 [==============================] - ETA: 0s - loss: 0.6930 - accuracy: 0.5147\n",
      "Epoch 00007: val_accuracy did not improve\n",
      "1/1 [==============================] - 0s 267ms/step - loss: 0.6930 - accuracy: 0.5147 - val_loss: 0.6957 - val_accuracy: 0.4444 - lr: 1.0000e-04\n",
      "Epoch 8/10\n",
      "1/1 [==============================] - ETA: 0s - loss: 0.6914 - accuracy: 0.5147\n",
      "Epoch 00008: val_accuracy did not improve\n",
      "1/1 [==============================] - 0s 330ms/step - loss: 0.6914 - accuracy: 0.5147 - val_loss: 0.6957 - val_accuracy: 0.4444 - lr: 1.0000e-05\n",
      "Epoch 9/10\n",
      "1/1 [==============================] - ETA: 0s - loss: 0.6927 - accuracy: 0.5147\n",
      "Epoch 00009: val_accuracy did not improve\n",
      "1/1 [==============================] - 0s 280ms/step - loss: 0.6927 - accuracy: 0.5147 - val_loss: 0.6957 - val_accuracy: 0.4444 - lr: 1.0000e-05\n",
      "Epoch 10/10\n",
      "1/1 [==============================] - ETA: 0s - loss: 0.6931 - accuracy: 0.5147\n",
      "Epoch 00010: val_accuracy did not improve\n",
      "1/1 [==============================] - 0s 312ms/step - loss: 0.6931 - accuracy: 0.5147 - val_loss: 0.6957 - val_accuracy: 0.4444 - lr: 1.0000e-05\n",
      "Using epoch 00001 with val_accuracy: 0.44444\n",
      "\n",
      "\n",
      "1/1 [==============================] - 0s 79ms/step - loss: 0.6930 - accuracy: 0.5000\n"
     ]
    },
    {
     "name": "stderr",
     "output_type": "stream",
     "text": [
      "Best trial: 1. Best value: 1.05914:   8%|▊         | 2/25 [00:25<04:50, 12.62s/it]"
     ]
    },
    {
     "name": "stdout",
     "output_type": "stream",
     "text": [
      "\n",
      "\n",
      "Adding metadata with 3 columns\n",
      "Epoch 1/10\n",
      "1/1 [==============================] - ETA: 0s - loss: 0.6934 - accuracy: 0.5441\n",
      "Epoch 00001: val_accuracy improved from -inf to 0.44444, storing weights.\n",
      "1/1 [==============================] - 7s 7s/step - loss: 0.6934 - accuracy: 0.5441 - val_loss: 0.6935 - val_accuracy: 0.4444 - lr: 0.0010\n",
      "Epoch 2/10\n",
      "1/1 [==============================] - ETA: 0s - loss: 0.6916 - accuracy: 0.4853\n",
      "Epoch 00002: val_accuracy did not improve\n",
      "1/1 [==============================] - 0s 397ms/step - loss: 0.6916 - accuracy: 0.4853 - val_loss: 0.6938 - val_accuracy: 0.4444 - lr: 0.0010\n",
      "Epoch 3/10\n",
      "1/1 [==============================] - ETA: 0s - loss: 0.6935 - accuracy: 0.5588\n",
      "Epoch 00003: val_accuracy did not improve\n",
      "1/1 [==============================] - 0s 340ms/step - loss: 0.6935 - accuracy: 0.5588 - val_loss: 0.6941 - val_accuracy: 0.4444 - lr: 0.0010\n",
      "Epoch 4/10\n",
      "1/1 [==============================] - ETA: 0s - loss: 0.6938 - accuracy: 0.4412\n",
      "Epoch 00004: val_accuracy did not improve\n",
      "1/1 [==============================] - 0s 361ms/step - loss: 0.6938 - accuracy: 0.4412 - val_loss: 0.6943 - val_accuracy: 0.4444 - lr: 0.0010\n",
      "Epoch 5/10\n",
      "1/1 [==============================] - ETA: 0s - loss: 0.6926 - accuracy: 0.5147\n",
      "Epoch 00005: val_accuracy did not improve\n",
      "1/1 [==============================] - 0s 258ms/step - loss: 0.6926 - accuracy: 0.5147 - val_loss: 0.6943 - val_accuracy: 0.4444 - lr: 1.0000e-04\n",
      "Epoch 6/10\n",
      "1/1 [==============================] - ETA: 0s - loss: 0.6929 - accuracy: 0.5294\n",
      "Epoch 00006: val_accuracy did not improve\n",
      "1/1 [==============================] - 0s 318ms/step - loss: 0.6929 - accuracy: 0.5294 - val_loss: 0.6944 - val_accuracy: 0.4444 - lr: 1.0000e-04\n",
      "Epoch 7/10\n",
      "1/1 [==============================] - ETA: 0s - loss: 0.6932 - accuracy: 0.5000\n",
      "Epoch 00007: val_accuracy did not improve\n",
      "1/1 [==============================] - 0s 354ms/step - loss: 0.6932 - accuracy: 0.5000 - val_loss: 0.6944 - val_accuracy: 0.4444 - lr: 1.0000e-04\n",
      "Epoch 8/10\n",
      "1/1 [==============================] - ETA: 0s - loss: 0.6922 - accuracy: 0.4853\n",
      "Epoch 00008: val_accuracy did not improve\n",
      "1/1 [==============================] - 0s 387ms/step - loss: 0.6922 - accuracy: 0.4853 - val_loss: 0.6944 - val_accuracy: 0.4444 - lr: 1.0000e-05\n",
      "Epoch 9/10\n",
      "1/1 [==============================] - ETA: 0s - loss: 0.6921 - accuracy: 0.5147\n",
      "Epoch 00009: val_accuracy did not improve\n",
      "1/1 [==============================] - 0s 395ms/step - loss: 0.6921 - accuracy: 0.5147 - val_loss: 0.6944 - val_accuracy: 0.4444 - lr: 1.0000e-05\n",
      "Epoch 10/10\n",
      "1/1 [==============================] - ETA: 0s - loss: 0.6926 - accuracy: 0.5000\n",
      "Epoch 00010: val_accuracy did not improve\n",
      "1/1 [==============================] - 0s 357ms/step - loss: 0.6926 - accuracy: 0.5000 - val_loss: 0.6944 - val_accuracy: 0.4444 - lr: 1.0000e-05\n",
      "Using epoch 00001 with val_accuracy: 0.44444\n",
      "\n",
      "\n",
      "1/1 [==============================] - 0s 130ms/step - loss: 0.6931 - accuracy: 0.5000\n"
     ]
    },
    {
     "name": "stderr",
     "output_type": "stream",
     "text": [
      "Best trial: 2. Best value: 1.05904:  12%|█▏        | 3/25 [00:36<04:23, 11.99s/it]"
     ]
    },
    {
     "name": "stdout",
     "output_type": "stream",
     "text": [
      "\n",
      "\n",
      "Adding metadata with 3 columns\n",
      "Epoch 1/10\n",
      "1/1 [==============================] - ETA: 0s - loss: 0.6937 - accuracy: 0.4118\n",
      "Epoch 00001: val_accuracy improved from -inf to 0.44444, storing weights.\n",
      "1/1 [==============================] - 7s 7s/step - loss: 0.6937 - accuracy: 0.4118 - val_loss: 0.6931 - val_accuracy: 0.4444 - lr: 0.0010\n",
      "Epoch 2/10\n",
      "1/1 [==============================] - ETA: 0s - loss: 0.6925 - accuracy: 0.5588\n",
      "Epoch 00002: val_accuracy did not improve\n",
      "1/1 [==============================] - 0s 184ms/step - loss: 0.6925 - accuracy: 0.5588 - val_loss: 0.6934 - val_accuracy: 0.4444 - lr: 0.0010\n",
      "Epoch 3/10\n",
      "1/1 [==============================] - ETA: 0s - loss: 0.6908 - accuracy: 0.6176\n",
      "Epoch 00003: val_accuracy did not improve\n",
      "1/1 [==============================] - 0s 134ms/step - loss: 0.6908 - accuracy: 0.6176 - val_loss: 0.6936 - val_accuracy: 0.4444 - lr: 0.0010\n",
      "Epoch 4/10\n",
      "1/1 [==============================] - ETA: 0s - loss: 0.6920 - accuracy: 0.5441\n",
      "Epoch 00004: val_accuracy did not improve\n",
      "1/1 [==============================] - 0s 177ms/step - loss: 0.6920 - accuracy: 0.5441 - val_loss: 0.6939 - val_accuracy: 0.4444 - lr: 0.0010\n",
      "Epoch 5/10\n",
      "1/1 [==============================] - ETA: 0s - loss: 0.6926 - accuracy: 0.4853\n",
      "Epoch 00005: val_accuracy did not improve\n",
      "1/1 [==============================] - 0s 154ms/step - loss: 0.6926 - accuracy: 0.4853 - val_loss: 0.6939 - val_accuracy: 0.4444 - lr: 1.0000e-04\n",
      "Epoch 6/10\n",
      "1/1 [==============================] - ETA: 0s - loss: 0.6925 - accuracy: 0.5588\n",
      "Epoch 00006: val_accuracy did not improve\n",
      "1/1 [==============================] - 0s 164ms/step - loss: 0.6925 - accuracy: 0.5588 - val_loss: 0.6939 - val_accuracy: 0.4444 - lr: 1.0000e-04\n",
      "Epoch 7/10\n",
      "1/1 [==============================] - ETA: 0s - loss: 0.6904 - accuracy: 0.6029\n",
      "Epoch 00007: val_accuracy did not improve\n",
      "1/1 [==============================] - 0s 174ms/step - loss: 0.6904 - accuracy: 0.6029 - val_loss: 0.6939 - val_accuracy: 0.4444 - lr: 1.0000e-04\n",
      "Epoch 8/10\n",
      "1/1 [==============================] - ETA: 0s - loss: 0.6938 - accuracy: 0.5294\n",
      "Epoch 00008: val_accuracy did not improve\n",
      "1/1 [==============================] - 0s 216ms/step - loss: 0.6938 - accuracy: 0.5294 - val_loss: 0.6939 - val_accuracy: 0.4444 - lr: 1.0000e-05\n",
      "Epoch 9/10\n",
      "1/1 [==============================] - ETA: 0s - loss: 0.6916 - accuracy: 0.5735\n",
      "Epoch 00009: val_accuracy did not improve\n",
      "1/1 [==============================] - 0s 172ms/step - loss: 0.6916 - accuracy: 0.5735 - val_loss: 0.6939 - val_accuracy: 0.4444 - lr: 1.0000e-05\n",
      "Epoch 10/10\n",
      "1/1 [==============================] - ETA: 0s - loss: 0.6921 - accuracy: 0.5735\n",
      "Epoch 00010: val_accuracy did not improve\n",
      "1/1 [==============================] - 0s 140ms/step - loss: 0.6921 - accuracy: 0.5735 - val_loss: 0.6939 - val_accuracy: 0.4444 - lr: 1.0000e-05\n",
      "Using epoch 00001 with val_accuracy: 0.44444\n",
      "\n",
      "\n",
      "1/1 [==============================] - 0s 70ms/step - loss: 0.6932 - accuracy: 0.5000\n"
     ]
    },
    {
     "name": "stderr",
     "output_type": "stream",
     "text": [
      "Best trial: 2. Best value: 1.05904:  16%|█▌        | 4/25 [00:46<03:58, 11.34s/it]"
     ]
    },
    {
     "name": "stdout",
     "output_type": "stream",
     "text": [
      "\n",
      "\n",
      "Adding metadata with 3 columns\n",
      "Epoch 1/10\n",
      "1/1 [==============================] - ETA: 0s - loss: 0.6928 - accuracy: 0.5441\n",
      "Epoch 00001: val_accuracy improved from -inf to 0.44444, storing weights.\n",
      "1/1 [==============================] - 7s 7s/step - loss: 0.6928 - accuracy: 0.5441 - val_loss: 0.6940 - val_accuracy: 0.4444 - lr: 0.0010\n",
      "Epoch 2/10\n",
      "1/1 [==============================] - ETA: 0s - loss: 0.6919 - accuracy: 0.5000\n",
      "Epoch 00002: val_accuracy did not improve\n",
      "1/1 [==============================] - 0s 321ms/step - loss: 0.6919 - accuracy: 0.5000 - val_loss: 0.6943 - val_accuracy: 0.4444 - lr: 0.0010\n",
      "Epoch 3/10\n",
      "1/1 [==============================] - ETA: 0s - loss: 0.6910 - accuracy: 0.5588\n",
      "Epoch 00003: val_accuracy did not improve\n",
      "1/1 [==============================] - 0s 338ms/step - loss: 0.6910 - accuracy: 0.5588 - val_loss: 0.6946 - val_accuracy: 0.4444 - lr: 0.0010\n",
      "Epoch 4/10\n",
      "1/1 [==============================] - ETA: 0s - loss: 0.6931 - accuracy: 0.4853\n",
      "Epoch 00004: val_accuracy did not improve\n",
      "1/1 [==============================] - 0s 305ms/step - loss: 0.6931 - accuracy: 0.4853 - val_loss: 0.6948 - val_accuracy: 0.4444 - lr: 0.0010\n",
      "Epoch 5/10\n",
      "1/1 [==============================] - ETA: 0s - loss: 0.6934 - accuracy: 0.5000\n",
      "Epoch 00005: val_accuracy did not improve\n",
      "1/1 [==============================] - 0s 283ms/step - loss: 0.6934 - accuracy: 0.5000 - val_loss: 0.6948 - val_accuracy: 0.4444 - lr: 1.0000e-04\n",
      "Epoch 6/10\n",
      "1/1 [==============================] - ETA: 0s - loss: 0.6922 - accuracy: 0.5147\n",
      "Epoch 00006: val_accuracy did not improve\n",
      "1/1 [==============================] - 0s 352ms/step - loss: 0.6922 - accuracy: 0.5147 - val_loss: 0.6949 - val_accuracy: 0.4444 - lr: 1.0000e-04\n",
      "Epoch 7/10\n",
      "1/1 [==============================] - ETA: 0s - loss: 0.6914 - accuracy: 0.5441\n",
      "Epoch 00007: val_accuracy did not improve\n",
      "1/1 [==============================] - 1s 511ms/step - loss: 0.6914 - accuracy: 0.5441 - val_loss: 0.6949 - val_accuracy: 0.4444 - lr: 1.0000e-04\n",
      "Epoch 8/10\n",
      "1/1 [==============================] - ETA: 0s - loss: 0.6921 - accuracy: 0.5147\n",
      "Epoch 00008: val_accuracy did not improve\n",
      "1/1 [==============================] - 0s 279ms/step - loss: 0.6921 - accuracy: 0.5147 - val_loss: 0.6949 - val_accuracy: 0.4444 - lr: 1.0000e-05\n",
      "Epoch 9/10\n",
      "1/1 [==============================] - ETA: 0s - loss: 0.6920 - accuracy: 0.5294\n",
      "Epoch 00009: val_accuracy did not improve\n",
      "1/1 [==============================] - 0s 284ms/step - loss: 0.6920 - accuracy: 0.5294 - val_loss: 0.6949 - val_accuracy: 0.4444 - lr: 1.0000e-05\n",
      "Epoch 10/10\n",
      "1/1 [==============================] - ETA: 0s - loss: 0.6913 - accuracy: 0.5294\n",
      "Epoch 00010: val_accuracy did not improve\n",
      "1/1 [==============================] - 0s 273ms/step - loss: 0.6913 - accuracy: 0.5294 - val_loss: 0.6949 - val_accuracy: 0.4444 - lr: 1.0000e-05\n",
      "Using epoch 00001 with val_accuracy: 0.44444\n",
      "\n",
      "\n",
      "1/1 [==============================] - 0s 112ms/step - loss: 0.6931 - accuracy: 0.5000\n",
      "\n",
      "\n"
     ]
    },
    {
     "name": "stderr",
     "output_type": "stream",
     "text": [
      "Best trial: 2. Best value: 1.05904:  20%|██        | 5/25 [00:58<03:48, 11.44s/it]"
     ]
    },
    {
     "name": "stdout",
     "output_type": "stream",
     "text": [
      "Adding metadata with 3 columns\n",
      "Epoch 1/10\n",
      "1/1 [==============================] - ETA: 0s - loss: 0.6920 - accuracy: 0.5147\n",
      "Epoch 00001: val_accuracy improved from -inf to 0.44444, storing weights.\n",
      "1/1 [==============================] - 7s 7s/step - loss: 0.6920 - accuracy: 0.5147 - val_loss: 0.6958 - val_accuracy: 0.4444 - lr: 0.0010\n",
      "Epoch 2/10\n",
      "1/1 [==============================] - ETA: 0s - loss: 0.6928 - accuracy: 0.5147\n",
      "Epoch 00002: val_accuracy did not improve\n",
      "1/1 [==============================] - 0s 199ms/step - loss: 0.6928 - accuracy: 0.5147 - val_loss: 0.6960 - val_accuracy: 0.4444 - lr: 0.0010\n",
      "Epoch 3/10\n",
      "1/1 [==============================] - ETA: 0s - loss: 0.6922 - accuracy: 0.5147\n",
      "Epoch 00003: val_accuracy did not improve\n",
      "1/1 [==============================] - 0s 150ms/step - loss: 0.6922 - accuracy: 0.5147 - val_loss: 0.6962 - val_accuracy: 0.4444 - lr: 0.0010\n",
      "Epoch 4/10\n",
      "1/1 [==============================] - ETA: 0s - loss: 0.6923 - accuracy: 0.5147\n",
      "Epoch 00004: val_accuracy did not improve\n",
      "1/1 [==============================] - 0s 195ms/step - loss: 0.6923 - accuracy: 0.5147 - val_loss: 0.6962 - val_accuracy: 0.4444 - lr: 0.0010\n",
      "Epoch 5/10\n",
      "1/1 [==============================] - ETA: 0s - loss: 0.6917 - accuracy: 0.5147\n",
      "Epoch 00005: val_accuracy did not improve\n",
      "1/1 [==============================] - 0s 189ms/step - loss: 0.6917 - accuracy: 0.5147 - val_loss: 0.6962 - val_accuracy: 0.4444 - lr: 1.0000e-04\n",
      "Epoch 6/10\n",
      "1/1 [==============================] - ETA: 0s - loss: 0.6932 - accuracy: 0.5147\n",
      "Epoch 00006: val_accuracy did not improve\n",
      "1/1 [==============================] - 0s 230ms/step - loss: 0.6932 - accuracy: 0.5147 - val_loss: 0.6963 - val_accuracy: 0.4444 - lr: 1.0000e-04\n",
      "Epoch 7/10\n",
      "1/1 [==============================] - ETA: 0s - loss: 0.6925 - accuracy: 0.5147\n",
      "Epoch 00007: val_accuracy did not improve\n",
      "1/1 [==============================] - 0s 158ms/step - loss: 0.6925 - accuracy: 0.5147 - val_loss: 0.6963 - val_accuracy: 0.4444 - lr: 1.0000e-04\n",
      "Epoch 8/10\n",
      "1/1 [==============================] - ETA: 0s - loss: 0.6917 - accuracy: 0.5147\n",
      "Epoch 00008: val_accuracy did not improve\n",
      "1/1 [==============================] - 0s 154ms/step - loss: 0.6917 - accuracy: 0.5147 - val_loss: 0.6963 - val_accuracy: 0.4444 - lr: 1.0000e-05\n",
      "Epoch 9/10\n",
      "1/1 [==============================] - ETA: 0s - loss: 0.6912 - accuracy: 0.5147\n",
      "Epoch 00009: val_accuracy did not improve\n",
      "1/1 [==============================] - 0s 257ms/step - loss: 0.6912 - accuracy: 0.5147 - val_loss: 0.6963 - val_accuracy: 0.4444 - lr: 1.0000e-05\n",
      "Epoch 10/10\n",
      "1/1 [==============================] - ETA: 0s - loss: 0.6937 - accuracy: 0.5147\n",
      "Epoch 00010: val_accuracy did not improve\n",
      "1/1 [==============================] - 0s 163ms/step - loss: 0.6937 - accuracy: 0.5147 - val_loss: 0.6963 - val_accuracy: 0.4444 - lr: 1.0000e-05\n",
      "Using epoch 00001 with val_accuracy: 0.44444\n",
      "\n",
      "\n",
      "1/1 [==============================] - 0s 50ms/step - loss: 0.6930 - accuracy: 0.5000\n"
     ]
    },
    {
     "name": "stderr",
     "output_type": "stream",
     "text": [
      "Best trial: 2. Best value: 1.05904:  24%|██▍       | 6/25 [01:09<03:33, 11.22s/it]"
     ]
    },
    {
     "name": "stdout",
     "output_type": "stream",
     "text": [
      "\n",
      "\n",
      "Adding metadata with 3 columns\n",
      "Epoch 1/10\n",
      "2/2 [==============================] - ETA: 0s - loss: 0.6963 - accuracy: 0.4853\n",
      "Epoch 00001: val_accuracy improved from -inf to 0.55556, storing weights.\n",
      "2/2 [==============================] - 7s 1s/step - loss: 0.6963 - accuracy: 0.4853 - val_loss: 0.6890 - val_accuracy: 0.5556 - lr: 0.0010\n",
      "Epoch 2/10\n",
      "2/2 [==============================] - ETA: 0s - loss: 0.6955 - accuracy: 0.4853\n",
      "Epoch 00002: val_accuracy did not improve\n",
      "2/2 [==============================] - 0s 134ms/step - loss: 0.6955 - accuracy: 0.4853 - val_loss: 0.6891 - val_accuracy: 0.5556 - lr: 0.0010\n",
      "Epoch 3/10\n",
      "2/2 [==============================] - ETA: 0s - loss: 0.6952 - accuracy: 0.4853\n",
      "Epoch 00003: val_accuracy did not improve\n",
      "2/2 [==============================] - 0s 142ms/step - loss: 0.6952 - accuracy: 0.4853 - val_loss: 0.6897 - val_accuracy: 0.5556 - lr: 0.0010\n",
      "Epoch 4/10\n",
      "2/2 [==============================] - ETA: 0s - loss: 0.6951 - accuracy: 0.4853\n",
      "Epoch 00004: val_accuracy did not improve\n",
      "2/2 [==============================] - 0s 138ms/step - loss: 0.6951 - accuracy: 0.4853 - val_loss: 0.6897 - val_accuracy: 0.5556 - lr: 0.0010\n",
      "Epoch 5/10\n",
      "2/2 [==============================] - ETA: 0s - loss: 0.6940 - accuracy: 0.4853\n",
      "Epoch 00005: val_accuracy did not improve\n",
      "2/2 [==============================] - 0s 166ms/step - loss: 0.6940 - accuracy: 0.4853 - val_loss: 0.6898 - val_accuracy: 0.5556 - lr: 1.0000e-04\n",
      "Epoch 6/10\n",
      "2/2 [==============================] - ETA: 0s - loss: 0.6947 - accuracy: 0.4853\n",
      "Epoch 00006: val_accuracy did not improve\n",
      "2/2 [==============================] - 0s 170ms/step - loss: 0.6947 - accuracy: 0.4853 - val_loss: 0.6898 - val_accuracy: 0.5556 - lr: 1.0000e-04\n",
      "Epoch 7/10\n",
      "2/2 [==============================] - ETA: 0s - loss: 0.6950 - accuracy: 0.4853\n",
      "Epoch 00007: val_accuracy did not improve\n",
      "2/2 [==============================] - 0s 183ms/step - loss: 0.6950 - accuracy: 0.4853 - val_loss: 0.6898 - val_accuracy: 0.5556 - lr: 1.0000e-04\n",
      "Epoch 8/10\n",
      "2/2 [==============================] - ETA: 0s - loss: 0.6940 - accuracy: 0.4853\n",
      "Epoch 00008: val_accuracy did not improve\n",
      "2/2 [==============================] - 0s 200ms/step - loss: 0.6940 - accuracy: 0.4853 - val_loss: 0.6898 - val_accuracy: 0.5556 - lr: 1.0000e-05\n",
      "Epoch 9/10\n",
      "2/2 [==============================] - ETA: 0s - loss: 0.6937 - accuracy: 0.4853\n",
      "Epoch 00009: val_accuracy did not improve\n",
      "2/2 [==============================] - 0s 141ms/step - loss: 0.6937 - accuracy: 0.4853 - val_loss: 0.6898 - val_accuracy: 0.5556 - lr: 1.0000e-05\n",
      "Epoch 10/10\n",
      "2/2 [==============================] - ETA: 0s - loss: 0.6947 - accuracy: 0.4853\n",
      "Epoch 00010: val_accuracy did not improve\n",
      "2/2 [==============================] - 0s 186ms/step - loss: 0.6947 - accuracy: 0.4853 - val_loss: 0.6898 - val_accuracy: 0.5556 - lr: 1.0000e-05\n",
      "Using epoch 00001 with val_accuracy: 0.55556\n",
      "\n",
      "\n",
      "1/1 [==============================] - 0s 61ms/step - loss: 0.6942 - accuracy: 0.5000\n"
     ]
    },
    {
     "name": "stderr",
     "output_type": "stream",
     "text": [
      "Best trial: 2. Best value: 1.05904:  28%|██▊       | 7/25 [01:20<03:24, 11.34s/it]"
     ]
    },
    {
     "name": "stdout",
     "output_type": "stream",
     "text": [
      "\n",
      "\n",
      "Adding metadata with 3 columns\n",
      "Epoch 1/10\n"
     ]
    },
    {
     "name": "stderr",
     "output_type": "stream",
     "text": [
      "Best trial: 2. Best value: 1.05904:  28%|██▊       | 7/25 [01:22<03:32, 11.80s/it]\n"
     ]
    }
   ],
   "source": [
    "for dataset in [FatigueMI]:\n",
    "    for model in [\"lstm_cnn_net\"]:\n",
    "        model_optimizer = ModelOptimizer(\n",
    "            dataset=dataset(),\n",
    "            model_name=model\n",
    "        )\n",
    "        for subject in range(1, 2):\n",
    "            max_epochs = MODELS_HYPERPARAMS_DICT[model][\"max_epochs\"]\n",
    "            study = model_optimizer.search_best_model(\n",
    "                subjects = [subject],\n",
    "                max_iter = 25,\n",
    "                max_epochs = max_epochs,\n",
    "                max_stag_count = 10,\n",
    "                rounds = 1,\n",
    "                replace_previous_study_for_subjects = False\n",
    "            )"
   ]
  },
  {
   "cell_type": "code",
   "execution_count": 9,
   "metadata": {},
   "outputs": [
    {
     "ename": "TypeError",
     "evalue": "'float' object is not subscriptable",
     "output_type": "error",
     "traceback": [
      "\u001b[0;31m---------------------------------------------------------------------------\u001b[0m",
      "\u001b[0;31mTypeError\u001b[0m                                 Traceback (most recent call last)",
      "Cell \u001b[0;32mIn[9], line 1\u001b[0m\n\u001b[0;32m----> 1\u001b[0m \u001b[43mmodel_optimizer\u001b[49m\u001b[38;5;241;43m.\u001b[39;49m\u001b[43mget_study_metrics\u001b[49m\u001b[43m(\u001b[49m\u001b[43mstudy\u001b[49m\u001b[43m)\u001b[49m\u001b[38;5;241m.\u001b[39msort_values(by\u001b[38;5;241m=\u001b[39m\u001b[38;5;124m\"\u001b[39m\u001b[38;5;124mscores\u001b[39m\u001b[38;5;124m\"\u001b[39m, ascending\u001b[38;5;241m=\u001b[39m\u001b[38;5;28;01mTrue\u001b[39;00m)\n",
      "File \u001b[0;32m~/Documents/GitHub/moabb_model_optimization/model_optimization_tests/model_optim/model_optimizer.py:591\u001b[0m, in \u001b[0;36mModelOptimizer.get_study_metrics\u001b[0;34m(self, study)\u001b[0m\n\u001b[1;32m    588\u001b[0m trial_user_attrs \u001b[38;5;241m=\u001b[39m trial\u001b[38;5;241m.\u001b[39muser_attrs_trial_data\n\u001b[1;32m    589\u001b[0m trial_metrics_dict[\u001b[38;5;124m\"\u001b[39m\u001b[38;5;124mscores\u001b[39m\u001b[38;5;124m\"\u001b[39m]\u001b[38;5;241m.\u001b[39mappend(trial\u001b[38;5;241m.\u001b[39mvalue)\n\u001b[1;32m    590\u001b[0m trial_metrics_dict[\u001b[38;5;124m\"\u001b[39m\u001b[38;5;124mtrain_acc\u001b[39m\u001b[38;5;124m\"\u001b[39m]\u001b[38;5;241m.\u001b[39mappend(\n\u001b[0;32m--> 591\u001b[0m     np\u001b[38;5;241m.\u001b[39mmax(\u001b[43mtrial_user_attrs\u001b[49m\u001b[43m[\u001b[49m\u001b[38;5;124;43m\"\u001b[39;49m\u001b[38;5;124;43mtrain_accuracy\u001b[39;49m\u001b[38;5;124;43m\"\u001b[39;49m\u001b[43m]\u001b[49m)\n\u001b[1;32m    592\u001b[0m )\n\u001b[1;32m    593\u001b[0m trial_metrics_dict[\u001b[38;5;124m\"\u001b[39m\u001b[38;5;124mtest_acc\u001b[39m\u001b[38;5;124m\"\u001b[39m]\u001b[38;5;241m.\u001b[39mappend(trial_user_attrs[\u001b[38;5;124m\"\u001b[39m\u001b[38;5;124mtest_accuracy\u001b[39m\u001b[38;5;124m\"\u001b[39m])\n\u001b[1;32m    594\u001b[0m trial_metrics_dict[\u001b[38;5;124m\"\u001b[39m\u001b[38;5;124mval_acc\u001b[39m\u001b[38;5;124m\"\u001b[39m]\u001b[38;5;241m.\u001b[39mappend(\n\u001b[1;32m    595\u001b[0m     np\u001b[38;5;241m.\u001b[39mmax(trial_user_attrs[\u001b[38;5;124m\"\u001b[39m\u001b[38;5;124mval_accuracy\u001b[39m\u001b[38;5;124m\"\u001b[39m])\n\u001b[1;32m    596\u001b[0m )\n",
      "\u001b[0;31mTypeError\u001b[0m: 'float' object is not subscriptable"
     ]
    }
   ],
   "source": [
    "model_optimizer.get_study_metrics(study).sort_values(by=\"scores\", ascending=True)"
   ]
  },
  {
   "cell_type": "code",
   "execution_count": 16,
   "metadata": {},
   "outputs": [
    {
     "data": {
      "text/html": [
       "<pre style=\"white-space:pre;overflow-x:auto;line-height:normal;font-family:Menlo,'DejaVu Sans Mono',consolas,'Courier New',monospace\"><span style=\"font-weight: bold\">{</span>\n",
       "<span style=\"color: #7fbf7f; text-decoration-color: #7fbf7f\">│   </span><span style=\"color: #008000; text-decoration-color: #008000\">'sfreq'</span>: <span style=\"color: #800080; text-decoration-color: #800080; font-style: italic\">None</span>,\n",
       "<span style=\"color: #7fbf7f; text-decoration-color: #7fbf7f\">│   </span><span style=\"color: #008000; text-decoration-color: #008000\">'batch_size'</span>: <span style=\"color: #008080; text-decoration-color: #008080; font-weight: bold\">96</span>,\n",
       "<span style=\"color: #7fbf7f; text-decoration-color: #7fbf7f\">│   </span><span style=\"color: #008000; text-decoration-color: #008000\">'conv2d_1_units'</span>: <span style=\"color: #008080; text-decoration-color: #008080; font-weight: bold\">48</span>,\n",
       "<span style=\"color: #7fbf7f; text-decoration-color: #7fbf7f\">│   </span><span style=\"color: #008000; text-decoration-color: #008000\">'conv2d_1_kernl_length'</span>: <span style=\"color: #008080; text-decoration-color: #008080; font-weight: bold\">112</span>,\n",
       "<span style=\"color: #7fbf7f; text-decoration-color: #7fbf7f\">│   </span><span style=\"color: #008000; text-decoration-color: #008000\">'pool_1_size'</span>: <span style=\"color: #008080; text-decoration-color: #008080; font-weight: bold\">8</span>,\n",
       "<span style=\"color: #7fbf7f; text-decoration-color: #7fbf7f\">│   </span><span style=\"color: #008000; text-decoration-color: #008000\">'conv2d_depth_multiplier'</span>: <span style=\"color: #008080; text-decoration-color: #008080; font-weight: bold\">6</span>,\n",
       "<span style=\"color: #7fbf7f; text-decoration-color: #7fbf7f\">│   </span><span style=\"color: #008000; text-decoration-color: #008000\">'conv2d_2_units'</span>: <span style=\"color: #008080; text-decoration-color: #008080; font-weight: bold\">8</span>,\n",
       "<span style=\"color: #7fbf7f; text-decoration-color: #7fbf7f\">│   </span><span style=\"color: #008000; text-decoration-color: #008000\">'conv2d_2_kernl_length'</span>: <span style=\"color: #008080; text-decoration-color: #008080; font-weight: bold\">80</span>,\n",
       "<span style=\"color: #7fbf7f; text-decoration-color: #7fbf7f\">│   </span><span style=\"color: #008000; text-decoration-color: #008000\">'pool_2_size'</span>: <span style=\"color: #008080; text-decoration-color: #008080; font-weight: bold\">8</span>,\n",
       "<span style=\"color: #7fbf7f; text-decoration-color: #7fbf7f\">│   </span><span style=\"color: #008000; text-decoration-color: #008000\">'l2_reg_1'</span>: <span style=\"color: #008080; text-decoration-color: #008080; font-weight: bold\">0.740752459966147</span>,\n",
       "<span style=\"color: #7fbf7f; text-decoration-color: #7fbf7f\">│   </span><span style=\"color: #008000; text-decoration-color: #008000\">'l2_reg_2'</span>: <span style=\"color: #008080; text-decoration-color: #008080; font-weight: bold\">0.04681844863244684</span>,\n",
       "<span style=\"color: #7fbf7f; text-decoration-color: #7fbf7f\">│   </span><span style=\"color: #008000; text-decoration-color: #008000\">'l2_reg_3'</span>: <span style=\"color: #008080; text-decoration-color: #008080; font-weight: bold\">0.5883776139841774</span>,\n",
       "<span style=\"color: #7fbf7f; text-decoration-color: #7fbf7f\">│   </span><span style=\"color: #008000; text-decoration-color: #008000\">'l2_reg_4'</span>: <span style=\"color: #008080; text-decoration-color: #008080; font-weight: bold\">0.6771641512697557</span>,\n",
       "<span style=\"color: #7fbf7f; text-decoration-color: #7fbf7f\">│   </span><span style=\"color: #008000; text-decoration-color: #008000\">'dropout_rate'</span>: <span style=\"color: #008080; text-decoration-color: #008080; font-weight: bold\">0.30000000000000004</span>\n",
       "<span style=\"font-weight: bold\">}</span>\n",
       "</pre>\n"
      ],
      "text/plain": [
       "\u001b[1m{\u001b[0m\n",
       "\u001b[2;32m│   \u001b[0m\u001b[32m'sfreq'\u001b[0m: \u001b[3;35mNone\u001b[0m,\n",
       "\u001b[2;32m│   \u001b[0m\u001b[32m'batch_size'\u001b[0m: \u001b[1;36m96\u001b[0m,\n",
       "\u001b[2;32m│   \u001b[0m\u001b[32m'conv2d_1_units'\u001b[0m: \u001b[1;36m48\u001b[0m,\n",
       "\u001b[2;32m│   \u001b[0m\u001b[32m'conv2d_1_kernl_length'\u001b[0m: \u001b[1;36m112\u001b[0m,\n",
       "\u001b[2;32m│   \u001b[0m\u001b[32m'pool_1_size'\u001b[0m: \u001b[1;36m8\u001b[0m,\n",
       "\u001b[2;32m│   \u001b[0m\u001b[32m'conv2d_depth_multiplier'\u001b[0m: \u001b[1;36m6\u001b[0m,\n",
       "\u001b[2;32m│   \u001b[0m\u001b[32m'conv2d_2_units'\u001b[0m: \u001b[1;36m8\u001b[0m,\n",
       "\u001b[2;32m│   \u001b[0m\u001b[32m'conv2d_2_kernl_length'\u001b[0m: \u001b[1;36m80\u001b[0m,\n",
       "\u001b[2;32m│   \u001b[0m\u001b[32m'pool_2_size'\u001b[0m: \u001b[1;36m8\u001b[0m,\n",
       "\u001b[2;32m│   \u001b[0m\u001b[32m'l2_reg_1'\u001b[0m: \u001b[1;36m0.740752459966147\u001b[0m,\n",
       "\u001b[2;32m│   \u001b[0m\u001b[32m'l2_reg_2'\u001b[0m: \u001b[1;36m0.04681844863244684\u001b[0m,\n",
       "\u001b[2;32m│   \u001b[0m\u001b[32m'l2_reg_3'\u001b[0m: \u001b[1;36m0.5883776139841774\u001b[0m,\n",
       "\u001b[2;32m│   \u001b[0m\u001b[32m'l2_reg_4'\u001b[0m: \u001b[1;36m0.6771641512697557\u001b[0m,\n",
       "\u001b[2;32m│   \u001b[0m\u001b[32m'dropout_rate'\u001b[0m: \u001b[1;36m0.30000000000000004\u001b[0m\n",
       "\u001b[1m}\u001b[0m\n"
      ]
     },
     "metadata": {},
     "output_type": "display_data"
    },
    {
     "data": {
      "text/html": [
       "<pre style=\"white-space:pre;overflow-x:auto;line-height:normal;font-family:Menlo,'DejaVu Sans Mono',consolas,'Courier New',monospace\">test_accuracy = <span style=\"color: #008080; text-decoration-color: #008080; font-weight: bold\">0.5</span>\n",
       "</pre>\n"
      ],
      "text/plain": [
       "test_accuracy = \u001b[1;36m0.5\u001b[0m\n"
      ]
     },
     "metadata": {},
     "output_type": "display_data"
    },
    {
     "data": {
      "text/html": [
       "<pre style=\"white-space:pre;overflow-x:auto;line-height:normal;font-family:Menlo,'DejaVu Sans Mono',consolas,'Courier New',monospace\">val_accuracy = <span style=\"color: #008080; text-decoration-color: #008080; font-weight: bold\">0.6111111044883728</span>\n",
       "</pre>\n"
      ],
      "text/plain": [
       "val_accuracy = \u001b[1;36m0.6111111044883728\u001b[0m\n"
      ]
     },
     "metadata": {},
     "output_type": "display_data"
    },
    {
     "data": {
      "text/html": [
       "<pre style=\"white-space:pre;overflow-x:auto;line-height:normal;font-family:Menlo,'DejaVu Sans Mono',consolas,'Courier New',monospace\">channels_selected = <span style=\"font-weight: bold\">[</span><span style=\"color: #008000; text-decoration-color: #008000\">'P3'</span> <span style=\"color: #008000; text-decoration-color: #008000\">'C3'</span> <span style=\"color: #008000; text-decoration-color: #008000\">'F3'</span> <span style=\"color: #008000; text-decoration-color: #008000\">'Fz'</span> <span style=\"color: #008000; text-decoration-color: #008000\">'P4'</span> <span style=\"color: #008000; text-decoration-color: #008000\">'Cz'</span> <span style=\"color: #008000; text-decoration-color: #008000\">'Fp1'</span> <span style=\"color: #008000; text-decoration-color: #008000\">'T3'</span> <span style=\"color: #008000; text-decoration-color: #008000\">'O1'</span> <span style=\"color: #008000; text-decoration-color: #008000\">'F8'</span> <span style=\"color: #008000; text-decoration-color: #008000\">'T6'</span> <span style=\"color: #008000; text-decoration-color: #008000\">'T4'</span><span style=\"font-weight: bold\">]</span>\n",
       "</pre>\n"
      ],
      "text/plain": [
       "channels_selected = \u001b[1m[\u001b[0m\u001b[32m'P3'\u001b[0m \u001b[32m'C3'\u001b[0m \u001b[32m'F3'\u001b[0m \u001b[32m'Fz'\u001b[0m \u001b[32m'P4'\u001b[0m \u001b[32m'Cz'\u001b[0m \u001b[32m'Fp1'\u001b[0m \u001b[32m'T3'\u001b[0m \u001b[32m'O1'\u001b[0m \u001b[32m'F8'\u001b[0m \u001b[32m'T6'\u001b[0m \u001b[32m'T4'\u001b[0m\u001b[1m]\u001b[0m\n"
      ]
     },
     "metadata": {},
     "output_type": "display_data"
    }
   ],
   "source": [
    "rpprint({ k: v for k, v in study.best_trial.params.items() if not k.startswith(\"channels\") })\n",
    "rprint(\"test_accuracy =\", study.best_trial.user_attrs[\"trial_data\"][\"test_accuracy\"])\n",
    "rprint(\"val_accuracy =\", np.max(study.best_trial.user_attrs[\"trial_data\"][\"val_accuracy\"]))\n",
    "rprint(\"channels_selected =\", study.best_trial.user_attrs[\"trial_data\"][\"channels_selected\"])"
   ]
  }
 ],
 "metadata": {
  "kernelspec": {
   "display_name": "moabb_model_optimization_quant",
   "language": "python",
   "name": "python3"
  },
  "language_info": {
   "codemirror_mode": {
    "name": "ipython",
    "version": 3
   },
   "file_extension": ".py",
   "mimetype": "text/x-python",
   "name": "python",
   "nbconvert_exporter": "python",
   "pygments_lexer": "ipython3",
   "version": "3.11.8"
  }
 },
 "nbformat": 4,
 "nbformat_minor": 2
}
