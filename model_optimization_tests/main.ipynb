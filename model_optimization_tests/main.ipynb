{
 "cells": [
  {
   "cell_type": "code",
   "execution_count": 2,
   "metadata": {},
   "outputs": [
    {
     "name": "stdout",
     "output_type": "stream",
     "text": [
      "The autoreload extension is already loaded. To reload it, use:\n",
      "  %reload_ext autoreload\n"
     ]
    }
   ],
   "source": [
    "# region General Imports\n",
    "import os\n",
    "import uuid\n",
    "import shutil\n",
    "import time\n",
    "import random\n",
    "import datetime\n",
    "import glob\n",
    "import pickle\n",
    "import tqdm\n",
    "import copy\n",
    "import optuna\n",
    "import numpy as np\n",
    "import pandas as pd\n",
    "import scipy as sp\n",
    "import matplotlib.pyplot as plt\n",
    "import seaborn as sns\n",
    "import mne\n",
    "from rich import print as rprint\n",
    "from rich.pretty import pprint as rpprint\n",
    "from tqdm import tqdm\n",
    "from itertools import chain\n",
    "from functools import partial\n",
    "# endregion General Imports\n",
    "\n",
    "from model_optim.model_optimizer import ModelOptimizer\n",
    "\n",
    "# Dataset\n",
    "from custom_datasets.fatigue_mi import FatigueMI\n",
    "\n",
    "%load_ext autoreload\n",
    "%autoreload 3"
   ]
  },
  {
   "cell_type": "code",
   "execution_count": 27,
   "metadata": {},
   "outputs": [
    {
     "data": {
      "text/html": [
       "<pre style=\"white-space:pre;overflow-x:auto;line-height:normal;font-family:Menlo,'DejaVu Sans Mono',consolas,'Courier New',monospace\"><span style=\"font-weight: bold\">{</span>\n",
       "<span style=\"color: #7fbf7f; text-decoration-color: #7fbf7f\">│   </span><span style=\"color: #008000; text-decoration-color: #008000\">'sfreq'</span>: <span style=\"color: #008080; text-decoration-color: #008080; font-weight: bold\">300</span>,\n",
       "<span style=\"color: #7fbf7f; text-decoration-color: #7fbf7f\">│   </span><span style=\"color: #008000; text-decoration-color: #008000\">'batch_size'</span>: <span style=\"color: #008080; text-decoration-color: #008080; font-weight: bold\">160</span>,\n",
       "<span style=\"color: #7fbf7f; text-decoration-color: #7fbf7f\">│   </span><span style=\"color: #008000; text-decoration-color: #008000\">'val_acc'</span>: <span style=\"color: #008080; text-decoration-color: #008080; font-weight: bold\">0.8333333134651184</span>,\n",
       "<span style=\"color: #7fbf7f; text-decoration-color: #7fbf7f\">│   </span><span style=\"color: #008000; text-decoration-color: #008000\">'test_acc'</span>: <span style=\"color: #008080; text-decoration-color: #008080; font-weight: bold\">0.8636363744735718</span>,\n",
       "<span style=\"color: #7fbf7f; text-decoration-color: #7fbf7f\">│   </span><span style=\"color: #008000; text-decoration-color: #008000\">'channels'</span>: <span style=\"color: #800080; text-decoration-color: #800080; font-weight: bold\">array</span><span style=\"font-weight: bold\">([</span><span style=\"color: #008000; text-decoration-color: #008000\">'Fz'</span>, <span style=\"color: #008000; text-decoration-color: #008000\">'C4'</span>, <span style=\"color: #008000; text-decoration-color: #008000\">'Fp2'</span>, <span style=\"color: #008000; text-decoration-color: #008000\">'T5'</span>, <span style=\"color: #008000; text-decoration-color: #008000\">'O2'</span>, <span style=\"color: #008000; text-decoration-color: #008000\">'F7'</span>, <span style=\"color: #008000; text-decoration-color: #008000\">'F8'</span>, <span style=\"color: #008000; text-decoration-color: #008000\">'A2'</span>, <span style=\"color: #008000; text-decoration-color: #008000\">'T6'</span>, <span style=\"color: #008000; text-decoration-color: #008000\">'T4'</span><span style=\"font-weight: bold\">]</span>,\n",
       "<span style=\"color: #7fbf7f; text-decoration-color: #7fbf7f\">│     </span><span style=\"color: #808000; text-decoration-color: #808000\">dtype</span>=<span style=\"color: #008000; text-decoration-color: #008000\">'&lt;U3'</span><span style=\"font-weight: bold\">)</span>\n",
       "<span style=\"font-weight: bold\">}</span>\n",
       "</pre>\n"
      ],
      "text/plain": [
       "\u001b[1m{\u001b[0m\n",
       "\u001b[2;32m│   \u001b[0m\u001b[32m'sfreq'\u001b[0m: \u001b[1;36m300\u001b[0m,\n",
       "\u001b[2;32m│   \u001b[0m\u001b[32m'batch_size'\u001b[0m: \u001b[1;36m160\u001b[0m,\n",
       "\u001b[2;32m│   \u001b[0m\u001b[32m'val_acc'\u001b[0m: \u001b[1;36m0.8333333134651184\u001b[0m,\n",
       "\u001b[2;32m│   \u001b[0m\u001b[32m'test_acc'\u001b[0m: \u001b[1;36m0.8636363744735718\u001b[0m,\n",
       "\u001b[2;32m│   \u001b[0m\u001b[32m'channels'\u001b[0m: \u001b[1;35marray\u001b[0m\u001b[1m(\u001b[0m\u001b[1m[\u001b[0m\u001b[32m'Fz'\u001b[0m, \u001b[32m'C4'\u001b[0m, \u001b[32m'Fp2'\u001b[0m, \u001b[32m'T5'\u001b[0m, \u001b[32m'O2'\u001b[0m, \u001b[32m'F7'\u001b[0m, \u001b[32m'F8'\u001b[0m, \u001b[32m'A2'\u001b[0m, \u001b[32m'T6'\u001b[0m, \u001b[32m'T4'\u001b[0m\u001b[1m]\u001b[0m,\n",
       "\u001b[2;32m│     \u001b[0m\u001b[33mdtype\u001b[0m=\u001b[32m'<U3'\u001b[0m\u001b[1m)\u001b[0m\n",
       "\u001b[1m}\u001b[0m\n"
      ]
     },
     "metadata": {},
     "output_type": "display_data"
    }
   ],
   "source": [
    "# np.load(\"./bkup/best_subjects_search_results/subject_6_shallow_conv_net_7b71b3b6-52f7-435c-be85-2cb99e793f98.npy\", allow_pickle=True).item().user_attrs['trial_data']\n",
    "\n",
    "prev_best_full = np.load(\"./_temp/[1]/292cbc92b8cf46da9986fe7d8447819f/model/study_best_trial.npy\", allow_pickle=True).item()\n",
    "# prev_best_full = np.load(\"./_temp/[2]/6405d11e654b42aca9df48458c67ecde/model/study_best_trial.npy\", allow_pickle=True).item()\n",
    "# prev_best_full = np.load(\"./_temp/[3]/9c1b753483db409a90eab7b7149b8af8/model/study_best_trial.npy\", allow_pickle=True).item()\n",
    "prev_best = prev_best_full.user_attrs['trial_data']\n",
    "\n",
    "rpprint({\n",
    "    \"sfreq\": prev_best_full.params[\"sfreq\"],\n",
    "    \"batch_size\": prev_best_full.params[\"batch_size\"],\n",
    "    \"val_acc\": np.max(prev_best[\"val_accuracy\"]),\n",
    "    \"test_acc\": prev_best[\"test_accuracy\"],\n",
    "    \"channels\": prev_best[\"channels_selected\"],\n",
    "})"
   ]
  },
  {
   "cell_type": "code",
   "execution_count": 4,
   "metadata": {},
   "outputs": [],
   "source": [
    "model_optimizer = ModelOptimizer(\n",
    "    dataset=FatigueMI(),\n",
    "    model_name=\"shallow_conv_net\"\n",
    ")"
   ]
  },
  {
   "cell_type": "code",
   "execution_count": 5,
   "metadata": {},
   "outputs": [
    {
     "name": "stderr",
     "output_type": "stream",
     "text": [
      "  0%|          | 0/25 [00:00<?, ?it/s]"
     ]
    },
    {
     "name": "stdout",
     "output_type": "stream",
     "text": [
      "Adding metadata with 3 columns\n"
     ]
    },
    {
     "name": "stderr",
     "output_type": "stream",
     "text": [
      "2024-03-07 20:07:55.496698: I external/local_xla/xla/stream_executor/cuda/cuda_executor.cc:887] could not open file to read NUMA node: /sys/bus/pci/devices/0000:01:00.0/numa_node\n",
      "Your kernel may have been built without NUMA support.\n",
      "2024-03-07 20:07:55.520511: I external/local_xla/xla/stream_executor/cuda/cuda_executor.cc:887] could not open file to read NUMA node: /sys/bus/pci/devices/0000:01:00.0/numa_node\n",
      "Your kernel may have been built without NUMA support.\n",
      "2024-03-07 20:07:55.520576: I external/local_xla/xla/stream_executor/cuda/cuda_executor.cc:887] could not open file to read NUMA node: /sys/bus/pci/devices/0000:01:00.0/numa_node\n",
      "Your kernel may have been built without NUMA support.\n",
      "2024-03-07 20:07:55.523689: I external/local_xla/xla/stream_executor/cuda/cuda_executor.cc:887] could not open file to read NUMA node: /sys/bus/pci/devices/0000:01:00.0/numa_node\n",
      "Your kernel may have been built without NUMA support.\n",
      "2024-03-07 20:07:55.523821: I external/local_xla/xla/stream_executor/cuda/cuda_executor.cc:887] could not open file to read NUMA node: /sys/bus/pci/devices/0000:01:00.0/numa_node\n",
      "Your kernel may have been built without NUMA support.\n",
      "2024-03-07 20:07:55.523868: I external/local_xla/xla/stream_executor/cuda/cuda_executor.cc:887] could not open file to read NUMA node: /sys/bus/pci/devices/0000:01:00.0/numa_node\n",
      "Your kernel may have been built without NUMA support.\n",
      "2024-03-07 20:07:57.306022: I external/local_xla/xla/stream_executor/cuda/cuda_executor.cc:887] could not open file to read NUMA node: /sys/bus/pci/devices/0000:01:00.0/numa_node\n",
      "Your kernel may have been built without NUMA support.\n",
      "2024-03-07 20:07:57.306133: I external/local_xla/xla/stream_executor/cuda/cuda_executor.cc:887] could not open file to read NUMA node: /sys/bus/pci/devices/0000:01:00.0/numa_node\n",
      "Your kernel may have been built without NUMA support.\n",
      "2024-03-07 20:07:57.306143: I tensorflow/core/common_runtime/gpu/gpu_device.cc:2022] Could not identify NUMA node of platform GPU id 0, defaulting to 0.  Your kernel may not have been built with NUMA support.\n",
      "2024-03-07 20:07:57.306201: I external/local_xla/xla/stream_executor/cuda/cuda_executor.cc:887] could not open file to read NUMA node: /sys/bus/pci/devices/0000:01:00.0/numa_node\n",
      "Your kernel may have been built without NUMA support.\n",
      "2024-03-07 20:07:57.306221: I tensorflow/core/common_runtime/gpu/gpu_device.cc:1929] Created device /job:localhost/replica:0/task:0/device:GPU:0 with 6593 MB memory:  -> device: 0, name: NVIDIA GeForce GTX 1070, pci bus id: 0000:01:00.0, compute capability: 6.1\n"
     ]
    },
    {
     "name": "stdout",
     "output_type": "stream",
     "text": [
      "Epoch 1/5\n"
     ]
    },
    {
     "name": "stderr",
     "output_type": "stream",
     "text": [
      "2024-03-07 20:07:58.409338: E tensorflow/core/grappler/optimizers/meta_optimizer.cc:961] layout failed: INVALID_ARGUMENT: Size of values 0 does not match size of permutation 4 @ fanin shape inmodel/dropout/dropout/SelectV2-2-TransposeNHWCToNCHW-LayoutOptimizer\n",
      "2024-03-07 20:07:59.534754: I external/local_xla/xla/stream_executor/cuda/cuda_dnn.cc:454] Loaded cuDNN version 8907\n",
      "2024-03-07 20:08:00.422877: I external/local_tsl/tsl/platform/default/subprocess.cc:304] Start cannot spawn child process: No such file or directory\n",
      "2024-03-07 20:08:00.863993: I external/local_tsl/tsl/platform/default/subprocess.cc:304] Start cannot spawn child process: No such file or directory\n",
      "2024-03-07 20:08:02.066783: I external/local_xla/xla/service/service.cc:168] XLA service 0x7f2f4fe50cf0 initialized for platform CUDA (this does not guarantee that XLA will be used). Devices:\n",
      "2024-03-07 20:08:02.066861: I external/local_xla/xla/service/service.cc:176]   StreamExecutor device (0): NVIDIA GeForce GTX 1070, Compute Capability 6.1\n",
      "2024-03-07 20:08:02.072817: I tensorflow/compiler/mlir/tensorflow/utils/dump_mlir_util.cc:269] disabling MLIR crash reproducer, set env var `MLIR_CRASH_REPRODUCER_DIRECTORY` to enable.\n",
      "WARNING: All log messages before absl::InitializeLog() is called are written to STDERR\n",
      "I0000 00:00:1709867282.112497 1216866 device_compiler.h:186] Compiled cluster using XLA!  This line is logged at most once for the lifetime of the process.\n"
     ]
    },
    {
     "name": "stdout",
     "output_type": "stream",
     "text": [
      "2/2 [==============================] - ETA: 0s - loss: 41.2015 - accuracy: 0.5000\n",
      "Epoch 00001: val_accuracy improved from -inf to 0.38889, storing weights.\n",
      "2/2 [==============================] - 6s 505ms/step - loss: 41.2015 - accuracy: 0.5000 - val_loss: 42.5344 - val_accuracy: 0.3889 - lr: 0.0010\n",
      "Epoch 2/5\n",
      "1/2 [==============>...............] - ETA: 0s - loss: 60.8320 - accuracy: 0.4844\n",
      "Epoch 00002: val_accuracy improved from 0.38889 to 0.55556, storing weights.\n",
      "2/2 [==============================] - 0s 45ms/step - loss: 59.0892 - accuracy: 0.5000 - val_loss: 40.9174 - val_accuracy: 0.5556 - lr: 0.0010\n",
      "Epoch 3/5\n",
      "1/2 [==============>...............] - ETA: 0s - loss: 56.9628 - accuracy: 0.5312\n",
      "Epoch 00003: val_accuracy did not improve\n",
      "2/2 [==============================] - 0s 47ms/step - loss: 55.2006 - accuracy: 0.5441 - val_loss: 28.0681 - val_accuracy: 0.3333 - lr: 0.0010\n",
      "Epoch 4/5\n",
      "1/2 [==============>...............] - ETA: 0s - loss: 27.4810 - accuracy: 0.6094\n",
      "Epoch 00004: val_accuracy did not improve\n",
      "2/2 [==============================] - 0s 44ms/step - loss: 27.2786 - accuracy: 0.6324 - val_loss: 30.5768 - val_accuracy: 0.5556 - lr: 0.0010\n",
      "Epoch 5/5\n",
      "1/2 [==============>...............] - ETA: 0s - loss: 34.7439 - accuracy: 0.5000\n",
      "Epoch 00005: val_accuracy did not improve\n",
      "2/2 [==============================] - 0s 43ms/step - loss: 33.9887 - accuracy: 0.5294 - val_loss: 25.5927 - val_accuracy: 0.3889 - lr: 0.0010\n",
      "Using epoch 00002 with val_accuracy: 0.55556\n",
      "\n",
      "\n",
      "1/1 [==============================] - 0s 178ms/step - loss: 46.4321 - accuracy: 0.4545\n"
     ]
    },
    {
     "name": "stderr",
     "output_type": "stream",
     "text": [
      "Best trial: 0. Best value: 26.5931:   4%|▍         | 1/25 [00:09<03:46,  9.43s/it]"
     ]
    },
    {
     "name": "stdout",
     "output_type": "stream",
     "text": [
      "\n",
      "\n",
      "Adding metadata with 3 columns\n",
      "Epoch 1/5\n",
      "1/1 [==============================] - ETA: 0s - loss: 91.6656 - accuracy: 0.4706\n",
      "Epoch 00001: val_accuracy improved from -inf to 0.72222, storing weights.\n",
      "1/1 [==============================] - 3s 3s/step - loss: 91.6656 - accuracy: 0.4706 - val_loss: 72.7713 - val_accuracy: 0.7222 - lr: 0.0010\n",
      "Epoch 2/5\n",
      "1/1 [==============================] - ETA: 0s - loss: 75.7415 - accuracy: 0.5147\n",
      "Epoch 00002: val_accuracy did not improve\n",
      "1/1 [==============================] - 0s 83ms/step - loss: 75.7415 - accuracy: 0.5147 - val_loss: 71.2597 - val_accuracy: 0.1667 - lr: 0.0010\n",
      "Epoch 3/5\n",
      "1/1 [==============================] - ETA: 0s - loss: 72.5776 - accuracy: 0.5147\n",
      "Epoch 00003: val_accuracy did not improve\n",
      "1/1 [==============================] - 0s 91ms/step - loss: 72.5776 - accuracy: 0.5147 - val_loss: 56.4896 - val_accuracy: 0.5000 - lr: 0.0010\n",
      "Epoch 4/5\n",
      "1/1 [==============================] - ETA: 0s - loss: 56.6729 - accuracy: 0.5441\n",
      "Epoch 00004: val_accuracy did not improve\n",
      "1/1 [==============================] - 0s 82ms/step - loss: 56.6729 - accuracy: 0.5441 - val_loss: 51.5659 - val_accuracy: 0.2222 - lr: 0.0010\n",
      "Epoch 5/5\n",
      "1/1 [==============================] - ETA: 0s - loss: 51.3173 - accuracy: 0.5588\n",
      "Epoch 00005: val_accuracy did not improve\n",
      "1/1 [==============================] - 0s 77ms/step - loss: 51.3173 - accuracy: 0.5588 - val_loss: 46.6256 - val_accuracy: 0.7222 - lr: 0.0010\n",
      "Using epoch 00001 with val_accuracy: 0.72222\n",
      "\n",
      "\n",
      "1/1 [==============================] - 0s 226ms/step - loss: 73.6676 - accuracy: 0.4091\n"
     ]
    },
    {
     "name": "stderr",
     "output_type": "stream",
     "text": [
      "Best trial: 0. Best value: 26.5931:   8%|▊         | 2/25 [00:13<02:23,  6.24s/it]"
     ]
    },
    {
     "name": "stdout",
     "output_type": "stream",
     "text": [
      "\n",
      "\n",
      "Adding metadata with 3 columns\n",
      "Epoch 1/5\n",
      "2/2 [==============================] - ETA: 0s - loss: 11.1631 - accuracy: 0.5147\n",
      "Epoch 00001: val_accuracy improved from -inf to 0.61111, storing weights.\n",
      "2/2 [==============================] - 3s 585ms/step - loss: 11.1631 - accuracy: 0.5147 - val_loss: 7.0459 - val_accuracy: 0.6111 - lr: 0.0010\n",
      "Epoch 2/5\n",
      "1/2 [==============>...............] - ETA: 0s - loss: 9.6550 - accuracy: 0.5156\n",
      "Epoch 00002: val_accuracy did not improve\n",
      "2/2 [==============================] - 0s 45ms/step - loss: 9.4748 - accuracy: 0.5147 - val_loss: 6.1237 - val_accuracy: 0.3889 - lr: 0.0010\n",
      "Epoch 3/5\n",
      "1/2 [==============>...............] - ETA: 0s - loss: 5.7170 - accuracy: 0.8125\n",
      "Epoch 00003: val_accuracy improved from 0.61111 to 0.72222, storing weights.\n",
      "2/2 [==============================] - 0s 61ms/step - loss: 5.7115 - accuracy: 0.8088 - val_loss: 5.3580 - val_accuracy: 0.7222 - lr: 0.0010\n",
      "Epoch 4/5\n",
      "1/2 [==============>...............] - ETA: 0s - loss: 5.6332 - accuracy: 0.5938\n",
      "Epoch 00004: val_accuracy did not improve\n",
      "2/2 [==============================] - 0s 50ms/step - loss: 5.5712 - accuracy: 0.6176 - val_loss: 6.7263 - val_accuracy: 0.3889 - lr: 0.0010\n",
      "Epoch 5/5\n",
      "1/2 [==============>...............] - ETA: 0s - loss: 6.3338 - accuracy: 0.5625\n",
      "Epoch 00005: val_accuracy did not improve\n",
      "2/2 [==============================] - 0s 43ms/step - loss: 6.2041 - accuracy: 0.5882 - val_loss: 4.4737 - val_accuracy: 0.7222 - lr: 0.0010\n",
      "Using epoch 00003 with val_accuracy: 0.72222\n",
      "\n",
      "\n",
      "1/1 [==============================] - 0s 216ms/step - loss: 5.5752 - accuracy: 0.5455\n"
     ]
    },
    {
     "name": "stderr",
     "output_type": "stream",
     "text": [
      "Best trial: 2. Best value: 4.47435:  12%|█▏        | 3/25 [00:17<01:55,  5.23s/it]"
     ]
    },
    {
     "name": "stdout",
     "output_type": "stream",
     "text": [
      "\n",
      "\n",
      "Adding metadata with 3 columns\n",
      "Epoch 1/5\n"
     ]
    },
    {
     "name": "stderr",
     "output_type": "stream",
     "text": [
      "2024-03-07 20:08:13.922233: W external/local_tsl/tsl/framework/bfc_allocator.cc:296] Allocator (GPU_0_bfc) ran out of memory trying to allocate 7.72GiB with freed_by_count=0. The caller indicates that this is not a failure, but this may mean that there could be performance gains if more memory were available.\n",
      "2024-03-07 20:08:14.041107: W external/local_tsl/tsl/framework/bfc_allocator.cc:296] Allocator (GPU_0_bfc) ran out of memory trying to allocate 7.72GiB with freed_by_count=0. The caller indicates that this is not a failure, but this may mean that there could be performance gains if more memory were available.\n"
     ]
    },
    {
     "name": "stdout",
     "output_type": "stream",
     "text": [
      "1/1 [==============================] - ETA: 0s - loss: 93.8036 - accuracy: 0.4706\n",
      "Epoch 00001: val_accuracy improved from -inf to 0.50000, storing weights.\n",
      "1/1 [==============================] - 2s 2s/step - loss: 93.8036 - accuracy: 0.4706 - val_loss: 72.3986 - val_accuracy: 0.5000 - lr: 0.0010\n",
      "Epoch 2/5\n",
      "1/1 [==============================] - ETA: 0s - loss: 72.8642 - accuracy: 0.5441\n",
      "Epoch 00002: val_accuracy did not improve\n",
      "1/1 [==============================] - 0s 67ms/step - loss: 72.8642 - accuracy: 0.5441 - val_loss: 63.0667 - val_accuracy: 0.2778 - lr: 0.0010\n",
      "Epoch 3/5\n",
      "1/1 [==============================] - ETA: 0s - loss: 64.4731 - accuracy: 0.3824\n",
      "Epoch 00003: val_accuracy improved from 0.50000 to 0.66667, storing weights.\n",
      "1/1 [==============================] - 0s 68ms/step - loss: 64.4731 - accuracy: 0.3824 - val_loss: 55.8871 - val_accuracy: 0.6667 - lr: 0.0010\n",
      "Epoch 4/5\n"
     ]
    },
    {
     "name": "stderr",
     "output_type": "stream",
     "text": [
      "2024-03-07 20:08:14.697925: W external/local_tsl/tsl/framework/bfc_allocator.cc:296] Allocator (GPU_0_bfc) ran out of memory trying to allocate 7.25GiB with freed_by_count=0. The caller indicates that this is not a failure, but this may mean that there could be performance gains if more memory were available.\n",
      "2024-03-07 20:08:14.730359: W external/local_tsl/tsl/framework/bfc_allocator.cc:296] Allocator (GPU_0_bfc) ran out of memory trying to allocate 7.25GiB with freed_by_count=0. The caller indicates that this is not a failure, but this may mean that there could be performance gains if more memory were available.\n"
     ]
    },
    {
     "name": "stdout",
     "output_type": "stream",
     "text": [
      "1/1 [==============================] - ETA: 0s - loss: 57.2492 - accuracy: 0.4559\n",
      "Epoch 00004: val_accuracy did not improve\n",
      "1/1 [==============================] - 0s 68ms/step - loss: 57.2492 - accuracy: 0.4559 - val_loss: 50.4621 - val_accuracy: 0.4444 - lr: 0.0010\n",
      "Epoch 5/5\n",
      "1/1 [==============================] - ETA: 0s - loss: 51.1991 - accuracy: 0.4853\n",
      "Epoch 00005: val_accuracy did not improve\n",
      "1/1 [==============================] - 0s 66ms/step - loss: 51.1991 - accuracy: 0.4853 - val_loss: 45.7803 - val_accuracy: 0.5000 - lr: 0.0010\n",
      "Using epoch 00003 with val_accuracy: 0.66667\n",
      "\n",
      "\n",
      "1/1 [==============================] - 0s 172ms/step - loss: 55.9193 - accuracy: 0.5909\n"
     ]
    },
    {
     "name": "stderr",
     "output_type": "stream",
     "text": [
      "2024-03-07 20:08:15.212708: W external/local_tsl/tsl/framework/bfc_allocator.cc:296] Allocator (GPU_0_bfc) ran out of memory trying to allocate 7.54GiB with freed_by_count=0. The caller indicates that this is not a failure, but this may mean that there could be performance gains if more memory were available.\n",
      "2024-03-07 20:08:15.247018: W external/local_tsl/tsl/framework/bfc_allocator.cc:296] Allocator (GPU_0_bfc) ran out of memory trying to allocate 7.54GiB with freed_by_count=0. The caller indicates that this is not a failure, but this may mean that there could be performance gains if more memory were available.\n",
      "Best trial: 2. Best value: 4.47435:  16%|█▌        | 4/25 [00:20<01:32,  4.41s/it]"
     ]
    },
    {
     "name": "stdout",
     "output_type": "stream",
     "text": [
      "\n",
      "\n",
      "Sampling frequency of the instance is already 300.0, returning unmodified.\n",
      "Adding metadata with 3 columns\n",
      "Epoch 1/5\n",
      "1/1 [==============================] - ETA: 0s - loss: 104.9301 - accuracy: 0.5000\n",
      "Epoch 00001: val_accuracy improved from -inf to 0.61111, storing weights.\n",
      "1/1 [==============================] - 3s 3s/step - loss: 104.9301 - accuracy: 0.5000 - val_loss: 86.3327 - val_accuracy: 0.6111 - lr: 0.0010\n",
      "Epoch 2/5\n",
      "1/1 [==============================] - ETA: 0s - loss: 86.2128 - accuracy: 0.6471\n",
      "Epoch 00002: val_accuracy did not improve\n",
      "1/1 [==============================] - 0s 90ms/step - loss: 86.2128 - accuracy: 0.6471 - val_loss: 80.6794 - val_accuracy: 0.4444 - lr: 0.0010\n",
      "Epoch 3/5\n",
      "1/1 [==============================] - ETA: 0s - loss: 79.7117 - accuracy: 0.5000\n",
      "Epoch 00003: val_accuracy did not improve\n",
      "1/1 [==============================] - 0s 100ms/step - loss: 79.7117 - accuracy: 0.5000 - val_loss: 67.8204 - val_accuracy: 0.6111 - lr: 0.0010\n",
      "Epoch 4/5\n",
      "1/1 [==============================] - ETA: 0s - loss: 67.1935 - accuracy: 0.6471\n",
      "Epoch 00004: val_accuracy did not improve\n",
      "1/1 [==============================] - 0s 105ms/step - loss: 67.1935 - accuracy: 0.6471 - val_loss: 61.6692 - val_accuracy: 0.4444 - lr: 0.0010\n",
      "Epoch 5/5\n",
      "1/1 [==============================] - ETA: 0s - loss: 60.9852 - accuracy: 0.5294\n",
      "Epoch 00005: val_accuracy did not improve\n",
      "1/1 [==============================] - 0s 95ms/step - loss: 60.9852 - accuracy: 0.5294 - val_loss: 56.5994 - val_accuracy: 0.6111 - lr: 0.0010\n",
      "Using epoch 00001 with val_accuracy: 0.61111\n",
      "\n",
      "\n",
      "1/1 [==============================] - 0s 244ms/step - loss: 86.4971 - accuracy: 0.4545\n"
     ]
    },
    {
     "name": "stderr",
     "output_type": "stream",
     "text": [
      "Best trial: 2. Best value: 4.47435:  20%|██        | 5/25 [00:24<01:25,  4.27s/it]"
     ]
    },
    {
     "name": "stdout",
     "output_type": "stream",
     "text": [
      "\n",
      "\n",
      "Adding metadata with 3 columns\n",
      "Epoch 1/5\n",
      "1/1 [==============================] - ETA: 0s - loss: 10.9009 - accuracy: 0.4706\n",
      "Epoch 00001: val_accuracy improved from -inf to 0.16667, storing weights.\n",
      "1/1 [==============================] - 2s 2s/step - loss: 10.9009 - accuracy: 0.4706 - val_loss: 9.2894 - val_accuracy: 0.1667 - lr: 0.0010\n",
      "Epoch 2/5\n",
      "1/1 [==============================] - ETA: 0s - loss: 9.3469 - accuracy: 0.5000\n",
      "Epoch 00002: val_accuracy improved from 0.16667 to 0.83333, storing weights.\n",
      "1/1 [==============================] - 0s 52ms/step - loss: 9.3469 - accuracy: 0.5000 - val_loss: 8.1375 - val_accuracy: 0.8333 - lr: 0.0010\n",
      "Epoch 3/5\n",
      "1/1 [==============================] - ETA: 0s - loss: 8.7588 - accuracy: 0.5147\n",
      "Epoch 00003: val_accuracy did not improve\n",
      "1/1 [==============================] - 0s 48ms/step - loss: 8.7588 - accuracy: 0.5147 - val_loss: 8.0657 - val_accuracy: 0.3333 - lr: 0.0010\n",
      "Epoch 4/5\n",
      "1/1 [==============================] - ETA: 0s - loss: 8.0967 - accuracy: 0.4853\n",
      "Epoch 00004: val_accuracy did not improve\n",
      "1/1 [==============================] - 0s 49ms/step - loss: 8.0967 - accuracy: 0.4853 - val_loss: 7.2656 - val_accuracy: 0.8333 - lr: 0.0010\n",
      "Epoch 5/5\n",
      "1/1 [==============================] - ETA: 0s - loss: 7.4806 - accuracy: 0.5735\n",
      "Epoch 00005: val_accuracy did not improve\n",
      "1/1 [==============================] - 0s 56ms/step - loss: 7.4806 - accuracy: 0.5735 - val_loss: 7.1878 - val_accuracy: 0.2778 - lr: 0.0010\n",
      "Using epoch 00002 with val_accuracy: 0.83333\n",
      "\n",
      "\n",
      "1/1 [==============================] - 0s 205ms/step - loss: 8.5536 - accuracy: 0.5000\n"
     ]
    },
    {
     "name": "stderr",
     "output_type": "stream",
     "text": [
      "Best trial: 2. Best value: 4.47435:  24%|██▍       | 6/25 [00:28<01:16,  4.03s/it]"
     ]
    },
    {
     "name": "stdout",
     "output_type": "stream",
     "text": [
      "\n",
      "\n",
      "Adding metadata with 3 columns\n",
      "Epoch 1/5\n",
      "3/3 [==============================] - ETA: 0s - loss: 62.2125 - accuracy: 0.4853\n",
      "Epoch 00001: val_accuracy improved from -inf to 0.22222, storing weights.\n",
      "3/3 [==============================] - 3s 398ms/step - loss: 62.2125 - accuracy: 0.4853 - val_loss: 49.3642 - val_accuracy: 0.2222 - lr: 0.0010\n",
      "Epoch 2/5\n",
      "3/3 [==============================] - ETA: 0s - loss: 41.1156 - accuracy: 0.6324\n",
      "Epoch 00002: val_accuracy improved from 0.22222 to 0.27778, storing weights.\n",
      "3/3 [==============================] - 0s 51ms/step - loss: 41.1156 - accuracy: 0.6324 - val_loss: 32.3488 - val_accuracy: 0.2778 - lr: 0.0010\n",
      "Epoch 3/5\n",
      "1/3 [=========>....................] - ETA: 0s - loss: 29.4575 - accuracy: 0.5312\n",
      "Epoch 00003: val_accuracy improved from 0.27778 to 0.61111, storing weights.\n",
      "3/3 [==============================] - 0s 45ms/step - loss: 28.0248 - accuracy: 0.4853 - val_loss: 24.1387 - val_accuracy: 0.6111 - lr: 0.0010\n",
      "Epoch 4/5\n",
      "3/3 [==============================] - ETA: 0s - loss: 22.5368 - accuracy: 0.5588\n",
      "Epoch 00004: val_accuracy did not improve\n",
      "3/3 [==============================] - 0s 47ms/step - loss: 22.5368 - accuracy: 0.5588 - val_loss: 14.7348 - val_accuracy: 0.5556 - lr: 0.0010\n",
      "Epoch 5/5\n",
      "3/3 [==============================] - ETA: 0s - loss: 15.4839 - accuracy: 0.4265\n",
      "Epoch 00005: val_accuracy did not improve\n",
      "3/3 [==============================] - 0s 54ms/step - loss: 15.4839 - accuracy: 0.4265 - val_loss: 11.0793 - val_accuracy: 0.6111 - lr: 0.0010\n",
      "Using epoch 00003 with val_accuracy: 0.61111\n",
      "\n",
      "\n",
      "1/1 [==============================] - 0s 311ms/step - loss: 30.0259 - accuracy: 0.5000\n"
     ]
    },
    {
     "name": "stderr",
     "output_type": "stream",
     "text": [
      "Best trial: 2. Best value: 4.47435:  28%|██▊       | 7/25 [00:33<01:18,  4.34s/it]"
     ]
    },
    {
     "name": "stdout",
     "output_type": "stream",
     "text": [
      "\n",
      "\n",
      "Adding metadata with 3 columns\n",
      "Epoch 1/5\n"
     ]
    },
    {
     "name": "stderr",
     "output_type": "stream",
     "text": [
      "2024-03-07 20:08:29.619994: W external/local_tsl/tsl/framework/bfc_allocator.cc:296] Allocator (GPU_0_bfc) ran out of memory trying to allocate 7.89GiB with freed_by_count=0. The caller indicates that this is not a failure, but this may mean that there could be performance gains if more memory were available.\n",
      "2024-03-07 20:08:29.714810: W external/local_tsl/tsl/framework/bfc_allocator.cc:296] Allocator (GPU_0_bfc) ran out of memory trying to allocate 7.89GiB with freed_by_count=0. The caller indicates that this is not a failure, but this may mean that there could be performance gains if more memory were available.\n"
     ]
    },
    {
     "name": "stdout",
     "output_type": "stream",
     "text": [
      "2/2 [==============================] - ETA: 0s - loss: 103.5282 - accuracy: 0.5882"
     ]
    },
    {
     "name": "stderr",
     "output_type": "stream",
     "text": [
      "2024-03-07 20:08:30.246893: W external/local_tsl/tsl/framework/bfc_allocator.cc:296] Allocator (GPU_0_bfc) ran out of memory trying to allocate 7.10GiB with freed_by_count=0. The caller indicates that this is not a failure, but this may mean that there could be performance gains if more memory were available.\n",
      "2024-03-07 20:08:30.262837: W external/local_tsl/tsl/framework/bfc_allocator.cc:296] Allocator (GPU_0_bfc) ran out of memory trying to allocate 7.10GiB with freed_by_count=0. The caller indicates that this is not a failure, but this may mean that there could be performance gains if more memory were available.\n"
     ]
    },
    {
     "name": "stdout",
     "output_type": "stream",
     "text": [
      "\n",
      "Epoch 00001: val_accuracy improved from -inf to 0.77778, storing weights.\n",
      "2/2 [==============================] - 2s 568ms/step - loss: 103.5282 - accuracy: 0.5882 - val_loss: 72.8820 - val_accuracy: 0.7778 - lr: 0.0010\n",
      "Epoch 2/5\n",
      "1/2 [==============>...............] - ETA: 0s - loss: 74.5801 - accuracy: 0.4531\n",
      "Epoch 00002: val_accuracy did not improve\n",
      "2/2 [==============================] - 0s 54ms/step - loss: 74.0762 - accuracy: 0.4559 - val_loss: 60.2253 - val_accuracy: 0.2222 - lr: 0.0010\n",
      "Epoch 3/5\n",
      "1/2 [==============>...............] - ETA: 0s - loss: 60.5800 - accuracy: 0.5000\n",
      "Epoch 00003: val_accuracy did not improve\n",
      "2/2 [==============================] - 0s 60ms/step - loss: 60.2778 - accuracy: 0.4853 - val_loss: 49.7976 - val_accuracy: 0.6667 - lr: 0.0010\n",
      "Epoch 4/5\n",
      "1/2 [==============>...............] - ETA: 0s - loss: 51.3211 - accuracy: 0.5312\n",
      "Epoch 00004: val_accuracy did not improve\n",
      "2/2 [==============================] - 0s 49ms/step - loss: 50.9996 - accuracy: 0.5441 - val_loss: 42.6817 - val_accuracy: 0.1667 - lr: 0.0010\n",
      "Epoch 5/5\n",
      "1/2 [==============>...............] - ETA: 0s - loss: 42.9936 - accuracy: 0.4844\n",
      "Epoch 00005: val_accuracy did not improve\n",
      "2/2 [==============================] - 0s 49ms/step - loss: 42.7402 - accuracy: 0.5147 - val_loss: 36.2996 - val_accuracy: 0.5556 - lr: 0.0010\n",
      "Using epoch 00001 with val_accuracy: 0.77778\n",
      "\n",
      "\n",
      "1/1 [==============================] - 0s 171ms/step - loss: 73.2497 - accuracy: 0.5000\n"
     ]
    },
    {
     "name": "stderr",
     "output_type": "stream",
     "text": [
      "Best trial: 2. Best value: 4.47435:  32%|███▏      | 8/25 [00:36<01:08,  4.04s/it]"
     ]
    },
    {
     "name": "stdout",
     "output_type": "stream",
     "text": [
      "\n",
      "\n",
      "Adding metadata with 3 columns\n",
      "Epoch 1/5\n",
      "1/1 [==============================] - ETA: 0s - loss: 66.3870 - accuracy: 0.4265\n",
      "Epoch 00001: val_accuracy improved from -inf to 0.16667, storing weights.\n",
      "1/1 [==============================] - 3s 3s/step - loss: 66.3870 - accuracy: 0.4265 - val_loss: 53.1158 - val_accuracy: 0.1667 - lr: 0.0010\n",
      "Epoch 2/5\n",
      "1/1 [==============================] - ETA: 0s - loss: 53.7095 - accuracy: 0.5294\n",
      "Epoch 00002: val_accuracy improved from 0.16667 to 0.83333, storing weights.\n",
      "1/1 [==============================] - 0s 68ms/step - loss: 53.7095 - accuracy: 0.5294 - val_loss: 45.2381 - val_accuracy: 0.8333 - lr: 0.0010\n",
      "Epoch 3/5\n",
      "1/1 [==============================] - ETA: 0s - loss: 47.9524 - accuracy: 0.5000\n",
      "Epoch 00003: val_accuracy did not improve\n",
      "1/1 [==============================] - 0s 61ms/step - loss: 47.9524 - accuracy: 0.5000 - val_loss: 40.8488 - val_accuracy: 0.3333 - lr: 0.0010\n",
      "Epoch 4/5\n",
      "1/1 [==============================] - ETA: 0s - loss: 40.8769 - accuracy: 0.5147\n",
      "Epoch 00004: val_accuracy did not improve\n",
      "1/1 [==============================] - 0s 60ms/step - loss: 40.8769 - accuracy: 0.5147 - val_loss: 36.2070 - val_accuracy: 0.7222 - lr: 0.0010\n",
      "Epoch 5/5\n",
      "1/1 [==============================] - ETA: 0s - loss: 37.5050 - accuracy: 0.5441\n",
      "Epoch 00005: val_accuracy did not improve\n",
      "1/1 [==============================] - 0s 65ms/step - loss: 37.5050 - accuracy: 0.5441 - val_loss: 33.8527 - val_accuracy: 0.2778 - lr: 0.0010\n",
      "Using epoch 00002 with val_accuracy: 0.83333\n",
      "\n",
      "\n",
      "1/1 [==============================] - 0s 356ms/step - loss: 46.7727 - accuracy: 0.4545\n"
     ]
    },
    {
     "name": "stderr",
     "output_type": "stream",
     "text": [
      "Best trial: 2. Best value: 4.47435:  36%|███▌      | 9/25 [00:41<01:07,  4.20s/it]"
     ]
    },
    {
     "name": "stdout",
     "output_type": "stream",
     "text": [
      "\n",
      "\n",
      "Adding metadata with 3 columns\n",
      "Epoch 1/5\n",
      "1/1 [==============================] - ETA: 0s - loss: 57.6003 - accuracy: 0.5588\n",
      "Epoch 00001: val_accuracy improved from -inf to 0.33333, storing weights.\n",
      "1/1 [==============================] - 2s 2s/step - loss: 57.6003 - accuracy: 0.5588 - val_loss: 58.7244 - val_accuracy: 0.3333 - lr: 0.0010\n",
      "Epoch 2/5\n",
      "1/1 [==============================] - ETA: 0s - loss: 71.0852 - accuracy: 0.5000\n",
      "Epoch 00002: val_accuracy improved from 0.33333 to 0.61111, storing weights.\n",
      "1/1 [==============================] - 0s 68ms/step - loss: 71.0852 - accuracy: 0.5000 - val_loss: 53.7072 - val_accuracy: 0.6111 - lr: 0.0010\n",
      "Epoch 3/5\n",
      "1/1 [==============================] - ETA: 0s - loss: 64.1300 - accuracy: 0.5147\n",
      "Epoch 00003: val_accuracy did not improve\n",
      "1/1 [==============================] - 0s 63ms/step - loss: 64.1300 - accuracy: 0.5147 - val_loss: 42.7852 - val_accuracy: 0.3889 - lr: 0.0010\n",
      "Epoch 4/5\n",
      "1/1 [==============================] - ETA: 0s - loss: 42.6199 - accuracy: 0.4853\n",
      "Epoch 00004: val_accuracy did not improve\n",
      "1/1 [==============================] - 0s 58ms/step - loss: 42.6199 - accuracy: 0.4853 - val_loss: 43.8260 - val_accuracy: 0.6111 - lr: 0.0010\n",
      "Epoch 5/5\n",
      "1/1 [==============================] - ETA: 0s - loss: 45.1535 - accuracy: 0.5147\n",
      "Epoch 00005: val_accuracy did not improve\n",
      "1/1 [==============================] - 0s 63ms/step - loss: 45.1535 - accuracy: 0.5147 - val_loss: 35.9332 - val_accuracy: 0.4444 - lr: 0.0010\n",
      "Using epoch 00002 with val_accuracy: 0.61111\n",
      "\n",
      "\n",
      "1/1 [==============================] - 0s 144ms/step - loss: 58.2025 - accuracy: 0.5455\n"
     ]
    },
    {
     "name": "stderr",
     "output_type": "stream",
     "text": [
      "Best trial: 2. Best value: 4.47435:  40%|████      | 10/25 [00:44<00:58,  3.89s/it]"
     ]
    },
    {
     "name": "stdout",
     "output_type": "stream",
     "text": [
      "\n",
      "\n",
      "Sampling frequency of the instance is already 300.0, returning unmodified.\n",
      "Adding metadata with 3 columns\n",
      "Epoch 1/5\n",
      "1/1 [==============================] - ETA: 0s - loss: 30.4417 - accuracy: 0.4706\n",
      "Epoch 00001: val_accuracy improved from -inf to 0.22222, storing weights.\n",
      "1/1 [==============================] - 4s 4s/step - loss: 30.4417 - accuracy: 0.4706 - val_loss: 31.7197 - val_accuracy: 0.2222 - lr: 0.0010\n",
      "Epoch 2/5\n",
      "1/1 [==============================] - ETA: 0s - loss: 36.9796 - accuracy: 0.5294\n",
      "Epoch 00002: val_accuracy improved from 0.22222 to 0.77778, storing weights.\n",
      "1/1 [==============================] - 0s 110ms/step - loss: 36.9796 - accuracy: 0.5294 - val_loss: 34.3826 - val_accuracy: 0.7778 - lr: 0.0010\n",
      "Epoch 3/5\n",
      "1/1 [==============================] - ETA: 0s - loss: 98.7904 - accuracy: 0.4853\n",
      "Epoch 00003: val_accuracy did not improve\n",
      "1/1 [==============================] - 0s 111ms/step - loss: 98.7904 - accuracy: 0.4853 - val_loss: 20.2270 - val_accuracy: 0.6111 - lr: 0.0010\n",
      "Epoch 4/5\n",
      "1/1 [==============================] - ETA: 0s - loss: 23.0693 - accuracy: 0.5441\n",
      "Epoch 00004: val_accuracy did not improve\n",
      "1/1 [==============================] - 0s 109ms/step - loss: 23.0693 - accuracy: 0.5441 - val_loss: 60.1234 - val_accuracy: 0.4444 - lr: 0.0010\n",
      "Epoch 5/5\n",
      "1/1 [==============================] - ETA: 0s - loss: 60.3157 - accuracy: 0.5147\n",
      "Epoch 00005: val_accuracy did not improve\n",
      "1/1 [==============================] - 0s 112ms/step - loss: 60.3157 - accuracy: 0.5147 - val_loss: 17.2570 - val_accuracy: 0.5556 - lr: 0.0010\n",
      "Using epoch 00002 with val_accuracy: 0.77778\n",
      "\n",
      "\n",
      "1/1 [==============================] - 0s 327ms/step - loss: 60.6302 - accuracy: 0.5455\n"
     ]
    },
    {
     "name": "stderr",
     "output_type": "stream",
     "text": [
      "Best trial: 2. Best value: 4.47435:  44%|████▍     | 11/25 [00:49<00:59,  4.26s/it]"
     ]
    },
    {
     "name": "stdout",
     "output_type": "stream",
     "text": [
      "\n",
      "\n",
      "Adding metadata with 3 columns\n",
      "Epoch 1/5\n",
      "1/1 [==============================] - ETA: 0s - loss: 50.2647 - accuracy: 0.4412\n",
      "Epoch 00001: val_accuracy improved from -inf to 0.72222, storing weights.\n",
      "1/1 [==============================] - 2s 2s/step - loss: 50.2647 - accuracy: 0.4412 - val_loss: 40.7313 - val_accuracy: 0.7222 - lr: 0.0010\n",
      "Epoch 2/5\n",
      "1/1 [==============================] - ETA: 0s - loss: 41.9142 - accuracy: 0.4559\n",
      "Epoch 00002: val_accuracy did not improve\n",
      "1/1 [==============================] - 0s 54ms/step - loss: 41.9142 - accuracy: 0.4559 - val_loss: 41.1668 - val_accuracy: 0.1667 - lr: 0.0010\n",
      "Epoch 3/5\n",
      "1/1 [==============================] - ETA: 0s - loss: 42.4546 - accuracy: 0.5294\n",
      "Epoch 00003: val_accuracy did not improve\n",
      "1/1 [==============================] - 0s 54ms/step - loss: 42.4546 - accuracy: 0.5294 - val_loss: 32.7816 - val_accuracy: 0.3889 - lr: 0.0010\n",
      "Epoch 4/5\n",
      "1/1 [==============================] - ETA: 0s - loss: 32.5851 - accuracy: 0.5441\n",
      "Epoch 00004: val_accuracy did not improve\n",
      "1/1 [==============================] - 0s 55ms/step - loss: 32.5851 - accuracy: 0.5441 - val_loss: 29.4654 - val_accuracy: 0.5556 - lr: 0.0010\n",
      "Epoch 5/5\n",
      "1/1 [==============================] - ETA: 0s - loss: 29.9345 - accuracy: 0.5441\n",
      "Epoch 00005: val_accuracy did not improve\n",
      "1/1 [==============================] - 0s 52ms/step - loss: 29.9345 - accuracy: 0.5441 - val_loss: 30.0463 - val_accuracy: 0.3889 - lr: 0.0010\n",
      "Using epoch 00001 with val_accuracy: 0.72222\n",
      "\n",
      "\n",
      "1/1 [==============================] - 0s 144ms/step - loss: 41.0528 - accuracy: 0.5455\n",
      "\n",
      "\n"
     ]
    },
    {
     "name": "stderr",
     "output_type": "stream",
     "text": [
      "Best trial: 2. Best value: 4.47435:  48%|████▊     | 12/25 [00:52<00:48,  3.75s/it]"
     ]
    },
    {
     "name": "stdout",
     "output_type": "stream",
     "text": [
      "Sampling frequency of the instance is already 300.0, returning unmodified.\n",
      "Adding metadata with 3 columns\n",
      "Epoch 1/5\n",
      "2/2 [==============================] - ETA: 0s - loss: 24.3164 - accuracy: 0.5000\n",
      "Epoch 00001: val_accuracy improved from -inf to 0.27778, storing weights.\n",
      "2/2 [==============================] - 2s 560ms/step - loss: 24.3164 - accuracy: 0.5000 - val_loss: 22.1662 - val_accuracy: 0.2778 - lr: 0.0010\n",
      "Epoch 2/5\n",
      "1/2 [==============>...............] - ETA: 0s - loss: 27.1406 - accuracy: 0.5000\n",
      "Epoch 00002: val_accuracy improved from 0.27778 to 0.72222, storing weights.\n",
      "2/2 [==============================] - 0s 51ms/step - loss: 26.6745 - accuracy: 0.4853 - val_loss: 12.9897 - val_accuracy: 0.7222 - lr: 0.0010\n",
      "Epoch 3/5\n",
      "1/2 [==============>...............] - ETA: 0s - loss: 14.6628 - accuracy: 0.5000\n",
      "Epoch 00003: val_accuracy did not improve\n",
      "2/2 [==============================] - 0s 49ms/step - loss: 15.0385 - accuracy: 0.5147 - val_loss: 12.6731 - val_accuracy: 0.3889 - lr: 0.0010\n",
      "Epoch 4/5\n",
      "1/2 [==============>...............] - ETA: 0s - loss: 12.3181 - accuracy: 0.5469\n",
      "Epoch 00004: val_accuracy did not improve\n",
      "2/2 [==============================] - 0s 37ms/step - loss: 12.3444 - accuracy: 0.5588 - val_loss: 13.2071 - val_accuracy: 0.6111 - lr: 0.0010\n",
      "Epoch 5/5\n",
      "1/2 [==============>...............] - ETA: 0s - loss: 17.7133 - accuracy: 0.5156\n",
      "Epoch 00005: val_accuracy did not improve\n",
      "2/2 [==============================] - 0s 42ms/step - loss: 17.2144 - accuracy: 0.5147 - val_loss: 14.6522 - val_accuracy: 0.3889 - lr: 0.0010\n",
      "Using epoch 00002 with val_accuracy: 0.72222\n",
      "\n",
      "\n",
      "1/1 [==============================] - 0s 195ms/step - loss: 13.6157 - accuracy: 0.5909\n"
     ]
    },
    {
     "name": "stderr",
     "output_type": "stream",
     "text": [
      "Best trial: 2. Best value: 4.47435:  52%|█████▏    | 13/25 [00:55<00:51,  4.28s/it]"
     ]
    },
    {
     "name": "stdout",
     "output_type": "stream",
     "text": [
      "\n",
      "\n"
     ]
    },
    {
     "name": "stderr",
     "output_type": "stream",
     "text": [
      "\n"
     ]
    }
   ],
   "source": [
    "study = model_optimizer.search_best_model(\n",
    "    subjects=[3],\n",
    "    max_iter = 25,\n",
    "    max_epochs=5,\n",
    "    max_stag_count=10,\n",
    "    rounds=1,\n",
    "    replace_previous_study_for_subjects=True\n",
    ")"
   ]
  },
  {
   "cell_type": "code",
   "execution_count": 26,
   "metadata": {},
   "outputs": [
    {
     "data": {
      "text/html": [
       "<div>\n",
       "<style scoped>\n",
       "    .dataframe tbody tr th:only-of-type {\n",
       "        vertical-align: middle;\n",
       "    }\n",
       "\n",
       "    .dataframe tbody tr th {\n",
       "        vertical-align: top;\n",
       "    }\n",
       "\n",
       "    .dataframe thead th {\n",
       "        text-align: right;\n",
       "    }\n",
       "</style>\n",
       "<table border=\"1\" class=\"dataframe\">\n",
       "  <thead>\n",
       "    <tr style=\"text-align: right;\">\n",
       "      <th></th>\n",
       "      <th>train_acc</th>\n",
       "      <th>test_acc</th>\n",
       "      <th>val_acc</th>\n",
       "      <th>train_val_acc_diff</th>\n",
       "      <th>train_loss</th>\n",
       "      <th>val_loss</th>\n",
       "      <th>train_val_loss_diff</th>\n",
       "      <th>test_loss</th>\n",
       "      <th>scores</th>\n",
       "      <th>channels_selected</th>\n",
       "      <th>sfreq</th>\n",
       "      <th>batch_size</th>\n",
       "    </tr>\n",
       "  </thead>\n",
       "  <tbody>\n",
       "    <tr>\n",
       "      <th>2</th>\n",
       "      <td>0.808824</td>\n",
       "      <td>0.545455</td>\n",
       "      <td>0.722222</td>\n",
       "      <td>0.086601</td>\n",
       "      <td>5.571209</td>\n",
       "      <td>4.473697</td>\n",
       "      <td>1.097512</td>\n",
       "      <td>5.575230</td>\n",
       "      <td>4.474347</td>\n",
       "      <td>[C3, F3, Fz, F4, P4, Cz, Pz, Fp1, Fp2, T5, F8,...</td>\n",
       "      <td>128</td>\n",
       "      <td>64</td>\n",
       "    </tr>\n",
       "    <tr>\n",
       "      <th>5</th>\n",
       "      <td>0.573529</td>\n",
       "      <td>0.500000</td>\n",
       "      <td>0.833333</td>\n",
       "      <td>0.259804</td>\n",
       "      <td>7.480617</td>\n",
       "      <td>7.187803</td>\n",
       "      <td>0.292814</td>\n",
       "      <td>8.553566</td>\n",
       "      <td>8.188353</td>\n",
       "      <td>[P3, F3, F4, Cz, Pz, Fp1, T3, O1, F7, F8, T4]</td>\n",
       "      <td>128</td>\n",
       "      <td>256</td>\n",
       "    </tr>\n",
       "    <tr>\n",
       "      <th>6</th>\n",
       "      <td>0.632353</td>\n",
       "      <td>0.500000</td>\n",
       "      <td>0.611111</td>\n",
       "      <td>0.021242</td>\n",
       "      <td>15.483885</td>\n",
       "      <td>11.079287</td>\n",
       "      <td>4.404598</td>\n",
       "      <td>30.025928</td>\n",
       "      <td>12.079887</td>\n",
       "      <td>[P3, C3, F3, F4, C4, P4, Pz, T5, O2, F7, F8, T4]</td>\n",
       "      <td>256</td>\n",
       "      <td>32</td>\n",
       "    </tr>\n",
       "    <tr>\n",
       "      <th>12</th>\n",
       "      <td>0.558824</td>\n",
       "      <td>0.590909</td>\n",
       "      <td>0.722222</td>\n",
       "      <td>0.163399</td>\n",
       "      <td>12.344352</td>\n",
       "      <td>12.673098</td>\n",
       "      <td>0.328746</td>\n",
       "      <td>13.615680</td>\n",
       "      <td>14.207707</td>\n",
       "      <td>[C3, F3, Fz, P4, Fp1, Fp2, T5, O1, F7, F8, A2,...</td>\n",
       "      <td>300</td>\n",
       "      <td>64</td>\n",
       "    </tr>\n",
       "    <tr>\n",
       "      <th>10</th>\n",
       "      <td>0.544118</td>\n",
       "      <td>0.545455</td>\n",
       "      <td>0.777778</td>\n",
       "      <td>0.233660</td>\n",
       "      <td>23.069323</td>\n",
       "      <td>17.256979</td>\n",
       "      <td>5.812344</td>\n",
       "      <td>60.630184</td>\n",
       "      <td>18.257579</td>\n",
       "      <td>[F3, F4, C4, Fp1, Fp2, T3, O1, O2, F8, A2, T6,...</td>\n",
       "      <td>300</td>\n",
       "      <td>192</td>\n",
       "    </tr>\n",
       "    <tr>\n",
       "      <th>0</th>\n",
       "      <td>0.632353</td>\n",
       "      <td>0.454545</td>\n",
       "      <td>0.555556</td>\n",
       "      <td>0.076797</td>\n",
       "      <td>27.278645</td>\n",
       "      <td>25.592693</td>\n",
       "      <td>1.685951</td>\n",
       "      <td>46.432106</td>\n",
       "      <td>26.593093</td>\n",
       "      <td>[C3, F3, Fz, C4, P4, Fp1, T3, O1]</td>\n",
       "      <td>128</td>\n",
       "      <td>64</td>\n",
       "    </tr>\n",
       "    <tr>\n",
       "      <th>11</th>\n",
       "      <td>0.544118</td>\n",
       "      <td>0.545455</td>\n",
       "      <td>0.722222</td>\n",
       "      <td>0.178105</td>\n",
       "      <td>29.934460</td>\n",
       "      <td>29.465427</td>\n",
       "      <td>0.469032</td>\n",
       "      <td>41.052807</td>\n",
       "      <td>30.465777</td>\n",
       "      <td>[C3, Fz, F4, Fp1, O2, F8, T6]</td>\n",
       "      <td>128</td>\n",
       "      <td>256</td>\n",
       "    </tr>\n",
       "    <tr>\n",
       "      <th>8</th>\n",
       "      <td>0.544118</td>\n",
       "      <td>0.454545</td>\n",
       "      <td>0.833333</td>\n",
       "      <td>0.289216</td>\n",
       "      <td>37.504967</td>\n",
       "      <td>33.852737</td>\n",
       "      <td>3.652229</td>\n",
       "      <td>46.772701</td>\n",
       "      <td>34.853537</td>\n",
       "      <td>[C3, F3, Fz, C4, P4, Cz, Pz, Fp1, Fp2, O1, O2,...</td>\n",
       "      <td>128</td>\n",
       "      <td>128</td>\n",
       "    </tr>\n",
       "    <tr>\n",
       "      <th>9</th>\n",
       "      <td>0.558824</td>\n",
       "      <td>0.545455</td>\n",
       "      <td>0.611111</td>\n",
       "      <td>0.052288</td>\n",
       "      <td>42.619907</td>\n",
       "      <td>35.933231</td>\n",
       "      <td>6.686676</td>\n",
       "      <td>58.202469</td>\n",
       "      <td>36.933781</td>\n",
       "      <td>[Fz, P4, Pz, Fp1, Fp2, T3, O1, O2, A2, T6, T4]</td>\n",
       "      <td>128</td>\n",
       "      <td>128</td>\n",
       "    </tr>\n",
       "    <tr>\n",
       "      <th>7</th>\n",
       "      <td>0.588235</td>\n",
       "      <td>0.500000</td>\n",
       "      <td>0.777778</td>\n",
       "      <td>0.189542</td>\n",
       "      <td>42.740204</td>\n",
       "      <td>36.299633</td>\n",
       "      <td>6.440571</td>\n",
       "      <td>73.249672</td>\n",
       "      <td>37.300083</td>\n",
       "      <td>[Fz, C4, Pz, Fp1, Fp2, T3, F7, A2, T6]</td>\n",
       "      <td>128</td>\n",
       "      <td>64</td>\n",
       "    </tr>\n",
       "    <tr>\n",
       "      <th>3</th>\n",
       "      <td>0.544118</td>\n",
       "      <td>0.590909</td>\n",
       "      <td>0.666667</td>\n",
       "      <td>0.122549</td>\n",
       "      <td>51.199093</td>\n",
       "      <td>45.780281</td>\n",
       "      <td>5.418812</td>\n",
       "      <td>55.919262</td>\n",
       "      <td>46.780881</td>\n",
       "      <td>[P3, C3, Fz, F4, Cz, Fp1, T5, O1, O2, F8, A2, T6]</td>\n",
       "      <td>128</td>\n",
       "      <td>96</td>\n",
       "    </tr>\n",
       "    <tr>\n",
       "      <th>1</th>\n",
       "      <td>0.558824</td>\n",
       "      <td>0.409091</td>\n",
       "      <td>0.722222</td>\n",
       "      <td>0.163399</td>\n",
       "      <td>51.317272</td>\n",
       "      <td>46.625645</td>\n",
       "      <td>4.691628</td>\n",
       "      <td>73.667564</td>\n",
       "      <td>47.626095</td>\n",
       "      <td>[F3, F4, C4, Pz, T3, O2, F7, A2, T4]</td>\n",
       "      <td>256</td>\n",
       "      <td>192</td>\n",
       "    </tr>\n",
       "    <tr>\n",
       "      <th>4</th>\n",
       "      <td>0.647059</td>\n",
       "      <td>0.454545</td>\n",
       "      <td>0.611111</td>\n",
       "      <td>0.035948</td>\n",
       "      <td>60.985237</td>\n",
       "      <td>56.599411</td>\n",
       "      <td>4.385826</td>\n",
       "      <td>86.497093</td>\n",
       "      <td>57.599861</td>\n",
       "      <td>[C3, F3, F4, C4, Fp2, T3, O2, A2, T6]</td>\n",
       "      <td>300</td>\n",
       "      <td>224</td>\n",
       "    </tr>\n",
       "  </tbody>\n",
       "</table>\n",
       "</div>"
      ],
      "text/plain": [
       "    train_acc  test_acc   val_acc  train_val_acc_diff  train_loss   val_loss  \\\n",
       "2    0.808824  0.545455  0.722222            0.086601    5.571209   4.473697   \n",
       "5    0.573529  0.500000  0.833333            0.259804    7.480617   7.187803   \n",
       "6    0.632353  0.500000  0.611111            0.021242   15.483885  11.079287   \n",
       "12   0.558824  0.590909  0.722222            0.163399   12.344352  12.673098   \n",
       "10   0.544118  0.545455  0.777778            0.233660   23.069323  17.256979   \n",
       "0    0.632353  0.454545  0.555556            0.076797   27.278645  25.592693   \n",
       "11   0.544118  0.545455  0.722222            0.178105   29.934460  29.465427   \n",
       "8    0.544118  0.454545  0.833333            0.289216   37.504967  33.852737   \n",
       "9    0.558824  0.545455  0.611111            0.052288   42.619907  35.933231   \n",
       "7    0.588235  0.500000  0.777778            0.189542   42.740204  36.299633   \n",
       "3    0.544118  0.590909  0.666667            0.122549   51.199093  45.780281   \n",
       "1    0.558824  0.409091  0.722222            0.163399   51.317272  46.625645   \n",
       "4    0.647059  0.454545  0.611111            0.035948   60.985237  56.599411   \n",
       "\n",
       "    train_val_loss_diff  test_loss     scores  \\\n",
       "2              1.097512   5.575230   4.474347   \n",
       "5              0.292814   8.553566   8.188353   \n",
       "6              4.404598  30.025928  12.079887   \n",
       "12             0.328746  13.615680  14.207707   \n",
       "10             5.812344  60.630184  18.257579   \n",
       "0              1.685951  46.432106  26.593093   \n",
       "11             0.469032  41.052807  30.465777   \n",
       "8              3.652229  46.772701  34.853537   \n",
       "9              6.686676  58.202469  36.933781   \n",
       "7              6.440571  73.249672  37.300083   \n",
       "3              5.418812  55.919262  46.780881   \n",
       "1              4.691628  73.667564  47.626095   \n",
       "4              4.385826  86.497093  57.599861   \n",
       "\n",
       "                                    channels_selected  sfreq  batch_size  \n",
       "2   [C3, F3, Fz, F4, P4, Cz, Pz, Fp1, Fp2, T5, F8,...    128          64  \n",
       "5       [P3, F3, F4, Cz, Pz, Fp1, T3, O1, F7, F8, T4]    128         256  \n",
       "6    [P3, C3, F3, F4, C4, P4, Pz, T5, O2, F7, F8, T4]    256          32  \n",
       "12  [C3, F3, Fz, P4, Fp1, Fp2, T5, O1, F7, F8, A2,...    300          64  \n",
       "10  [F3, F4, C4, Fp1, Fp2, T3, O1, O2, F8, A2, T6,...    300         192  \n",
       "0                   [C3, F3, Fz, C4, P4, Fp1, T3, O1]    128          64  \n",
       "11                      [C3, Fz, F4, Fp1, O2, F8, T6]    128         256  \n",
       "8   [C3, F3, Fz, C4, P4, Cz, Pz, Fp1, Fp2, O1, O2,...    128         128  \n",
       "9      [Fz, P4, Pz, Fp1, Fp2, T3, O1, O2, A2, T6, T4]    128         128  \n",
       "7              [Fz, C4, Pz, Fp1, Fp2, T3, F7, A2, T6]    128          64  \n",
       "3   [P3, C3, Fz, F4, Cz, Fp1, T5, O1, O2, F8, A2, T6]    128          96  \n",
       "1                [F3, F4, C4, Pz, T3, O2, F7, A2, T4]    256         192  \n",
       "4               [C3, F3, F4, C4, Fp2, T3, O2, A2, T6]    300         224  "
      ]
     },
     "execution_count": 26,
     "metadata": {},
     "output_type": "execute_result"
    }
   ],
   "source": [
    "model_optimizer.get_study_metrics(study).sort_values(by=\"scores\", ascending=True)\n",
    "# model_optimizer.get_study_metrics(study).sort_values(by=\"test_acc\", ascending=False)"
   ]
  },
  {
   "cell_type": "code",
   "execution_count": 23,
   "metadata": {},
   "outputs": [
    {
     "data": {
      "text/html": [
       "<pre style=\"white-space:pre;overflow-x:auto;line-height:normal;font-family:Menlo,'DejaVu Sans Mono',consolas,'Courier New',monospace\"><span style=\"font-weight: bold\">{</span>\n",
       "<span style=\"color: #7fbf7f; text-decoration-color: #7fbf7f\">│   </span><span style=\"color: #008000; text-decoration-color: #008000\">'sfreq'</span>: <span style=\"color: #008080; text-decoration-color: #008080; font-weight: bold\">128</span>,\n",
       "<span style=\"color: #7fbf7f; text-decoration-color: #7fbf7f\">│   </span><span style=\"color: #008000; text-decoration-color: #008000\">'batch_size'</span>: <span style=\"color: #008080; text-decoration-color: #008080; font-weight: bold\">64</span>,\n",
       "<span style=\"color: #7fbf7f; text-decoration-color: #7fbf7f\">│   </span><span style=\"color: #008000; text-decoration-color: #008000\">'pool_size_d2'</span>: <span style=\"color: #008080; text-decoration-color: #008080; font-weight: bold\">35</span>,\n",
       "<span style=\"color: #7fbf7f; text-decoration-color: #7fbf7f\">│   </span><span style=\"color: #008000; text-decoration-color: #008000\">'strides_d2'</span>: <span style=\"color: #008080; text-decoration-color: #008080; font-weight: bold\">31</span>,\n",
       "<span style=\"color: #7fbf7f; text-decoration-color: #7fbf7f\">│   </span><span style=\"color: #008000; text-decoration-color: #008000\">'conv_filters_d2'</span>: <span style=\"color: #008080; text-decoration-color: #008080; font-weight: bold\">52</span>,\n",
       "<span style=\"color: #7fbf7f; text-decoration-color: #7fbf7f\">│   </span><span style=\"color: #008000; text-decoration-color: #008000\">'conv2d_1_units'</span>: <span style=\"color: #008080; text-decoration-color: #008080; font-weight: bold\">190</span>,\n",
       "<span style=\"color: #7fbf7f; text-decoration-color: #7fbf7f\">│   </span><span style=\"color: #008000; text-decoration-color: #008000\">'conv2d_2_units'</span>: <span style=\"color: #008080; text-decoration-color: #008080; font-weight: bold\">160</span>,\n",
       "<span style=\"color: #7fbf7f; text-decoration-color: #7fbf7f\">│   </span><span style=\"color: #008000; text-decoration-color: #008000\">'l2_reg_1'</span>: <span style=\"color: #008080; text-decoration-color: #008080; font-weight: bold\">0.07525442044886897</span>,\n",
       "<span style=\"color: #7fbf7f; text-decoration-color: #7fbf7f\">│   </span><span style=\"color: #008000; text-decoration-color: #008000\">'l2_reg_2'</span>: <span style=\"color: #008080; text-decoration-color: #008080; font-weight: bold\">0.03472242296177845</span>,\n",
       "<span style=\"color: #7fbf7f; text-decoration-color: #7fbf7f\">│   </span><span style=\"color: #008000; text-decoration-color: #008000\">'l2_reg_3'</span>: <span style=\"color: #008080; text-decoration-color: #008080; font-weight: bold\">0.8819445565677363</span>,\n",
       "<span style=\"color: #7fbf7f; text-decoration-color: #7fbf7f\">│   </span><span style=\"color: #008000; text-decoration-color: #008000\">'dropout_rate'</span>: <span style=\"color: #008080; text-decoration-color: #008080; font-weight: bold\">0.2</span>\n",
       "<span style=\"font-weight: bold\">}</span>\n",
       "</pre>\n"
      ],
      "text/plain": [
       "\u001b[1m{\u001b[0m\n",
       "\u001b[2;32m│   \u001b[0m\u001b[32m'sfreq'\u001b[0m: \u001b[1;36m128\u001b[0m,\n",
       "\u001b[2;32m│   \u001b[0m\u001b[32m'batch_size'\u001b[0m: \u001b[1;36m64\u001b[0m,\n",
       "\u001b[2;32m│   \u001b[0m\u001b[32m'pool_size_d2'\u001b[0m: \u001b[1;36m35\u001b[0m,\n",
       "\u001b[2;32m│   \u001b[0m\u001b[32m'strides_d2'\u001b[0m: \u001b[1;36m31\u001b[0m,\n",
       "\u001b[2;32m│   \u001b[0m\u001b[32m'conv_filters_d2'\u001b[0m: \u001b[1;36m52\u001b[0m,\n",
       "\u001b[2;32m│   \u001b[0m\u001b[32m'conv2d_1_units'\u001b[0m: \u001b[1;36m190\u001b[0m,\n",
       "\u001b[2;32m│   \u001b[0m\u001b[32m'conv2d_2_units'\u001b[0m: \u001b[1;36m160\u001b[0m,\n",
       "\u001b[2;32m│   \u001b[0m\u001b[32m'l2_reg_1'\u001b[0m: \u001b[1;36m0.07525442044886897\u001b[0m,\n",
       "\u001b[2;32m│   \u001b[0m\u001b[32m'l2_reg_2'\u001b[0m: \u001b[1;36m0.03472242296177845\u001b[0m,\n",
       "\u001b[2;32m│   \u001b[0m\u001b[32m'l2_reg_3'\u001b[0m: \u001b[1;36m0.8819445565677363\u001b[0m,\n",
       "\u001b[2;32m│   \u001b[0m\u001b[32m'dropout_rate'\u001b[0m: \u001b[1;36m0.2\u001b[0m\n",
       "\u001b[1m}\u001b[0m\n"
      ]
     },
     "metadata": {},
     "output_type": "display_data"
    },
    {
     "data": {
      "text/html": [
       "<pre style=\"white-space:pre;overflow-x:auto;line-height:normal;font-family:Menlo,'DejaVu Sans Mono',consolas,'Courier New',monospace\">test_accuracy = <span style=\"color: #008080; text-decoration-color: #008080; font-weight: bold\">0.5454545617103577</span>\n",
       "</pre>\n"
      ],
      "text/plain": [
       "test_accuracy = \u001b[1;36m0.5454545617103577\u001b[0m\n"
      ]
     },
     "metadata": {},
     "output_type": "display_data"
    },
    {
     "data": {
      "text/html": [
       "<pre style=\"white-space:pre;overflow-x:auto;line-height:normal;font-family:Menlo,'DejaVu Sans Mono',consolas,'Courier New',monospace\">val_accuracy = <span style=\"color: #008080; text-decoration-color: #008080; font-weight: bold\">0.7222222089767456</span>\n",
       "</pre>\n"
      ],
      "text/plain": [
       "val_accuracy = \u001b[1;36m0.7222222089767456\u001b[0m\n"
      ]
     },
     "metadata": {},
     "output_type": "display_data"
    },
    {
     "data": {
      "text/html": [
       "<pre style=\"white-space:pre;overflow-x:auto;line-height:normal;font-family:Menlo,'DejaVu Sans Mono',consolas,'Courier New',monospace\">channels_selected = <span style=\"font-weight: bold\">[</span><span style=\"color: #008000; text-decoration-color: #008000\">'C3'</span> <span style=\"color: #008000; text-decoration-color: #008000\">'F3'</span> <span style=\"color: #008000; text-decoration-color: #008000\">'Fz'</span> <span style=\"color: #008000; text-decoration-color: #008000\">'F4'</span> <span style=\"color: #008000; text-decoration-color: #008000\">'P4'</span> <span style=\"color: #008000; text-decoration-color: #008000\">'Cz'</span> <span style=\"color: #008000; text-decoration-color: #008000\">'Pz'</span> <span style=\"color: #008000; text-decoration-color: #008000\">'Fp1'</span> <span style=\"color: #008000; text-decoration-color: #008000\">'Fp2'</span> <span style=\"color: #008000; text-decoration-color: #008000\">'T5'</span> <span style=\"color: #008000; text-decoration-color: #008000\">'F8'</span> <span style=\"color: #008000; text-decoration-color: #008000\">'T6'</span> <span style=\"color: #008000; text-decoration-color: #008000\">'T4'</span><span style=\"font-weight: bold\">]</span>\n",
       "</pre>\n"
      ],
      "text/plain": [
       "channels_selected = \u001b[1m[\u001b[0m\u001b[32m'C3'\u001b[0m \u001b[32m'F3'\u001b[0m \u001b[32m'Fz'\u001b[0m \u001b[32m'F4'\u001b[0m \u001b[32m'P4'\u001b[0m \u001b[32m'Cz'\u001b[0m \u001b[32m'Pz'\u001b[0m \u001b[32m'Fp1'\u001b[0m \u001b[32m'Fp2'\u001b[0m \u001b[32m'T5'\u001b[0m \u001b[32m'F8'\u001b[0m \u001b[32m'T6'\u001b[0m \u001b[32m'T4'\u001b[0m\u001b[1m]\u001b[0m\n"
      ]
     },
     "metadata": {},
     "output_type": "display_data"
    }
   ],
   "source": [
    "rpprint({ k: v for k, v in study.best_trial.params.items() if not k.startswith(\"channels\") })\n",
    "rprint(\"test_accuracy =\", study.best_trial.user_attrs[\"trial_data\"][\"test_accuracy\"])\n",
    "rprint(\"val_accuracy =\", np.max(study.best_trial.user_attrs[\"trial_data\"][\"val_accuracy\"]))\n",
    "rprint(\"channels_selected =\", study.best_trial.user_attrs[\"trial_data\"][\"channels_selected\"])"
   ]
  },
  {
   "cell_type": "code",
   "execution_count": 20,
   "metadata": {},
   "outputs": [],
   "source": [
    "# model_optimizer.clean_up(\n",
    "#     action=\"remove_all_but_best_trial_data\",\n",
    "#     subjects=[1],\n",
    "# )"
   ]
  }
 ],
 "metadata": {
  "kernelspec": {
   "display_name": "moabb_model_optimization",
   "language": "python",
   "name": "python3"
  },
  "language_info": {
   "codemirror_mode": {
    "name": "ipython",
    "version": 3
   },
   "file_extension": ".py",
   "mimetype": "text/x-python",
   "name": "python",
   "nbconvert_exporter": "python",
   "pygments_lexer": "ipython3",
   "version": "3.11.8"
  }
 },
 "nbformat": 4,
 "nbformat_minor": 2
}
